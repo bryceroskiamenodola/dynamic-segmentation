{
 "cells": [
  {
   "cell_type": "markdown",
   "metadata": {},
   "source": [
    "In this notebook we will demonstrate some more advanced visualizations of MiniSom results."
   ]
  },
  {
   "cell_type": "code",
   "execution_count": 1,
   "metadata": {},
   "outputs": [
    {
     "name": "stderr",
     "output_type": "stream",
     "text": [
      "/opt/anaconda3/envs/env/lib/python3.8/site-packages/cryptography/hazmat/backends/openssl/x509.py:14: CryptographyDeprecationWarning: This version of cryptography contains a temporary pyOpenSSL fallback path. Upgrade pyOpenSSL now.\n",
      "  warnings.warn(\n"
     ]
    }
   ],
   "source": [
    "from __future__ import annotations\n",
    "from typing import Any\n",
    "import snowflake.snowpark as snowpark\n",
    "from snowflake.snowpark import Session\n",
    "import snowflake.snowpark.functions as F\n",
    "import snowflake.snowpark.window as W\n",
    "import snowflake.snowpark.types as T\n",
    "import pandas as pd\n",
    "import numpy as np\n",
    "import altair as alt\n",
    "import json\n",
    "import random\n",
    "import math\n",
    "import uuid\n",
    "pd.set_option('display.max_columns', 500)\n",
    "USER = \"BAMENDOLA\" #for snowflake\n",
    "PASS = \"Bryceapril61995\" #for snowflake\n",
    "snowflake_credentials = {\n",
    "  \"account\" : \"KGA92485\",\n",
    "  \"user\" : USER,\n",
    "  \"password\" : PASS,\n",
    "  \"role\" : \"SYSADMIN\",\n",
    "  \"database\" : \"DATA_SCIENCE\",\n",
    "  \"schema\" : \"PUBLIC\",\n",
    "  \"warehouse\" : \"DATASCIENCE_XLARGE_WH\"\n",
    "}\n",
    "session = Session.builder.configs(snowflake_credentials).create()"
   ]
  },
  {
   "cell_type": "code",
   "execution_count": 2,
   "metadata": {},
   "outputs": [],
   "source": [
    "def join(s1: str, s2: str):\n",
    "    if s1[-1] == '\"':\n",
    "        return s1[:-1]+s2+'\"'\n",
    "    else:\n",
    "        return s1+s2\n",
    "    \n",
    "class Kmeans(object):\n",
    "    def __init__(self, k: int,*args):\n",
    "        super(Kmeans, self).__init__(*args)\n",
    "        self.k = k\n",
    "        self.cluster_id = 'CLUSTER_ID'\n",
    "        self.cluster = session.createDataFrame(data=[ v for v in range(self.k)],schema=T.StructType([T.StructField(self.cluster_id, T.IntegerType())]))\n",
    "        self.prediction = None\n",
    "        self.run_id = None\n",
    "    def initializeCluster(self,df: snowpark.DataFrame,inputCols: str) -> snowpark.DataFrame:\n",
    "        return df.crossJoin(self.cluster).groupBy(F.col(self.cluster_id)) \\\n",
    "            .agg([F.min(F.col(c)).alias(c+'_min') for c in inputCols]+[F.max(F.col(c)).alias(c+'_max') for c in inputCols]) \\\n",
    "            .select([self.cluster_id]+[(F.uniform(F.lit(0.0),F.lit(1.0), F.random())*(F.col(c+'_max')-F.col(c+'_min'))+F.col(c+'_min')).alias(c) for c in inputCols])\n",
    "    def initializeCluster2(self,df: snowpark.DataFrame, inputCols: str):\n",
    "        return df.sample(n=self.k).select([F.col(c) for c in inputCols]+[F.row_number().over(W.Window.orderBy(F.lit(None))).alias(self.cluster_id)])\n",
    "    def distance(self,df: snowpark.DataFrame,id: str,inputCols: str) -> snowpark.DataFrame:\n",
    "        return df.crossJoin(self.cluster,lsuffix='_L',rsuffix='_R') \\\n",
    "            .select(F.col(id) if id != self.cluster_id else F.col(join(id,'_L')),F.col(self.cluster_id) if id != self.cluster_id else F.col(join(self.cluster_id,'_R')),F.sqrt(sum([F.pow(F.col(join(c,'_L'))-F.col(join(c,'_R')),F.lit(2)) for c in inputCols])).alias('distance'),F.row_number().over(W.Window.partitionBy(F.col(id) if id != self.cluster_id else F.col(join(id,'_L'))).orderBy(F.col('distance').asc())).alias('r'))\\\n",
    "            .select(F.col(id) if id != self.cluster_id else F.col(join(id,'_L')),F.col(self.cluster_id) if id != self.cluster_id else F.col(join(self.cluster_id,'_R')),F.col('distance'),F.col('r'))\n",
    "    def fit(self,df: snowpark.DataFrame,id: str,inputCols: str,maxIter=None,initialize=True) -> Kmeans:\n",
    "        if initialize:\n",
    "            self.cluster = self.initializeCluster2(df,inputCols).cache_result()\n",
    "        prediction = self.transform(df,id,inputCols).cache_result()\n",
    "        iteration = 0\n",
    "        self.run_id = str(uuid.uuid4())\n",
    "        while (self.prediction == None or (self.prediction.except_(prediction).count() > 0)) and (maxIter==None or iteration < maxIter):\n",
    "            print('run_id:',self.run_id,',iteration:',iteration) \n",
    "            self.prediction = prediction\n",
    "            print(self.prediction.groupBy(F.col(self.cluster_id)).agg(F.count('*')).orderBy(F.col(self.cluster_id)).toPandas())\n",
    "            self.cluster = df.join(self.prediction,[id]).groupBy(F.col(self.cluster_id)).agg([ F.mean(c).alias(c) for c in inputCols]) \\\n",
    "                .union(self.cluster.where(F.col(self.cluster_id).isin(self.prediction.select(F.col(self.cluster_id))) == F.lit(False))).cache_result()\n",
    "            prediction = self.transform(df,id,inputCols).cache_result()\n",
    "            iteration += 1\n",
    "            self.cluster.select(F.col('*'),F.lit(iteration).alias('t'),F.lit(self.run_id).alias('run_id')).write.mode('append').save_as_table('kmeans_t2')\n",
    "        return self\n",
    "    \n",
    "    def transform(self,df: snowpark.DataFrame,id: str,inputCols: str) ->snowpark.DataFrame:\n",
    "        return self.distance(df,id,inputCols).where(F.col('r') == F.lit(1)).select(F.col(id),F.col(self.cluster_id))\n",
    "    \n",
    "    \n",
    "class SOM(object):\n",
    "    # https://www.osti.gov/servlets/purl/1566795\n",
    "    def __init__(self,k : int=None,h : int=None,w : int=None,sigma : float=1.0 ,lr : float=1.0 ,*args):\n",
    "        super(SOM, self).__init__(*args)\n",
    "        if w is None and h is None:\n",
    "            self.h = k\n",
    "            self.w = k\n",
    "            self.k = k**2\n",
    "        else:\n",
    "            self.h = h\n",
    "            self.w = w\n",
    "        self.lr = lr\n",
    "        self.sigma = sigma\n",
    "        self.cluster_id = 'CLUSTER_ID'\n",
    "        self.cluster = session.createDataFrame(data=[ v for v in range(self.k)],schema=T.StructType([T.StructField(self.cluster_id, T.IntegerType())]))\n",
    "        self.neighbor = self.cluster.crossJoin(self.cluster,lsuffix='_L',rsuffix='_R')\\\n",
    "            .select(F.col(join(self.cluster_id,'_L')).alias('BMI_ID'),F.col(join(self.cluster_id,'_R')).alias(self.cluster_id),(F.pow(F.col(join(self.cluster_id,'_L'))%F.lit(self.w)-F.col(join(self.cluster_id,'_R'))%F.lit(self.w),F.lit(2))+F.pow(F.floor(F.col(join(self.cluster_id,'_L'))/F.lit(self.h))-F.floor(F.col(join(self.cluster_id,'_R'))/F.lit(self.h)),F.lit(2))).alias('distance')).cache_result()\n",
    "        self.run_id = None\n",
    "    def initializeCluster(self,df: snowpark.DataFrame, inputCols: str) -> snowpark.DataFrame:\n",
    "        return df.crossJoin(self.cluster).groupBy(F.col(self.cluster_id)) \\\n",
    "            .agg([F.min(F.col(c)).alias(c+'_min') for c in inputCols]+[F.max(F.col(c)).alias(c+'_max') for c in inputCols]) \\\n",
    "            .select([self.cluster_id]+[(F.uniform(F.lit(0.0),F.lit(1.0), F.random())*(F.col(c+'_max')-F.col(c+'_min'))+F.col(c+'_min')).alias(c) for c in inputCols])\n",
    "    def initializeCluster2(self,df: snowpark.DataFrame, inputCols: str):\n",
    "        return df.sample(n=self.k).select([F.col(c) for c in inputCols]+[(F.row_number().over(W.Window.orderBy(F.lit(None)))-F.lit(1)).alias(self.cluster_id)])\n",
    "    def distance(self,df: snowpark.DataFrame,id: str,inputCols: str) -> snowpark.DataFrame:\n",
    "        return df.crossJoin(self.cluster,lsuffix='_L',rsuffix='_R') \\\n",
    "            .select(F.col(id) if id != self.cluster_id else F.col(join(id,'_L')),F.col(self.cluster_id) if id != self.cluster_id else F.col(join(self.cluster_id,'_R')),F.sqrt(sum([F.pow(F.col(join(c,'_L'))-F.col(join(c,'_R')),F.lit(2)) for c in inputCols])).alias('distance'),F.row_number().over(W.Window.partitionBy(F.col(id) if id != self.cluster_id else F.col(join(id,'_L'))).orderBy(F.col('distance').asc())).alias('r'))\\\n",
    "            .select(F.col(id) if id != self.cluster_id else F.col(join(id,'_L')),F.col(self.cluster_id) if id != self.cluster_id else F.col(join(self.cluster_id,'_R')),F.col('distance'),F.col('r'))\n",
    "    def getNeighborHood(self,inputCols: str, sigma: float) -> snowpark.DataFrame:\n",
    "        return self.cluster.crossJoin(self.cluster,lsuffix='_L',rsuffix='_R')\\\n",
    "            .select([F.col(join(self.cluster_id,'_L')).alias('BMI_ID')]+[F.col(join(c,'_R')).alias(c) for c in self.cluster.columns]+[F.sqrt(sum([F.pow(F.col(join(c,'_L'))-F.col(join(c,'_R')),F.lit(2)) for c in inputCols])).alias('distance'),F.when(F.lit(sigma)>F.lit(0.0),F.exp(-F.pow(F.col('distance'),2)/(F.lit(2)*F.pow(sigma,2)))).otherwise(F.when(F.col('distance')==F.lit(0.0),F.lit(1.0)).otherwise(F.lit(0.0))).alias('influence_rate')])\n",
    "                    \n",
    "    def getNeighborHood2(self,inputCols: str, sigma: float) -> snowpark.DataFrame:\n",
    "        return self.cluster.join(self.neighbor,[self.cluster_id],lsuffix='_L',rsuffix='_R')\\\n",
    "            .select([F.col('BMI_ID')]+[F.col(self.cluster_id).alias(self.cluster_id)]+[F.col(c) for c in self.cluster.columns if c != self.cluster_id]+[F.when(F.lit(sigma)>F.lit(0.0),F.exp(-F.col('distance')\n",
    "                                                                                                                                                                                             /(F.lit(2)*F.pow(sigma,2)))).otherwise(F.when(F.col('distance')==F.lit(0.0),F.lit(1.0)).otherwise(F.lit(0.0))).alias('influence_rate')])\n",
    "    def convertToCoord(self,df: snowpark.DataFrame):\n",
    "            return self.cluster.select(F.col(self.cluster_id),(F.col(self.cluster_id)%F.lit(self.w)).alias('x'),F.floor(F.col(self.cluster_id)/F.lit(self.h)).alias('y')).join(df,self.cluster_id)\n",
    "    def fit(self,df: snowpark.DataFrame,id: str,inputCols: str,maxIter=5, batchSize=None,initialize=True) -> SOM:\n",
    "        if initialize:\n",
    "            self.cluster = self.initializeCluster2(df,inputCols).cache_result()\n",
    "        iteration = 0\n",
    "        lr=self.lr\n",
    "        sigma=self.sigma\n",
    "        maxIter = maxIter if batchSize==None else maxIter*(df.count()/batchSize)\n",
    "        time_constant = maxIter\n",
    "        self.run_id = str(uuid.uuid4())\n",
    "        while iteration < maxIter:\n",
    "            print('run_id:',self.run_id,',iteration:',iteration,',lr:',lr,',sigma:',sigma) \n",
    "            sample = df if batchSize==None else df.sample(n=batchSize).cache_result()\n",
    "            bmu = self.distance(sample,id,inputCols).where(F.col('r') == F.lit(1)).drop(F.col('r')).rename(self.cluster_id,'BMI_ID').cache_result()\n",
    "            #print(bmu.groupBy(F.col('BMI_ID')).agg(F.count('*')).orderBy(F.col('BMI_ID').toPandas())\n",
    "            neighborhood = self.getNeighborHood2(inputCols,sigma).cache_result()\n",
    "            self.cluster = sample.join(bmu,id).join(neighborhood,on='BMI_ID',lsuffix='_L',rsuffix='_R').select([F.col(self.cluster_id)]+[(F.col(join(c,'_R'))+F.lit(lr)*(F.col('influence_rate')*(F.col(join(c,'_L'))-F.col(join(c,'_R'))))).alias(c) for c in inputCols]) \\\n",
    "                .groupBy(F.col(self.cluster_id)).agg([F.mean(c).alias(c) for c in inputCols]).cache_result()\n",
    "                # .union(self.cluster.where(F.col(self.cluster_id).isin(neighborhood.select(F.col(self.cluster_id))) == F.lit(False))) is not needed as the 'influence_rate' is zero where the neighbors are out of range \n",
    "            iteration += 1\n",
    "            lr=self.lr*math.exp(-iteration/time_constant)\n",
    "            #sigma=self.sigma*math.exp(-iteration/time_constant)\n",
    "            coefficient = 1.0 - (float(iteration)/time_constant)\n",
    "            #lr=self.lr*coefficient\n",
    "            sigma=self.sigma*coefficient\n",
    "            self.cluster.select(F.col('*'),F.lit(iteration).alias('t'),F.lit(self.run_id).alias('run_id')).write.mode('append').save_as_table('som_t2')\n",
    "        return self\n",
    "    \n",
    "    def transform(self,df: snowpark.DataFrame,id: str,inputCols: str):\n",
    "        return self.distance(df,id,inputCols).where(F.col('r') == F.lit(1)).select(F.col(id),F.col(self.cluster_id))"
   ]
  },
  {
   "cell_type": "code",
   "execution_count": 3,
   "metadata": {},
   "outputs": [],
   "source": [
    "data_cluster = session.read.table('cluster').cache_result()\n",
    "data_meta = session.read.table('cluster_meta').cache_result()\n",
    "df = session.read.table('EXTENDED_ATTRIBUTES_CONSOLIDATED_SAMPLE').cache_result()"
   ]
  },
  {
   "cell_type": "code",
   "execution_count": 5,
   "metadata": {},
   "outputs": [],
   "source": [
    "from minisom import MiniSom"
   ]
  },
  {
   "cell_type": "markdown",
   "metadata": {},
   "source": [
    "For this example we will again load the <a href=\"https://archive.ics.uci.edu/ml/datasets/seeds\">seeds</a> dataset dataset using pandas:"
   ]
  },
  {
   "cell_type": "code",
   "execution_count": 6,
   "metadata": {},
   "outputs": [
    {
     "name": "stderr",
     "output_type": "stream",
     "text": [
      "/opt/anaconda3/envs/env/lib/python3.8/site-packages/cryptography/hazmat/backends/openssl/x509.py:14: CryptographyDeprecationWarning: This version of cryptography contains a temporary pyOpenSSL fallback path. Upgrade pyOpenSSL now.\n",
      "  warnings.warn(\n"
     ]
    }
   ],
   "source": [
    "import pandas as pd\n",
    "import numpy as np\n",
    "id_ = 'UNIVERSAL_ID'\n",
    "columns = [c for c in df.columns if c != id_]\n",
    "data = df.sample(n=10000).toPandas()\n",
    "data['target'] = 0\n",
    "target = data['target'].values\n",
    "label_names = {0:'noclass'}\n",
    "data = data.drop([id_,'target'],axis=1)\n",
    "# data normalization\n",
    "#data = (data - np.mean(data, axis=0)) / np.std(data, axis=0)\n",
    "data = data.values"
   ]
  },
  {
   "cell_type": "markdown",
   "metadata": {},
   "source": [
    "We can initialize and train MiniSom as follows:"
   ]
  },
  {
   "cell_type": "code",
   "execution_count": 7,
   "metadata": {},
   "outputs": [],
   "source": [
    "def getModel(meta,df,run_id):\n",
    "    p = json.loads(meta.where(F.col('run_id') == F.lit(run_id)).select(F.col('PARAM')).toPandas().values[0,0])\n",
    "    m = Kmeans(k=p['k']) if p['model_name'] == 'kmeans' else SOM(k=p['k'],sigma=p['sigma'],lr=p['lr'])\n",
    "    m.cluster = df.where(F.col('run_id') == F.lit(run_id)).select([F.col(c) for c in df.columns if c not in ('RUN_ID')]).cache_result()\n",
    "    return m\n",
    "model = getModel(data_meta,data_cluster,'ea4b337f-46b5-4bb8-a0d9-d4d839f6e8ca')"
   ]
  },
  {
   "cell_type": "code",
   "execution_count": 8,
   "metadata": {},
   "outputs": [],
   "source": [
    "n_neurons = model.w\n",
    "m_neurons = model.h\n",
    "som = MiniSom(n_neurons, m_neurons, len(columns), sigma=model.sigma, learning_rate=model.lr, \n",
    "              neighborhood_function='gaussian', random_seed=0)\n",
    "\n",
    "som._weights = model.cluster.orderBy(model.cluster_id).drop(model.cluster_id).toPandas().to_numpy().reshape(model.w,model.h,-1).transpose(1,0,2)\n"
   ]
  },
  {
   "cell_type": "markdown",
   "metadata": {},
   "source": [
    "To visualize the quality of clustering of each neuron this map uses colors to show the mean difference of the values corresponding to a neuron and the weights of the neuron. Neurons that aren't winning neuron for any sample are left blank."
   ]
  },
  {
   "cell_type": "code",
   "execution_count": 9,
   "metadata": {},
   "outputs": [
    {
     "data": {
      "application/vnd.plotly.v1+json": {
       "config": {
        "plotlyServerURL": "https://plot.ly"
       },
       "data": [
        {
         "colorscale": [
          [
           0,
           "#440154"
          ],
          [
           0.1111111111111111,
           "#482878"
          ],
          [
           0.2222222222222222,
           "#3e4989"
          ],
          [
           0.3333333333333333,
           "#31688e"
          ],
          [
           0.4444444444444444,
           "#26828e"
          ],
          [
           0.5555555555555556,
           "#1f9e89"
          ],
          [
           0.6666666666666666,
           "#35b779"
          ],
          [
           0.7777777777777778,
           "#6ece58"
          ],
          [
           0.8888888888888888,
           "#b5de2b"
          ],
          [
           1,
           "#fde725"
          ]
         ],
         "type": "heatmap",
         "z": [
          [
           0.26505536066647806,
           0.18150279444673134,
           0.17579921696157255
          ],
          [
           0.15910041101302075,
           0.2034297894629838,
           0.15392570779371464
          ],
          [
           0.23727928220019814,
           0.18503316296930908,
           0.1887633337581034
          ]
         ]
        }
       ],
       "layout": {
        "template": {
         "data": {
          "bar": [
           {
            "error_x": {
             "color": "#2a3f5f"
            },
            "error_y": {
             "color": "#2a3f5f"
            },
            "marker": {
             "line": {
              "color": "#E5ECF6",
              "width": 0.5
             },
             "pattern": {
              "fillmode": "overlay",
              "size": 10,
              "solidity": 0.2
             }
            },
            "type": "bar"
           }
          ],
          "barpolar": [
           {
            "marker": {
             "line": {
              "color": "#E5ECF6",
              "width": 0.5
             },
             "pattern": {
              "fillmode": "overlay",
              "size": 10,
              "solidity": 0.2
             }
            },
            "type": "barpolar"
           }
          ],
          "carpet": [
           {
            "aaxis": {
             "endlinecolor": "#2a3f5f",
             "gridcolor": "white",
             "linecolor": "white",
             "minorgridcolor": "white",
             "startlinecolor": "#2a3f5f"
            },
            "baxis": {
             "endlinecolor": "#2a3f5f",
             "gridcolor": "white",
             "linecolor": "white",
             "minorgridcolor": "white",
             "startlinecolor": "#2a3f5f"
            },
            "type": "carpet"
           }
          ],
          "choropleth": [
           {
            "colorbar": {
             "outlinewidth": 0,
             "ticks": ""
            },
            "type": "choropleth"
           }
          ],
          "contour": [
           {
            "colorbar": {
             "outlinewidth": 0,
             "ticks": ""
            },
            "colorscale": [
             [
              0,
              "#0d0887"
             ],
             [
              0.1111111111111111,
              "#46039f"
             ],
             [
              0.2222222222222222,
              "#7201a8"
             ],
             [
              0.3333333333333333,
              "#9c179e"
             ],
             [
              0.4444444444444444,
              "#bd3786"
             ],
             [
              0.5555555555555556,
              "#d8576b"
             ],
             [
              0.6666666666666666,
              "#ed7953"
             ],
             [
              0.7777777777777778,
              "#fb9f3a"
             ],
             [
              0.8888888888888888,
              "#fdca26"
             ],
             [
              1,
              "#f0f921"
             ]
            ],
            "type": "contour"
           }
          ],
          "contourcarpet": [
           {
            "colorbar": {
             "outlinewidth": 0,
             "ticks": ""
            },
            "type": "contourcarpet"
           }
          ],
          "heatmap": [
           {
            "colorbar": {
             "outlinewidth": 0,
             "ticks": ""
            },
            "colorscale": [
             [
              0,
              "#0d0887"
             ],
             [
              0.1111111111111111,
              "#46039f"
             ],
             [
              0.2222222222222222,
              "#7201a8"
             ],
             [
              0.3333333333333333,
              "#9c179e"
             ],
             [
              0.4444444444444444,
              "#bd3786"
             ],
             [
              0.5555555555555556,
              "#d8576b"
             ],
             [
              0.6666666666666666,
              "#ed7953"
             ],
             [
              0.7777777777777778,
              "#fb9f3a"
             ],
             [
              0.8888888888888888,
              "#fdca26"
             ],
             [
              1,
              "#f0f921"
             ]
            ],
            "type": "heatmap"
           }
          ],
          "heatmapgl": [
           {
            "colorbar": {
             "outlinewidth": 0,
             "ticks": ""
            },
            "colorscale": [
             [
              0,
              "#0d0887"
             ],
             [
              0.1111111111111111,
              "#46039f"
             ],
             [
              0.2222222222222222,
              "#7201a8"
             ],
             [
              0.3333333333333333,
              "#9c179e"
             ],
             [
              0.4444444444444444,
              "#bd3786"
             ],
             [
              0.5555555555555556,
              "#d8576b"
             ],
             [
              0.6666666666666666,
              "#ed7953"
             ],
             [
              0.7777777777777778,
              "#fb9f3a"
             ],
             [
              0.8888888888888888,
              "#fdca26"
             ],
             [
              1,
              "#f0f921"
             ]
            ],
            "type": "heatmapgl"
           }
          ],
          "histogram": [
           {
            "marker": {
             "pattern": {
              "fillmode": "overlay",
              "size": 10,
              "solidity": 0.2
             }
            },
            "type": "histogram"
           }
          ],
          "histogram2d": [
           {
            "colorbar": {
             "outlinewidth": 0,
             "ticks": ""
            },
            "colorscale": [
             [
              0,
              "#0d0887"
             ],
             [
              0.1111111111111111,
              "#46039f"
             ],
             [
              0.2222222222222222,
              "#7201a8"
             ],
             [
              0.3333333333333333,
              "#9c179e"
             ],
             [
              0.4444444444444444,
              "#bd3786"
             ],
             [
              0.5555555555555556,
              "#d8576b"
             ],
             [
              0.6666666666666666,
              "#ed7953"
             ],
             [
              0.7777777777777778,
              "#fb9f3a"
             ],
             [
              0.8888888888888888,
              "#fdca26"
             ],
             [
              1,
              "#f0f921"
             ]
            ],
            "type": "histogram2d"
           }
          ],
          "histogram2dcontour": [
           {
            "colorbar": {
             "outlinewidth": 0,
             "ticks": ""
            },
            "colorscale": [
             [
              0,
              "#0d0887"
             ],
             [
              0.1111111111111111,
              "#46039f"
             ],
             [
              0.2222222222222222,
              "#7201a8"
             ],
             [
              0.3333333333333333,
              "#9c179e"
             ],
             [
              0.4444444444444444,
              "#bd3786"
             ],
             [
              0.5555555555555556,
              "#d8576b"
             ],
             [
              0.6666666666666666,
              "#ed7953"
             ],
             [
              0.7777777777777778,
              "#fb9f3a"
             ],
             [
              0.8888888888888888,
              "#fdca26"
             ],
             [
              1,
              "#f0f921"
             ]
            ],
            "type": "histogram2dcontour"
           }
          ],
          "mesh3d": [
           {
            "colorbar": {
             "outlinewidth": 0,
             "ticks": ""
            },
            "type": "mesh3d"
           }
          ],
          "parcoords": [
           {
            "line": {
             "colorbar": {
              "outlinewidth": 0,
              "ticks": ""
             }
            },
            "type": "parcoords"
           }
          ],
          "pie": [
           {
            "automargin": true,
            "type": "pie"
           }
          ],
          "scatter": [
           {
            "fillpattern": {
             "fillmode": "overlay",
             "size": 10,
             "solidity": 0.2
            },
            "type": "scatter"
           }
          ],
          "scatter3d": [
           {
            "line": {
             "colorbar": {
              "outlinewidth": 0,
              "ticks": ""
             }
            },
            "marker": {
             "colorbar": {
              "outlinewidth": 0,
              "ticks": ""
             }
            },
            "type": "scatter3d"
           }
          ],
          "scattercarpet": [
           {
            "marker": {
             "colorbar": {
              "outlinewidth": 0,
              "ticks": ""
             }
            },
            "type": "scattercarpet"
           }
          ],
          "scattergeo": [
           {
            "marker": {
             "colorbar": {
              "outlinewidth": 0,
              "ticks": ""
             }
            },
            "type": "scattergeo"
           }
          ],
          "scattergl": [
           {
            "marker": {
             "colorbar": {
              "outlinewidth": 0,
              "ticks": ""
             }
            },
            "type": "scattergl"
           }
          ],
          "scattermapbox": [
           {
            "marker": {
             "colorbar": {
              "outlinewidth": 0,
              "ticks": ""
             }
            },
            "type": "scattermapbox"
           }
          ],
          "scatterpolar": [
           {
            "marker": {
             "colorbar": {
              "outlinewidth": 0,
              "ticks": ""
             }
            },
            "type": "scatterpolar"
           }
          ],
          "scatterpolargl": [
           {
            "marker": {
             "colorbar": {
              "outlinewidth": 0,
              "ticks": ""
             }
            },
            "type": "scatterpolargl"
           }
          ],
          "scatterternary": [
           {
            "marker": {
             "colorbar": {
              "outlinewidth": 0,
              "ticks": ""
             }
            },
            "type": "scatterternary"
           }
          ],
          "surface": [
           {
            "colorbar": {
             "outlinewidth": 0,
             "ticks": ""
            },
            "colorscale": [
             [
              0,
              "#0d0887"
             ],
             [
              0.1111111111111111,
              "#46039f"
             ],
             [
              0.2222222222222222,
              "#7201a8"
             ],
             [
              0.3333333333333333,
              "#9c179e"
             ],
             [
              0.4444444444444444,
              "#bd3786"
             ],
             [
              0.5555555555555556,
              "#d8576b"
             ],
             [
              0.6666666666666666,
              "#ed7953"
             ],
             [
              0.7777777777777778,
              "#fb9f3a"
             ],
             [
              0.8888888888888888,
              "#fdca26"
             ],
             [
              1,
              "#f0f921"
             ]
            ],
            "type": "surface"
           }
          ],
          "table": [
           {
            "cells": {
             "fill": {
              "color": "#EBF0F8"
             },
             "line": {
              "color": "white"
             }
            },
            "header": {
             "fill": {
              "color": "#C8D4E3"
             },
             "line": {
              "color": "white"
             }
            },
            "type": "table"
           }
          ]
         },
         "layout": {
          "annotationdefaults": {
           "arrowcolor": "#2a3f5f",
           "arrowhead": 0,
           "arrowwidth": 1
          },
          "autotypenumbers": "strict",
          "coloraxis": {
           "colorbar": {
            "outlinewidth": 0,
            "ticks": ""
           }
          },
          "colorscale": {
           "diverging": [
            [
             0,
             "#8e0152"
            ],
            [
             0.1,
             "#c51b7d"
            ],
            [
             0.2,
             "#de77ae"
            ],
            [
             0.3,
             "#f1b6da"
            ],
            [
             0.4,
             "#fde0ef"
            ],
            [
             0.5,
             "#f7f7f7"
            ],
            [
             0.6,
             "#e6f5d0"
            ],
            [
             0.7,
             "#b8e186"
            ],
            [
             0.8,
             "#7fbc41"
            ],
            [
             0.9,
             "#4d9221"
            ],
            [
             1,
             "#276419"
            ]
           ],
           "sequential": [
            [
             0,
             "#0d0887"
            ],
            [
             0.1111111111111111,
             "#46039f"
            ],
            [
             0.2222222222222222,
             "#7201a8"
            ],
            [
             0.3333333333333333,
             "#9c179e"
            ],
            [
             0.4444444444444444,
             "#bd3786"
            ],
            [
             0.5555555555555556,
             "#d8576b"
            ],
            [
             0.6666666666666666,
             "#ed7953"
            ],
            [
             0.7777777777777778,
             "#fb9f3a"
            ],
            [
             0.8888888888888888,
             "#fdca26"
            ],
            [
             1,
             "#f0f921"
            ]
           ],
           "sequentialminus": [
            [
             0,
             "#0d0887"
            ],
            [
             0.1111111111111111,
             "#46039f"
            ],
            [
             0.2222222222222222,
             "#7201a8"
            ],
            [
             0.3333333333333333,
             "#9c179e"
            ],
            [
             0.4444444444444444,
             "#bd3786"
            ],
            [
             0.5555555555555556,
             "#d8576b"
            ],
            [
             0.6666666666666666,
             "#ed7953"
            ],
            [
             0.7777777777777778,
             "#fb9f3a"
            ],
            [
             0.8888888888888888,
             "#fdca26"
            ],
            [
             1,
             "#f0f921"
            ]
           ]
          },
          "colorway": [
           "#636efa",
           "#EF553B",
           "#00cc96",
           "#ab63fa",
           "#FFA15A",
           "#19d3f3",
           "#FF6692",
           "#B6E880",
           "#FF97FF",
           "#FECB52"
          ],
          "font": {
           "color": "#2a3f5f"
          },
          "geo": {
           "bgcolor": "white",
           "lakecolor": "white",
           "landcolor": "#E5ECF6",
           "showlakes": true,
           "showland": true,
           "subunitcolor": "white"
          },
          "hoverlabel": {
           "align": "left"
          },
          "hovermode": "closest",
          "mapbox": {
           "style": "light"
          },
          "paper_bgcolor": "white",
          "plot_bgcolor": "#E5ECF6",
          "polar": {
           "angularaxis": {
            "gridcolor": "white",
            "linecolor": "white",
            "ticks": ""
           },
           "bgcolor": "#E5ECF6",
           "radialaxis": {
            "gridcolor": "white",
            "linecolor": "white",
            "ticks": ""
           }
          },
          "scene": {
           "xaxis": {
            "backgroundcolor": "#E5ECF6",
            "gridcolor": "white",
            "gridwidth": 2,
            "linecolor": "white",
            "showbackground": true,
            "ticks": "",
            "zerolinecolor": "white"
           },
           "yaxis": {
            "backgroundcolor": "#E5ECF6",
            "gridcolor": "white",
            "gridwidth": 2,
            "linecolor": "white",
            "showbackground": true,
            "ticks": "",
            "zerolinecolor": "white"
           },
           "zaxis": {
            "backgroundcolor": "#E5ECF6",
            "gridcolor": "white",
            "gridwidth": 2,
            "linecolor": "white",
            "showbackground": true,
            "ticks": "",
            "zerolinecolor": "white"
           }
          },
          "shapedefaults": {
           "line": {
            "color": "#2a3f5f"
           }
          },
          "ternary": {
           "aaxis": {
            "gridcolor": "white",
            "linecolor": "white",
            "ticks": ""
           },
           "baxis": {
            "gridcolor": "white",
            "linecolor": "white",
            "ticks": ""
           },
           "bgcolor": "#E5ECF6",
           "caxis": {
            "gridcolor": "white",
            "linecolor": "white",
            "ticks": ""
           }
          },
          "title": {
           "x": 0.05
          },
          "xaxis": {
           "automargin": true,
           "gridcolor": "white",
           "linecolor": "white",
           "ticks": "",
           "title": {
            "standoff": 15
           },
           "zerolinecolor": "white",
           "zerolinewidth": 2
          },
          "yaxis": {
           "automargin": true,
           "gridcolor": "white",
           "linecolor": "white",
           "ticks": "",
           "title": {
            "standoff": 15
           },
           "zerolinecolor": "white",
           "zerolinewidth": 2
          }
         }
        },
        "title": {
         "text": "quality plot"
        }
       }
      }
     },
     "metadata": {},
     "output_type": "display_data"
    }
   ],
   "source": [
    "import plotly.graph_objects as go\n",
    "\n",
    "win_map = som.win_map(data)\n",
    "size=som.distance_map().shape[0]\n",
    "qualities=np.empty((size,size))\n",
    "qualities[:]=np.NaN\n",
    "for position, values in win_map.items():\n",
    "    qualities[position[0], position[1]] = np.mean(abs(values-som.get_weights()[position[0], position[1]]))\n",
    "\n",
    "layout = go.Layout(title='quality plot')\n",
    "fig = go.Figure(layout=layout)\n",
    "fig.add_trace(go.Heatmap(z=qualities, colorscale='Viridis'))\n",
    "fig.show()"
   ]
  },
  {
   "cell_type": "markdown",
   "metadata": {},
   "source": [
    "The property plot shows the mean values of each neuron seperately plotted for each property. This view can be used to explore the \"correlation\" of properties."
   ]
  },
  {
   "cell_type": "code",
   "execution_count": 22,
   "metadata": {},
   "outputs": [
    {
     "name": "stdout",
     "output_type": "stream",
     "text": [
      "p: (9, 111) 111 109\n"
     ]
    },
    {
     "name": "stderr",
     "output_type": "stream",
     "text": [
      "/opt/anaconda3/envs/env/lib/python3.8/site-packages/numpy/core/fromnumeric.py:84: FutureWarning:\n",
      "\n",
      "In a future version, DataFrame.min(axis=None) will return a scalar min over the entire DataFrame. To retain the old behavior, use 'frame.min(axis=0)' or just 'frame.min()'\n",
      "\n",
      "/opt/anaconda3/envs/env/lib/python3.8/site-packages/numpy/core/fromnumeric.py:84: FutureWarning:\n",
      "\n",
      "In a future version, DataFrame.max(axis=None) will return a scalar max over the entire DataFrame. To retain the old behavior, use 'frame.max(axis=0)' or just 'frame.max()'\n",
      "\n"
     ]
    },
    {
     "data": {
      "application/vnd.plotly.v1+json": {
       "config": {
        "plotlyServerURL": "https://plot.ly"
       },
       "data": [
        {
         "coloraxis": "coloraxis2",
         "type": "heatmap",
         "xaxis": "x",
         "yaxis": "y",
         "z": [
          [
           0.455445348276293,
           0.569729368526562,
           0.3161698283649504
          ],
          [
           0.3976755314521046,
           0.540650406504065,
           0.339430894308943
          ],
          [
           0.507118109155775,
           0.4247967479674797,
           0.3602251407129455
          ]
         ],
         "zmax": 1,
         "zmin": 0
        },
        {
         "coloraxis": "coloraxis2",
         "type": "heatmap",
         "xaxis": "x2",
         "yaxis": "y2",
         "z": [
          [
           0.6749864535356273,
           0.7731164383561644,
           0.47685185185185186
          ],
          [
           0.5904057669441142,
           0.8493589743589743,
           0.6026785714285714
          ],
          [
           0.7371659634317862,
           0.7755681818181818,
           0.8365384615384616
          ]
         ],
         "zmax": 1,
         "zmin": 0
        },
        {
         "coloraxis": "coloraxis2",
         "type": "heatmap",
         "xaxis": "x3",
         "yaxis": "y3",
         "z": [
          [
           0.3916282850176104,
           0.602054794520548,
           0.3055555555555556
          ],
          [
           0.38322433610780815,
           0.41025641025641024,
           0.2916666666666667
          ],
          [
           0.35970464135021096,
           0.3560606060606061,
           0.36538461538461536
          ]
         ],
         "zmax": 1,
         "zmin": 0
        },
        {
         "coloraxis": "coloraxis2",
         "type": "heatmap",
         "xaxis": "x4",
         "yaxis": "y4",
         "z": [
          [
           0.5802592365497887,
           0.5906272530641675,
           0.4951267056530215
          ],
          [
           0.49461793604104787,
           0.622132253711201,
           0.5626566416040101
          ],
          [
           0.5398623140128802,
           0.5558213716108453,
           0.5182186234817813
          ]
         ],
         "zmax": 1,
         "zmin": 0
        },
        {
         "coloraxis": "coloraxis2",
         "type": "heatmap",
         "xaxis": "x5",
         "yaxis": "y5",
         "z": [
          [
           0.25616364128962343,
           0.3287671232876712,
           0.2962962962962963
          ],
          [
           0.2577784383670234,
           0.15384615384615385,
           0.2976190476190476
          ],
          [
           0.3210267229254571,
           0.4962121212121212,
           0.38461538461538464
          ]
         ],
         "zmax": 1,
         "zmin": 0
        },
        {
         "coloraxis": "coloraxis2",
         "type": "heatmap",
         "xaxis": "x6",
         "yaxis": "y6",
         "z": [
          [
           0.6337036033595231,
           0.8986301369863013,
           1
          ],
          [
           0.6117717003567182,
           0.23076923076923078,
           0.9761904761904762
          ],
          [
           0.6842475386779184,
           1,
           1
          ]
         ],
         "zmax": 1,
         "zmin": 0
        },
        {
         "coloraxis": "coloraxis2",
         "type": "heatmap",
         "xaxis": "x7",
         "yaxis": "y7",
         "z": [
          [
           0.19940395556759685,
           0.17534246575342466,
           0.2962962962962963
          ],
          [
           0.11157352358303607,
           0.10256410256410256,
           0.40476190476190477
          ],
          [
           0.25738396624472576,
           0.3787878787878788,
           0.38461538461538464
          ]
         ],
         "zmax": 1,
         "zmin": 0
        },
        {
         "coloraxis": "coloraxis2",
         "type": "heatmap",
         "xaxis": "x8",
         "yaxis": "y8",
         "z": [
          [
           0.2468165808723923,
           0.15616438356164383,
           0.5185185185185185
          ],
          [
           0.1280221957986524,
           0.07692307692307693,
           0.2619047619047619
          ],
          [
           0.26019690576652604,
           0.6363636363636364,
           0.3076923076923077
          ]
         ],
         "zmax": 1,
         "zmin": 0
        },
        {
         "coloraxis": "coloraxis2",
         "type": "heatmap",
         "xaxis": "x9",
         "yaxis": "y9",
         "z": [
          [
           0.18694120834462205,
           0.1095890410958904,
           0.4444444444444444
          ],
          [
           0.10364645263575109,
           0.05128205128205128,
           0.5
          ],
          [
           0.1828410689170183,
           0.6666666666666666,
           0.6923076923076923
          ]
         ],
         "zmax": 1,
         "zmin": 0
        },
        {
         "coloraxis": "coloraxis2",
         "type": "heatmap",
         "xaxis": "x10",
         "yaxis": "y10",
         "z": [
          [
           0.09834733134651856,
           0.12602739726027398,
           0.14814814814814814
          ],
          [
           0.05212049147839873,
           0.05128205128205128,
           0.07142857142857142
          ],
          [
           0.1308016877637131,
           0.36363636363636365,
           0.15384615384615385
          ]
         ],
         "zmax": 1,
         "zmin": 0
        },
        {
         "coloraxis": "coloraxis2",
         "type": "heatmap",
         "xaxis": "x11",
         "yaxis": "y11",
         "z": [
          [
           0.4009076131129775,
           0.5767123287671233,
           0.5555555555555556
          ],
          [
           0.38783194609591753,
           0.47435897435897434,
           0.05952380952380952
          ],
          [
           0.46554149085794655,
           0.6363636363636364,
           0.23076923076923078
          ]
         ],
         "zmax": 1,
         "zmin": 0
        },
        {
         "coloraxis": "coloraxis2",
         "type": "heatmap",
         "xaxis": "x12",
         "yaxis": "y12",
         "z": [
          [
           0.166621511785424,
           0.18356164383561643,
           0.14814814814814814
          ],
          [
           0.10325009908838684,
           0.1794871794871795,
           0.07142857142857142
          ],
          [
           0.29254571026722925,
           0.2727272727272727,
           0.6153846153846154
          ]
         ],
         "zmax": 1,
         "zmin": 0
        },
        {
         "coloraxis": "coloraxis2",
         "type": "heatmap",
         "xaxis": "x13",
         "yaxis": "y13",
         "z": [
          [
           0.41994039555675966,
           0.5726027397260274,
           0.18518518518518517
          ],
          [
           0.30202140309155767,
           0.41025641025641024,
           0.2857142857142857
          ],
          [
           0.6286919831223629,
           0.2878787878787879,
           0.38461538461538464
          ]
         ],
         "zmax": 1,
         "zmin": 0
        },
        {
         "coloraxis": "coloraxis2",
         "type": "heatmap",
         "xaxis": "x14",
         "yaxis": "y14",
         "z": [
          [
           0.21728528853969115,
           0.4547945205479452,
           0.9259259259259259
          ],
          [
           0.43826793499801825,
           0.01282051282051282,
           0.07142857142857142
          ],
          [
           0.2088607594936709,
           0.045454545454545456,
           0.9615384615384616
          ]
         ],
         "zmax": 1,
         "zmin": 0
        },
        {
         "coloraxis": "coloraxis2",
         "type": "heatmap",
         "xaxis": "x15",
         "yaxis": "y15",
         "z": [
          [
           0.10471416960173395,
           0.4767123287671233,
           0.037037037037037035
          ],
          [
           0.3928854538248117,
           0.02564102564102564,
           0.17857142857142858
          ],
          [
           0.04922644163150492,
           0.007575757575757576,
           0
          ]
         ],
         "zmax": 1,
         "zmin": 0
        },
        {
         "coloraxis": "coloraxis2",
         "type": "heatmap",
         "xaxis": "x16",
         "yaxis": "y16",
         "z": [
          [
           0.9875372527770252,
           0.9643835616438357,
           1
          ],
          [
           0.676773682124455,
           0.9487179487179487,
           0.9047619047619048
          ],
          [
           1,
           1,
           1
          ]
         ],
         "zmax": 1,
         "zmin": 0
        },
        {
         "coloraxis": "coloraxis2",
         "type": "heatmap",
         "xaxis": "x17",
         "yaxis": "y17",
         "z": [
          [
           0.23381197507450555,
           0.3424657534246575,
           0.1111111111111111
          ],
          [
           0.12663495838287753,
           0.4358974358974359,
           0.047619047619047616
          ],
          [
           0.5063291139240507,
           0.19696969696969696,
           0.07692307692307693
          ]
         ],
         "zmax": 1,
         "zmin": 0
        },
        {
         "coloraxis": "coloraxis2",
         "type": "heatmap",
         "xaxis": "x18",
         "yaxis": "y18",
         "z": [
          [
           0.3603359523164454,
           0.989041095890411,
           0.07407407407407407
          ],
          [
           0.30638129211256443,
           0.5641025641025641,
           0.09523809523809523
          ],
          [
           0.5625879043600562,
           0.48484848484848486,
           0.5384615384615384
          ]
         ],
         "zmax": 1,
         "zmin": 0
        },
        {
         "coloraxis": "coloraxis2",
         "type": "heatmap",
         "xaxis": "x19",
         "yaxis": "y19",
         "z": [
          [
           0.01896505012191818,
           0.0027397260273972603,
           0
          ],
          [
           0.0017835909631391202,
           0.1794871794871795,
           0
          ],
          [
           0.052039381153305204,
           0.015151515151515152,
           0.07692307692307693
          ]
         ],
         "zmax": 1,
         "zmin": 0
        },
        {
         "coloraxis": "coloraxis2",
         "type": "heatmap",
         "xaxis": "x20",
         "yaxis": "y20",
         "z": [
          [
           0.27011649959360606,
           0.1178082191780822,
           0.18518518518518517
          ],
          [
           0.01743955608402695,
           0.6666666666666666,
           0.07142857142857142
          ],
          [
           0.8888888888888888,
           0.9545454545454546,
           0.8461538461538461
          ]
         ],
         "zmax": 1,
         "zmin": 0
        },
        {
         "coloraxis": "coloraxis2",
         "type": "heatmap",
         "xaxis": "x21",
         "yaxis": "y21",
         "z": [
          [
           0.458141425088052,
           0.9561643835616438,
           0.48148148148148145
          ],
          [
           0.15992865636147444,
           0.8717948717948718,
           0.11904761904761904
          ],
          [
           0.9353023909985936,
           0.9393939393939394,
           1
          ]
         ],
         "zmax": 1,
         "zmin": 0
        },
        {
         "coloraxis": "coloraxis2",
         "type": "heatmap",
         "xaxis": "x22",
         "yaxis": "y22",
         "z": [
          [
           0.22460037930100243,
           0.03561643835616438,
           0.37037037037037035
          ],
          [
           0.02358303606817281,
           0.6666666666666666,
           0.09523809523809523
          ],
          [
           0.5428973277074542,
           0.6363636363636364,
           0.15384615384615385
          ]
         ],
         "zmax": 1,
         "zmin": 0
        },
        {
         "coloraxis": "coloraxis2",
         "type": "heatmap",
         "xaxis": "x23",
         "yaxis": "y23",
         "z": [
          [
           0.43809265781630996,
           0.5726027397260274,
           0
          ],
          [
           0.10206103844629409,
           0.3076923076923077,
           0.14285714285714285
          ],
          [
           0.6863572433192686,
           0.7272727272727273,
           0.9230769230769231
          ]
         ],
         "zmax": 1,
         "zmin": 0
        },
        {
         "coloraxis": "coloraxis2",
         "type": "heatmap",
         "xaxis": "x24",
         "yaxis": "y24",
         "z": [
          [
           0.19561094554321323,
           0.4931506849315068,
           0
          ],
          [
           0.055291319857312726,
           0.1794871794871795,
           0.023809523809523808
          ],
          [
           0.35443037974683544,
           0.21212121212121213,
           0.23076923076923078
          ]
         ],
         "zmax": 1,
         "zmin": 0
        },
        {
         "coloraxis": "coloraxis2",
         "type": "heatmap",
         "xaxis": "x25",
         "yaxis": "y25",
         "z": [
          [
           0.37767542671362775,
           0.8602739726027397,
           0.037037037037037035
          ],
          [
           0.13099484740388426,
           0.23076923076923078,
           0.07142857142857142
          ],
          [
           0.5963431786216596,
           0.48484848484848486,
           0.7692307692307693
          ]
         ],
         "zmax": 1,
         "zmin": 0
        },
        {
         "coloraxis": "coloraxis2",
         "type": "heatmap",
         "xaxis": "x26",
         "yaxis": "y26",
         "z": [
          [
           0.07965321051205636,
           0.27945205479452057,
           0.037037037037037035
          ],
          [
           0.022790328973444313,
           0.02564102564102564,
           0.023809523809523808
          ],
          [
           0.13924050632911392,
           0.10606060606060606,
           0.3076923076923077
          ]
         ],
         "zmax": 1,
         "zmin": 0
        },
        {
         "coloraxis": "coloraxis2",
         "type": "heatmap",
         "xaxis": "x27",
         "yaxis": "y27",
         "z": [
          [
           0.08913573557301545,
           0.3726027397260274,
           0
          ],
          [
           0.03309552120491478,
           0.07692307692307693,
           0.023809523809523808
          ],
          [
           0.16455696202531644,
           0.09090909090909091,
           0.3076923076923077
          ]
         ],
         "zmax": 1,
         "zmin": 0
        },
        {
         "coloraxis": "coloraxis2",
         "type": "heatmap",
         "xaxis": "x28",
         "yaxis": "y28",
         "z": [
          [
           0.562720130046058,
           0.5671232876712329,
           0.25925925925925924
          ],
          [
           0.09829567974633373,
           0.6410256410256411,
           0.11904761904761904
          ],
          [
           0.9423347398030942,
           1,
           1
          ]
         ],
         "zmax": 1,
         "zmin": 0
        },
        {
         "coloraxis": "coloraxis2",
         "type": "heatmap",
         "xaxis": "x29",
         "yaxis": "y29",
         "z": [
          [
           0.8046599837442427,
           0.2136986301369863,
           0.8518518518518519
          ],
          [
           0.09314308363059849,
           0.9743589743589743,
           0.30952380952380953
          ],
          [
           0.9831223628691983,
           0.9848484848484849,
           0.9230769230769231
          ]
         ],
         "zmax": 1,
         "zmin": 0
        },
        {
         "coloraxis": "coloraxis2",
         "type": "heatmap",
         "xaxis": "x30",
         "yaxis": "y30",
         "z": [
          [
           0.9314548902736386,
           0.18082191780821918,
           1
          ],
          [
           0.280221957986524,
           0.9743589743589743,
           0.9761904761904762
          ],
          [
           0.9901547116736991,
           1,
           1
          ]
         ],
         "zmax": 1,
         "zmin": 0
        },
        {
         "coloraxis": "coloraxis2",
         "type": "heatmap",
         "xaxis": "x31",
         "yaxis": "y31",
         "z": [
          [
           0.12544026009211595,
           0.0684931506849315,
           0.07407407407407407
          ],
          [
           0.018826793499801823,
           0.15384615384615385,
           0.023809523809523808
          ],
          [
           0.4219409282700422,
           0.5909090909090909,
           0.23076923076923078
          ]
         ],
         "zmax": 1,
         "zmin": 0
        },
        {
         "coloraxis": "coloraxis2",
         "type": "heatmap",
         "xaxis": "x32",
         "yaxis": "y32",
         "z": [
          [
           0.18802492549444594,
           0.0684931506849315,
           0.07407407407407407
          ],
          [
           0.02140309155766944,
           0.20512820512820512,
           0.023809523809523808
          ],
          [
           0.6497890295358649,
           0.8333333333333334,
           0.23076923076923078
          ]
         ],
         "zmax": 1,
         "zmin": 0
        },
        {
         "coloraxis": "coloraxis2",
         "type": "heatmap",
         "xaxis": "x33",
         "yaxis": "y33",
         "z": [
          [
           0.9571931725819561,
           0.7917808219178082,
           0.8518518518518519
          ],
          [
           0.20114942528735633,
           1,
           0.8809523809523809
          ],
          [
           0.9971870604781997,
           1,
           1
          ]
         ],
         "zmax": 1,
         "zmin": 0
        },
        {
         "coloraxis": "coloraxis2",
         "type": "heatmap",
         "xaxis": "x34",
         "yaxis": "y34",
         "z": [
          [
           0.47873205093470605,
           0.07123287671232877,
           0.18518518518518517
          ],
          [
           0.03785176377328577,
           0.5897435897435898,
           0.2619047619047619
          ],
          [
           0.8382559774964838,
           0.803030303030303,
           0.46153846153846156
          ]
         ],
         "zmax": 1,
         "zmin": 0
        },
        {
         "coloraxis": "coloraxis2",
         "type": "heatmap",
         "xaxis": "x35",
         "yaxis": "y35",
         "z": [
          [
           0.8802492549444595,
           0.7205479452054795,
           0.8148148148148148
          ],
          [
           0.13594926674593738,
           1,
           0.8333333333333334
          ],
          [
           0.9873417721518988,
           0.9848484848484849,
           0.8461538461538461
          ]
         ],
         "zmax": 1,
         "zmin": 0
        },
        {
         "coloraxis": "coloraxis2",
         "type": "heatmap",
         "xaxis": "x36",
         "yaxis": "y36",
         "z": [
          [
           0.4827959902465456,
           0.7452054794520548,
           0.07407407407407407
          ],
          [
           0.10305192231470471,
           0.28205128205128205,
           0.11904761904761904
          ],
          [
           0.7172995780590717,
           0.8333333333333334,
           0.6923076923076923
          ]
         ],
         "zmax": 1,
         "zmin": 0
        },
        {
         "coloraxis": "coloraxis2",
         "type": "heatmap",
         "xaxis": "x37",
         "yaxis": "y37",
         "z": [
          [
           0.5009482525060959,
           0.09863013698630137,
           0.5555555555555556
          ],
          [
           0.02001585414189457,
           0.8717948717948718,
           0
          ],
          [
           0.9521800281293952,
           0.9393939393939394,
           0.9230769230769231
          ]
         ],
         "zmax": 1,
         "zmin": 0
        },
        {
         "coloraxis": "coloraxis2",
         "type": "heatmap",
         "xaxis": "x38",
         "yaxis": "y38",
         "z": [
          [
           0.10024383635871037,
           0.052054794520547946,
           0
          ],
          [
           0.008521601268331352,
           0.15384615384615385,
           0.047619047619047616
          ],
          [
           0.459915611814346,
           0.21212121212121213,
           0.15384615384615385
          ]
         ],
         "zmax": 1,
         "zmin": 0
        },
        {
         "coloraxis": "coloraxis2",
         "type": "heatmap",
         "xaxis": "x39",
         "yaxis": "y39",
         "z": [
          [
           0.03061500948252506,
           0.0136986301369863,
           0
          ],
          [
           0.0019817677368212444,
           0.07692307692307693,
           0.023809523809523808
          ],
          [
           0.08438818565400844,
           0.06060606060606061,
           0.07692307692307693
          ]
         ],
         "zmax": 1,
         "zmin": 0
        },
        {
         "coloraxis": "coloraxis2",
         "type": "heatmap",
         "xaxis": "x40",
         "yaxis": "y40",
         "z": [
          [
           0.739366025467353,
           0.14794520547945206,
           0.37037037037037035
          ],
          [
           0.06460562822037257,
           1,
           0.5952380952380952
          ],
          [
           0.9985935302390999,
           1,
           1
          ]
         ],
         "zmax": 1,
         "zmin": 0
        },
        {
         "coloraxis": "coloraxis2",
         "type": "heatmap",
         "xaxis": "x41",
         "yaxis": "y41",
         "z": [
          [
           0.5440260092115957,
           0.18082191780821918,
           0.18518518518518517
          ],
          [
           0.05608402695204122,
           0.9487179487179487,
           0.2619047619047619
          ],
          [
           0.9690576652601969,
           0.9848484848484849,
           1
          ]
         ],
         "zmax": 1,
         "zmin": 0
        },
        {
         "coloraxis": "coloraxis2",
         "type": "heatmap",
         "xaxis": "x42",
         "yaxis": "y42",
         "z": [
          [
           0.8642644269845571,
           0.16986301369863013,
           1
          ],
          [
           0.1377328577090765,
           1,
           0.47619047619047616
          ],
          [
           0.9971870604781997,
           0.9696969696969697,
           1
          ]
         ],
         "zmax": 1,
         "zmin": 0
        },
        {
         "coloraxis": "coloraxis2",
         "type": "heatmap",
         "xaxis": "x43",
         "yaxis": "y43",
         "z": [
          [
           0.36087781089135734,
           0.030136986301369864,
           0.5185185185185185
          ],
          [
           0.019421323820848196,
           0.8717948717948718,
           0.11904761904761904
          ],
          [
           0.7819971870604782,
           0.7878787878787878,
           0.7692307692307693
          ]
         ],
         "zmax": 1,
         "zmin": 0
        },
        {
         "coloraxis": "coloraxis2",
         "type": "heatmap",
         "xaxis": "x44",
         "yaxis": "y44",
         "z": [
          [
           0.5979409374153346,
           0.0821917808219178,
           0.6666666666666666
          ],
          [
           0.07966706302021404,
           0.8974358974358975,
           0.23809523809523808
          ],
          [
           0.8832630098452883,
           0.9090909090909091,
           0.9230769230769231
          ]
         ],
         "zmax": 1,
         "zmin": 0
        },
        {
         "coloraxis": "coloraxis2",
         "type": "heatmap",
         "xaxis": "x45",
         "yaxis": "y45",
         "z": [
          [
           0.23950149011108102,
           0.14520547945205478,
           0.37037037037037035
          ],
          [
           0.020214030915576695,
           0.717948717948718,
           0
          ],
          [
           0.639943741209564,
           0.3333333333333333,
           0.6153846153846154
          ]
         ],
         "zmax": 1,
         "zmin": 0
        },
        {
         "coloraxis": "coloraxis2",
         "type": "heatmap",
         "xaxis": "x46",
         "yaxis": "y46",
         "z": [
          [
           0.12137632078027635,
           0.021917808219178082,
           0.037037037037037035
          ],
          [
           0.004954419342053111,
           0.5897435897435898,
           0.023809523809523808
          ],
          [
           0.44163150492264414,
           0.30303030303030304,
           0.3076923076923077
          ]
         ],
         "zmax": 1,
         "zmin": 0
        },
        {
         "coloraxis": "coloraxis2",
         "type": "heatmap",
         "xaxis": "x47",
         "yaxis": "y47",
         "z": [
          [
           0.9666756976429152,
           0.7726027397260274,
           1
          ],
          [
           0.232461355529132,
           1,
           0.6428571428571429
          ],
          [
           0.9971870604781997,
           1,
           1
          ]
         ],
         "zmax": 1,
         "zmin": 0
        },
        {
         "coloraxis": "coloraxis2",
         "type": "heatmap",
         "xaxis": "x48",
         "yaxis": "y48",
         "z": [
          [
           0.6946626930371174,
           0.1863013698630137,
           0.8888888888888888
          ],
          [
           0.049147839873166864,
           0.9487179487179487,
           0.5952380952380952
          ],
          [
           0.9789029535864979,
           0.8181818181818182,
           1
          ]
         ],
         "zmax": 1,
         "zmin": 0
        },
        {
         "coloraxis": "coloraxis2",
         "type": "heatmap",
         "xaxis": "x49",
         "yaxis": "y49",
         "z": [
          [
           0.2782443782172853,
           0.010958904109589041,
           0.6666666666666666
          ],
          [
           0.009710661910424098,
           0.8205128205128205,
           0.21428571428571427
          ],
          [
           0.7018284106891702,
           0.5151515151515151,
           0.8461538461538461
          ]
         ],
         "zmax": 1,
         "zmin": 0
        },
        {
         "coloraxis": "coloraxis2",
         "type": "heatmap",
         "xaxis": "x50",
         "yaxis": "y50",
         "z": [
          [
           0.43050663776754267,
           0.03287671232876712,
           0.6666666666666666
          ],
          [
           0.012881490289338089,
           0.4358974358974359,
           0.30952380952380953
          ],
          [
           0.8748241912798875,
           0.696969696969697,
           0.9230769230769231
          ]
         ],
         "zmax": 1,
         "zmin": 0
        },
        {
         "coloraxis": "coloraxis2",
         "type": "heatmap",
         "xaxis": "x51",
         "yaxis": "y51",
         "z": [
          [
           0.29504199403955567,
           0.043835616438356165,
           0.25925925925925924
          ],
          [
           0.0186286167261197,
           0.5128205128205128,
           0.16666666666666666
          ],
          [
           0.6933895921237694,
           0.7121212121212122,
           0.3076923076923077
          ]
         ],
         "zmax": 1,
         "zmin": 0
        },
        {
         "coloraxis": "coloraxis2",
         "type": "heatmap",
         "xaxis": "x52",
         "yaxis": "y52",
         "z": [
          [
           0.29097805472771604,
           0.0136986301369863,
           0.4444444444444444
          ],
          [
           0.007332540626238605,
           0.5897435897435898,
           0.35714285714285715
          ],
          [
           0.7144866385372715,
           0.696969696969697,
           0.46153846153846156
          ]
         ],
         "zmax": 1,
         "zmin": 0
        },
        {
         "coloraxis": "coloraxis2",
         "type": "heatmap",
         "xaxis": "x53",
         "yaxis": "y53",
         "z": [
          [
           0.8060146301815226,
           0.4465753424657534,
           0.8148148148148148
          ],
          [
           0.08620689655172414,
           0.9487179487179487,
           0.8571428571428571
          ],
          [
           0.9704641350210971,
           0.9848484848484849,
           0.8461538461538461
          ]
         ],
         "zmax": 1,
         "zmin": 0
        },
        {
         "coloraxis": "coloraxis2",
         "type": "heatmap",
         "xaxis": "x54",
         "yaxis": "y54",
         "z": [
          [
           0.45245191005147656,
           0.14246575342465753,
           0.2962962962962963
          ],
          [
           0.02358303606817281,
           0.7948717948717948,
           0.07142857142857142
          ],
          [
           0.8255977496483825,
           0.7575757575757576,
           0.46153846153846156
          ]
         ],
         "zmax": 1,
         "zmin": 0
        },
        {
         "coloraxis": "coloraxis2",
         "type": "heatmap",
         "xaxis": "x55",
         "yaxis": "y55",
         "z": [
          [
           0.9485234353833649,
           0.663013698630137,
           1
          ],
          [
           0.19262782401902498,
           1,
           0.40476190476190477
          ],
          [
           0.9985935302390999,
           1,
           1
          ]
         ],
         "zmax": 1,
         "zmin": 0
        },
        {
         "coloraxis": "coloraxis2",
         "type": "heatmap",
         "xaxis": "x56",
         "yaxis": "y56",
         "z": [
          [
           0.2668653481441344,
           0.0410958904109589,
           0.8518518518518519
          ],
          [
           0.01466508125247721,
           0.28205128205128205,
           0.07142857142857142
          ],
          [
           0.6976090014064698,
           0.7424242424242424,
           0.8461538461538461
          ]
         ],
         "zmax": 1,
         "zmin": 0
        },
        {
         "coloraxis": "coloraxis2",
         "type": "heatmap",
         "xaxis": "x57",
         "yaxis": "y57",
         "z": [
          [
           0.2584665402329992,
           0.0410958904109589,
           0.8518518518518519
          ],
          [
           0.013674197384066587,
           0.23076923076923078,
           0.07142857142857142
          ],
          [
           0.6497890295358649,
           0.7272727272727273,
           0.6923076923076923
          ]
         ],
         "zmax": 1,
         "zmin": 0
        },
        {
         "coloraxis": "coloraxis2",
         "type": "heatmap",
         "xaxis": "x58",
         "yaxis": "y58",
         "z": [
          [
           0.34543484150636683,
           0.043835616438356165,
           0.8518518518518519
          ],
          [
           0.020214030915576695,
           0.3333333333333333,
           0.047619047619047616
          ],
          [
           0.8185654008438819,
           0.8636363636363636,
           0.8461538461538461
          ]
         ],
         "zmax": 1,
         "zmin": 0
        },
        {
         "coloraxis": "coloraxis2",
         "type": "heatmap",
         "xaxis": "x59",
         "yaxis": "y59",
         "z": [
          [
           0.4237334055811433,
           0.0821917808219178,
           0.48148148148148145
          ],
          [
           0.029726516052318668,
           0.46153846153846156,
           0.09523809523809523
          ],
          [
           0.7215189873417721,
           0.8636363636363636,
           0.3076923076923077
          ]
         ],
         "zmax": 1,
         "zmin": 0
        },
        {
         "coloraxis": "coloraxis2",
         "type": "heatmap",
         "xaxis": "x60",
         "yaxis": "y60",
         "z": [
          [
           0.08588458412354376,
           0.01643835616438356,
           0.37037037037037035
          ],
          [
           0.00535077288941736,
           0.10256410256410256,
           0
          ],
          [
           0.35724331926863573,
           0.5909090909090909,
           0.6923076923076923
          ]
         ],
         "zmax": 1,
         "zmin": 0
        },
        {
         "coloraxis": "coloraxis2",
         "type": "heatmap",
         "xaxis": "x61",
         "yaxis": "y61",
         "z": [
          [
           0.12760769439176375,
           0.0136986301369863,
           0.2222222222222222
          ],
          [
           0.005945303210463734,
           0.3333333333333333,
           0
          ],
          [
           0.29957805907172996,
           0.2878787878787879,
           0.15384615384615385
          ]
         ],
         "zmax": 1,
         "zmin": 0
        },
        {
         "coloraxis": "coloraxis2",
         "type": "heatmap",
         "xaxis": "x62",
         "yaxis": "y62",
         "z": [
          [
           0.010566242210782985,
           0.0027397260273972603,
           0
          ],
          [
           0.0007927070947284979,
           0.02564102564102564,
           0
          ],
          [
           0.05485232067510549,
           0.045454545454545456,
           0
          ]
         ],
         "zmax": 1,
         "zmin": 0
        },
        {
         "coloraxis": "coloraxis2",
         "type": "heatmap",
         "xaxis": "x63",
         "yaxis": "y63",
         "z": [
          [
           0.07856949336223246,
           0.00821917808219178,
           0.1111111111111111
          ],
          [
           0.0027744748315497426,
           0.23076923076923078,
           0
          ],
          [
           0.20253164556962025,
           0.21212121212121213,
           0.23076923076923078
          ]
         ],
         "zmax": 1,
         "zmin": 0
        },
        {
         "coloraxis": "coloraxis2",
         "type": "heatmap",
         "xaxis": "x64",
         "yaxis": "y64",
         "z": [
          [
           0.9412083446220536,
           0.5835616438356165,
           1
          ],
          [
           0.20372572334522393,
           1,
           0.47619047619047616
          ],
          [
           0.9985935302390999,
           1,
           1
          ]
         ],
         "zmax": 1,
         "zmin": 0
        },
        {
         "coloraxis": "coloraxis2",
         "type": "heatmap",
         "xaxis": "x65",
         "yaxis": "y65",
         "z": [
          [
           0.5410457870495801,
           0.24383561643835616,
           0.07407407407407407
          ],
          [
           0.034482758620689655,
           0.8974358974358975,
           0.07142857142857142
          ],
          [
           0.9507735583684951,
           1,
           0.9230769230769231
          ]
         ],
         "zmax": 1,
         "zmin": 0
        },
        {
         "coloraxis": "coloraxis2",
         "type": "heatmap",
         "xaxis": "x66",
         "yaxis": "y66",
         "z": [
          [
           0.31834191276076945,
           0.136986301369863,
           0.6666666666666666
          ],
          [
           0.033491874752279036,
           0.5128205128205128,
           0.09523809523809523
          ],
          [
           0.8241912798874824,
           0.8333333333333334,
           0.6153846153846154
          ]
         ],
         "zmax": 1,
         "zmin": 0
        },
        {
         "coloraxis": "coloraxis2",
         "type": "heatmap",
         "xaxis": "x67",
         "yaxis": "y67",
         "z": [
          [
           0.10078569493362233,
           0.024657534246575342,
           0.037037037037037035
          ],
          [
           0.015259611573523584,
           0.3076923076923077,
           0.047619047619047616
          ],
          [
           0.27285513361462727,
           0.3484848484848485,
           0.38461538461538464
          ]
         ],
         "zmax": 1,
         "zmin": 0
        },
        {
         "coloraxis": "coloraxis2",
         "type": "heatmap",
         "xaxis": "x68",
         "yaxis": "y68",
         "z": [
          [
           0.36060688160390136,
           0.09041095890410959,
           0.18518518518518517
          ],
          [
           0.04597701149425287,
           0.6923076923076923,
           0.07142857142857142
          ],
          [
           0.639943741209564,
           0.6818181818181818,
           0.38461538461538464
          ]
         ],
         "zmax": 1,
         "zmin": 0
        },
        {
         "coloraxis": "coloraxis2",
         "type": "heatmap",
         "xaxis": "x69",
         "yaxis": "y69",
         "z": [
          [
           0.4177729612571119,
           0.11232876712328767,
           0.14814814814814814
          ],
          [
           0.09492667459373762,
           0.38461538461538464,
           0.19047619047619047
          ],
          [
           0.5583684950773559,
           0.6212121212121212,
           0.46153846153846156
          ]
         ],
         "zmax": 1,
         "zmin": 0
        },
        {
         "coloraxis": "coloraxis2",
         "type": "heatmap",
         "xaxis": "x70",
         "yaxis": "y70",
         "z": [
          [
           0.47114603088593876,
           0.1863013698630137,
           0.3333333333333333
          ],
          [
           0.09908838684106223,
           0.41025641025641024,
           0.21428571428571427
          ],
          [
           0.8621659634317862,
           0.5757575757575758,
           0.5384615384615384
          ]
         ],
         "zmax": 1,
         "zmin": 0
        },
        {
         "coloraxis": "coloraxis2",
         "type": "heatmap",
         "xaxis": "x71",
         "yaxis": "y71",
         "z": [
          [
           0.004605797886751558,
           0.024657534246575342,
           0
          ],
          [
           0.0031708283789139914,
           0.02564102564102564,
           0
          ],
          [
           0.004219409282700422,
           0.015151515151515152,
           0
          ]
         ],
         "zmax": 1,
         "zmin": 0
        },
        {
         "coloraxis": "coloraxis2",
         "type": "heatmap",
         "xaxis": "x72",
         "yaxis": "y72",
         "z": [
          [
           0.12489840151720401,
           0.06301369863013699,
           0.07407407407407407
          ],
          [
           0.38307570352754655,
           0.46153846153846156,
           0.047619047619047616
          ],
          [
           0.21378340365682139,
           0.09090909090909091,
           0.23076923076923078
          ]
         ],
         "zmax": 1,
         "zmin": 0
        },
        {
         "coloraxis": "coloraxis2",
         "type": "heatmap",
         "xaxis": "x73",
         "yaxis": "y73",
         "z": [
          [
           0.4592251422378759,
           0.3013698630136986,
           0.25925925925925924
          ],
          [
           0.3767340467697186,
           0.20512820512820512,
           0.9047619047619048
          ],
          [
           0.34458509142053445,
           0.13636363636363635,
           0.6153846153846154
          ]
         ],
         "zmax": 1,
         "zmin": 0
        },
        {
         "coloraxis": "coloraxis2",
         "type": "heatmap",
         "xaxis": "x74",
         "yaxis": "y74",
         "z": [
          [
           0.11541587645624492,
           0.3232876712328767,
           0.07407407407407407
          ],
          [
           0.07094728497820056,
           0.02564102564102564,
           0
          ],
          [
           0.11814345991561181,
           0.07575757575757576,
           0
          ]
         ],
         "zmax": 1,
         "zmin": 0
        },
        {
         "coloraxis": "coloraxis2",
         "type": "heatmap",
         "xaxis": "x75",
         "yaxis": "y75",
         "z": [
          [
           0.2958547819019236,
           0.2876712328767123,
           0.5925925925925926
          ],
          [
           0.1660721363456203,
           0.28205128205128205,
           0.047619047619047616
          ],
          [
           0.31926863572433195,
           0.6818181818181818,
           0.15384615384615385
          ]
         ],
         "zmax": 1,
         "zmin": 0
        },
        {
         "coloraxis": "coloraxis2",
         "type": "heatmap",
         "xaxis": "x76",
         "yaxis": "y76",
         "z": [
          [
           0.10647520997019778,
           0.019178082191780823,
           0.037037037037037035
          ],
          [
           0.21105826397146255,
           0.02564102564102564,
           0
          ],
          [
           0.3009845288326301,
           0,
           0
          ]
         ],
         "zmax": 1,
         "zmin": 0
        },
        {
         "coloraxis": "coloraxis2",
         "type": "heatmap",
         "xaxis": "x77",
         "yaxis": "y77",
         "z": [
          [
           0.13356813871579518,
           0.01643835616438356,
           0
          ],
          [
           0.24891002774474832,
           0.07692307692307693,
           0
          ],
          [
           0.0829817158931083,
           0,
           0
          ]
         ],
         "zmax": 1,
         "zmin": 0
        },
        {
         "coloraxis": "coloraxis2",
         "type": "heatmap",
         "xaxis": "x78",
         "yaxis": "y78",
         "z": [
          [
           0.23895963153616906,
           0.10410958904109589,
           0
          ],
          [
           0.09908838684106223,
           0.7692307692307693,
           0.023809523809523808
          ],
          [
           0.18846694796061886,
           0,
           0
          ]
         ],
         "zmax": 1,
         "zmin": 0
        },
        {
         "coloraxis": "coloraxis2",
         "type": "heatmap",
         "xaxis": "x79",
         "yaxis": "y79",
         "z": [
          [
           0.13167163370360335,
           0.01643835616438356,
           0.9259259259259259
          ],
          [
           0.18093539437177963,
           0,
           0.047619047619047616
          ],
          [
           0.090014064697609,
           0.045454545454545456,
           1
          ]
         ],
         "zmax": 1,
         "zmin": 0
        },
        {
         "coloraxis": "coloraxis2",
         "type": "heatmap",
         "xaxis": "x80",
         "yaxis": "y80",
         "z": [
          [
           0.3893253860742346,
           0.8438356164383561,
           0.037037037037037035
          ],
          [
           0.2600079270709473,
           0.1282051282051282,
           0.9285714285714286
          ],
          [
           0.33755274261603374,
           0.9545454545454546,
           0
          ]
         ],
         "zmax": 1,
         "zmin": 0
        },
        {
         "coloraxis": "coloraxis2",
         "type": "heatmap",
         "xaxis": "x81",
         "yaxis": "y81",
         "z": [
          [
           0.3522080736927662,
           0.2356164383561644,
           0.5555555555555556
          ],
          [
           0.698969480776853,
           0.1794871794871795,
           0.6666666666666666
          ],
          [
           0.24050632911392406,
           0.15151515151515152,
           0.3076923076923077
          ]
         ],
         "zmax": 1,
         "zmin": 0
        },
        {
         "coloraxis": "coloraxis2",
         "type": "heatmap",
         "xaxis": "x82",
         "yaxis": "y82",
         "z": [
          [
           0.07044161473855323,
           0.052054794520547946,
           0.037037037037037035
          ],
          [
           0.015259611573523584,
           0.10256410256410256,
           0.047619047619047616
          ],
          [
           0.08720112517580872,
           0.21212121212121213,
           0
          ]
         ],
         "zmax": 1,
         "zmin": 0
        },
        {
         "coloraxis": "coloraxis2",
         "type": "heatmap",
         "xaxis": "x83",
         "yaxis": "y83",
         "z": [
          [
           0.09292874559739908,
           0.01643835616438356,
           0.07407407407407407
          ],
          [
           0.022988505747126436,
           0.05128205128205128,
           0.09523809523809523
          ],
          [
           0.06891701828410689,
           0.09090909090909091,
           0
          ]
         ],
         "zmax": 1,
         "zmin": 0
        },
        {
         "coloraxis": "coloraxis2",
         "type": "heatmap",
         "xaxis": "x84",
         "yaxis": "y84",
         "z": [
          [
           0.04578704958005961,
           0.07123287671232877,
           0.07407407407407407
          ],
          [
           0.019619500594530322,
           0.05128205128205128,
           0.023809523809523808
          ],
          [
           0.05625879043600562,
           0.030303030303030304,
           0
          ]
         ],
         "zmax": 1,
         "zmin": 0
        },
        {
         "coloraxis": "coloraxis2",
         "type": "heatmap",
         "xaxis": "x85",
         "yaxis": "y85",
         "z": [
          [
           0.01571389867244649,
           0.0136986301369863,
           0
          ],
          [
           0.008521601268331352,
           0.02564102564102564,
           0
          ],
          [
           0.012658227848101266,
           0.045454545454545456,
           0
          ]
         ],
         "zmax": 1,
         "zmin": 0
        },
        {
         "coloraxis": "coloraxis2",
         "type": "heatmap",
         "xaxis": "x86",
         "yaxis": "y86",
         "z": [
          [
           0.0531021403413709,
           0.049315068493150684,
           0.037037037037037035
          ],
          [
           0.018034086405073327,
           0.10256410256410256,
           0
          ],
          [
           0.1111111111111111,
           0.13636363636363635,
           0.07692307692307693
          ]
         ],
         "zmax": 1,
         "zmin": 0
        },
        {
         "coloraxis": "coloraxis2",
         "type": "heatmap",
         "xaxis": "x87",
         "yaxis": "y87",
         "z": [
          [
           0.014901110810078569,
           0.03561643835616438,
           0
          ],
          [
           0.011296076099881093,
           0.07692307692307693,
           0
          ],
          [
           0.02109704641350211,
           0.015151515151515152,
           0
          ]
         ],
         "zmax": 1,
         "zmin": 0
        },
        {
         "coloraxis": "coloraxis2",
         "type": "heatmap",
         "xaxis": "x88",
         "yaxis": "y88",
         "z": [
          [
           0,
           0,
           0
          ],
          [
           0,
           0,
           0
          ],
          [
           0,
           0,
           0
          ]
         ],
         "zmax": 1,
         "zmin": 0
        },
        {
         "coloraxis": "coloraxis2",
         "type": "heatmap",
         "xaxis": "x89",
         "yaxis": "y89",
         "z": [
          [
           0.1812516933080466,
           0.3589041095890411,
           0.1111111111111111
          ],
          [
           0.11553705905667856,
           0.1794871794871795,
           0.047619047619047616
          ],
          [
           0.18846694796061886,
           0.045454545454545456,
           0.15384615384615385
          ]
         ],
         "zmax": 1,
         "zmin": 0
        },
        {
         "coloraxis": "coloraxis2",
         "type": "heatmap",
         "xaxis": "x90",
         "yaxis": "y90",
         "z": [
          [
           0.0812787862367922,
           0.052054794520547946,
           0.037037037037037035
          ],
          [
           0.05212049147839873,
           0.02564102564102564,
           0.047619047619047616
          ],
          [
           0.1111111111111111,
           0.12121212121212122,
           0.23076923076923078
          ]
         ],
         "zmax": 1,
         "zmin": 0
        },
        {
         "coloraxis": "coloraxis2",
         "type": "heatmap",
         "xaxis": "x91",
         "yaxis": "y91",
         "z": [
          [
           0.032782443782172856,
           0.024657534246575342,
           0
          ],
          [
           0.008521601268331352,
           0.10256410256410256,
           0.023809523809523808
          ],
          [
           0.029535864978902954,
           0.06060606060606061,
           0
          ]
         ],
         "zmax": 1,
         "zmin": 0
        },
        {
         "coloraxis": "coloraxis2",
         "type": "heatmap",
         "xaxis": "x92",
         "yaxis": "y92",
         "z": [
          [
           0.024654565158493635,
           0.0684931506849315,
           0
          ],
          [
           0.017043202536662704,
           0.05128205128205128,
           0.023809523809523808
          ],
          [
           0.03234880450070324,
           0.015151515151515152,
           0
          ]
         ],
         "zmax": 1,
         "zmin": 0
        },
        {
         "coloraxis": "coloraxis2",
         "type": "heatmap",
         "xaxis": "x93",
         "yaxis": "y93",
         "z": [
          [
           0.003793010024383636,
           0.010958904109589041,
           0
          ],
          [
           0.002576298057867618,
           0,
           0
          ],
          [
           0.004219409282700422,
           0,
           0
          ]
         ],
         "zmax": 1,
         "zmin": 0
        },
        {
         "coloraxis": "coloraxis2",
         "type": "heatmap",
         "xaxis": "x94",
         "yaxis": "y94",
         "z": [
          [
           0.002980222162015714,
           0.0027397260273972603,
           0
          ],
          [
           0.0031708283789139914,
           0,
           0
          ],
          [
           0.005625879043600563,
           0,
           0
          ]
         ],
         "zmax": 1,
         "zmin": 0
        },
        {
         "coloraxis": "coloraxis2",
         "type": "heatmap",
         "xaxis": "x95",
         "yaxis": "y95",
         "z": [
          [
           0.004605797886751558,
           0,
           0
          ],
          [
           0.0013872374157748713,
           0,
           0
          ],
          [
           0.0028129395218002813,
           0,
           0
          ]
         ],
         "zmax": 1,
         "zmin": 0
        },
        {
         "coloraxis": "coloraxis2",
         "type": "heatmap",
         "xaxis": "x96",
         "yaxis": "y96",
         "z": [
          [
           0.005960444324031428,
           0,
           0
          ],
          [
           0.0015854141894569957,
           0.05128205128205128,
           0
          ],
          [
           0.014064697609001406,
           0.015151515151515152,
           0.07692307692307693
          ]
         ],
         "zmax": 1,
         "zmin": 0
        },
        {
         "coloraxis": "coloraxis2",
         "type": "heatmap",
         "xaxis": "x97",
         "yaxis": "y97",
         "z": [
          [
           0.001083717149823896,
           0,
           0
          ],
          [
           0,
           0,
           0
          ],
          [
           0.0014064697609001407,
           0,
           0
          ]
         ],
         "zmax": 1,
         "zmin": 0
        },
        {
         "coloraxis": "coloraxis2",
         "type": "heatmap",
         "xaxis": "x98",
         "yaxis": "y98",
         "z": [
          [
           0.016526686534814414,
           0.00821917808219178,
           0.07407407407407407
          ],
          [
           0.003369005152596116,
           0,
           0.023809523809523808
          ],
          [
           0.012658227848101266,
           0.06060606060606061,
           0.15384615384615385
          ]
         ],
         "zmax": 1,
         "zmin": 0
        },
        {
         "coloraxis": "coloraxis2",
         "type": "heatmap",
         "xaxis": "x99",
         "yaxis": "y99",
         "z": [
          [
           0,
           0,
           0
          ],
          [
           0,
           0,
           0
          ],
          [
           0,
           0,
           0
          ]
         ],
         "zmax": 1,
         "zmin": 0
        },
        {
         "coloraxis": "coloraxis2",
         "type": "heatmap",
         "xaxis": "x100",
         "yaxis": "y100",
         "z": [
          [
           0.8585749119479815,
           0.9397260273972603,
           0.9259259259259259
          ],
          [
           0.7802219579865239,
           0.9487179487179487,
           0.9285714285714286
          ],
          [
           0.9043600562587905,
           0.9545454545454546,
           0.8461538461538461
          ]
         ],
         "zmax": 1,
         "zmin": 0
        },
        {
         "coloraxis": "coloraxis2",
         "type": "heatmap",
         "xaxis": "x101",
         "yaxis": "y101",
         "z": [
          [
           0.08154971552424817,
           0.0273972602739726,
           0.037037037037037035
          ],
          [
           0.16508125247720967,
           0,
           0
          ],
          [
           0.01828410689170183,
           0,
           0.07692307692307693
          ]
         ],
         "zmax": 1,
         "zmin": 0
        },
        {
         "coloraxis": "coloraxis2",
         "type": "heatmap",
         "xaxis": "x102",
         "yaxis": "y102",
         "z": [
          [
           0.043890544567867784,
           0.0273972602739726,
           0.037037037037037035
          ],
          [
           0.0348791121680539,
           0.05128205128205128,
           0
          ],
          [
           0.05063291139240506,
           0.045454545454545456,
           0
          ]
         ],
         "zmax": 1,
         "zmin": 0
        },
        {
         "coloraxis": "coloraxis2",
         "type": "heatmap",
         "xaxis": "x103",
         "yaxis": "y103",
         "z": [
          [
           0.015984827959902467,
           0.005479452054794521,
           0
          ],
          [
           0.019817677368212445,
           0,
           0.07142857142857142
          ],
          [
           0.026722925457102673,
           0,
           0.07692307692307693
          ]
         ],
         "zmax": 1,
         "zmin": 0
        },
        {
         "coloraxis": "coloraxis2",
         "type": "heatmap",
         "xaxis": "x104",
         "yaxis": "y104",
         "z": [
          [
           0.85396911406123,
           0.9671232876712329,
           0.7777777777777778
          ],
          [
           0.6684502576298058,
           0.8974358974358975,
           0.8809523809523809
          ],
          [
           0.8860759493670886,
           0.9848484848484849,
           0.8461538461538461
          ]
         ],
         "zmax": 1,
         "zmin": 0
        },
        {
         "coloraxis": "coloraxis2",
         "type": "heatmap",
         "xaxis": "x105",
         "yaxis": "y105",
         "z": [
          [
           0.050663776754267136,
           0.024657534246575342,
           0.037037037037037035
          ],
          [
           0.13178755449861276,
           0.02564102564102564,
           0
          ],
          [
           0.07454289732770746,
           0,
           0.07692307692307693
          ]
         ],
         "zmax": 1,
         "zmin": 0
        },
        {
         "coloraxis": "coloraxis2",
         "type": "heatmap",
         "xaxis": "x106",
         "yaxis": "y106",
         "z": [
          [
           0.09536710918450285,
           0.00821917808219178,
           0.18518518518518517
          ],
          [
           0.19976218787158145,
           0.07692307692307693,
           0.11904761904761904
          ],
          [
           0.03938115330520394,
           0.015151515151515152,
           0.07692307692307693
          ]
         ],
         "zmax": 1,
         "zmin": 0
        },
        {
         "coloraxis": "coloraxis2",
         "type": "heatmap",
         "xaxis": "x107",
         "yaxis": "y107",
         "z": [
          [
           0.26523977241939856,
           0.03287671232876712,
           0.9259259259259259
          ],
          [
           0.42984542211652793,
           0.07692307692307693,
           0.047619047619047616
          ],
          [
           0.1729957805907173,
           0.045454545454545456,
           1
          ]
         ],
         "zmax": 1,
         "zmin": 0
        },
        {
         "coloraxis": "coloraxis2",
         "type": "heatmap",
         "xaxis": "x108",
         "yaxis": "y108",
         "z": [
          [
           0.6282850176104037,
           0.947945205479452,
           0.037037037037037035
          ],
          [
           0.3590963139120095,
           0.8974358974358975,
           0.9523809523809523
          ],
          [
           0.5260196905766527,
           0.9545454545454546,
           0
          ]
         ],
         "zmax": 1,
         "zmin": 0
        },
        {
         "coloraxis": "coloraxis2",
         "type": "heatmap",
         "xaxis": "x109",
         "yaxis": "y109",
         "z": [
          [
           0.10647520997019778,
           0.019178082191780823,
           0.037037037037037035
          ],
          [
           0.21105826397146255,
           0.02564102564102564,
           0
          ],
          [
           0.3009845288326301,
           0,
           0
          ]
         ],
         "zmax": 1,
         "zmin": 0
        }
       ],
       "layout": {
        "annotations": [
         {
          "font": {
           "size": 16
          },
          "showarrow": false,
          "text": "AGE_ENCODE",
          "x": 0.022727272727272728,
          "xanchor": "center",
          "xref": "paper",
          "y": 1,
          "yanchor": "bottom",
          "yref": "paper"
         },
         {
          "font": {
           "size": 16
          },
          "showarrow": false,
          "text": "LENGTH_OF_RESIDENCE_ENCODE",
          "x": 0.1181818181818182,
          "xanchor": "center",
          "xref": "paper",
          "y": 1,
          "yanchor": "bottom",
          "yref": "paper"
         },
         {
          "font": {
           "size": 16
          },
          "showarrow": false,
          "text": "ESTIMATED_HOUSEHOLD_INCOME_ENCODE",
          "x": 0.21363636363636365,
          "xanchor": "center",
          "xref": "paper",
          "y": 1,
          "yanchor": "bottom",
          "yref": "paper"
         },
         {
          "font": {
           "size": 16
          },
          "showarrow": false,
          "text": "HOME_MKT_VAL_ENCODE",
          "x": 0.3090909090909091,
          "xanchor": "center",
          "xref": "paper",
          "y": 1,
          "yanchor": "bottom",
          "yref": "paper"
         },
         {
          "font": {
           "size": 16
          },
          "showarrow": false,
          "text": "NUMBER_OF_CHILDREN_ENCODE",
          "x": 0.40454545454545454,
          "xanchor": "center",
          "xref": "paper",
          "y": 1,
          "yanchor": "bottom",
          "yref": "paper"
         },
         {
          "font": {
           "size": 16
          },
          "showarrow": false,
          "text": "CHILD_PRESENT_ENCODE",
          "x": 0.5,
          "xanchor": "center",
          "xref": "paper",
          "y": 1,
          "yanchor": "bottom",
          "yref": "paper"
         },
         {
          "font": {
           "size": 16
          },
          "showarrow": false,
          "text": "CHILD_UNDER_6_PRESENT_ENCODE",
          "x": 0.5954545454545455,
          "xanchor": "center",
          "xref": "paper",
          "y": 1,
          "yanchor": "bottom",
          "yref": "paper"
         },
         {
          "font": {
           "size": 16
          },
          "showarrow": false,
          "text": "CHILD_6_10_PRESENT_ENCODE",
          "x": 0.6909090909090909,
          "xanchor": "center",
          "xref": "paper",
          "y": 1,
          "yanchor": "bottom",
          "yref": "paper"
         },
         {
          "font": {
           "size": 16
          },
          "showarrow": false,
          "text": "CHILD_11_15_PRESENT_ENCODE",
          "x": 0.7863636363636364,
          "xanchor": "center",
          "xref": "paper",
          "y": 1,
          "yanchor": "bottom",
          "yref": "paper"
         },
         {
          "font": {
           "size": 16
          },
          "showarrow": false,
          "text": "CHILD_16_17_PRESENT_ENCODE",
          "x": 0.8818181818181818,
          "xanchor": "center",
          "xref": "paper",
          "y": 1,
          "yanchor": "bottom",
          "yref": "paper"
         },
         {
          "font": {
           "size": 16
          },
          "showarrow": false,
          "text": "EDUCATION_LEVEL_ENCODE",
          "x": 0.9772727272727273,
          "xanchor": "center",
          "xref": "paper",
          "y": 1,
          "yanchor": "bottom",
          "yref": "paper"
         },
         {
          "font": {
           "size": 16
          },
          "showarrow": false,
          "text": "HOME_POOL_ENCODE",
          "x": 0.022727272727272728,
          "xanchor": "center",
          "xref": "paper",
          "y": 0.9045454545454545,
          "yanchor": "bottom",
          "yref": "paper"
         },
         {
          "font": {
           "size": 16
          },
          "showarrow": false,
          "text": "SENIOR_ADULT_IN_HH_ENCODE",
          "x": 0.1181818181818182,
          "xanchor": "center",
          "xref": "paper",
          "y": 0.9045454545454545,
          "yanchor": "bottom",
          "yref": "paper"
         },
         {
          "font": {
           "size": 16
          },
          "showarrow": false,
          "text": "SINGLE_PARENT_ENCODE",
          "x": 0.21363636363636365,
          "xanchor": "center",
          "xref": "paper",
          "y": 0.9045454545454545,
          "yanchor": "bottom",
          "yref": "paper"
         },
         {
          "font": {
           "size": 16
          },
          "showarrow": false,
          "text": "SPANISH_SPEAKING_ENCODE",
          "x": 0.3090909090909091,
          "xanchor": "center",
          "xref": "paper",
          "y": 0.9045454545454545,
          "yanchor": "bottom",
          "yref": "paper"
         },
         {
          "font": {
           "size": 16
          },
          "showarrow": false,
          "text": "USES_CREDIT_CARD_ENCODE",
          "x": 0.40454545454545454,
          "xanchor": "center",
          "xref": "paper",
          "y": 0.9045454545454545,
          "yanchor": "bottom",
          "yref": "paper"
         },
         {
          "font": {
           "size": 16
          },
          "showarrow": false,
          "text": "HOME_OFFICE_ENCODE",
          "x": 0.5,
          "xanchor": "center",
          "xref": "paper",
          "y": 0.9045454545454545,
          "yanchor": "bottom",
          "yref": "paper"
         },
         {
          "font": {
           "size": 16
          },
          "showarrow": false,
          "text": "CATALOG_PURCHASER_INTEREST_ENCODE",
          "x": 0.5954545454545455,
          "xanchor": "center",
          "xref": "paper",
          "y": 0.9045454545454545,
          "yanchor": "bottom",
          "yref": "paper"
         },
         {
          "font": {
           "size": 16
          },
          "showarrow": false,
          "text": "AVIATION_INTEREST_ENCODE",
          "x": 0.6909090909090909,
          "xanchor": "center",
          "xref": "paper",
          "y": 0.9045454545454545,
          "yanchor": "bottom",
          "yref": "paper"
         },
         {
          "font": {
           "size": 16
          },
          "showarrow": false,
          "text": "HIGH_TECH_INTEREST_ENCODE",
          "x": 0.7863636363636364,
          "xanchor": "center",
          "xref": "paper",
          "y": 0.9045454545454545,
          "yanchor": "bottom",
          "yref": "paper"
         },
         {
          "font": {
           "size": 16
          },
          "showarrow": false,
          "text": "HOME_LIVING_INTEREST_ENCODE",
          "x": 0.8818181818181818,
          "xanchor": "center",
          "xref": "paper",
          "y": 0.9045454545454545,
          "yanchor": "bottom",
          "yref": "paper"
         },
         {
          "font": {
           "size": 16
          },
          "showarrow": false,
          "text": "SAILING_INTEREST_ENCODE",
          "x": 0.9772727272727273,
          "xanchor": "center",
          "xref": "paper",
          "y": 0.9045454545454545,
          "yanchor": "bottom",
          "yref": "paper"
         },
         {
          "font": {
           "size": 16
          },
          "showarrow": false,
          "text": "BEAUTY_INTEREST_ENCODE",
          "x": 0.022727272727272728,
          "xanchor": "center",
          "xref": "paper",
          "y": 0.8090909090909091,
          "yanchor": "bottom",
          "yref": "paper"
         },
         {
          "font": {
           "size": 16
          },
          "showarrow": false,
          "text": "MENS_FASHION_INTEREST_ENCODE",
          "x": 0.1181818181818182,
          "xanchor": "center",
          "xref": "paper",
          "y": 0.8090909090909091,
          "yanchor": "bottom",
          "yref": "paper"
         },
         {
          "font": {
           "size": 16
          },
          "showarrow": false,
          "text": "WOMENS_FASHION_INTEREST_ENCODE",
          "x": 0.21363636363636365,
          "xanchor": "center",
          "xref": "paper",
          "y": 0.8090909090909091,
          "yanchor": "bottom",
          "yref": "paper"
         },
         {
          "font": {
           "size": 16
          },
          "showarrow": false,
          "text": "CHILDRENS_FASHION_INTEREST_ENCODE",
          "x": 0.3090909090909091,
          "xanchor": "center",
          "xref": "paper",
          "y": 0.8090909090909091,
          "yanchor": "bottom",
          "yref": "paper"
         },
         {
          "font": {
           "size": 16
          },
          "showarrow": false,
          "text": "JEWELERY_AND_FASHION_ACCESSORIES_INTEREST_ENCODE",
          "x": 0.40454545454545454,
          "xanchor": "center",
          "xref": "paper",
          "y": 0.8090909090909091,
          "yanchor": "bottom",
          "yref": "paper"
         },
         {
          "font": {
           "size": 16
          },
          "showarrow": false,
          "text": "CHARITY_DONOR_INTEREST_ENCODE",
          "x": 0.5,
          "xanchor": "center",
          "xref": "paper",
          "y": 0.8090909090909091,
          "yanchor": "bottom",
          "yref": "paper"
         },
         {
          "font": {
           "size": 16
          },
          "showarrow": false,
          "text": "COLLECTOR_INTEREST_ENCODE",
          "x": 0.5954545454545455,
          "xanchor": "center",
          "xref": "paper",
          "y": 0.8090909090909091,
          "yanchor": "bottom",
          "yref": "paper"
         },
         {
          "font": {
           "size": 16
          },
          "showarrow": false,
          "text": "COMPUTER_USER_INTEREST_ENCODE",
          "x": 0.6909090909090909,
          "xanchor": "center",
          "xref": "paper",
          "y": 0.8090909090909091,
          "yanchor": "bottom",
          "yref": "paper"
         },
         {
          "font": {
           "size": 16
          },
          "showarrow": false,
          "text": "BOARD_GAME_LOVER_INTEREST_ENCODE",
          "x": 0.7863636363636364,
          "xanchor": "center",
          "xref": "paper",
          "y": 0.8090909090909091,
          "yanchor": "bottom",
          "yref": "paper"
         },
         {
          "font": {
           "size": 16
          },
          "showarrow": false,
          "text": "VIDEO_GAME_LOVER_INTEREST_ENCODE",
          "x": 0.8818181818181818,
          "xanchor": "center",
          "xref": "paper",
          "y": 0.8090909090909091,
          "yanchor": "bottom",
          "yref": "paper"
         },
         {
          "font": {
           "size": 16
          },
          "showarrow": false,
          "text": "HOME_COOK_INTEREST_ENCODE",
          "x": 0.9772727272727273,
          "xanchor": "center",
          "xref": "paper",
          "y": 0.8090909090909091,
          "yanchor": "bottom",
          "yref": "paper"
         },
         {
          "font": {
           "size": 16
          },
          "showarrow": false,
          "text": "DIYER_INTEREST_ENCODE",
          "x": 0.022727272727272728,
          "xanchor": "center",
          "xref": "paper",
          "y": 0.7136363636363636,
          "yanchor": "bottom",
          "yref": "paper"
         },
         {
          "font": {
           "size": 16
          },
          "showarrow": false,
          "text": "GARDENER_INTEREST_ENCODE",
          "x": 0.1181818181818182,
          "xanchor": "center",
          "xref": "paper",
          "y": 0.7136363636363636,
          "yanchor": "bottom",
          "yref": "paper"
         },
         {
          "font": {
           "size": 16
          },
          "showarrow": false,
          "text": "GIFT_GIVER_INTEREST_ENCODE",
          "x": 0.21363636363636365,
          "xanchor": "center",
          "xref": "paper",
          "y": 0.7136363636363636,
          "yanchor": "bottom",
          "yref": "paper"
         },
         {
          "font": {
           "size": 16
          },
          "showarrow": false,
          "text": "DIET_AND_WEIGHT_LOSS_INTEREST_ENCODE",
          "x": 0.3090909090909091,
          "xanchor": "center",
          "xref": "paper",
          "y": 0.7136363636363636,
          "yanchor": "bottom",
          "yref": "paper"
         },
         {
          "font": {
           "size": 16
          },
          "showarrow": false,
          "text": "HISTORY_LOVER_INTEREST_ENCODE",
          "x": 0.40454545454545454,
          "xanchor": "center",
          "xref": "paper",
          "y": 0.7136363636363636,
          "yanchor": "bottom",
          "yref": "paper"
         },
         {
          "font": {
           "size": 16
          },
          "showarrow": false,
          "text": "EQUESTRIAN_LOVER_INTEREST_ENCODE",
          "x": 0.5,
          "xanchor": "center",
          "xref": "paper",
          "y": 0.7136363636363636,
          "yanchor": "bottom",
          "yref": "paper"
         },
         {
          "font": {
           "size": 16
          },
          "showarrow": false,
          "text": "MUSIC_LOVER_INTEREST_ENCODE",
          "x": 0.5954545454545455,
          "xanchor": "center",
          "xref": "paper",
          "y": 0.7136363636363636,
          "yanchor": "bottom",
          "yref": "paper"
         },
         {
          "font": {
           "size": 16
          },
          "showarrow": false,
          "text": "MOVIE_LOVER_INTEREST_ENCODE",
          "x": 0.6909090909090909,
          "xanchor": "center",
          "xref": "paper",
          "y": 0.7136363636363636,
          "yanchor": "bottom",
          "yref": "paper"
         },
         {
          "font": {
           "size": 16
          },
          "showarrow": false,
          "text": "OUTDOORSMAN_INTEREST_ENCODE",
          "x": 0.7863636363636364,
          "xanchor": "center",
          "xref": "paper",
          "y": 0.7136363636363636,
          "yanchor": "bottom",
          "yref": "paper"
         },
         {
          "font": {
           "size": 16
          },
          "showarrow": false,
          "text": "CAMPING_AND_HIKING_INTEREST_ENCODE",
          "x": 0.8818181818181818,
          "xanchor": "center",
          "xref": "paper",
          "y": 0.7136363636363636,
          "yanchor": "bottom",
          "yref": "paper"
         },
         {
          "font": {
           "size": 16
          },
          "showarrow": false,
          "text": "HUNTING_AND_FISHING_INTEREST_ENCODE",
          "x": 0.9772727272727273,
          "xanchor": "center",
          "xref": "paper",
          "y": 0.7136363636363636,
          "yanchor": "bottom",
          "yref": "paper"
         },
         {
          "font": {
           "size": 16
          },
          "showarrow": false,
          "text": "ENVIRONMENT_AND_WILDLIFE_INTEREST_ENCODE",
          "x": 0.022727272727272728,
          "xanchor": "center",
          "xref": "paper",
          "y": 0.6181818181818182,
          "yanchor": "bottom",
          "yref": "paper"
         },
         {
          "font": {
           "size": 16
          },
          "showarrow": false,
          "text": "CYCLING_INTEREST_ENCODE",
          "x": 0.1181818181818182,
          "xanchor": "center",
          "xref": "paper",
          "y": 0.6181818181818182,
          "yanchor": "bottom",
          "yref": "paper"
         },
         {
          "font": {
           "size": 16
          },
          "showarrow": false,
          "text": "HEALTHY_LIVING_INTEREST_ENCODE",
          "x": 0.21363636363636365,
          "xanchor": "center",
          "xref": "paper",
          "y": 0.6181818181818182,
          "yanchor": "bottom",
          "yref": "paper"
         },
         {
          "font": {
           "size": 16
          },
          "showarrow": false,
          "text": "PET_OWNER_INTEREST_ENCODE",
          "x": 0.3090909090909091,
          "xanchor": "center",
          "xref": "paper",
          "y": 0.6181818181818182,
          "yanchor": "bottom",
          "yref": "paper"
         },
         {
          "font": {
           "size": 16
          },
          "showarrow": false,
          "text": "CAT_OWNER_INTEREST_ENCODE",
          "x": 0.40454545454545454,
          "xanchor": "center",
          "xref": "paper",
          "y": 0.6181818181818182,
          "yanchor": "bottom",
          "yref": "paper"
         },
         {
          "font": {
           "size": 16
          },
          "showarrow": false,
          "text": "DOG_OWNER_INTEREST_ENCODE",
          "x": 0.5,
          "xanchor": "center",
          "xref": "paper",
          "y": 0.6181818181818182,
          "yanchor": "bottom",
          "yref": "paper"
         },
         {
          "font": {
           "size": 16
          },
          "showarrow": false,
          "text": "PHOTOGRAPHER_INTEREST_ENCODE",
          "x": 0.5954545454545455,
          "xanchor": "center",
          "xref": "paper",
          "y": 0.6181818181818182,
          "yanchor": "bottom",
          "yref": "paper"
         },
         {
          "font": {
           "size": 16
          },
          "showarrow": false,
          "text": "SEWING_KNITTING_INTEREST_ENCODE",
          "x": 0.6909090909090909,
          "xanchor": "center",
          "xref": "paper",
          "y": 0.6181818181818182,
          "yanchor": "bottom",
          "yref": "paper"
         },
         {
          "font": {
           "size": 16
          },
          "showarrow": false,
          "text": "CRAFTS_INTEREST_ENCODE",
          "x": 0.7863636363636364,
          "xanchor": "center",
          "xref": "paper",
          "y": 0.6181818181818182,
          "yanchor": "bottom",
          "yref": "paper"
         },
         {
          "font": {
           "size": 16
          },
          "showarrow": false,
          "text": "CULTURE_AND_ARTS_INTEREST_ENCODE",
          "x": 0.8818181818181818,
          "xanchor": "center",
          "xref": "paper",
          "y": 0.6181818181818182,
          "yanchor": "bottom",
          "yref": "paper"
         },
         {
          "font": {
           "size": 16
          },
          "showarrow": false,
          "text": "SPORTS_LOVER_INTEREST_ENCODE",
          "x": 0.9772727272727273,
          "xanchor": "center",
          "xref": "paper",
          "y": 0.6181818181818182,
          "yanchor": "bottom",
          "yref": "paper"
         },
         {
          "font": {
           "size": 16
          },
          "showarrow": false,
          "text": "BASEBALL_LOVER_INTEREST_ENCODE",
          "x": 0.022727272727272728,
          "xanchor": "center",
          "xref": "paper",
          "y": 0.5227272727272727,
          "yanchor": "bottom",
          "yref": "paper"
         },
         {
          "font": {
           "size": 16
          },
          "showarrow": false,
          "text": "BASKETBALL_LOVER_INTEREST_ENCODE",
          "x": 0.1181818181818182,
          "xanchor": "center",
          "xref": "paper",
          "y": 0.5227272727272727,
          "yanchor": "bottom",
          "yref": "paper"
         },
         {
          "font": {
           "size": 16
          },
          "showarrow": false,
          "text": "AMERICAN_FOOTBALL_LOVER_INTEREST_ENCODE",
          "x": 0.21363636363636365,
          "xanchor": "center",
          "xref": "paper",
          "y": 0.5227272727272727,
          "yanchor": "bottom",
          "yref": "paper"
         },
         {
          "font": {
           "size": 16
          },
          "showarrow": false,
          "text": "GOLF_LOVER_INTEREST_ENCODE",
          "x": 0.3090909090909091,
          "xanchor": "center",
          "xref": "paper",
          "y": 0.5227272727272727,
          "yanchor": "bottom",
          "yref": "paper"
         },
         {
          "font": {
           "size": 16
          },
          "showarrow": false,
          "text": "HOCKEY_LOVER_INTEREST_ENCODE",
          "x": 0.40454545454545454,
          "xanchor": "center",
          "xref": "paper",
          "y": 0.5227272727272727,
          "yanchor": "bottom",
          "yref": "paper"
         },
         {
          "font": {
           "size": 16
          },
          "showarrow": false,
          "text": "SKIING_LOVER_INTEREST_ENCODE",
          "x": 0.5,
          "xanchor": "center",
          "xref": "paper",
          "y": 0.5227272727272727,
          "yanchor": "bottom",
          "yref": "paper"
         },
         {
          "font": {
           "size": 16
          },
          "showarrow": false,
          "text": "SOCCER_LOVER_INTEREST_ENCODE",
          "x": 0.5954545454545455,
          "xanchor": "center",
          "xref": "paper",
          "y": 0.5227272727272727,
          "yanchor": "bottom",
          "yref": "paper"
         },
         {
          "font": {
           "size": 16
          },
          "showarrow": false,
          "text": "TENNIS_LOVER_INTEREST_ENCODE",
          "x": 0.6909090909090909,
          "xanchor": "center",
          "xref": "paper",
          "y": 0.5227272727272727,
          "yanchor": "bottom",
          "yref": "paper"
         },
         {
          "font": {
           "size": 16
          },
          "showarrow": false,
          "text": "TRAVELER_INTEREST_ENCODE",
          "x": 0.7863636363636364,
          "xanchor": "center",
          "xref": "paper",
          "y": 0.5227272727272727,
          "yanchor": "bottom",
          "yref": "paper"
         },
         {
          "font": {
           "size": 16
          },
          "showarrow": false,
          "text": "US_EXPLORER_INTEREST_ENCODE",
          "x": 0.8818181818181818,
          "xanchor": "center",
          "xref": "paper",
          "y": 0.5227272727272727,
          "yanchor": "bottom",
          "yref": "paper"
         },
         {
          "font": {
           "size": 16
          },
          "showarrow": false,
          "text": "CRUISE_LOVER_INTEREST_ENCODE",
          "x": 0.9772727272727273,
          "xanchor": "center",
          "xref": "paper",
          "y": 0.5227272727272727,
          "yanchor": "bottom",
          "yref": "paper"
         },
         {
          "font": {
           "size": 16
          },
          "showarrow": false,
          "text": "MOTORCYCLE_RIDER_INTEREST_ENCODE",
          "x": 0.022727272727272728,
          "xanchor": "center",
          "xref": "paper",
          "y": 0.4272727272727273,
          "yanchor": "bottom",
          "yref": "paper"
         },
         {
          "font": {
           "size": 16
          },
          "showarrow": false,
          "text": "RV_OWNER_INTEREST_ENCODE",
          "x": 0.1181818181818182,
          "xanchor": "center",
          "xref": "paper",
          "y": 0.4272727272727273,
          "yanchor": "bottom",
          "yref": "paper"
         },
         {
          "font": {
           "size": 16
          },
          "showarrow": false,
          "text": "TRUCK_OWNER_INTEREST_ENCODE",
          "x": 0.21363636363636365,
          "xanchor": "center",
          "xref": "paper",
          "y": 0.4272727272727273,
          "yanchor": "bottom",
          "yref": "paper"
         },
         {
          "font": {
           "size": 16
          },
          "showarrow": false,
          "text": "NEWS_LOVER_INTEREST_ENCODE",
          "x": 0.3090909090909091,
          "xanchor": "center",
          "xref": "paper",
          "y": 0.4272727272727273,
          "yanchor": "bottom",
          "yref": "paper"
         },
         {
          "font": {
           "size": 16
          },
          "showarrow": false,
          "text": "\"EDUCATION_LEVEL_onehot_VOCATIONAL/TECHNICAL SCHOOL\"",
          "x": 0.40454545454545454,
          "xanchor": "center",
          "xref": "paper",
          "y": 0.4272727272727273,
          "yanchor": "bottom",
          "yref": "paper"
         },
         {
          "font": {
           "size": 16
          },
          "showarrow": false,
          "text": "EDUCATION_LEVEL_ONEHOT_UNKNOWN",
          "x": 0.5,
          "xanchor": "center",
          "xref": "paper",
          "y": 0.4272727272727273,
          "yanchor": "bottom",
          "yref": "paper"
         },
         {
          "font": {
           "size": 16
          },
          "showarrow": false,
          "text": "\"EDUCATION_LEVEL_onehot_HIGH SCHOOL\"",
          "x": 0.5954545454545455,
          "xanchor": "center",
          "xref": "paper",
          "y": 0.4272727272727273,
          "yanchor": "bottom",
          "yref": "paper"
         },
         {
          "font": {
           "size": 16
          },
          "showarrow": false,
          "text": "\"EDUCATION_LEVEL_onehot_GRADUATE SCHOOL\"",
          "x": 0.6909090909090909,
          "xanchor": "center",
          "xref": "paper",
          "y": 0.4272727272727273,
          "yanchor": "bottom",
          "yref": "paper"
         },
         {
          "font": {
           "size": 16
          },
          "showarrow": false,
          "text": "EDUCATION_LEVEL_ONEHOT_COLLEGE",
          "x": 0.7863636363636364,
          "xanchor": "center",
          "xref": "paper",
          "y": 0.4272727272727273,
          "yanchor": "bottom",
          "yref": "paper"
         },
         {
          "font": {
           "size": 16
          },
          "showarrow": false,
          "text": "HOUSEHOLD_COMPOSITION_ONEHOT_UNKNOWN",
          "x": 0.8818181818181818,
          "xanchor": "center",
          "xref": "paper",
          "y": 0.4272727272727273,
          "yanchor": "bottom",
          "yref": "paper"
         },
         {
          "font": {
           "size": 16
          },
          "showarrow": false,
          "text": "HOUSEHOLD_COMPOSITION_ONEHOT_INDIVIDUAL",
          "x": 0.9772727272727273,
          "xanchor": "center",
          "xref": "paper",
          "y": 0.4272727272727273,
          "yanchor": "bottom",
          "yref": "paper"
         },
         {
          "font": {
           "size": 16
          },
          "showarrow": false,
          "text": "HOUSEHOLD_COMPOSITION_ONEHOT_COUPLE",
          "x": 0.022727272727272728,
          "xanchor": "center",
          "xref": "paper",
          "y": 0.33181818181818185,
          "yanchor": "bottom",
          "yref": "paper"
         },
         {
          "font": {
           "size": 16
          },
          "showarrow": false,
          "text": "\"HOUSEHOLD_COMPOSITION_onehot_SINGLE PARENT\"",
          "x": 0.1181818181818182,
          "xanchor": "center",
          "xref": "paper",
          "y": 0.33181818181818185,
          "yanchor": "bottom",
          "yref": "paper"
         },
         {
          "font": {
           "size": 16
          },
          "showarrow": false,
          "text": "HOUSEHOLD_COMPOSITION_ONEHOT_FAMILY",
          "x": 0.21363636363636365,
          "xanchor": "center",
          "xref": "paper",
          "y": 0.33181818181818185,
          "yanchor": "bottom",
          "yref": "paper"
         },
         {
          "font": {
           "size": 16
          },
          "showarrow": false,
          "text": "OCCUPATION_ONEHOT_UNKNOWN",
          "x": 0.3090909090909091,
          "xanchor": "center",
          "xref": "paper",
          "y": 0.33181818181818185,
          "yanchor": "bottom",
          "yref": "paper"
         },
         {
          "font": {
           "size": 16
          },
          "showarrow": false,
          "text": "\"OCCUPATION_onehot_ADMIN/MGMT\"",
          "x": 0.40454545454545454,
          "xanchor": "center",
          "xref": "paper",
          "y": 0.33181818181818185,
          "yanchor": "bottom",
          "yref": "paper"
         },
         {
          "font": {
           "size": 16
          },
          "showarrow": false,
          "text": "OCCUPATION_ONEHOT_CLERICAL",
          "x": 0.5,
          "xanchor": "center",
          "xref": "paper",
          "y": 0.33181818181818185,
          "yanchor": "bottom",
          "yref": "paper"
         },
         {
          "font": {
           "size": 16
          },
          "showarrow": false,
          "text": "\"OCCUPATION_onehot_DOCTOR/MEDICAL\"",
          "x": 0.5954545454545455,
          "xanchor": "center",
          "xref": "paper",
          "y": 0.33181818181818185,
          "yanchor": "bottom",
          "yref": "paper"
         },
         {
          "font": {
           "size": 16
          },
          "showarrow": false,
          "text": "OCCUPATION_ONEHOT_FINANCE",
          "x": 0.6909090909090909,
          "xanchor": "center",
          "xref": "paper",
          "y": 0.33181818181818185,
          "yanchor": "bottom",
          "yref": "paper"
         },
         {
          "font": {
           "size": 16
          },
          "showarrow": false,
          "text": "OCCUPATION_ONEHOT_HOMEMAKER",
          "x": 0.7863636363636364,
          "xanchor": "center",
          "xref": "paper",
          "y": 0.33181818181818185,
          "yanchor": "bottom",
          "yref": "paper"
         },
         {
          "font": {
           "size": 16
          },
          "showarrow": false,
          "text": "\"OCCUPATION_onehot_SELF-EMPLOYED\"",
          "x": 0.8818181818181818,
          "xanchor": "center",
          "xref": "paper",
          "y": 0.33181818181818185,
          "yanchor": "bottom",
          "yref": "paper"
         },
         {
          "font": {
           "size": 16
          },
          "showarrow": false,
          "text": "OCCUPATION_ONEHOT_UNSKILLED",
          "x": 0.9772727272727273,
          "xanchor": "center",
          "xref": "paper",
          "y": 0.33181818181818185,
          "yanchor": "bottom",
          "yref": "paper"
         },
         {
          "font": {
           "size": 16
          },
          "showarrow": false,
          "text": "\"OCCUPATION_onehot_OTHER PROFESSIONAL/TECHNICAL\"",
          "x": 0.022727272727272728,
          "xanchor": "center",
          "xref": "paper",
          "y": 0.2363636363636364,
          "yanchor": "bottom",
          "yref": "paper"
         },
         {
          "font": {
           "size": 16
          },
          "showarrow": false,
          "text": "\"OCCUPATION_onehot_BLUE COLLAR\"",
          "x": 0.1181818181818182,
          "xanchor": "center",
          "xref": "paper",
          "y": 0.2363636363636364,
          "yanchor": "bottom",
          "yref": "paper"
         },
         {
          "font": {
           "size": 16
          },
          "showarrow": false,
          "text": "\"OCCUPATION_onehot_SALES/SERVICE\"",
          "x": 0.21363636363636365,
          "xanchor": "center",
          "xref": "paper",
          "y": 0.2363636363636364,
          "yanchor": "bottom",
          "yref": "paper"
         },
         {
          "font": {
           "size": 16
          },
          "showarrow": false,
          "text": "OCCUPATION_ONEHOT_RETIRED",
          "x": 0.3090909090909091,
          "xanchor": "center",
          "xref": "paper",
          "y": 0.2363636363636364,
          "yanchor": "bottom",
          "yref": "paper"
         },
         {
          "font": {
           "size": 16
          },
          "showarrow": false,
          "text": "OCCUPATION_ONEHOT_TEACHER",
          "x": 0.40454545454545454,
          "xanchor": "center",
          "xref": "paper",
          "y": 0.2363636363636364,
          "yanchor": "bottom",
          "yref": "paper"
         },
         {
          "font": {
           "size": 16
          },
          "showarrow": false,
          "text": "\"OCCUPATION_onehot_FARMER/AGRICULTURE\"",
          "x": 0.5,
          "xanchor": "center",
          "xref": "paper",
          "y": 0.2363636363636364,
          "yanchor": "bottom",
          "yref": "paper"
         },
         {
          "font": {
           "size": 16
          },
          "showarrow": false,
          "text": "OCCUPATION_ONEHOT_LEGAL",
          "x": 0.5954545454545455,
          "xanchor": "center",
          "xref": "paper",
          "y": 0.2363636363636364,
          "yanchor": "bottom",
          "yref": "paper"
         },
         {
          "font": {
           "size": 16
          },
          "showarrow": false,
          "text": "\"OCCUPATION_onehot_GOVERNMENT/MILITARY\"",
          "x": 0.6909090909090909,
          "xanchor": "center",
          "xref": "paper",
          "y": 0.2363636363636364,
          "yanchor": "bottom",
          "yref": "paper"
         },
         {
          "font": {
           "size": 16
          },
          "showarrow": false,
          "text": "OCCUPATION_ONEHOT_RELIGIOUS",
          "x": 0.7863636363636364,
          "xanchor": "center",
          "xref": "paper",
          "y": 0.2363636363636364,
          "yanchor": "bottom",
          "yref": "paper"
         },
         {
          "font": {
           "size": 16
          },
          "showarrow": false,
          "text": "OCCUPATION_ONEHOT_STUDENT",
          "x": 0.8818181818181818,
          "xanchor": "center",
          "xref": "paper",
          "y": 0.2363636363636364,
          "yanchor": "bottom",
          "yref": "paper"
         },
         {
          "font": {
           "size": 16
          },
          "showarrow": false,
          "text": "OCCUPATION_ONEHOT_UNEMPLOYED",
          "x": 0.9772727272727273,
          "xanchor": "center",
          "xref": "paper",
          "y": 0.2363636363636364,
          "yanchor": "bottom",
          "yref": "paper"
         },
         {
          "font": {
           "size": 16
          },
          "showarrow": false,
          "text": "DWELLING_TYPE_ONEHOT_SINGLE_FAMILY",
          "x": 0.022727272727272728,
          "xanchor": "center",
          "xref": "paper",
          "y": 0.14090909090909093,
          "yanchor": "bottom",
          "yref": "paper"
         },
         {
          "font": {
           "size": 16
          },
          "showarrow": false,
          "text": "DWELLING_TYPE_ONEHOT_MULTI_FAMILY",
          "x": 0.1181818181818182,
          "xanchor": "center",
          "xref": "paper",
          "y": 0.14090909090909093,
          "yanchor": "bottom",
          "yref": "paper"
         },
         {
          "font": {
           "size": 16
          },
          "showarrow": false,
          "text": "DWELLING_TYPE_ONEHOT_UNKNOWN",
          "x": 0.21363636363636365,
          "xanchor": "center",
          "xref": "paper",
          "y": 0.14090909090909093,
          "yanchor": "bottom",
          "yref": "paper"
         },
         {
          "font": {
           "size": 16
          },
          "showarrow": false,
          "text": "DWELLING_TYPE_ONEHOT_MOBILE_HOME",
          "x": 0.3090909090909091,
          "xanchor": "center",
          "xref": "paper",
          "y": 0.14090909090909093,
          "yanchor": "bottom",
          "yref": "paper"
         },
         {
          "font": {
           "size": 16
          },
          "showarrow": false,
          "text": "HOME_OWNERSHIP_ONEHOT_HOMEOWNER",
          "x": 0.40454545454545454,
          "xanchor": "center",
          "xref": "paper",
          "y": 0.14090909090909093,
          "yanchor": "bottom",
          "yref": "paper"
         },
         {
          "font": {
           "size": 16
          },
          "showarrow": false,
          "text": "HOME_OWNERSHIP_ONEHOT_UNKNOWN",
          "x": 0.5,
          "xanchor": "center",
          "xref": "paper",
          "y": 0.14090909090909093,
          "yanchor": "bottom",
          "yref": "paper"
         },
         {
          "font": {
           "size": 16
          },
          "showarrow": false,
          "text": "HOME_OWNERSHIP_ONEHOT_RENTER",
          "x": 0.5954545454545455,
          "xanchor": "center",
          "xref": "paper",
          "y": 0.14090909090909093,
          "yanchor": "bottom",
          "yref": "paper"
         },
         {
          "font": {
           "size": 16
          },
          "showarrow": false,
          "text": "MARITAL_STATUS_ONEHOT_SINGLE",
          "x": 0.6909090909090909,
          "xanchor": "center",
          "xref": "paper",
          "y": 0.14090909090909093,
          "yanchor": "bottom",
          "yref": "paper"
         },
         {
          "font": {
           "size": 16
          },
          "showarrow": false,
          "text": "MARITAL_STATUS_ONEHOT_MARRIED",
          "x": 0.7863636363636364,
          "xanchor": "center",
          "xref": "paper",
          "y": 0.14090909090909093,
          "yanchor": "bottom",
          "yref": "paper"
         },
         {
          "font": {
           "size": 16
          },
          "showarrow": false,
          "text": "MARITAL_STATUS_ONEHOT_UNKNOWN",
          "x": 0.8818181818181818,
          "xanchor": "center",
          "xref": "paper",
          "y": 0.14090909090909093,
          "yanchor": "bottom",
          "yref": "paper"
         }
        ],
        "coloraxis": {
         "cmax": 1,
         "cmin": 0
        },
        "colorscale": {
         "diverging": [
          [
           0,
           "#440154"
          ],
          [
           0.1111111111111111,
           "#482878"
          ],
          [
           0.2222222222222222,
           "#3e4989"
          ],
          [
           0.3333333333333333,
           "#31688e"
          ],
          [
           0.4444444444444444,
           "#26828e"
          ],
          [
           0.5555555555555556,
           "#1f9e89"
          ],
          [
           0.6666666666666666,
           "#35b779"
          ],
          [
           0.7777777777777778,
           "#6ece58"
          ],
          [
           0.8888888888888888,
           "#b5de2b"
          ],
          [
           1,
           "#fde725"
          ]
         ]
        },
        "height": 4000,
        "template": {
         "data": {
          "bar": [
           {
            "error_x": {
             "color": "#2a3f5f"
            },
            "error_y": {
             "color": "#2a3f5f"
            },
            "marker": {
             "line": {
              "color": "#E5ECF6",
              "width": 0.5
             },
             "pattern": {
              "fillmode": "overlay",
              "size": 10,
              "solidity": 0.2
             }
            },
            "type": "bar"
           }
          ],
          "barpolar": [
           {
            "marker": {
             "line": {
              "color": "#E5ECF6",
              "width": 0.5
             },
             "pattern": {
              "fillmode": "overlay",
              "size": 10,
              "solidity": 0.2
             }
            },
            "type": "barpolar"
           }
          ],
          "carpet": [
           {
            "aaxis": {
             "endlinecolor": "#2a3f5f",
             "gridcolor": "white",
             "linecolor": "white",
             "minorgridcolor": "white",
             "startlinecolor": "#2a3f5f"
            },
            "baxis": {
             "endlinecolor": "#2a3f5f",
             "gridcolor": "white",
             "linecolor": "white",
             "minorgridcolor": "white",
             "startlinecolor": "#2a3f5f"
            },
            "type": "carpet"
           }
          ],
          "choropleth": [
           {
            "colorbar": {
             "outlinewidth": 0,
             "ticks": ""
            },
            "type": "choropleth"
           }
          ],
          "contour": [
           {
            "colorbar": {
             "outlinewidth": 0,
             "ticks": ""
            },
            "colorscale": [
             [
              0,
              "#0d0887"
             ],
             [
              0.1111111111111111,
              "#46039f"
             ],
             [
              0.2222222222222222,
              "#7201a8"
             ],
             [
              0.3333333333333333,
              "#9c179e"
             ],
             [
              0.4444444444444444,
              "#bd3786"
             ],
             [
              0.5555555555555556,
              "#d8576b"
             ],
             [
              0.6666666666666666,
              "#ed7953"
             ],
             [
              0.7777777777777778,
              "#fb9f3a"
             ],
             [
              0.8888888888888888,
              "#fdca26"
             ],
             [
              1,
              "#f0f921"
             ]
            ],
            "type": "contour"
           }
          ],
          "contourcarpet": [
           {
            "colorbar": {
             "outlinewidth": 0,
             "ticks": ""
            },
            "type": "contourcarpet"
           }
          ],
          "heatmap": [
           {
            "colorbar": {
             "outlinewidth": 0,
             "ticks": ""
            },
            "colorscale": [
             [
              0,
              "#0d0887"
             ],
             [
              0.1111111111111111,
              "#46039f"
             ],
             [
              0.2222222222222222,
              "#7201a8"
             ],
             [
              0.3333333333333333,
              "#9c179e"
             ],
             [
              0.4444444444444444,
              "#bd3786"
             ],
             [
              0.5555555555555556,
              "#d8576b"
             ],
             [
              0.6666666666666666,
              "#ed7953"
             ],
             [
              0.7777777777777778,
              "#fb9f3a"
             ],
             [
              0.8888888888888888,
              "#fdca26"
             ],
             [
              1,
              "#f0f921"
             ]
            ],
            "type": "heatmap"
           }
          ],
          "heatmapgl": [
           {
            "colorbar": {
             "outlinewidth": 0,
             "ticks": ""
            },
            "colorscale": [
             [
              0,
              "#0d0887"
             ],
             [
              0.1111111111111111,
              "#46039f"
             ],
             [
              0.2222222222222222,
              "#7201a8"
             ],
             [
              0.3333333333333333,
              "#9c179e"
             ],
             [
              0.4444444444444444,
              "#bd3786"
             ],
             [
              0.5555555555555556,
              "#d8576b"
             ],
             [
              0.6666666666666666,
              "#ed7953"
             ],
             [
              0.7777777777777778,
              "#fb9f3a"
             ],
             [
              0.8888888888888888,
              "#fdca26"
             ],
             [
              1,
              "#f0f921"
             ]
            ],
            "type": "heatmapgl"
           }
          ],
          "histogram": [
           {
            "marker": {
             "pattern": {
              "fillmode": "overlay",
              "size": 10,
              "solidity": 0.2
             }
            },
            "type": "histogram"
           }
          ],
          "histogram2d": [
           {
            "colorbar": {
             "outlinewidth": 0,
             "ticks": ""
            },
            "colorscale": [
             [
              0,
              "#0d0887"
             ],
             [
              0.1111111111111111,
              "#46039f"
             ],
             [
              0.2222222222222222,
              "#7201a8"
             ],
             [
              0.3333333333333333,
              "#9c179e"
             ],
             [
              0.4444444444444444,
              "#bd3786"
             ],
             [
              0.5555555555555556,
              "#d8576b"
             ],
             [
              0.6666666666666666,
              "#ed7953"
             ],
             [
              0.7777777777777778,
              "#fb9f3a"
             ],
             [
              0.8888888888888888,
              "#fdca26"
             ],
             [
              1,
              "#f0f921"
             ]
            ],
            "type": "histogram2d"
           }
          ],
          "histogram2dcontour": [
           {
            "colorbar": {
             "outlinewidth": 0,
             "ticks": ""
            },
            "colorscale": [
             [
              0,
              "#0d0887"
             ],
             [
              0.1111111111111111,
              "#46039f"
             ],
             [
              0.2222222222222222,
              "#7201a8"
             ],
             [
              0.3333333333333333,
              "#9c179e"
             ],
             [
              0.4444444444444444,
              "#bd3786"
             ],
             [
              0.5555555555555556,
              "#d8576b"
             ],
             [
              0.6666666666666666,
              "#ed7953"
             ],
             [
              0.7777777777777778,
              "#fb9f3a"
             ],
             [
              0.8888888888888888,
              "#fdca26"
             ],
             [
              1,
              "#f0f921"
             ]
            ],
            "type": "histogram2dcontour"
           }
          ],
          "mesh3d": [
           {
            "colorbar": {
             "outlinewidth": 0,
             "ticks": ""
            },
            "type": "mesh3d"
           }
          ],
          "parcoords": [
           {
            "line": {
             "colorbar": {
              "outlinewidth": 0,
              "ticks": ""
             }
            },
            "type": "parcoords"
           }
          ],
          "pie": [
           {
            "automargin": true,
            "type": "pie"
           }
          ],
          "scatter": [
           {
            "fillpattern": {
             "fillmode": "overlay",
             "size": 10,
             "solidity": 0.2
            },
            "type": "scatter"
           }
          ],
          "scatter3d": [
           {
            "line": {
             "colorbar": {
              "outlinewidth": 0,
              "ticks": ""
             }
            },
            "marker": {
             "colorbar": {
              "outlinewidth": 0,
              "ticks": ""
             }
            },
            "type": "scatter3d"
           }
          ],
          "scattercarpet": [
           {
            "marker": {
             "colorbar": {
              "outlinewidth": 0,
              "ticks": ""
             }
            },
            "type": "scattercarpet"
           }
          ],
          "scattergeo": [
           {
            "marker": {
             "colorbar": {
              "outlinewidth": 0,
              "ticks": ""
             }
            },
            "type": "scattergeo"
           }
          ],
          "scattergl": [
           {
            "marker": {
             "colorbar": {
              "outlinewidth": 0,
              "ticks": ""
             }
            },
            "type": "scattergl"
           }
          ],
          "scattermapbox": [
           {
            "marker": {
             "colorbar": {
              "outlinewidth": 0,
              "ticks": ""
             }
            },
            "type": "scattermapbox"
           }
          ],
          "scatterpolar": [
           {
            "marker": {
             "colorbar": {
              "outlinewidth": 0,
              "ticks": ""
             }
            },
            "type": "scatterpolar"
           }
          ],
          "scatterpolargl": [
           {
            "marker": {
             "colorbar": {
              "outlinewidth": 0,
              "ticks": ""
             }
            },
            "type": "scatterpolargl"
           }
          ],
          "scatterternary": [
           {
            "marker": {
             "colorbar": {
              "outlinewidth": 0,
              "ticks": ""
             }
            },
            "type": "scatterternary"
           }
          ],
          "surface": [
           {
            "colorbar": {
             "outlinewidth": 0,
             "ticks": ""
            },
            "colorscale": [
             [
              0,
              "#0d0887"
             ],
             [
              0.1111111111111111,
              "#46039f"
             ],
             [
              0.2222222222222222,
              "#7201a8"
             ],
             [
              0.3333333333333333,
              "#9c179e"
             ],
             [
              0.4444444444444444,
              "#bd3786"
             ],
             [
              0.5555555555555556,
              "#d8576b"
             ],
             [
              0.6666666666666666,
              "#ed7953"
             ],
             [
              0.7777777777777778,
              "#fb9f3a"
             ],
             [
              0.8888888888888888,
              "#fdca26"
             ],
             [
              1,
              "#f0f921"
             ]
            ],
            "type": "surface"
           }
          ],
          "table": [
           {
            "cells": {
             "fill": {
              "color": "#EBF0F8"
             },
             "line": {
              "color": "white"
             }
            },
            "header": {
             "fill": {
              "color": "#C8D4E3"
             },
             "line": {
              "color": "white"
             }
            },
            "type": "table"
           }
          ]
         },
         "layout": {
          "annotationdefaults": {
           "arrowcolor": "#2a3f5f",
           "arrowhead": 0,
           "arrowwidth": 1
          },
          "autotypenumbers": "strict",
          "coloraxis": {
           "colorbar": {
            "outlinewidth": 0,
            "ticks": ""
           }
          },
          "colorscale": {
           "diverging": [
            [
             0,
             "#8e0152"
            ],
            [
             0.1,
             "#c51b7d"
            ],
            [
             0.2,
             "#de77ae"
            ],
            [
             0.3,
             "#f1b6da"
            ],
            [
             0.4,
             "#fde0ef"
            ],
            [
             0.5,
             "#f7f7f7"
            ],
            [
             0.6,
             "#e6f5d0"
            ],
            [
             0.7,
             "#b8e186"
            ],
            [
             0.8,
             "#7fbc41"
            ],
            [
             0.9,
             "#4d9221"
            ],
            [
             1,
             "#276419"
            ]
           ],
           "sequential": [
            [
             0,
             "#0d0887"
            ],
            [
             0.1111111111111111,
             "#46039f"
            ],
            [
             0.2222222222222222,
             "#7201a8"
            ],
            [
             0.3333333333333333,
             "#9c179e"
            ],
            [
             0.4444444444444444,
             "#bd3786"
            ],
            [
             0.5555555555555556,
             "#d8576b"
            ],
            [
             0.6666666666666666,
             "#ed7953"
            ],
            [
             0.7777777777777778,
             "#fb9f3a"
            ],
            [
             0.8888888888888888,
             "#fdca26"
            ],
            [
             1,
             "#f0f921"
            ]
           ],
           "sequentialminus": [
            [
             0,
             "#0d0887"
            ],
            [
             0.1111111111111111,
             "#46039f"
            ],
            [
             0.2222222222222222,
             "#7201a8"
            ],
            [
             0.3333333333333333,
             "#9c179e"
            ],
            [
             0.4444444444444444,
             "#bd3786"
            ],
            [
             0.5555555555555556,
             "#d8576b"
            ],
            [
             0.6666666666666666,
             "#ed7953"
            ],
            [
             0.7777777777777778,
             "#fb9f3a"
            ],
            [
             0.8888888888888888,
             "#fdca26"
            ],
            [
             1,
             "#f0f921"
            ]
           ]
          },
          "colorway": [
           "#636efa",
           "#EF553B",
           "#00cc96",
           "#ab63fa",
           "#FFA15A",
           "#19d3f3",
           "#FF6692",
           "#B6E880",
           "#FF97FF",
           "#FECB52"
          ],
          "font": {
           "color": "#2a3f5f"
          },
          "geo": {
           "bgcolor": "white",
           "lakecolor": "white",
           "landcolor": "#E5ECF6",
           "showlakes": true,
           "showland": true,
           "subunitcolor": "white"
          },
          "hoverlabel": {
           "align": "left"
          },
          "hovermode": "closest",
          "mapbox": {
           "style": "light"
          },
          "paper_bgcolor": "white",
          "plot_bgcolor": "#E5ECF6",
          "polar": {
           "angularaxis": {
            "gridcolor": "white",
            "linecolor": "white",
            "ticks": ""
           },
           "bgcolor": "#E5ECF6",
           "radialaxis": {
            "gridcolor": "white",
            "linecolor": "white",
            "ticks": ""
           }
          },
          "scene": {
           "xaxis": {
            "backgroundcolor": "#E5ECF6",
            "gridcolor": "white",
            "gridwidth": 2,
            "linecolor": "white",
            "showbackground": true,
            "ticks": "",
            "zerolinecolor": "white"
           },
           "yaxis": {
            "backgroundcolor": "#E5ECF6",
            "gridcolor": "white",
            "gridwidth": 2,
            "linecolor": "white",
            "showbackground": true,
            "ticks": "",
            "zerolinecolor": "white"
           },
           "zaxis": {
            "backgroundcolor": "#E5ECF6",
            "gridcolor": "white",
            "gridwidth": 2,
            "linecolor": "white",
            "showbackground": true,
            "ticks": "",
            "zerolinecolor": "white"
           }
          },
          "shapedefaults": {
           "line": {
            "color": "#2a3f5f"
           }
          },
          "ternary": {
           "aaxis": {
            "gridcolor": "white",
            "linecolor": "white",
            "ticks": ""
           },
           "baxis": {
            "gridcolor": "white",
            "linecolor": "white",
            "ticks": ""
           },
           "bgcolor": "#E5ECF6",
           "caxis": {
            "gridcolor": "white",
            "linecolor": "white",
            "ticks": ""
           }
          },
          "title": {
           "x": 0.05
          },
          "xaxis": {
           "automargin": true,
           "gridcolor": "white",
           "linecolor": "white",
           "ticks": "",
           "title": {
            "standoff": 15
           },
           "zerolinecolor": "white",
           "zerolinewidth": 2
          },
          "yaxis": {
           "automargin": true,
           "gridcolor": "white",
           "linecolor": "white",
           "ticks": "",
           "title": {
            "standoff": 15
           },
           "zerolinecolor": "white",
           "zerolinewidth": 2
          }
         }
        },
        "width": 4000,
        "xaxis": {
         "anchor": "y",
         "domain": [
          0,
          0.045454545454545456
         ],
         "visible": false
        },
        "xaxis10": {
         "anchor": "y10",
         "domain": [
          0.8590909090909091,
          0.9045454545454545
         ],
         "visible": false
        },
        "xaxis100": {
         "anchor": "y100",
         "domain": [
          0,
          0.045454545454545456
         ],
         "visible": false
        },
        "xaxis101": {
         "anchor": "y101",
         "domain": [
          0.09545454545454546,
          0.14090909090909093
         ],
         "visible": false
        },
        "xaxis102": {
         "anchor": "y102",
         "domain": [
          0.19090909090909092,
          0.2363636363636364
         ],
         "visible": false
        },
        "xaxis103": {
         "anchor": "y103",
         "domain": [
          0.2863636363636364,
          0.33181818181818185
         ],
         "visible": false
        },
        "xaxis104": {
         "anchor": "y104",
         "domain": [
          0.38181818181818183,
          0.4272727272727273
         ],
         "visible": false
        },
        "xaxis105": {
         "anchor": "y105",
         "domain": [
          0.4772727272727273,
          0.5227272727272727
         ],
         "visible": false
        },
        "xaxis106": {
         "anchor": "y106",
         "domain": [
          0.5727272727272728,
          0.6181818181818182
         ],
         "visible": false
        },
        "xaxis107": {
         "anchor": "y107",
         "domain": [
          0.6681818181818182,
          0.7136363636363636
         ],
         "visible": false
        },
        "xaxis108": {
         "anchor": "y108",
         "domain": [
          0.7636363636363637,
          0.8090909090909091
         ],
         "visible": false
        },
        "xaxis109": {
         "anchor": "y109",
         "domain": [
          0.8590909090909091,
          0.9045454545454545
         ],
         "visible": false
        },
        "xaxis11": {
         "anchor": "y11",
         "domain": [
          0.9545454545454546,
          1
         ],
         "visible": false
        },
        "xaxis110": {
         "anchor": "y110",
         "domain": [
          0.9545454545454546,
          1
         ],
         "visible": false
        },
        "xaxis111": {
         "anchor": "y111",
         "domain": [
          0,
          0.045454545454545456
         ],
         "visible": false
        },
        "xaxis112": {
         "anchor": "y112",
         "domain": [
          0.09545454545454546,
          0.14090909090909093
         ],
         "visible": false
        },
        "xaxis113": {
         "anchor": "y113",
         "domain": [
          0.19090909090909092,
          0.2363636363636364
         ],
         "visible": false
        },
        "xaxis114": {
         "anchor": "y114",
         "domain": [
          0.2863636363636364,
          0.33181818181818185
         ],
         "visible": false
        },
        "xaxis115": {
         "anchor": "y115",
         "domain": [
          0.38181818181818183,
          0.4272727272727273
         ],
         "visible": false
        },
        "xaxis116": {
         "anchor": "y116",
         "domain": [
          0.4772727272727273,
          0.5227272727272727
         ],
         "visible": false
        },
        "xaxis117": {
         "anchor": "y117",
         "domain": [
          0.5727272727272728,
          0.6181818181818182
         ],
         "visible": false
        },
        "xaxis118": {
         "anchor": "y118",
         "domain": [
          0.6681818181818182,
          0.7136363636363636
         ],
         "visible": false
        },
        "xaxis119": {
         "anchor": "y119",
         "domain": [
          0.7636363636363637,
          0.8090909090909091
         ],
         "visible": false
        },
        "xaxis12": {
         "anchor": "y12",
         "domain": [
          0,
          0.045454545454545456
         ],
         "visible": false
        },
        "xaxis120": {
         "anchor": "y120",
         "domain": [
          0.8590909090909091,
          0.9045454545454545
         ],
         "visible": false
        },
        "xaxis121": {
         "anchor": "y121",
         "domain": [
          0.9545454545454546,
          1
         ],
         "visible": false
        },
        "xaxis13": {
         "anchor": "y13",
         "domain": [
          0.09545454545454546,
          0.14090909090909093
         ],
         "visible": false
        },
        "xaxis14": {
         "anchor": "y14",
         "domain": [
          0.19090909090909092,
          0.2363636363636364
         ],
         "visible": false
        },
        "xaxis15": {
         "anchor": "y15",
         "domain": [
          0.2863636363636364,
          0.33181818181818185
         ],
         "visible": false
        },
        "xaxis16": {
         "anchor": "y16",
         "domain": [
          0.38181818181818183,
          0.4272727272727273
         ],
         "visible": false
        },
        "xaxis17": {
         "anchor": "y17",
         "domain": [
          0.4772727272727273,
          0.5227272727272727
         ],
         "visible": false
        },
        "xaxis18": {
         "anchor": "y18",
         "domain": [
          0.5727272727272728,
          0.6181818181818182
         ],
         "visible": false
        },
        "xaxis19": {
         "anchor": "y19",
         "domain": [
          0.6681818181818182,
          0.7136363636363636
         ],
         "visible": false
        },
        "xaxis2": {
         "anchor": "y2",
         "domain": [
          0.09545454545454546,
          0.14090909090909093
         ],
         "visible": false
        },
        "xaxis20": {
         "anchor": "y20",
         "domain": [
          0.7636363636363637,
          0.8090909090909091
         ],
         "visible": false
        },
        "xaxis21": {
         "anchor": "y21",
         "domain": [
          0.8590909090909091,
          0.9045454545454545
         ],
         "visible": false
        },
        "xaxis22": {
         "anchor": "y22",
         "domain": [
          0.9545454545454546,
          1
         ],
         "visible": false
        },
        "xaxis23": {
         "anchor": "y23",
         "domain": [
          0,
          0.045454545454545456
         ],
         "visible": false
        },
        "xaxis24": {
         "anchor": "y24",
         "domain": [
          0.09545454545454546,
          0.14090909090909093
         ],
         "visible": false
        },
        "xaxis25": {
         "anchor": "y25",
         "domain": [
          0.19090909090909092,
          0.2363636363636364
         ],
         "visible": false
        },
        "xaxis26": {
         "anchor": "y26",
         "domain": [
          0.2863636363636364,
          0.33181818181818185
         ],
         "visible": false
        },
        "xaxis27": {
         "anchor": "y27",
         "domain": [
          0.38181818181818183,
          0.4272727272727273
         ],
         "visible": false
        },
        "xaxis28": {
         "anchor": "y28",
         "domain": [
          0.4772727272727273,
          0.5227272727272727
         ],
         "visible": false
        },
        "xaxis29": {
         "anchor": "y29",
         "domain": [
          0.5727272727272728,
          0.6181818181818182
         ],
         "visible": false
        },
        "xaxis3": {
         "anchor": "y3",
         "domain": [
          0.19090909090909092,
          0.2363636363636364
         ],
         "visible": false
        },
        "xaxis30": {
         "anchor": "y30",
         "domain": [
          0.6681818181818182,
          0.7136363636363636
         ],
         "visible": false
        },
        "xaxis31": {
         "anchor": "y31",
         "domain": [
          0.7636363636363637,
          0.8090909090909091
         ],
         "visible": false
        },
        "xaxis32": {
         "anchor": "y32",
         "domain": [
          0.8590909090909091,
          0.9045454545454545
         ],
         "visible": false
        },
        "xaxis33": {
         "anchor": "y33",
         "domain": [
          0.9545454545454546,
          1
         ],
         "visible": false
        },
        "xaxis34": {
         "anchor": "y34",
         "domain": [
          0,
          0.045454545454545456
         ],
         "visible": false
        },
        "xaxis35": {
         "anchor": "y35",
         "domain": [
          0.09545454545454546,
          0.14090909090909093
         ],
         "visible": false
        },
        "xaxis36": {
         "anchor": "y36",
         "domain": [
          0.19090909090909092,
          0.2363636363636364
         ],
         "visible": false
        },
        "xaxis37": {
         "anchor": "y37",
         "domain": [
          0.2863636363636364,
          0.33181818181818185
         ],
         "visible": false
        },
        "xaxis38": {
         "anchor": "y38",
         "domain": [
          0.38181818181818183,
          0.4272727272727273
         ],
         "visible": false
        },
        "xaxis39": {
         "anchor": "y39",
         "domain": [
          0.4772727272727273,
          0.5227272727272727
         ],
         "visible": false
        },
        "xaxis4": {
         "anchor": "y4",
         "domain": [
          0.2863636363636364,
          0.33181818181818185
         ],
         "visible": false
        },
        "xaxis40": {
         "anchor": "y40",
         "domain": [
          0.5727272727272728,
          0.6181818181818182
         ],
         "visible": false
        },
        "xaxis41": {
         "anchor": "y41",
         "domain": [
          0.6681818181818182,
          0.7136363636363636
         ],
         "visible": false
        },
        "xaxis42": {
         "anchor": "y42",
         "domain": [
          0.7636363636363637,
          0.8090909090909091
         ],
         "visible": false
        },
        "xaxis43": {
         "anchor": "y43",
         "domain": [
          0.8590909090909091,
          0.9045454545454545
         ],
         "visible": false
        },
        "xaxis44": {
         "anchor": "y44",
         "domain": [
          0.9545454545454546,
          1
         ],
         "visible": false
        },
        "xaxis45": {
         "anchor": "y45",
         "domain": [
          0,
          0.045454545454545456
         ],
         "visible": false
        },
        "xaxis46": {
         "anchor": "y46",
         "domain": [
          0.09545454545454546,
          0.14090909090909093
         ],
         "visible": false
        },
        "xaxis47": {
         "anchor": "y47",
         "domain": [
          0.19090909090909092,
          0.2363636363636364
         ],
         "visible": false
        },
        "xaxis48": {
         "anchor": "y48",
         "domain": [
          0.2863636363636364,
          0.33181818181818185
         ],
         "visible": false
        },
        "xaxis49": {
         "anchor": "y49",
         "domain": [
          0.38181818181818183,
          0.4272727272727273
         ],
         "visible": false
        },
        "xaxis5": {
         "anchor": "y5",
         "domain": [
          0.38181818181818183,
          0.4272727272727273
         ],
         "visible": false
        },
        "xaxis50": {
         "anchor": "y50",
         "domain": [
          0.4772727272727273,
          0.5227272727272727
         ],
         "visible": false
        },
        "xaxis51": {
         "anchor": "y51",
         "domain": [
          0.5727272727272728,
          0.6181818181818182
         ],
         "visible": false
        },
        "xaxis52": {
         "anchor": "y52",
         "domain": [
          0.6681818181818182,
          0.7136363636363636
         ],
         "visible": false
        },
        "xaxis53": {
         "anchor": "y53",
         "domain": [
          0.7636363636363637,
          0.8090909090909091
         ],
         "visible": false
        },
        "xaxis54": {
         "anchor": "y54",
         "domain": [
          0.8590909090909091,
          0.9045454545454545
         ],
         "visible": false
        },
        "xaxis55": {
         "anchor": "y55",
         "domain": [
          0.9545454545454546,
          1
         ],
         "visible": false
        },
        "xaxis56": {
         "anchor": "y56",
         "domain": [
          0,
          0.045454545454545456
         ],
         "visible": false
        },
        "xaxis57": {
         "anchor": "y57",
         "domain": [
          0.09545454545454546,
          0.14090909090909093
         ],
         "visible": false
        },
        "xaxis58": {
         "anchor": "y58",
         "domain": [
          0.19090909090909092,
          0.2363636363636364
         ],
         "visible": false
        },
        "xaxis59": {
         "anchor": "y59",
         "domain": [
          0.2863636363636364,
          0.33181818181818185
         ],
         "visible": false
        },
        "xaxis6": {
         "anchor": "y6",
         "domain": [
          0.4772727272727273,
          0.5227272727272727
         ],
         "visible": false
        },
        "xaxis60": {
         "anchor": "y60",
         "domain": [
          0.38181818181818183,
          0.4272727272727273
         ],
         "visible": false
        },
        "xaxis61": {
         "anchor": "y61",
         "domain": [
          0.4772727272727273,
          0.5227272727272727
         ],
         "visible": false
        },
        "xaxis62": {
         "anchor": "y62",
         "domain": [
          0.5727272727272728,
          0.6181818181818182
         ],
         "visible": false
        },
        "xaxis63": {
         "anchor": "y63",
         "domain": [
          0.6681818181818182,
          0.7136363636363636
         ],
         "visible": false
        },
        "xaxis64": {
         "anchor": "y64",
         "domain": [
          0.7636363636363637,
          0.8090909090909091
         ],
         "visible": false
        },
        "xaxis65": {
         "anchor": "y65",
         "domain": [
          0.8590909090909091,
          0.9045454545454545
         ],
         "visible": false
        },
        "xaxis66": {
         "anchor": "y66",
         "domain": [
          0.9545454545454546,
          1
         ],
         "visible": false
        },
        "xaxis67": {
         "anchor": "y67",
         "domain": [
          0,
          0.045454545454545456
         ],
         "visible": false
        },
        "xaxis68": {
         "anchor": "y68",
         "domain": [
          0.09545454545454546,
          0.14090909090909093
         ],
         "visible": false
        },
        "xaxis69": {
         "anchor": "y69",
         "domain": [
          0.19090909090909092,
          0.2363636363636364
         ],
         "visible": false
        },
        "xaxis7": {
         "anchor": "y7",
         "domain": [
          0.5727272727272728,
          0.6181818181818182
         ],
         "visible": false
        },
        "xaxis70": {
         "anchor": "y70",
         "domain": [
          0.2863636363636364,
          0.33181818181818185
         ],
         "visible": false
        },
        "xaxis71": {
         "anchor": "y71",
         "domain": [
          0.38181818181818183,
          0.4272727272727273
         ],
         "visible": false
        },
        "xaxis72": {
         "anchor": "y72",
         "domain": [
          0.4772727272727273,
          0.5227272727272727
         ],
         "visible": false
        },
        "xaxis73": {
         "anchor": "y73",
         "domain": [
          0.5727272727272728,
          0.6181818181818182
         ],
         "visible": false
        },
        "xaxis74": {
         "anchor": "y74",
         "domain": [
          0.6681818181818182,
          0.7136363636363636
         ],
         "visible": false
        },
        "xaxis75": {
         "anchor": "y75",
         "domain": [
          0.7636363636363637,
          0.8090909090909091
         ],
         "visible": false
        },
        "xaxis76": {
         "anchor": "y76",
         "domain": [
          0.8590909090909091,
          0.9045454545454545
         ],
         "visible": false
        },
        "xaxis77": {
         "anchor": "y77",
         "domain": [
          0.9545454545454546,
          1
         ],
         "visible": false
        },
        "xaxis78": {
         "anchor": "y78",
         "domain": [
          0,
          0.045454545454545456
         ],
         "visible": false
        },
        "xaxis79": {
         "anchor": "y79",
         "domain": [
          0.09545454545454546,
          0.14090909090909093
         ],
         "visible": false
        },
        "xaxis8": {
         "anchor": "y8",
         "domain": [
          0.6681818181818182,
          0.7136363636363636
         ],
         "visible": false
        },
        "xaxis80": {
         "anchor": "y80",
         "domain": [
          0.19090909090909092,
          0.2363636363636364
         ],
         "visible": false
        },
        "xaxis81": {
         "anchor": "y81",
         "domain": [
          0.2863636363636364,
          0.33181818181818185
         ],
         "visible": false
        },
        "xaxis82": {
         "anchor": "y82",
         "domain": [
          0.38181818181818183,
          0.4272727272727273
         ],
         "visible": false
        },
        "xaxis83": {
         "anchor": "y83",
         "domain": [
          0.4772727272727273,
          0.5227272727272727
         ],
         "visible": false
        },
        "xaxis84": {
         "anchor": "y84",
         "domain": [
          0.5727272727272728,
          0.6181818181818182
         ],
         "visible": false
        },
        "xaxis85": {
         "anchor": "y85",
         "domain": [
          0.6681818181818182,
          0.7136363636363636
         ],
         "visible": false
        },
        "xaxis86": {
         "anchor": "y86",
         "domain": [
          0.7636363636363637,
          0.8090909090909091
         ],
         "visible": false
        },
        "xaxis87": {
         "anchor": "y87",
         "domain": [
          0.8590909090909091,
          0.9045454545454545
         ],
         "visible": false
        },
        "xaxis88": {
         "anchor": "y88",
         "domain": [
          0.9545454545454546,
          1
         ],
         "visible": false
        },
        "xaxis89": {
         "anchor": "y89",
         "domain": [
          0,
          0.045454545454545456
         ],
         "visible": false
        },
        "xaxis9": {
         "anchor": "y9",
         "domain": [
          0.7636363636363637,
          0.8090909090909091
         ],
         "visible": false
        },
        "xaxis90": {
         "anchor": "y90",
         "domain": [
          0.09545454545454546,
          0.14090909090909093
         ],
         "visible": false
        },
        "xaxis91": {
         "anchor": "y91",
         "domain": [
          0.19090909090909092,
          0.2363636363636364
         ],
         "visible": false
        },
        "xaxis92": {
         "anchor": "y92",
         "domain": [
          0.2863636363636364,
          0.33181818181818185
         ],
         "visible": false
        },
        "xaxis93": {
         "anchor": "y93",
         "domain": [
          0.38181818181818183,
          0.4272727272727273
         ],
         "visible": false
        },
        "xaxis94": {
         "anchor": "y94",
         "domain": [
          0.4772727272727273,
          0.5227272727272727
         ],
         "visible": false
        },
        "xaxis95": {
         "anchor": "y95",
         "domain": [
          0.5727272727272728,
          0.6181818181818182
         ],
         "visible": false
        },
        "xaxis96": {
         "anchor": "y96",
         "domain": [
          0.6681818181818182,
          0.7136363636363636
         ],
         "visible": false
        },
        "xaxis97": {
         "anchor": "y97",
         "domain": [
          0.7636363636363637,
          0.8090909090909091
         ],
         "visible": false
        },
        "xaxis98": {
         "anchor": "y98",
         "domain": [
          0.8590909090909091,
          0.9045454545454545
         ],
         "visible": false
        },
        "xaxis99": {
         "anchor": "y99",
         "domain": [
          0.9545454545454546,
          1
         ],
         "visible": false
        },
        "yaxis": {
         "anchor": "x",
         "domain": [
          0.9545454545454546,
          1
         ],
         "visible": false
        },
        "yaxis10": {
         "anchor": "x10",
         "domain": [
          0.9545454545454546,
          1
         ],
         "visible": false
        },
        "yaxis100": {
         "anchor": "x100",
         "domain": [
          0.09545454545454546,
          0.14090909090909093
         ],
         "visible": false
        },
        "yaxis101": {
         "anchor": "x101",
         "domain": [
          0.09545454545454546,
          0.14090909090909093
         ],
         "visible": false
        },
        "yaxis102": {
         "anchor": "x102",
         "domain": [
          0.09545454545454546,
          0.14090909090909093
         ],
         "visible": false
        },
        "yaxis103": {
         "anchor": "x103",
         "domain": [
          0.09545454545454546,
          0.14090909090909093
         ],
         "visible": false
        },
        "yaxis104": {
         "anchor": "x104",
         "domain": [
          0.09545454545454546,
          0.14090909090909093
         ],
         "visible": false
        },
        "yaxis105": {
         "anchor": "x105",
         "domain": [
          0.09545454545454546,
          0.14090909090909093
         ],
         "visible": false
        },
        "yaxis106": {
         "anchor": "x106",
         "domain": [
          0.09545454545454546,
          0.14090909090909093
         ],
         "visible": false
        },
        "yaxis107": {
         "anchor": "x107",
         "domain": [
          0.09545454545454546,
          0.14090909090909093
         ],
         "visible": false
        },
        "yaxis108": {
         "anchor": "x108",
         "domain": [
          0.09545454545454546,
          0.14090909090909093
         ],
         "visible": false
        },
        "yaxis109": {
         "anchor": "x109",
         "domain": [
          0.09545454545454546,
          0.14090909090909093
         ],
         "visible": false
        },
        "yaxis11": {
         "anchor": "x11",
         "domain": [
          0.9545454545454546,
          1
         ],
         "visible": false
        },
        "yaxis110": {
         "anchor": "x110",
         "domain": [
          0.09545454545454546,
          0.14090909090909093
         ],
         "visible": false
        },
        "yaxis111": {
         "anchor": "x111",
         "domain": [
          0,
          0.045454545454545456
         ],
         "visible": false
        },
        "yaxis112": {
         "anchor": "x112",
         "domain": [
          0,
          0.045454545454545456
         ],
         "visible": false
        },
        "yaxis113": {
         "anchor": "x113",
         "domain": [
          0,
          0.045454545454545456
         ],
         "visible": false
        },
        "yaxis114": {
         "anchor": "x114",
         "domain": [
          0,
          0.045454545454545456
         ],
         "visible": false
        },
        "yaxis115": {
         "anchor": "x115",
         "domain": [
          0,
          0.045454545454545456
         ],
         "visible": false
        },
        "yaxis116": {
         "anchor": "x116",
         "domain": [
          0,
          0.045454545454545456
         ],
         "visible": false
        },
        "yaxis117": {
         "anchor": "x117",
         "domain": [
          0,
          0.045454545454545456
         ],
         "visible": false
        },
        "yaxis118": {
         "anchor": "x118",
         "domain": [
          0,
          0.045454545454545456
         ],
         "visible": false
        },
        "yaxis119": {
         "anchor": "x119",
         "domain": [
          0,
          0.045454545454545456
         ],
         "visible": false
        },
        "yaxis12": {
         "anchor": "x12",
         "domain": [
          0.8590909090909091,
          0.9045454545454545
         ],
         "visible": false
        },
        "yaxis120": {
         "anchor": "x120",
         "domain": [
          0,
          0.045454545454545456
         ],
         "visible": false
        },
        "yaxis121": {
         "anchor": "x121",
         "domain": [
          0,
          0.045454545454545456
         ],
         "visible": false
        },
        "yaxis13": {
         "anchor": "x13",
         "domain": [
          0.8590909090909091,
          0.9045454545454545
         ],
         "visible": false
        },
        "yaxis14": {
         "anchor": "x14",
         "domain": [
          0.8590909090909091,
          0.9045454545454545
         ],
         "visible": false
        },
        "yaxis15": {
         "anchor": "x15",
         "domain": [
          0.8590909090909091,
          0.9045454545454545
         ],
         "visible": false
        },
        "yaxis16": {
         "anchor": "x16",
         "domain": [
          0.8590909090909091,
          0.9045454545454545
         ],
         "visible": false
        },
        "yaxis17": {
         "anchor": "x17",
         "domain": [
          0.8590909090909091,
          0.9045454545454545
         ],
         "visible": false
        },
        "yaxis18": {
         "anchor": "x18",
         "domain": [
          0.8590909090909091,
          0.9045454545454545
         ],
         "visible": false
        },
        "yaxis19": {
         "anchor": "x19",
         "domain": [
          0.8590909090909091,
          0.9045454545454545
         ],
         "visible": false
        },
        "yaxis2": {
         "anchor": "x2",
         "domain": [
          0.9545454545454546,
          1
         ],
         "visible": false
        },
        "yaxis20": {
         "anchor": "x20",
         "domain": [
          0.8590909090909091,
          0.9045454545454545
         ],
         "visible": false
        },
        "yaxis21": {
         "anchor": "x21",
         "domain": [
          0.8590909090909091,
          0.9045454545454545
         ],
         "visible": false
        },
        "yaxis22": {
         "anchor": "x22",
         "domain": [
          0.8590909090909091,
          0.9045454545454545
         ],
         "visible": false
        },
        "yaxis23": {
         "anchor": "x23",
         "domain": [
          0.7636363636363637,
          0.8090909090909091
         ],
         "visible": false
        },
        "yaxis24": {
         "anchor": "x24",
         "domain": [
          0.7636363636363637,
          0.8090909090909091
         ],
         "visible": false
        },
        "yaxis25": {
         "anchor": "x25",
         "domain": [
          0.7636363636363637,
          0.8090909090909091
         ],
         "visible": false
        },
        "yaxis26": {
         "anchor": "x26",
         "domain": [
          0.7636363636363637,
          0.8090909090909091
         ],
         "visible": false
        },
        "yaxis27": {
         "anchor": "x27",
         "domain": [
          0.7636363636363637,
          0.8090909090909091
         ],
         "visible": false
        },
        "yaxis28": {
         "anchor": "x28",
         "domain": [
          0.7636363636363637,
          0.8090909090909091
         ],
         "visible": false
        },
        "yaxis29": {
         "anchor": "x29",
         "domain": [
          0.7636363636363637,
          0.8090909090909091
         ],
         "visible": false
        },
        "yaxis3": {
         "anchor": "x3",
         "domain": [
          0.9545454545454546,
          1
         ],
         "visible": false
        },
        "yaxis30": {
         "anchor": "x30",
         "domain": [
          0.7636363636363637,
          0.8090909090909091
         ],
         "visible": false
        },
        "yaxis31": {
         "anchor": "x31",
         "domain": [
          0.7636363636363637,
          0.8090909090909091
         ],
         "visible": false
        },
        "yaxis32": {
         "anchor": "x32",
         "domain": [
          0.7636363636363637,
          0.8090909090909091
         ],
         "visible": false
        },
        "yaxis33": {
         "anchor": "x33",
         "domain": [
          0.7636363636363637,
          0.8090909090909091
         ],
         "visible": false
        },
        "yaxis34": {
         "anchor": "x34",
         "domain": [
          0.6681818181818182,
          0.7136363636363636
         ],
         "visible": false
        },
        "yaxis35": {
         "anchor": "x35",
         "domain": [
          0.6681818181818182,
          0.7136363636363636
         ],
         "visible": false
        },
        "yaxis36": {
         "anchor": "x36",
         "domain": [
          0.6681818181818182,
          0.7136363636363636
         ],
         "visible": false
        },
        "yaxis37": {
         "anchor": "x37",
         "domain": [
          0.6681818181818182,
          0.7136363636363636
         ],
         "visible": false
        },
        "yaxis38": {
         "anchor": "x38",
         "domain": [
          0.6681818181818182,
          0.7136363636363636
         ],
         "visible": false
        },
        "yaxis39": {
         "anchor": "x39",
         "domain": [
          0.6681818181818182,
          0.7136363636363636
         ],
         "visible": false
        },
        "yaxis4": {
         "anchor": "x4",
         "domain": [
          0.9545454545454546,
          1
         ],
         "visible": false
        },
        "yaxis40": {
         "anchor": "x40",
         "domain": [
          0.6681818181818182,
          0.7136363636363636
         ],
         "visible": false
        },
        "yaxis41": {
         "anchor": "x41",
         "domain": [
          0.6681818181818182,
          0.7136363636363636
         ],
         "visible": false
        },
        "yaxis42": {
         "anchor": "x42",
         "domain": [
          0.6681818181818182,
          0.7136363636363636
         ],
         "visible": false
        },
        "yaxis43": {
         "anchor": "x43",
         "domain": [
          0.6681818181818182,
          0.7136363636363636
         ],
         "visible": false
        },
        "yaxis44": {
         "anchor": "x44",
         "domain": [
          0.6681818181818182,
          0.7136363636363636
         ],
         "visible": false
        },
        "yaxis45": {
         "anchor": "x45",
         "domain": [
          0.5727272727272728,
          0.6181818181818182
         ],
         "visible": false
        },
        "yaxis46": {
         "anchor": "x46",
         "domain": [
          0.5727272727272728,
          0.6181818181818182
         ],
         "visible": false
        },
        "yaxis47": {
         "anchor": "x47",
         "domain": [
          0.5727272727272728,
          0.6181818181818182
         ],
         "visible": false
        },
        "yaxis48": {
         "anchor": "x48",
         "domain": [
          0.5727272727272728,
          0.6181818181818182
         ],
         "visible": false
        },
        "yaxis49": {
         "anchor": "x49",
         "domain": [
          0.5727272727272728,
          0.6181818181818182
         ],
         "visible": false
        },
        "yaxis5": {
         "anchor": "x5",
         "domain": [
          0.9545454545454546,
          1
         ],
         "visible": false
        },
        "yaxis50": {
         "anchor": "x50",
         "domain": [
          0.5727272727272728,
          0.6181818181818182
         ],
         "visible": false
        },
        "yaxis51": {
         "anchor": "x51",
         "domain": [
          0.5727272727272728,
          0.6181818181818182
         ],
         "visible": false
        },
        "yaxis52": {
         "anchor": "x52",
         "domain": [
          0.5727272727272728,
          0.6181818181818182
         ],
         "visible": false
        },
        "yaxis53": {
         "anchor": "x53",
         "domain": [
          0.5727272727272728,
          0.6181818181818182
         ],
         "visible": false
        },
        "yaxis54": {
         "anchor": "x54",
         "domain": [
          0.5727272727272728,
          0.6181818181818182
         ],
         "visible": false
        },
        "yaxis55": {
         "anchor": "x55",
         "domain": [
          0.5727272727272728,
          0.6181818181818182
         ],
         "visible": false
        },
        "yaxis56": {
         "anchor": "x56",
         "domain": [
          0.4772727272727273,
          0.5227272727272727
         ],
         "visible": false
        },
        "yaxis57": {
         "anchor": "x57",
         "domain": [
          0.4772727272727273,
          0.5227272727272727
         ],
         "visible": false
        },
        "yaxis58": {
         "anchor": "x58",
         "domain": [
          0.4772727272727273,
          0.5227272727272727
         ],
         "visible": false
        },
        "yaxis59": {
         "anchor": "x59",
         "domain": [
          0.4772727272727273,
          0.5227272727272727
         ],
         "visible": false
        },
        "yaxis6": {
         "anchor": "x6",
         "domain": [
          0.9545454545454546,
          1
         ],
         "visible": false
        },
        "yaxis60": {
         "anchor": "x60",
         "domain": [
          0.4772727272727273,
          0.5227272727272727
         ],
         "visible": false
        },
        "yaxis61": {
         "anchor": "x61",
         "domain": [
          0.4772727272727273,
          0.5227272727272727
         ],
         "visible": false
        },
        "yaxis62": {
         "anchor": "x62",
         "domain": [
          0.4772727272727273,
          0.5227272727272727
         ],
         "visible": false
        },
        "yaxis63": {
         "anchor": "x63",
         "domain": [
          0.4772727272727273,
          0.5227272727272727
         ],
         "visible": false
        },
        "yaxis64": {
         "anchor": "x64",
         "domain": [
          0.4772727272727273,
          0.5227272727272727
         ],
         "visible": false
        },
        "yaxis65": {
         "anchor": "x65",
         "domain": [
          0.4772727272727273,
          0.5227272727272727
         ],
         "visible": false
        },
        "yaxis66": {
         "anchor": "x66",
         "domain": [
          0.4772727272727273,
          0.5227272727272727
         ],
         "visible": false
        },
        "yaxis67": {
         "anchor": "x67",
         "domain": [
          0.38181818181818183,
          0.4272727272727273
         ],
         "visible": false
        },
        "yaxis68": {
         "anchor": "x68",
         "domain": [
          0.38181818181818183,
          0.4272727272727273
         ],
         "visible": false
        },
        "yaxis69": {
         "anchor": "x69",
         "domain": [
          0.38181818181818183,
          0.4272727272727273
         ],
         "visible": false
        },
        "yaxis7": {
         "anchor": "x7",
         "domain": [
          0.9545454545454546,
          1
         ],
         "visible": false
        },
        "yaxis70": {
         "anchor": "x70",
         "domain": [
          0.38181818181818183,
          0.4272727272727273
         ],
         "visible": false
        },
        "yaxis71": {
         "anchor": "x71",
         "domain": [
          0.38181818181818183,
          0.4272727272727273
         ],
         "visible": false
        },
        "yaxis72": {
         "anchor": "x72",
         "domain": [
          0.38181818181818183,
          0.4272727272727273
         ],
         "visible": false
        },
        "yaxis73": {
         "anchor": "x73",
         "domain": [
          0.38181818181818183,
          0.4272727272727273
         ],
         "visible": false
        },
        "yaxis74": {
         "anchor": "x74",
         "domain": [
          0.38181818181818183,
          0.4272727272727273
         ],
         "visible": false
        },
        "yaxis75": {
         "anchor": "x75",
         "domain": [
          0.38181818181818183,
          0.4272727272727273
         ],
         "visible": false
        },
        "yaxis76": {
         "anchor": "x76",
         "domain": [
          0.38181818181818183,
          0.4272727272727273
         ],
         "visible": false
        },
        "yaxis77": {
         "anchor": "x77",
         "domain": [
          0.38181818181818183,
          0.4272727272727273
         ],
         "visible": false
        },
        "yaxis78": {
         "anchor": "x78",
         "domain": [
          0.2863636363636364,
          0.33181818181818185
         ],
         "visible": false
        },
        "yaxis79": {
         "anchor": "x79",
         "domain": [
          0.2863636363636364,
          0.33181818181818185
         ],
         "visible": false
        },
        "yaxis8": {
         "anchor": "x8",
         "domain": [
          0.9545454545454546,
          1
         ],
         "visible": false
        },
        "yaxis80": {
         "anchor": "x80",
         "domain": [
          0.2863636363636364,
          0.33181818181818185
         ],
         "visible": false
        },
        "yaxis81": {
         "anchor": "x81",
         "domain": [
          0.2863636363636364,
          0.33181818181818185
         ],
         "visible": false
        },
        "yaxis82": {
         "anchor": "x82",
         "domain": [
          0.2863636363636364,
          0.33181818181818185
         ],
         "visible": false
        },
        "yaxis83": {
         "anchor": "x83",
         "domain": [
          0.2863636363636364,
          0.33181818181818185
         ],
         "visible": false
        },
        "yaxis84": {
         "anchor": "x84",
         "domain": [
          0.2863636363636364,
          0.33181818181818185
         ],
         "visible": false
        },
        "yaxis85": {
         "anchor": "x85",
         "domain": [
          0.2863636363636364,
          0.33181818181818185
         ],
         "visible": false
        },
        "yaxis86": {
         "anchor": "x86",
         "domain": [
          0.2863636363636364,
          0.33181818181818185
         ],
         "visible": false
        },
        "yaxis87": {
         "anchor": "x87",
         "domain": [
          0.2863636363636364,
          0.33181818181818185
         ],
         "visible": false
        },
        "yaxis88": {
         "anchor": "x88",
         "domain": [
          0.2863636363636364,
          0.33181818181818185
         ],
         "visible": false
        },
        "yaxis89": {
         "anchor": "x89",
         "domain": [
          0.19090909090909092,
          0.2363636363636364
         ],
         "visible": false
        },
        "yaxis9": {
         "anchor": "x9",
         "domain": [
          0.9545454545454546,
          1
         ],
         "visible": false
        },
        "yaxis90": {
         "anchor": "x90",
         "domain": [
          0.19090909090909092,
          0.2363636363636364
         ],
         "visible": false
        },
        "yaxis91": {
         "anchor": "x91",
         "domain": [
          0.19090909090909092,
          0.2363636363636364
         ],
         "visible": false
        },
        "yaxis92": {
         "anchor": "x92",
         "domain": [
          0.19090909090909092,
          0.2363636363636364
         ],
         "visible": false
        },
        "yaxis93": {
         "anchor": "x93",
         "domain": [
          0.19090909090909092,
          0.2363636363636364
         ],
         "visible": false
        },
        "yaxis94": {
         "anchor": "x94",
         "domain": [
          0.19090909090909092,
          0.2363636363636364
         ],
         "visible": false
        },
        "yaxis95": {
         "anchor": "x95",
         "domain": [
          0.19090909090909092,
          0.2363636363636364
         ],
         "visible": false
        },
        "yaxis96": {
         "anchor": "x96",
         "domain": [
          0.19090909090909092,
          0.2363636363636364
         ],
         "visible": false
        },
        "yaxis97": {
         "anchor": "x97",
         "domain": [
          0.19090909090909092,
          0.2363636363636364
         ],
         "visible": false
        },
        "yaxis98": {
         "anchor": "x98",
         "domain": [
          0.19090909090909092,
          0.2363636363636364
         ],
         "visible": false
        },
        "yaxis99": {
         "anchor": "x99",
         "domain": [
          0.19090909090909092,
          0.2363636363636364
         ],
         "visible": false
        }
       }
      }
     },
     "metadata": {},
     "output_type": "display_data"
    }
   ],
   "source": [
    "from plotly.subplots import make_subplots\n",
    "import math\n",
    "def showPropertyPlot(som, data, columns):\n",
    "# plots the distances for each different property\n",
    "    win_map = som.win_map(data)\n",
    "    size=som.distance_map().shape[0]\n",
    "    properties=np.empty((size*size,2+data.shape[1]))\n",
    "    properties[:]=np.NaN\n",
    "    i=0\n",
    "    for row in range(0,size):\n",
    "        for col in range(0,size):\n",
    "            properties[size*row+col,0]=row\n",
    "            properties[size*row+col,1]=col\n",
    "\n",
    "    for position, values in win_map.items():\n",
    "        properties[size*position[0]+position[1],0]=position[0]\n",
    "        properties[size*position[0]+position[1],1]=position[1]\n",
    "        properties[size*position[0]+position[1],2:] = np.mean(values, axis=0)\n",
    "        i=i+1\n",
    "\n",
    "    B = ['row', 'col']\n",
    "    B.extend(columns)\n",
    "    print('p:',properties.shape,len(B),len(columns))\n",
    "    properties = pd.DataFrame(data=properties, columns=B)\n",
    "    \n",
    "    fig = make_subplots(rows=math.ceil(math.sqrt(data.shape[1])), cols=math.ceil(math.sqrt(data.shape[1])), shared_xaxes=False, horizontal_spacing=0.05, vertical_spacing=0.05, subplot_titles=columns, column_widths=None, row_heights=None)\n",
    "    i=0\n",
    "    zmin=min(np.min(properties.iloc[:,2:]))\n",
    "    zmax=max(np.max(properties.iloc[:,2:]))\n",
    "    for property in columns:\n",
    "        fig.add_traces(\n",
    "            [go.Heatmap(z=properties.sort_values(by=['row', 'col'])[property].values.reshape(size,size), zmax=zmax, zmin=zmin, coloraxis = 'coloraxis2')],\n",
    "            rows=[i // math.ceil(math.sqrt(data.shape[1])) + 1 ],\n",
    "            cols=[i % math.ceil(math.sqrt(data.shape[1])) + 1 ]\n",
    "            )\n",
    "        i=i+1\n",
    "\n",
    "    for layout in fig.layout:\n",
    "        if layout.startswith('xaxis') or layout.startswith('yaxis'):\n",
    "            fig.layout[layout].visible=False\n",
    "            fig.layout[layout].visible=False\n",
    "        if layout.startswith('coloraxis'):\n",
    "            fig.layout[layout].cmax=zmax\n",
    "            fig.layout[layout].cmin=zmin\n",
    "        if layout.startswith('colorscale'):\n",
    "            fig.layout[layout]={'diverging':'viridis'}\n",
    "\n",
    "    fig.update_layout(\n",
    "        height=4000,\n",
    "        width=4000\n",
    "    )\n",
    "    fig.show()\n",
    "    \n",
    "showPropertyPlot(som, data, columns)"
   ]
  },
  {
   "cell_type": "markdown",
   "metadata": {},
   "source": [
    "The distribution map shows the min, max and mean of the values of samples corresponding with a neuron. Each neuron's data is shown in an own subplot. This plot can be used to examine similarities or differences in the neuron weights.\n",
    "In this example of supervised learning, I have shown the main class of each neuron (as major class of all samples of a neuron) via background color of the subplots."
   ]
  },
  {
   "cell_type": "code",
   "execution_count": 11,
   "metadata": {},
   "outputs": [],
   "source": [
    "def distributionMap(data, clusters, size, columns, minimum, maximum, plottype='barpolar'):\n",
    "    spec={\"type\": \"polar\"}\n",
    "    fig = make_subplots(rows=size, cols=size, specs=np.full((size,size),spec).tolist(), shared_yaxes=True, shared_xaxes=True,horizontal_spacing=0, vertical_spacing=0, subplot_titles=None, column_widths=None, row_heights=None)\n",
    "    categories=columns\n",
    "    if plottype=='spider':\n",
    "        for index, row in data.iterrows():\n",
    "            fig.add_traces(\n",
    "                [go.Scatterpolargl(\n",
    "                    r=row['max'],\n",
    "                    name='max',\n",
    "                    fillcolor='green',\n",
    "                    line=dict(color='green'),\n",
    "                    theta=categories,           \n",
    "                    opacity=0.5),\n",
    "                go.Scatterpolargl(\n",
    "                    r=row['mean'],\n",
    "                    name='mean',\n",
    "                    fillcolor='blue',\n",
    "                    line=dict(color='blue'),\n",
    "                    theta=categories,           \n",
    "                    opacity=0.5),\n",
    "                go.Scatterpolargl(\n",
    "                    r=row['min'],\n",
    "                    name='min',\n",
    "                    fillcolor='red',\n",
    "                    line=dict(color='red'),\n",
    "                    theta=categories,           \n",
    "                    opacity=0.5)],\n",
    "                rows=[row['row'], row['row'], row['row']],\n",
    "                cols=[row['col'], row['col'], row['col']]\n",
    "                )\n",
    "    else:\n",
    "        for index, row in data.iterrows():\n",
    "            fig.add_traces(\n",
    "                [\n",
    "                go.Barpolar(                   \n",
    "                    base=minimum,\n",
    "                    r=row['max']-minimum,\n",
    "                    name='max'+str(index),\n",
    "                    marker_color=\"green\",\n",
    "                    theta=categories,           \n",
    "                    #opacity=1\n",
    "                 ),\n",
    "                go.Barpolar(           \n",
    "                    base=minimum,\n",
    "                    r=row['mean']-minimum,\n",
    "                    name='mean'+str(index),\n",
    "                    marker_color=\"blue\",\n",
    "                    theta=categories,           \n",
    "                    #opacity=1\n",
    "                 ),\n",
    "                go.Barpolar(           \n",
    "                    base=minimum,\n",
    "                    r=row['min']-minimum,\n",
    "                    name='min'+str(index),\n",
    "                    marker_color=\"darkred\",\n",
    "                    theta=categories,  \n",
    "                    #opacity=1\n",
    "                ) \n",
    "                ],\n",
    "                rows=[row['row'], row['row'], row['row']],\n",
    "                cols=[row['col'], row['col'], row['col']]\n",
    "                )        \n",
    "\n",
    "    if plottype=='spider':\n",
    "        fig.update_traces(mode='lines', fill='toself')\n",
    "    for layout in fig.layout:\n",
    "        if layout.startswith('polar'):\n",
    "            fig.layout[layout].angularaxis.visible=False\n",
    "            fig.layout[layout].angularaxis.tickfont.size = 7\n",
    "            fig.layout[layout].radialaxis.visible=True\n",
    "            fig.layout[layout].radialaxis.tickfont.size = 7\n",
    "            fig.layout[layout].barmode='overlay'\n",
    "            fig.layout[layout].radialaxis.range = [minimum, maximum+1]\n",
    "\n",
    "    for index, row in data.iterrows():\n",
    "            color=row['bgcolor']\n",
    "            if row['row']==0 and row['col']==0:\n",
    "                # row needs to be switched because all the other plots (heatmaps) are shown with row 0 at bottom \n",
    "                fig.layout['polar'].bgcolor=\"rgb(\"+\",\".join(str(i) for i in [color]*3) +\")\"\n",
    "            else:\n",
    "                # row needs to be switched because all the other plots (heatmaps) are shown with row 0 at bottom \n",
    "                fig.layout['polar'+str((row['row']-1)*size+row['col'])].bgcolor=\"rgb(\"+\",\".join(str(i) for i in [color]*3) +\")\"\n",
    "            \n",
    "    fig.update_layout(\n",
    "        width=900,\n",
    "        height=900,\n",
    "        showlegend=False\n",
    "    )\n",
    "\n",
    "    fig.show()"
   ]
  },
  {
   "cell_type": "code",
   "execution_count": 12,
   "metadata": {},
   "outputs": [
    {
     "name": "stderr",
     "output_type": "stream",
     "text": [
      "/var/folders/7f/g_mmpybs1w3gw13s96ryn7x00000gp/T/ipykernel_963/102937540.py:16: FutureWarning:\n",
      "\n",
      "The frame.append method is deprecated and will be removed from pandas in a future version. Use pandas.concat instead.\n",
      "\n",
      "/var/folders/7f/g_mmpybs1w3gw13s96ryn7x00000gp/T/ipykernel_963/102937540.py:16: FutureWarning:\n",
      "\n",
      "The frame.append method is deprecated and will be removed from pandas in a future version. Use pandas.concat instead.\n",
      "\n",
      "/var/folders/7f/g_mmpybs1w3gw13s96ryn7x00000gp/T/ipykernel_963/102937540.py:16: FutureWarning:\n",
      "\n",
      "The frame.append method is deprecated and will be removed from pandas in a future version. Use pandas.concat instead.\n",
      "\n",
      "/var/folders/7f/g_mmpybs1w3gw13s96ryn7x00000gp/T/ipykernel_963/102937540.py:16: FutureWarning:\n",
      "\n",
      "The frame.append method is deprecated and will be removed from pandas in a future version. Use pandas.concat instead.\n",
      "\n",
      "/var/folders/7f/g_mmpybs1w3gw13s96ryn7x00000gp/T/ipykernel_963/102937540.py:16: FutureWarning:\n",
      "\n",
      "The frame.append method is deprecated and will be removed from pandas in a future version. Use pandas.concat instead.\n",
      "\n",
      "/var/folders/7f/g_mmpybs1w3gw13s96ryn7x00000gp/T/ipykernel_963/102937540.py:16: FutureWarning:\n",
      "\n",
      "The frame.append method is deprecated and will be removed from pandas in a future version. Use pandas.concat instead.\n",
      "\n",
      "/var/folders/7f/g_mmpybs1w3gw13s96ryn7x00000gp/T/ipykernel_963/102937540.py:16: FutureWarning:\n",
      "\n",
      "The frame.append method is deprecated and will be removed from pandas in a future version. Use pandas.concat instead.\n",
      "\n",
      "/var/folders/7f/g_mmpybs1w3gw13s96ryn7x00000gp/T/ipykernel_963/102937540.py:16: FutureWarning:\n",
      "\n",
      "The frame.append method is deprecated and will be removed from pandas in a future version. Use pandas.concat instead.\n",
      "\n",
      "/var/folders/7f/g_mmpybs1w3gw13s96ryn7x00000gp/T/ipykernel_963/102937540.py:16: FutureWarning:\n",
      "\n",
      "The frame.append method is deprecated and will be removed from pandas in a future version. Use pandas.concat instead.\n",
      "\n"
     ]
    },
    {
     "data": {
      "application/vnd.plotly.v1+json": {
       "config": {
        "plotlyServerURL": "https://plot.ly"
       },
       "data": [
        {
         "base": 0,
         "marker": {
          "color": "green"
         },
         "name": "max0",
         "r": [
          1,
          1,
          1,
          1,
          1,
          1,
          1,
          1,
          1,
          1,
          1,
          1,
          1,
          1,
          1,
          1,
          1,
          1,
          1,
          1,
          1,
          1,
          1,
          1,
          1,
          1,
          1,
          1,
          1,
          1,
          1,
          1,
          1,
          1,
          1,
          1,
          1,
          1,
          1,
          1,
          1,
          1,
          1,
          1,
          1,
          1,
          1,
          1,
          1,
          1,
          1,
          1,
          1,
          1,
          1,
          1,
          1,
          1,
          1,
          1,
          1,
          1,
          1,
          1,
          1,
          1,
          1,
          1,
          1,
          1,
          1,
          1,
          1,
          1,
          1,
          1,
          1,
          1,
          1,
          1,
          1,
          1,
          1,
          1,
          1,
          1,
          1,
          0,
          1,
          1,
          1,
          1,
          1,
          1,
          1,
          1,
          1,
          1,
          0,
          1,
          1,
          1,
          1,
          1,
          1,
          1,
          1,
          1,
          1
         ],
         "subplot": "polar7",
         "theta": [
          "AGE_ENCODE",
          "LENGTH_OF_RESIDENCE_ENCODE",
          "ESTIMATED_HOUSEHOLD_INCOME_ENCODE",
          "HOME_MKT_VAL_ENCODE",
          "NUMBER_OF_CHILDREN_ENCODE",
          "CHILD_PRESENT_ENCODE",
          "CHILD_UNDER_6_PRESENT_ENCODE",
          "CHILD_6_10_PRESENT_ENCODE",
          "CHILD_11_15_PRESENT_ENCODE",
          "CHILD_16_17_PRESENT_ENCODE",
          "EDUCATION_LEVEL_ENCODE",
          "HOME_POOL_ENCODE",
          "SENIOR_ADULT_IN_HH_ENCODE",
          "SINGLE_PARENT_ENCODE",
          "SPANISH_SPEAKING_ENCODE",
          "USES_CREDIT_CARD_ENCODE",
          "HOME_OFFICE_ENCODE",
          "CATALOG_PURCHASER_INTEREST_ENCODE",
          "AVIATION_INTEREST_ENCODE",
          "HIGH_TECH_INTEREST_ENCODE",
          "HOME_LIVING_INTEREST_ENCODE",
          "SAILING_INTEREST_ENCODE",
          "BEAUTY_INTEREST_ENCODE",
          "MENS_FASHION_INTEREST_ENCODE",
          "WOMENS_FASHION_INTEREST_ENCODE",
          "CHILDRENS_FASHION_INTEREST_ENCODE",
          "JEWELERY_AND_FASHION_ACCESSORIES_INTEREST_ENCODE",
          "CHARITY_DONOR_INTEREST_ENCODE",
          "COLLECTOR_INTEREST_ENCODE",
          "COMPUTER_USER_INTEREST_ENCODE",
          "BOARD_GAME_LOVER_INTEREST_ENCODE",
          "VIDEO_GAME_LOVER_INTEREST_ENCODE",
          "HOME_COOK_INTEREST_ENCODE",
          "DIYER_INTEREST_ENCODE",
          "GARDENER_INTEREST_ENCODE",
          "GIFT_GIVER_INTEREST_ENCODE",
          "DIET_AND_WEIGHT_LOSS_INTEREST_ENCODE",
          "HISTORY_LOVER_INTEREST_ENCODE",
          "EQUESTRIAN_LOVER_INTEREST_ENCODE",
          "MUSIC_LOVER_INTEREST_ENCODE",
          "MOVIE_LOVER_INTEREST_ENCODE",
          "OUTDOORSMAN_INTEREST_ENCODE",
          "CAMPING_AND_HIKING_INTEREST_ENCODE",
          "HUNTING_AND_FISHING_INTEREST_ENCODE",
          "ENVIRONMENT_AND_WILDLIFE_INTEREST_ENCODE",
          "CYCLING_INTEREST_ENCODE",
          "HEALTHY_LIVING_INTEREST_ENCODE",
          "PET_OWNER_INTEREST_ENCODE",
          "CAT_OWNER_INTEREST_ENCODE",
          "DOG_OWNER_INTEREST_ENCODE",
          "PHOTOGRAPHER_INTEREST_ENCODE",
          "SEWING_KNITTING_INTEREST_ENCODE",
          "CRAFTS_INTEREST_ENCODE",
          "CULTURE_AND_ARTS_INTEREST_ENCODE",
          "SPORTS_LOVER_INTEREST_ENCODE",
          "BASEBALL_LOVER_INTEREST_ENCODE",
          "BASKETBALL_LOVER_INTEREST_ENCODE",
          "AMERICAN_FOOTBALL_LOVER_INTEREST_ENCODE",
          "GOLF_LOVER_INTEREST_ENCODE",
          "HOCKEY_LOVER_INTEREST_ENCODE",
          "SKIING_LOVER_INTEREST_ENCODE",
          "SOCCER_LOVER_INTEREST_ENCODE",
          "TENNIS_LOVER_INTEREST_ENCODE",
          "TRAVELER_INTEREST_ENCODE",
          "US_EXPLORER_INTEREST_ENCODE",
          "CRUISE_LOVER_INTEREST_ENCODE",
          "MOTORCYCLE_RIDER_INTEREST_ENCODE",
          "RV_OWNER_INTEREST_ENCODE",
          "TRUCK_OWNER_INTEREST_ENCODE",
          "NEWS_LOVER_INTEREST_ENCODE",
          "\"EDUCATION_LEVEL_onehot_VOCATIONAL/TECHNICAL SCHOOL\"",
          "EDUCATION_LEVEL_ONEHOT_UNKNOWN",
          "\"EDUCATION_LEVEL_onehot_HIGH SCHOOL\"",
          "\"EDUCATION_LEVEL_onehot_GRADUATE SCHOOL\"",
          "EDUCATION_LEVEL_ONEHOT_COLLEGE",
          "HOUSEHOLD_COMPOSITION_ONEHOT_UNKNOWN",
          "HOUSEHOLD_COMPOSITION_ONEHOT_INDIVIDUAL",
          "HOUSEHOLD_COMPOSITION_ONEHOT_COUPLE",
          "\"HOUSEHOLD_COMPOSITION_onehot_SINGLE PARENT\"",
          "HOUSEHOLD_COMPOSITION_ONEHOT_FAMILY",
          "OCCUPATION_ONEHOT_UNKNOWN",
          "\"OCCUPATION_onehot_ADMIN/MGMT\"",
          "OCCUPATION_ONEHOT_CLERICAL",
          "\"OCCUPATION_onehot_DOCTOR/MEDICAL\"",
          "OCCUPATION_ONEHOT_FINANCE",
          "OCCUPATION_ONEHOT_HOMEMAKER",
          "\"OCCUPATION_onehot_SELF-EMPLOYED\"",
          "OCCUPATION_ONEHOT_UNSKILLED",
          "\"OCCUPATION_onehot_OTHER PROFESSIONAL/TECHNICAL\"",
          "\"OCCUPATION_onehot_BLUE COLLAR\"",
          "\"OCCUPATION_onehot_SALES/SERVICE\"",
          "OCCUPATION_ONEHOT_RETIRED",
          "OCCUPATION_ONEHOT_TEACHER",
          "\"OCCUPATION_onehot_FARMER/AGRICULTURE\"",
          "OCCUPATION_ONEHOT_LEGAL",
          "\"OCCUPATION_onehot_GOVERNMENT/MILITARY\"",
          "OCCUPATION_ONEHOT_RELIGIOUS",
          "OCCUPATION_ONEHOT_STUDENT",
          "OCCUPATION_ONEHOT_UNEMPLOYED",
          "DWELLING_TYPE_ONEHOT_SINGLE_FAMILY",
          "DWELLING_TYPE_ONEHOT_MULTI_FAMILY",
          "DWELLING_TYPE_ONEHOT_UNKNOWN",
          "DWELLING_TYPE_ONEHOT_MOBILE_HOME",
          "HOME_OWNERSHIP_ONEHOT_HOMEOWNER",
          "HOME_OWNERSHIP_ONEHOT_UNKNOWN",
          "HOME_OWNERSHIP_ONEHOT_RENTER",
          "MARITAL_STATUS_ONEHOT_SINGLE",
          "MARITAL_STATUS_ONEHOT_MARRIED"
         ],
         "type": "barpolar"
        },
        {
         "base": 0,
         "marker": {
          "color": "blue"
         },
         "name": "mean0",
         "r": [
          0.455445348276293,
          0.6749864535356273,
          0.3916282850176104,
          0.5802592365497887,
          0.25616364128962343,
          0.6337036033595231,
          0.19940395556759685,
          0.2468165808723923,
          0.18694120834462205,
          0.09834733134651856,
          0.4009076131129775,
          0.166621511785424,
          0.41994039555675966,
          0.21728528853969115,
          0.10471416960173395,
          0.9875372527770252,
          0.23381197507450555,
          0.3603359523164454,
          0.01896505012191818,
          0.27011649959360606,
          0.458141425088052,
          0.22460037930100243,
          0.43809265781630996,
          0.19561094554321323,
          0.37767542671362775,
          0.07965321051205636,
          0.08913573557301545,
          0.562720130046058,
          0.8046599837442427,
          0.9314548902736386,
          0.12544026009211595,
          0.18802492549444594,
          0.9571931725819561,
          0.47873205093470605,
          0.8802492549444595,
          0.4827959902465456,
          0.5009482525060959,
          0.10024383635871037,
          0.03061500948252506,
          0.739366025467353,
          0.5440260092115957,
          0.8642644269845571,
          0.36087781089135734,
          0.5979409374153346,
          0.23950149011108102,
          0.12137632078027635,
          0.9666756976429152,
          0.6946626930371174,
          0.2782443782172853,
          0.43050663776754267,
          0.29504199403955567,
          0.29097805472771604,
          0.8060146301815226,
          0.45245191005147656,
          0.9485234353833649,
          0.2668653481441344,
          0.2584665402329992,
          0.34543484150636683,
          0.4237334055811433,
          0.08588458412354376,
          0.12760769439176375,
          0.010566242210782985,
          0.07856949336223246,
          0.9412083446220536,
          0.5410457870495801,
          0.31834191276076945,
          0.10078569493362233,
          0.36060688160390136,
          0.4177729612571119,
          0.47114603088593876,
          0.004605797886751558,
          0.12489840151720401,
          0.4592251422378759,
          0.11541587645624492,
          0.2958547819019236,
          0.10647520997019778,
          0.13356813871579518,
          0.23895963153616906,
          0.13167163370360335,
          0.3893253860742346,
          0.3522080736927662,
          0.07044161473855323,
          0.09292874559739908,
          0.04578704958005961,
          0.01571389867244649,
          0.0531021403413709,
          0.014901110810078569,
          0,
          0.1812516933080466,
          0.0812787862367922,
          0.032782443782172856,
          0.024654565158493635,
          0.003793010024383636,
          0.002980222162015714,
          0.004605797886751558,
          0.005960444324031428,
          0.001083717149823896,
          0.016526686534814414,
          0,
          0.8585749119479815,
          0.08154971552424817,
          0.043890544567867784,
          0.015984827959902467,
          0.85396911406123,
          0.050663776754267136,
          0.09536710918450285,
          0.26523977241939856,
          0.6282850176104037,
          0.10647520997019778
         ],
         "subplot": "polar7",
         "theta": [
          "AGE_ENCODE",
          "LENGTH_OF_RESIDENCE_ENCODE",
          "ESTIMATED_HOUSEHOLD_INCOME_ENCODE",
          "HOME_MKT_VAL_ENCODE",
          "NUMBER_OF_CHILDREN_ENCODE",
          "CHILD_PRESENT_ENCODE",
          "CHILD_UNDER_6_PRESENT_ENCODE",
          "CHILD_6_10_PRESENT_ENCODE",
          "CHILD_11_15_PRESENT_ENCODE",
          "CHILD_16_17_PRESENT_ENCODE",
          "EDUCATION_LEVEL_ENCODE",
          "HOME_POOL_ENCODE",
          "SENIOR_ADULT_IN_HH_ENCODE",
          "SINGLE_PARENT_ENCODE",
          "SPANISH_SPEAKING_ENCODE",
          "USES_CREDIT_CARD_ENCODE",
          "HOME_OFFICE_ENCODE",
          "CATALOG_PURCHASER_INTEREST_ENCODE",
          "AVIATION_INTEREST_ENCODE",
          "HIGH_TECH_INTEREST_ENCODE",
          "HOME_LIVING_INTEREST_ENCODE",
          "SAILING_INTEREST_ENCODE",
          "BEAUTY_INTEREST_ENCODE",
          "MENS_FASHION_INTEREST_ENCODE",
          "WOMENS_FASHION_INTEREST_ENCODE",
          "CHILDRENS_FASHION_INTEREST_ENCODE",
          "JEWELERY_AND_FASHION_ACCESSORIES_INTEREST_ENCODE",
          "CHARITY_DONOR_INTEREST_ENCODE",
          "COLLECTOR_INTEREST_ENCODE",
          "COMPUTER_USER_INTEREST_ENCODE",
          "BOARD_GAME_LOVER_INTEREST_ENCODE",
          "VIDEO_GAME_LOVER_INTEREST_ENCODE",
          "HOME_COOK_INTEREST_ENCODE",
          "DIYER_INTEREST_ENCODE",
          "GARDENER_INTEREST_ENCODE",
          "GIFT_GIVER_INTEREST_ENCODE",
          "DIET_AND_WEIGHT_LOSS_INTEREST_ENCODE",
          "HISTORY_LOVER_INTEREST_ENCODE",
          "EQUESTRIAN_LOVER_INTEREST_ENCODE",
          "MUSIC_LOVER_INTEREST_ENCODE",
          "MOVIE_LOVER_INTEREST_ENCODE",
          "OUTDOORSMAN_INTEREST_ENCODE",
          "CAMPING_AND_HIKING_INTEREST_ENCODE",
          "HUNTING_AND_FISHING_INTEREST_ENCODE",
          "ENVIRONMENT_AND_WILDLIFE_INTEREST_ENCODE",
          "CYCLING_INTEREST_ENCODE",
          "HEALTHY_LIVING_INTEREST_ENCODE",
          "PET_OWNER_INTEREST_ENCODE",
          "CAT_OWNER_INTEREST_ENCODE",
          "DOG_OWNER_INTEREST_ENCODE",
          "PHOTOGRAPHER_INTEREST_ENCODE",
          "SEWING_KNITTING_INTEREST_ENCODE",
          "CRAFTS_INTEREST_ENCODE",
          "CULTURE_AND_ARTS_INTEREST_ENCODE",
          "SPORTS_LOVER_INTEREST_ENCODE",
          "BASEBALL_LOVER_INTEREST_ENCODE",
          "BASKETBALL_LOVER_INTEREST_ENCODE",
          "AMERICAN_FOOTBALL_LOVER_INTEREST_ENCODE",
          "GOLF_LOVER_INTEREST_ENCODE",
          "HOCKEY_LOVER_INTEREST_ENCODE",
          "SKIING_LOVER_INTEREST_ENCODE",
          "SOCCER_LOVER_INTEREST_ENCODE",
          "TENNIS_LOVER_INTEREST_ENCODE",
          "TRAVELER_INTEREST_ENCODE",
          "US_EXPLORER_INTEREST_ENCODE",
          "CRUISE_LOVER_INTEREST_ENCODE",
          "MOTORCYCLE_RIDER_INTEREST_ENCODE",
          "RV_OWNER_INTEREST_ENCODE",
          "TRUCK_OWNER_INTEREST_ENCODE",
          "NEWS_LOVER_INTEREST_ENCODE",
          "\"EDUCATION_LEVEL_onehot_VOCATIONAL/TECHNICAL SCHOOL\"",
          "EDUCATION_LEVEL_ONEHOT_UNKNOWN",
          "\"EDUCATION_LEVEL_onehot_HIGH SCHOOL\"",
          "\"EDUCATION_LEVEL_onehot_GRADUATE SCHOOL\"",
          "EDUCATION_LEVEL_ONEHOT_COLLEGE",
          "HOUSEHOLD_COMPOSITION_ONEHOT_UNKNOWN",
          "HOUSEHOLD_COMPOSITION_ONEHOT_INDIVIDUAL",
          "HOUSEHOLD_COMPOSITION_ONEHOT_COUPLE",
          "\"HOUSEHOLD_COMPOSITION_onehot_SINGLE PARENT\"",
          "HOUSEHOLD_COMPOSITION_ONEHOT_FAMILY",
          "OCCUPATION_ONEHOT_UNKNOWN",
          "\"OCCUPATION_onehot_ADMIN/MGMT\"",
          "OCCUPATION_ONEHOT_CLERICAL",
          "\"OCCUPATION_onehot_DOCTOR/MEDICAL\"",
          "OCCUPATION_ONEHOT_FINANCE",
          "OCCUPATION_ONEHOT_HOMEMAKER",
          "\"OCCUPATION_onehot_SELF-EMPLOYED\"",
          "OCCUPATION_ONEHOT_UNSKILLED",
          "\"OCCUPATION_onehot_OTHER PROFESSIONAL/TECHNICAL\"",
          "\"OCCUPATION_onehot_BLUE COLLAR\"",
          "\"OCCUPATION_onehot_SALES/SERVICE\"",
          "OCCUPATION_ONEHOT_RETIRED",
          "OCCUPATION_ONEHOT_TEACHER",
          "\"OCCUPATION_onehot_FARMER/AGRICULTURE\"",
          "OCCUPATION_ONEHOT_LEGAL",
          "\"OCCUPATION_onehot_GOVERNMENT/MILITARY\"",
          "OCCUPATION_ONEHOT_RELIGIOUS",
          "OCCUPATION_ONEHOT_STUDENT",
          "OCCUPATION_ONEHOT_UNEMPLOYED",
          "DWELLING_TYPE_ONEHOT_SINGLE_FAMILY",
          "DWELLING_TYPE_ONEHOT_MULTI_FAMILY",
          "DWELLING_TYPE_ONEHOT_UNKNOWN",
          "DWELLING_TYPE_ONEHOT_MOBILE_HOME",
          "HOME_OWNERSHIP_ONEHOT_HOMEOWNER",
          "HOME_OWNERSHIP_ONEHOT_UNKNOWN",
          "HOME_OWNERSHIP_ONEHOT_RENTER",
          "MARITAL_STATUS_ONEHOT_SINGLE",
          "MARITAL_STATUS_ONEHOT_MARRIED"
         ],
         "type": "barpolar"
        },
        {
         "base": 0,
         "marker": {
          "color": "darkred"
         },
         "name": "min0",
         "r": [
          0,
          0,
          0,
          0,
          0,
          0,
          0,
          0,
          0,
          0,
          0,
          0,
          0,
          0,
          0,
          0,
          0,
          0,
          0,
          0,
          0,
          0,
          0,
          0,
          0,
          0,
          0,
          0,
          0,
          0,
          0,
          0,
          0,
          0,
          0,
          0,
          0,
          0,
          0,
          0,
          0,
          0,
          0,
          0,
          0,
          0,
          0,
          0,
          0,
          0,
          0,
          0,
          0,
          0,
          0,
          0,
          0,
          0,
          0,
          0,
          0,
          0,
          0,
          0,
          0,
          0,
          0,
          0,
          0,
          0,
          0,
          0,
          0,
          0,
          0,
          0,
          0,
          0,
          0,
          0,
          0,
          0,
          0,
          0,
          0,
          0,
          0,
          0,
          0,
          0,
          0,
          0,
          0,
          0,
          0,
          0,
          0,
          0,
          0,
          0,
          0,
          0,
          0,
          0,
          0,
          0,
          0,
          0,
          0
         ],
         "subplot": "polar7",
         "theta": [
          "AGE_ENCODE",
          "LENGTH_OF_RESIDENCE_ENCODE",
          "ESTIMATED_HOUSEHOLD_INCOME_ENCODE",
          "HOME_MKT_VAL_ENCODE",
          "NUMBER_OF_CHILDREN_ENCODE",
          "CHILD_PRESENT_ENCODE",
          "CHILD_UNDER_6_PRESENT_ENCODE",
          "CHILD_6_10_PRESENT_ENCODE",
          "CHILD_11_15_PRESENT_ENCODE",
          "CHILD_16_17_PRESENT_ENCODE",
          "EDUCATION_LEVEL_ENCODE",
          "HOME_POOL_ENCODE",
          "SENIOR_ADULT_IN_HH_ENCODE",
          "SINGLE_PARENT_ENCODE",
          "SPANISH_SPEAKING_ENCODE",
          "USES_CREDIT_CARD_ENCODE",
          "HOME_OFFICE_ENCODE",
          "CATALOG_PURCHASER_INTEREST_ENCODE",
          "AVIATION_INTEREST_ENCODE",
          "HIGH_TECH_INTEREST_ENCODE",
          "HOME_LIVING_INTEREST_ENCODE",
          "SAILING_INTEREST_ENCODE",
          "BEAUTY_INTEREST_ENCODE",
          "MENS_FASHION_INTEREST_ENCODE",
          "WOMENS_FASHION_INTEREST_ENCODE",
          "CHILDRENS_FASHION_INTEREST_ENCODE",
          "JEWELERY_AND_FASHION_ACCESSORIES_INTEREST_ENCODE",
          "CHARITY_DONOR_INTEREST_ENCODE",
          "COLLECTOR_INTEREST_ENCODE",
          "COMPUTER_USER_INTEREST_ENCODE",
          "BOARD_GAME_LOVER_INTEREST_ENCODE",
          "VIDEO_GAME_LOVER_INTEREST_ENCODE",
          "HOME_COOK_INTEREST_ENCODE",
          "DIYER_INTEREST_ENCODE",
          "GARDENER_INTEREST_ENCODE",
          "GIFT_GIVER_INTEREST_ENCODE",
          "DIET_AND_WEIGHT_LOSS_INTEREST_ENCODE",
          "HISTORY_LOVER_INTEREST_ENCODE",
          "EQUESTRIAN_LOVER_INTEREST_ENCODE",
          "MUSIC_LOVER_INTEREST_ENCODE",
          "MOVIE_LOVER_INTEREST_ENCODE",
          "OUTDOORSMAN_INTEREST_ENCODE",
          "CAMPING_AND_HIKING_INTEREST_ENCODE",
          "HUNTING_AND_FISHING_INTEREST_ENCODE",
          "ENVIRONMENT_AND_WILDLIFE_INTEREST_ENCODE",
          "CYCLING_INTEREST_ENCODE",
          "HEALTHY_LIVING_INTEREST_ENCODE",
          "PET_OWNER_INTEREST_ENCODE",
          "CAT_OWNER_INTEREST_ENCODE",
          "DOG_OWNER_INTEREST_ENCODE",
          "PHOTOGRAPHER_INTEREST_ENCODE",
          "SEWING_KNITTING_INTEREST_ENCODE",
          "CRAFTS_INTEREST_ENCODE",
          "CULTURE_AND_ARTS_INTEREST_ENCODE",
          "SPORTS_LOVER_INTEREST_ENCODE",
          "BASEBALL_LOVER_INTEREST_ENCODE",
          "BASKETBALL_LOVER_INTEREST_ENCODE",
          "AMERICAN_FOOTBALL_LOVER_INTEREST_ENCODE",
          "GOLF_LOVER_INTEREST_ENCODE",
          "HOCKEY_LOVER_INTEREST_ENCODE",
          "SKIING_LOVER_INTEREST_ENCODE",
          "SOCCER_LOVER_INTEREST_ENCODE",
          "TENNIS_LOVER_INTEREST_ENCODE",
          "TRAVELER_INTEREST_ENCODE",
          "US_EXPLORER_INTEREST_ENCODE",
          "CRUISE_LOVER_INTEREST_ENCODE",
          "MOTORCYCLE_RIDER_INTEREST_ENCODE",
          "RV_OWNER_INTEREST_ENCODE",
          "TRUCK_OWNER_INTEREST_ENCODE",
          "NEWS_LOVER_INTEREST_ENCODE",
          "\"EDUCATION_LEVEL_onehot_VOCATIONAL/TECHNICAL SCHOOL\"",
          "EDUCATION_LEVEL_ONEHOT_UNKNOWN",
          "\"EDUCATION_LEVEL_onehot_HIGH SCHOOL\"",
          "\"EDUCATION_LEVEL_onehot_GRADUATE SCHOOL\"",
          "EDUCATION_LEVEL_ONEHOT_COLLEGE",
          "HOUSEHOLD_COMPOSITION_ONEHOT_UNKNOWN",
          "HOUSEHOLD_COMPOSITION_ONEHOT_INDIVIDUAL",
          "HOUSEHOLD_COMPOSITION_ONEHOT_COUPLE",
          "\"HOUSEHOLD_COMPOSITION_onehot_SINGLE PARENT\"",
          "HOUSEHOLD_COMPOSITION_ONEHOT_FAMILY",
          "OCCUPATION_ONEHOT_UNKNOWN",
          "\"OCCUPATION_onehot_ADMIN/MGMT\"",
          "OCCUPATION_ONEHOT_CLERICAL",
          "\"OCCUPATION_onehot_DOCTOR/MEDICAL\"",
          "OCCUPATION_ONEHOT_FINANCE",
          "OCCUPATION_ONEHOT_HOMEMAKER",
          "\"OCCUPATION_onehot_SELF-EMPLOYED\"",
          "OCCUPATION_ONEHOT_UNSKILLED",
          "\"OCCUPATION_onehot_OTHER PROFESSIONAL/TECHNICAL\"",
          "\"OCCUPATION_onehot_BLUE COLLAR\"",
          "\"OCCUPATION_onehot_SALES/SERVICE\"",
          "OCCUPATION_ONEHOT_RETIRED",
          "OCCUPATION_ONEHOT_TEACHER",
          "\"OCCUPATION_onehot_FARMER/AGRICULTURE\"",
          "OCCUPATION_ONEHOT_LEGAL",
          "\"OCCUPATION_onehot_GOVERNMENT/MILITARY\"",
          "OCCUPATION_ONEHOT_RELIGIOUS",
          "OCCUPATION_ONEHOT_STUDENT",
          "OCCUPATION_ONEHOT_UNEMPLOYED",
          "DWELLING_TYPE_ONEHOT_SINGLE_FAMILY",
          "DWELLING_TYPE_ONEHOT_MULTI_FAMILY",
          "DWELLING_TYPE_ONEHOT_UNKNOWN",
          "DWELLING_TYPE_ONEHOT_MOBILE_HOME",
          "HOME_OWNERSHIP_ONEHOT_HOMEOWNER",
          "HOME_OWNERSHIP_ONEHOT_UNKNOWN",
          "HOME_OWNERSHIP_ONEHOT_RENTER",
          "MARITAL_STATUS_ONEHOT_SINGLE",
          "MARITAL_STATUS_ONEHOT_MARRIED"
         ],
         "type": "barpolar"
        },
        {
         "base": 0,
         "marker": {
          "color": "green"
         },
         "name": "max1",
         "r": [
          1,
          1,
          1,
          1,
          1,
          1,
          1,
          1,
          1,
          1,
          1,
          1,
          1,
          1,
          1,
          1,
          1,
          1,
          1,
          1,
          1,
          1,
          1,
          1,
          1,
          1,
          1,
          1,
          1,
          1,
          1,
          1,
          1,
          1,
          1,
          1,
          1,
          1,
          1,
          1,
          1,
          1,
          1,
          1,
          1,
          1,
          1,
          1,
          1,
          1,
          1,
          1,
          1,
          1,
          1,
          1,
          1,
          1,
          1,
          1,
          1,
          1,
          1,
          1,
          1,
          1,
          1,
          1,
          1,
          1,
          1,
          1,
          1,
          1,
          1,
          1,
          1,
          1,
          1,
          1,
          1,
          1,
          1,
          1,
          1,
          1,
          1,
          0,
          1,
          1,
          1,
          1,
          1,
          1,
          1,
          1,
          0,
          1,
          0,
          1,
          1,
          1,
          1,
          1,
          1,
          1,
          1,
          1,
          1
         ],
         "subplot": "polar8",
         "theta": [
          "AGE_ENCODE",
          "LENGTH_OF_RESIDENCE_ENCODE",
          "ESTIMATED_HOUSEHOLD_INCOME_ENCODE",
          "HOME_MKT_VAL_ENCODE",
          "NUMBER_OF_CHILDREN_ENCODE",
          "CHILD_PRESENT_ENCODE",
          "CHILD_UNDER_6_PRESENT_ENCODE",
          "CHILD_6_10_PRESENT_ENCODE",
          "CHILD_11_15_PRESENT_ENCODE",
          "CHILD_16_17_PRESENT_ENCODE",
          "EDUCATION_LEVEL_ENCODE",
          "HOME_POOL_ENCODE",
          "SENIOR_ADULT_IN_HH_ENCODE",
          "SINGLE_PARENT_ENCODE",
          "SPANISH_SPEAKING_ENCODE",
          "USES_CREDIT_CARD_ENCODE",
          "HOME_OFFICE_ENCODE",
          "CATALOG_PURCHASER_INTEREST_ENCODE",
          "AVIATION_INTEREST_ENCODE",
          "HIGH_TECH_INTEREST_ENCODE",
          "HOME_LIVING_INTEREST_ENCODE",
          "SAILING_INTEREST_ENCODE",
          "BEAUTY_INTEREST_ENCODE",
          "MENS_FASHION_INTEREST_ENCODE",
          "WOMENS_FASHION_INTEREST_ENCODE",
          "CHILDRENS_FASHION_INTEREST_ENCODE",
          "JEWELERY_AND_FASHION_ACCESSORIES_INTEREST_ENCODE",
          "CHARITY_DONOR_INTEREST_ENCODE",
          "COLLECTOR_INTEREST_ENCODE",
          "COMPUTER_USER_INTEREST_ENCODE",
          "BOARD_GAME_LOVER_INTEREST_ENCODE",
          "VIDEO_GAME_LOVER_INTEREST_ENCODE",
          "HOME_COOK_INTEREST_ENCODE",
          "DIYER_INTEREST_ENCODE",
          "GARDENER_INTEREST_ENCODE",
          "GIFT_GIVER_INTEREST_ENCODE",
          "DIET_AND_WEIGHT_LOSS_INTEREST_ENCODE",
          "HISTORY_LOVER_INTEREST_ENCODE",
          "EQUESTRIAN_LOVER_INTEREST_ENCODE",
          "MUSIC_LOVER_INTEREST_ENCODE",
          "MOVIE_LOVER_INTEREST_ENCODE",
          "OUTDOORSMAN_INTEREST_ENCODE",
          "CAMPING_AND_HIKING_INTEREST_ENCODE",
          "HUNTING_AND_FISHING_INTEREST_ENCODE",
          "ENVIRONMENT_AND_WILDLIFE_INTEREST_ENCODE",
          "CYCLING_INTEREST_ENCODE",
          "HEALTHY_LIVING_INTEREST_ENCODE",
          "PET_OWNER_INTEREST_ENCODE",
          "CAT_OWNER_INTEREST_ENCODE",
          "DOG_OWNER_INTEREST_ENCODE",
          "PHOTOGRAPHER_INTEREST_ENCODE",
          "SEWING_KNITTING_INTEREST_ENCODE",
          "CRAFTS_INTEREST_ENCODE",
          "CULTURE_AND_ARTS_INTEREST_ENCODE",
          "SPORTS_LOVER_INTEREST_ENCODE",
          "BASEBALL_LOVER_INTEREST_ENCODE",
          "BASKETBALL_LOVER_INTEREST_ENCODE",
          "AMERICAN_FOOTBALL_LOVER_INTEREST_ENCODE",
          "GOLF_LOVER_INTEREST_ENCODE",
          "HOCKEY_LOVER_INTEREST_ENCODE",
          "SKIING_LOVER_INTEREST_ENCODE",
          "SOCCER_LOVER_INTEREST_ENCODE",
          "TENNIS_LOVER_INTEREST_ENCODE",
          "TRAVELER_INTEREST_ENCODE",
          "US_EXPLORER_INTEREST_ENCODE",
          "CRUISE_LOVER_INTEREST_ENCODE",
          "MOTORCYCLE_RIDER_INTEREST_ENCODE",
          "RV_OWNER_INTEREST_ENCODE",
          "TRUCK_OWNER_INTEREST_ENCODE",
          "NEWS_LOVER_INTEREST_ENCODE",
          "\"EDUCATION_LEVEL_onehot_VOCATIONAL/TECHNICAL SCHOOL\"",
          "EDUCATION_LEVEL_ONEHOT_UNKNOWN",
          "\"EDUCATION_LEVEL_onehot_HIGH SCHOOL\"",
          "\"EDUCATION_LEVEL_onehot_GRADUATE SCHOOL\"",
          "EDUCATION_LEVEL_ONEHOT_COLLEGE",
          "HOUSEHOLD_COMPOSITION_ONEHOT_UNKNOWN",
          "HOUSEHOLD_COMPOSITION_ONEHOT_INDIVIDUAL",
          "HOUSEHOLD_COMPOSITION_ONEHOT_COUPLE",
          "\"HOUSEHOLD_COMPOSITION_onehot_SINGLE PARENT\"",
          "HOUSEHOLD_COMPOSITION_ONEHOT_FAMILY",
          "OCCUPATION_ONEHOT_UNKNOWN",
          "\"OCCUPATION_onehot_ADMIN/MGMT\"",
          "OCCUPATION_ONEHOT_CLERICAL",
          "\"OCCUPATION_onehot_DOCTOR/MEDICAL\"",
          "OCCUPATION_ONEHOT_FINANCE",
          "OCCUPATION_ONEHOT_HOMEMAKER",
          "\"OCCUPATION_onehot_SELF-EMPLOYED\"",
          "OCCUPATION_ONEHOT_UNSKILLED",
          "\"OCCUPATION_onehot_OTHER PROFESSIONAL/TECHNICAL\"",
          "\"OCCUPATION_onehot_BLUE COLLAR\"",
          "\"OCCUPATION_onehot_SALES/SERVICE\"",
          "OCCUPATION_ONEHOT_RETIRED",
          "OCCUPATION_ONEHOT_TEACHER",
          "\"OCCUPATION_onehot_FARMER/AGRICULTURE\"",
          "OCCUPATION_ONEHOT_LEGAL",
          "\"OCCUPATION_onehot_GOVERNMENT/MILITARY\"",
          "OCCUPATION_ONEHOT_RELIGIOUS",
          "OCCUPATION_ONEHOT_STUDENT",
          "OCCUPATION_ONEHOT_UNEMPLOYED",
          "DWELLING_TYPE_ONEHOT_SINGLE_FAMILY",
          "DWELLING_TYPE_ONEHOT_MULTI_FAMILY",
          "DWELLING_TYPE_ONEHOT_UNKNOWN",
          "DWELLING_TYPE_ONEHOT_MOBILE_HOME",
          "HOME_OWNERSHIP_ONEHOT_HOMEOWNER",
          "HOME_OWNERSHIP_ONEHOT_UNKNOWN",
          "HOME_OWNERSHIP_ONEHOT_RENTER",
          "MARITAL_STATUS_ONEHOT_SINGLE",
          "MARITAL_STATUS_ONEHOT_MARRIED"
         ],
         "type": "barpolar"
        },
        {
         "base": 0,
         "marker": {
          "color": "blue"
         },
         "name": "mean1",
         "r": [
          0.3976755314521046,
          0.5904057669441142,
          0.38322433610780815,
          0.49461793604104787,
          0.2577784383670234,
          0.6117717003567182,
          0.11157352358303607,
          0.1280221957986524,
          0.10364645263575109,
          0.05212049147839873,
          0.38783194609591753,
          0.10325009908838684,
          0.30202140309155767,
          0.43826793499801825,
          0.3928854538248117,
          0.676773682124455,
          0.12663495838287753,
          0.30638129211256443,
          0.0017835909631391202,
          0.01743955608402695,
          0.15992865636147444,
          0.02358303606817281,
          0.10206103844629409,
          0.055291319857312726,
          0.13099484740388426,
          0.022790328973444313,
          0.03309552120491478,
          0.09829567974633373,
          0.09314308363059849,
          0.280221957986524,
          0.018826793499801823,
          0.02140309155766944,
          0.20114942528735633,
          0.03785176377328577,
          0.13594926674593738,
          0.10305192231470471,
          0.02001585414189457,
          0.008521601268331352,
          0.0019817677368212444,
          0.06460562822037257,
          0.05608402695204122,
          0.1377328577090765,
          0.019421323820848196,
          0.07966706302021404,
          0.020214030915576695,
          0.004954419342053111,
          0.232461355529132,
          0.049147839873166864,
          0.009710661910424098,
          0.012881490289338089,
          0.0186286167261197,
          0.007332540626238605,
          0.08620689655172414,
          0.02358303606817281,
          0.19262782401902498,
          0.01466508125247721,
          0.013674197384066587,
          0.020214030915576695,
          0.029726516052318668,
          0.00535077288941736,
          0.005945303210463734,
          0.0007927070947284979,
          0.0027744748315497426,
          0.20372572334522393,
          0.034482758620689655,
          0.033491874752279036,
          0.015259611573523584,
          0.04597701149425287,
          0.09492667459373762,
          0.09908838684106223,
          0.0031708283789139914,
          0.38307570352754655,
          0.3767340467697186,
          0.07094728497820056,
          0.1660721363456203,
          0.21105826397146255,
          0.24891002774474832,
          0.09908838684106223,
          0.18093539437177963,
          0.2600079270709473,
          0.698969480776853,
          0.015259611573523584,
          0.022988505747126436,
          0.019619500594530322,
          0.008521601268331352,
          0.018034086405073327,
          0.011296076099881093,
          0,
          0.11553705905667856,
          0.05212049147839873,
          0.008521601268331352,
          0.017043202536662704,
          0.002576298057867618,
          0.0031708283789139914,
          0.0013872374157748713,
          0.0015854141894569957,
          0,
          0.003369005152596116,
          0,
          0.7802219579865239,
          0.16508125247720967,
          0.0348791121680539,
          0.019817677368212445,
          0.6684502576298058,
          0.13178755449861276,
          0.19976218787158145,
          0.42984542211652793,
          0.3590963139120095,
          0.21105826397146255
         ],
         "subplot": "polar8",
         "theta": [
          "AGE_ENCODE",
          "LENGTH_OF_RESIDENCE_ENCODE",
          "ESTIMATED_HOUSEHOLD_INCOME_ENCODE",
          "HOME_MKT_VAL_ENCODE",
          "NUMBER_OF_CHILDREN_ENCODE",
          "CHILD_PRESENT_ENCODE",
          "CHILD_UNDER_6_PRESENT_ENCODE",
          "CHILD_6_10_PRESENT_ENCODE",
          "CHILD_11_15_PRESENT_ENCODE",
          "CHILD_16_17_PRESENT_ENCODE",
          "EDUCATION_LEVEL_ENCODE",
          "HOME_POOL_ENCODE",
          "SENIOR_ADULT_IN_HH_ENCODE",
          "SINGLE_PARENT_ENCODE",
          "SPANISH_SPEAKING_ENCODE",
          "USES_CREDIT_CARD_ENCODE",
          "HOME_OFFICE_ENCODE",
          "CATALOG_PURCHASER_INTEREST_ENCODE",
          "AVIATION_INTEREST_ENCODE",
          "HIGH_TECH_INTEREST_ENCODE",
          "HOME_LIVING_INTEREST_ENCODE",
          "SAILING_INTEREST_ENCODE",
          "BEAUTY_INTEREST_ENCODE",
          "MENS_FASHION_INTEREST_ENCODE",
          "WOMENS_FASHION_INTEREST_ENCODE",
          "CHILDRENS_FASHION_INTEREST_ENCODE",
          "JEWELERY_AND_FASHION_ACCESSORIES_INTEREST_ENCODE",
          "CHARITY_DONOR_INTEREST_ENCODE",
          "COLLECTOR_INTEREST_ENCODE",
          "COMPUTER_USER_INTEREST_ENCODE",
          "BOARD_GAME_LOVER_INTEREST_ENCODE",
          "VIDEO_GAME_LOVER_INTEREST_ENCODE",
          "HOME_COOK_INTEREST_ENCODE",
          "DIYER_INTEREST_ENCODE",
          "GARDENER_INTEREST_ENCODE",
          "GIFT_GIVER_INTEREST_ENCODE",
          "DIET_AND_WEIGHT_LOSS_INTEREST_ENCODE",
          "HISTORY_LOVER_INTEREST_ENCODE",
          "EQUESTRIAN_LOVER_INTEREST_ENCODE",
          "MUSIC_LOVER_INTEREST_ENCODE",
          "MOVIE_LOVER_INTEREST_ENCODE",
          "OUTDOORSMAN_INTEREST_ENCODE",
          "CAMPING_AND_HIKING_INTEREST_ENCODE",
          "HUNTING_AND_FISHING_INTEREST_ENCODE",
          "ENVIRONMENT_AND_WILDLIFE_INTEREST_ENCODE",
          "CYCLING_INTEREST_ENCODE",
          "HEALTHY_LIVING_INTEREST_ENCODE",
          "PET_OWNER_INTEREST_ENCODE",
          "CAT_OWNER_INTEREST_ENCODE",
          "DOG_OWNER_INTEREST_ENCODE",
          "PHOTOGRAPHER_INTEREST_ENCODE",
          "SEWING_KNITTING_INTEREST_ENCODE",
          "CRAFTS_INTEREST_ENCODE",
          "CULTURE_AND_ARTS_INTEREST_ENCODE",
          "SPORTS_LOVER_INTEREST_ENCODE",
          "BASEBALL_LOVER_INTEREST_ENCODE",
          "BASKETBALL_LOVER_INTEREST_ENCODE",
          "AMERICAN_FOOTBALL_LOVER_INTEREST_ENCODE",
          "GOLF_LOVER_INTEREST_ENCODE",
          "HOCKEY_LOVER_INTEREST_ENCODE",
          "SKIING_LOVER_INTEREST_ENCODE",
          "SOCCER_LOVER_INTEREST_ENCODE",
          "TENNIS_LOVER_INTEREST_ENCODE",
          "TRAVELER_INTEREST_ENCODE",
          "US_EXPLORER_INTEREST_ENCODE",
          "CRUISE_LOVER_INTEREST_ENCODE",
          "MOTORCYCLE_RIDER_INTEREST_ENCODE",
          "RV_OWNER_INTEREST_ENCODE",
          "TRUCK_OWNER_INTEREST_ENCODE",
          "NEWS_LOVER_INTEREST_ENCODE",
          "\"EDUCATION_LEVEL_onehot_VOCATIONAL/TECHNICAL SCHOOL\"",
          "EDUCATION_LEVEL_ONEHOT_UNKNOWN",
          "\"EDUCATION_LEVEL_onehot_HIGH SCHOOL\"",
          "\"EDUCATION_LEVEL_onehot_GRADUATE SCHOOL\"",
          "EDUCATION_LEVEL_ONEHOT_COLLEGE",
          "HOUSEHOLD_COMPOSITION_ONEHOT_UNKNOWN",
          "HOUSEHOLD_COMPOSITION_ONEHOT_INDIVIDUAL",
          "HOUSEHOLD_COMPOSITION_ONEHOT_COUPLE",
          "\"HOUSEHOLD_COMPOSITION_onehot_SINGLE PARENT\"",
          "HOUSEHOLD_COMPOSITION_ONEHOT_FAMILY",
          "OCCUPATION_ONEHOT_UNKNOWN",
          "\"OCCUPATION_onehot_ADMIN/MGMT\"",
          "OCCUPATION_ONEHOT_CLERICAL",
          "\"OCCUPATION_onehot_DOCTOR/MEDICAL\"",
          "OCCUPATION_ONEHOT_FINANCE",
          "OCCUPATION_ONEHOT_HOMEMAKER",
          "\"OCCUPATION_onehot_SELF-EMPLOYED\"",
          "OCCUPATION_ONEHOT_UNSKILLED",
          "\"OCCUPATION_onehot_OTHER PROFESSIONAL/TECHNICAL\"",
          "\"OCCUPATION_onehot_BLUE COLLAR\"",
          "\"OCCUPATION_onehot_SALES/SERVICE\"",
          "OCCUPATION_ONEHOT_RETIRED",
          "OCCUPATION_ONEHOT_TEACHER",
          "\"OCCUPATION_onehot_FARMER/AGRICULTURE\"",
          "OCCUPATION_ONEHOT_LEGAL",
          "\"OCCUPATION_onehot_GOVERNMENT/MILITARY\"",
          "OCCUPATION_ONEHOT_RELIGIOUS",
          "OCCUPATION_ONEHOT_STUDENT",
          "OCCUPATION_ONEHOT_UNEMPLOYED",
          "DWELLING_TYPE_ONEHOT_SINGLE_FAMILY",
          "DWELLING_TYPE_ONEHOT_MULTI_FAMILY",
          "DWELLING_TYPE_ONEHOT_UNKNOWN",
          "DWELLING_TYPE_ONEHOT_MOBILE_HOME",
          "HOME_OWNERSHIP_ONEHOT_HOMEOWNER",
          "HOME_OWNERSHIP_ONEHOT_UNKNOWN",
          "HOME_OWNERSHIP_ONEHOT_RENTER",
          "MARITAL_STATUS_ONEHOT_SINGLE",
          "MARITAL_STATUS_ONEHOT_MARRIED"
         ],
         "type": "barpolar"
        },
        {
         "base": 0,
         "marker": {
          "color": "darkred"
         },
         "name": "min1",
         "r": [
          0,
          0,
          0,
          0,
          0,
          0,
          0,
          0,
          0,
          0,
          0,
          0,
          0,
          0,
          0,
          0,
          0,
          0,
          0,
          0,
          0,
          0,
          0,
          0,
          0,
          0,
          0,
          0,
          0,
          0,
          0,
          0,
          0,
          0,
          0,
          0,
          0,
          0,
          0,
          0,
          0,
          0,
          0,
          0,
          0,
          0,
          0,
          0,
          0,
          0,
          0,
          0,
          0,
          0,
          0,
          0,
          0,
          0,
          0,
          0,
          0,
          0,
          0,
          0,
          0,
          0,
          0,
          0,
          0,
          0,
          0,
          0,
          0,
          0,
          0,
          0,
          0,
          0,
          0,
          0,
          0,
          0,
          0,
          0,
          0,
          0,
          0,
          0,
          0,
          0,
          0,
          0,
          0,
          0,
          0,
          0,
          0,
          0,
          0,
          0,
          0,
          0,
          0,
          0,
          0,
          0,
          0,
          0,
          0
         ],
         "subplot": "polar8",
         "theta": [
          "AGE_ENCODE",
          "LENGTH_OF_RESIDENCE_ENCODE",
          "ESTIMATED_HOUSEHOLD_INCOME_ENCODE",
          "HOME_MKT_VAL_ENCODE",
          "NUMBER_OF_CHILDREN_ENCODE",
          "CHILD_PRESENT_ENCODE",
          "CHILD_UNDER_6_PRESENT_ENCODE",
          "CHILD_6_10_PRESENT_ENCODE",
          "CHILD_11_15_PRESENT_ENCODE",
          "CHILD_16_17_PRESENT_ENCODE",
          "EDUCATION_LEVEL_ENCODE",
          "HOME_POOL_ENCODE",
          "SENIOR_ADULT_IN_HH_ENCODE",
          "SINGLE_PARENT_ENCODE",
          "SPANISH_SPEAKING_ENCODE",
          "USES_CREDIT_CARD_ENCODE",
          "HOME_OFFICE_ENCODE",
          "CATALOG_PURCHASER_INTEREST_ENCODE",
          "AVIATION_INTEREST_ENCODE",
          "HIGH_TECH_INTEREST_ENCODE",
          "HOME_LIVING_INTEREST_ENCODE",
          "SAILING_INTEREST_ENCODE",
          "BEAUTY_INTEREST_ENCODE",
          "MENS_FASHION_INTEREST_ENCODE",
          "WOMENS_FASHION_INTEREST_ENCODE",
          "CHILDRENS_FASHION_INTEREST_ENCODE",
          "JEWELERY_AND_FASHION_ACCESSORIES_INTEREST_ENCODE",
          "CHARITY_DONOR_INTEREST_ENCODE",
          "COLLECTOR_INTEREST_ENCODE",
          "COMPUTER_USER_INTEREST_ENCODE",
          "BOARD_GAME_LOVER_INTEREST_ENCODE",
          "VIDEO_GAME_LOVER_INTEREST_ENCODE",
          "HOME_COOK_INTEREST_ENCODE",
          "DIYER_INTEREST_ENCODE",
          "GARDENER_INTEREST_ENCODE",
          "GIFT_GIVER_INTEREST_ENCODE",
          "DIET_AND_WEIGHT_LOSS_INTEREST_ENCODE",
          "HISTORY_LOVER_INTEREST_ENCODE",
          "EQUESTRIAN_LOVER_INTEREST_ENCODE",
          "MUSIC_LOVER_INTEREST_ENCODE",
          "MOVIE_LOVER_INTEREST_ENCODE",
          "OUTDOORSMAN_INTEREST_ENCODE",
          "CAMPING_AND_HIKING_INTEREST_ENCODE",
          "HUNTING_AND_FISHING_INTEREST_ENCODE",
          "ENVIRONMENT_AND_WILDLIFE_INTEREST_ENCODE",
          "CYCLING_INTEREST_ENCODE",
          "HEALTHY_LIVING_INTEREST_ENCODE",
          "PET_OWNER_INTEREST_ENCODE",
          "CAT_OWNER_INTEREST_ENCODE",
          "DOG_OWNER_INTEREST_ENCODE",
          "PHOTOGRAPHER_INTEREST_ENCODE",
          "SEWING_KNITTING_INTEREST_ENCODE",
          "CRAFTS_INTEREST_ENCODE",
          "CULTURE_AND_ARTS_INTEREST_ENCODE",
          "SPORTS_LOVER_INTEREST_ENCODE",
          "BASEBALL_LOVER_INTEREST_ENCODE",
          "BASKETBALL_LOVER_INTEREST_ENCODE",
          "AMERICAN_FOOTBALL_LOVER_INTEREST_ENCODE",
          "GOLF_LOVER_INTEREST_ENCODE",
          "HOCKEY_LOVER_INTEREST_ENCODE",
          "SKIING_LOVER_INTEREST_ENCODE",
          "SOCCER_LOVER_INTEREST_ENCODE",
          "TENNIS_LOVER_INTEREST_ENCODE",
          "TRAVELER_INTEREST_ENCODE",
          "US_EXPLORER_INTEREST_ENCODE",
          "CRUISE_LOVER_INTEREST_ENCODE",
          "MOTORCYCLE_RIDER_INTEREST_ENCODE",
          "RV_OWNER_INTEREST_ENCODE",
          "TRUCK_OWNER_INTEREST_ENCODE",
          "NEWS_LOVER_INTEREST_ENCODE",
          "\"EDUCATION_LEVEL_onehot_VOCATIONAL/TECHNICAL SCHOOL\"",
          "EDUCATION_LEVEL_ONEHOT_UNKNOWN",
          "\"EDUCATION_LEVEL_onehot_HIGH SCHOOL\"",
          "\"EDUCATION_LEVEL_onehot_GRADUATE SCHOOL\"",
          "EDUCATION_LEVEL_ONEHOT_COLLEGE",
          "HOUSEHOLD_COMPOSITION_ONEHOT_UNKNOWN",
          "HOUSEHOLD_COMPOSITION_ONEHOT_INDIVIDUAL",
          "HOUSEHOLD_COMPOSITION_ONEHOT_COUPLE",
          "\"HOUSEHOLD_COMPOSITION_onehot_SINGLE PARENT\"",
          "HOUSEHOLD_COMPOSITION_ONEHOT_FAMILY",
          "OCCUPATION_ONEHOT_UNKNOWN",
          "\"OCCUPATION_onehot_ADMIN/MGMT\"",
          "OCCUPATION_ONEHOT_CLERICAL",
          "\"OCCUPATION_onehot_DOCTOR/MEDICAL\"",
          "OCCUPATION_ONEHOT_FINANCE",
          "OCCUPATION_ONEHOT_HOMEMAKER",
          "\"OCCUPATION_onehot_SELF-EMPLOYED\"",
          "OCCUPATION_ONEHOT_UNSKILLED",
          "\"OCCUPATION_onehot_OTHER PROFESSIONAL/TECHNICAL\"",
          "\"OCCUPATION_onehot_BLUE COLLAR\"",
          "\"OCCUPATION_onehot_SALES/SERVICE\"",
          "OCCUPATION_ONEHOT_RETIRED",
          "OCCUPATION_ONEHOT_TEACHER",
          "\"OCCUPATION_onehot_FARMER/AGRICULTURE\"",
          "OCCUPATION_ONEHOT_LEGAL",
          "\"OCCUPATION_onehot_GOVERNMENT/MILITARY\"",
          "OCCUPATION_ONEHOT_RELIGIOUS",
          "OCCUPATION_ONEHOT_STUDENT",
          "OCCUPATION_ONEHOT_UNEMPLOYED",
          "DWELLING_TYPE_ONEHOT_SINGLE_FAMILY",
          "DWELLING_TYPE_ONEHOT_MULTI_FAMILY",
          "DWELLING_TYPE_ONEHOT_UNKNOWN",
          "DWELLING_TYPE_ONEHOT_MOBILE_HOME",
          "HOME_OWNERSHIP_ONEHOT_HOMEOWNER",
          "HOME_OWNERSHIP_ONEHOT_UNKNOWN",
          "HOME_OWNERSHIP_ONEHOT_RENTER",
          "MARITAL_STATUS_ONEHOT_SINGLE",
          "MARITAL_STATUS_ONEHOT_MARRIED"
         ],
         "type": "barpolar"
        },
        {
         "base": 0,
         "marker": {
          "color": "green"
         },
         "name": "max2",
         "r": [
          1,
          1,
          1,
          1,
          0.75,
          1,
          1,
          1,
          1,
          1,
          1,
          1,
          1,
          1,
          1,
          1,
          1,
          1,
          1,
          1,
          1,
          1,
          1,
          1,
          1,
          1,
          1,
          1,
          1,
          1,
          1,
          1,
          1,
          1,
          1,
          1,
          1,
          1,
          1,
          1,
          1,
          1,
          1,
          1,
          1,
          1,
          1,
          1,
          1,
          1,
          1,
          1,
          1,
          1,
          1,
          1,
          1,
          1,
          1,
          1,
          1,
          1,
          1,
          1,
          1,
          1,
          1,
          1,
          1,
          1,
          1,
          1,
          1,
          1,
          1,
          1,
          1,
          1,
          1,
          1,
          1,
          1,
          1,
          1,
          1,
          1,
          1,
          0,
          1,
          1,
          1,
          1,
          1,
          1,
          1,
          1,
          1,
          1,
          0,
          1,
          1,
          1,
          1,
          1,
          1,
          1,
          1,
          1,
          1
         ],
         "subplot": "polar9",
         "theta": [
          "AGE_ENCODE",
          "LENGTH_OF_RESIDENCE_ENCODE",
          "ESTIMATED_HOUSEHOLD_INCOME_ENCODE",
          "HOME_MKT_VAL_ENCODE",
          "NUMBER_OF_CHILDREN_ENCODE",
          "CHILD_PRESENT_ENCODE",
          "CHILD_UNDER_6_PRESENT_ENCODE",
          "CHILD_6_10_PRESENT_ENCODE",
          "CHILD_11_15_PRESENT_ENCODE",
          "CHILD_16_17_PRESENT_ENCODE",
          "EDUCATION_LEVEL_ENCODE",
          "HOME_POOL_ENCODE",
          "SENIOR_ADULT_IN_HH_ENCODE",
          "SINGLE_PARENT_ENCODE",
          "SPANISH_SPEAKING_ENCODE",
          "USES_CREDIT_CARD_ENCODE",
          "HOME_OFFICE_ENCODE",
          "CATALOG_PURCHASER_INTEREST_ENCODE",
          "AVIATION_INTEREST_ENCODE",
          "HIGH_TECH_INTEREST_ENCODE",
          "HOME_LIVING_INTEREST_ENCODE",
          "SAILING_INTEREST_ENCODE",
          "BEAUTY_INTEREST_ENCODE",
          "MENS_FASHION_INTEREST_ENCODE",
          "WOMENS_FASHION_INTEREST_ENCODE",
          "CHILDRENS_FASHION_INTEREST_ENCODE",
          "JEWELERY_AND_FASHION_ACCESSORIES_INTEREST_ENCODE",
          "CHARITY_DONOR_INTEREST_ENCODE",
          "COLLECTOR_INTEREST_ENCODE",
          "COMPUTER_USER_INTEREST_ENCODE",
          "BOARD_GAME_LOVER_INTEREST_ENCODE",
          "VIDEO_GAME_LOVER_INTEREST_ENCODE",
          "HOME_COOK_INTEREST_ENCODE",
          "DIYER_INTEREST_ENCODE",
          "GARDENER_INTEREST_ENCODE",
          "GIFT_GIVER_INTEREST_ENCODE",
          "DIET_AND_WEIGHT_LOSS_INTEREST_ENCODE",
          "HISTORY_LOVER_INTEREST_ENCODE",
          "EQUESTRIAN_LOVER_INTEREST_ENCODE",
          "MUSIC_LOVER_INTEREST_ENCODE",
          "MOVIE_LOVER_INTEREST_ENCODE",
          "OUTDOORSMAN_INTEREST_ENCODE",
          "CAMPING_AND_HIKING_INTEREST_ENCODE",
          "HUNTING_AND_FISHING_INTEREST_ENCODE",
          "ENVIRONMENT_AND_WILDLIFE_INTEREST_ENCODE",
          "CYCLING_INTEREST_ENCODE",
          "HEALTHY_LIVING_INTEREST_ENCODE",
          "PET_OWNER_INTEREST_ENCODE",
          "CAT_OWNER_INTEREST_ENCODE",
          "DOG_OWNER_INTEREST_ENCODE",
          "PHOTOGRAPHER_INTEREST_ENCODE",
          "SEWING_KNITTING_INTEREST_ENCODE",
          "CRAFTS_INTEREST_ENCODE",
          "CULTURE_AND_ARTS_INTEREST_ENCODE",
          "SPORTS_LOVER_INTEREST_ENCODE",
          "BASEBALL_LOVER_INTEREST_ENCODE",
          "BASKETBALL_LOVER_INTEREST_ENCODE",
          "AMERICAN_FOOTBALL_LOVER_INTEREST_ENCODE",
          "GOLF_LOVER_INTEREST_ENCODE",
          "HOCKEY_LOVER_INTEREST_ENCODE",
          "SKIING_LOVER_INTEREST_ENCODE",
          "SOCCER_LOVER_INTEREST_ENCODE",
          "TENNIS_LOVER_INTEREST_ENCODE",
          "TRAVELER_INTEREST_ENCODE",
          "US_EXPLORER_INTEREST_ENCODE",
          "CRUISE_LOVER_INTEREST_ENCODE",
          "MOTORCYCLE_RIDER_INTEREST_ENCODE",
          "RV_OWNER_INTEREST_ENCODE",
          "TRUCK_OWNER_INTEREST_ENCODE",
          "NEWS_LOVER_INTEREST_ENCODE",
          "\"EDUCATION_LEVEL_onehot_VOCATIONAL/TECHNICAL SCHOOL\"",
          "EDUCATION_LEVEL_ONEHOT_UNKNOWN",
          "\"EDUCATION_LEVEL_onehot_HIGH SCHOOL\"",
          "\"EDUCATION_LEVEL_onehot_GRADUATE SCHOOL\"",
          "EDUCATION_LEVEL_ONEHOT_COLLEGE",
          "HOUSEHOLD_COMPOSITION_ONEHOT_UNKNOWN",
          "HOUSEHOLD_COMPOSITION_ONEHOT_INDIVIDUAL",
          "HOUSEHOLD_COMPOSITION_ONEHOT_COUPLE",
          "\"HOUSEHOLD_COMPOSITION_onehot_SINGLE PARENT\"",
          "HOUSEHOLD_COMPOSITION_ONEHOT_FAMILY",
          "OCCUPATION_ONEHOT_UNKNOWN",
          "\"OCCUPATION_onehot_ADMIN/MGMT\"",
          "OCCUPATION_ONEHOT_CLERICAL",
          "\"OCCUPATION_onehot_DOCTOR/MEDICAL\"",
          "OCCUPATION_ONEHOT_FINANCE",
          "OCCUPATION_ONEHOT_HOMEMAKER",
          "\"OCCUPATION_onehot_SELF-EMPLOYED\"",
          "OCCUPATION_ONEHOT_UNSKILLED",
          "\"OCCUPATION_onehot_OTHER PROFESSIONAL/TECHNICAL\"",
          "\"OCCUPATION_onehot_BLUE COLLAR\"",
          "\"OCCUPATION_onehot_SALES/SERVICE\"",
          "OCCUPATION_ONEHOT_RETIRED",
          "OCCUPATION_ONEHOT_TEACHER",
          "\"OCCUPATION_onehot_FARMER/AGRICULTURE\"",
          "OCCUPATION_ONEHOT_LEGAL",
          "\"OCCUPATION_onehot_GOVERNMENT/MILITARY\"",
          "OCCUPATION_ONEHOT_RELIGIOUS",
          "OCCUPATION_ONEHOT_STUDENT",
          "OCCUPATION_ONEHOT_UNEMPLOYED",
          "DWELLING_TYPE_ONEHOT_SINGLE_FAMILY",
          "DWELLING_TYPE_ONEHOT_MULTI_FAMILY",
          "DWELLING_TYPE_ONEHOT_UNKNOWN",
          "DWELLING_TYPE_ONEHOT_MOBILE_HOME",
          "HOME_OWNERSHIP_ONEHOT_HOMEOWNER",
          "HOME_OWNERSHIP_ONEHOT_UNKNOWN",
          "HOME_OWNERSHIP_ONEHOT_RENTER",
          "MARITAL_STATUS_ONEHOT_SINGLE",
          "MARITAL_STATUS_ONEHOT_MARRIED"
         ],
         "type": "barpolar"
        },
        {
         "base": 0,
         "marker": {
          "color": "blue"
         },
         "name": "mean2",
         "r": [
          0.507118109155775,
          0.7371659634317862,
          0.35970464135021096,
          0.5398623140128802,
          0.3210267229254571,
          0.6842475386779184,
          0.25738396624472576,
          0.26019690576652604,
          0.1828410689170183,
          0.1308016877637131,
          0.46554149085794655,
          0.29254571026722925,
          0.6286919831223629,
          0.2088607594936709,
          0.04922644163150492,
          1,
          0.5063291139240507,
          0.5625879043600562,
          0.052039381153305204,
          0.8888888888888888,
          0.9353023909985936,
          0.5428973277074542,
          0.6863572433192686,
          0.35443037974683544,
          0.5963431786216596,
          0.13924050632911392,
          0.16455696202531644,
          0.9423347398030942,
          0.9831223628691983,
          0.9901547116736991,
          0.4219409282700422,
          0.6497890295358649,
          0.9971870604781997,
          0.8382559774964838,
          0.9873417721518988,
          0.7172995780590717,
          0.9521800281293952,
          0.459915611814346,
          0.08438818565400844,
          0.9985935302390999,
          0.9690576652601969,
          0.9971870604781997,
          0.7819971870604782,
          0.8832630098452883,
          0.639943741209564,
          0.44163150492264414,
          0.9971870604781997,
          0.9789029535864979,
          0.7018284106891702,
          0.8748241912798875,
          0.6933895921237694,
          0.7144866385372715,
          0.9704641350210971,
          0.8255977496483825,
          0.9985935302390999,
          0.6976090014064698,
          0.6497890295358649,
          0.8185654008438819,
          0.7215189873417721,
          0.35724331926863573,
          0.29957805907172996,
          0.05485232067510549,
          0.20253164556962025,
          0.9985935302390999,
          0.9507735583684951,
          0.8241912798874824,
          0.27285513361462727,
          0.639943741209564,
          0.5583684950773559,
          0.8621659634317862,
          0.004219409282700422,
          0.21378340365682139,
          0.34458509142053445,
          0.11814345991561181,
          0.31926863572433195,
          0.3009845288326301,
          0.0829817158931083,
          0.18846694796061886,
          0.090014064697609,
          0.33755274261603374,
          0.24050632911392406,
          0.08720112517580872,
          0.06891701828410689,
          0.05625879043600562,
          0.012658227848101266,
          0.1111111111111111,
          0.02109704641350211,
          0,
          0.18846694796061886,
          0.1111111111111111,
          0.029535864978902954,
          0.03234880450070324,
          0.004219409282700422,
          0.005625879043600563,
          0.0028129395218002813,
          0.014064697609001406,
          0.0014064697609001407,
          0.012658227848101266,
          0,
          0.9043600562587905,
          0.01828410689170183,
          0.05063291139240506,
          0.026722925457102673,
          0.8860759493670886,
          0.07454289732770746,
          0.03938115330520394,
          0.1729957805907173,
          0.5260196905766527,
          0.3009845288326301
         ],
         "subplot": "polar9",
         "theta": [
          "AGE_ENCODE",
          "LENGTH_OF_RESIDENCE_ENCODE",
          "ESTIMATED_HOUSEHOLD_INCOME_ENCODE",
          "HOME_MKT_VAL_ENCODE",
          "NUMBER_OF_CHILDREN_ENCODE",
          "CHILD_PRESENT_ENCODE",
          "CHILD_UNDER_6_PRESENT_ENCODE",
          "CHILD_6_10_PRESENT_ENCODE",
          "CHILD_11_15_PRESENT_ENCODE",
          "CHILD_16_17_PRESENT_ENCODE",
          "EDUCATION_LEVEL_ENCODE",
          "HOME_POOL_ENCODE",
          "SENIOR_ADULT_IN_HH_ENCODE",
          "SINGLE_PARENT_ENCODE",
          "SPANISH_SPEAKING_ENCODE",
          "USES_CREDIT_CARD_ENCODE",
          "HOME_OFFICE_ENCODE",
          "CATALOG_PURCHASER_INTEREST_ENCODE",
          "AVIATION_INTEREST_ENCODE",
          "HIGH_TECH_INTEREST_ENCODE",
          "HOME_LIVING_INTEREST_ENCODE",
          "SAILING_INTEREST_ENCODE",
          "BEAUTY_INTEREST_ENCODE",
          "MENS_FASHION_INTEREST_ENCODE",
          "WOMENS_FASHION_INTEREST_ENCODE",
          "CHILDRENS_FASHION_INTEREST_ENCODE",
          "JEWELERY_AND_FASHION_ACCESSORIES_INTEREST_ENCODE",
          "CHARITY_DONOR_INTEREST_ENCODE",
          "COLLECTOR_INTEREST_ENCODE",
          "COMPUTER_USER_INTEREST_ENCODE",
          "BOARD_GAME_LOVER_INTEREST_ENCODE",
          "VIDEO_GAME_LOVER_INTEREST_ENCODE",
          "HOME_COOK_INTEREST_ENCODE",
          "DIYER_INTEREST_ENCODE",
          "GARDENER_INTEREST_ENCODE",
          "GIFT_GIVER_INTEREST_ENCODE",
          "DIET_AND_WEIGHT_LOSS_INTEREST_ENCODE",
          "HISTORY_LOVER_INTEREST_ENCODE",
          "EQUESTRIAN_LOVER_INTEREST_ENCODE",
          "MUSIC_LOVER_INTEREST_ENCODE",
          "MOVIE_LOVER_INTEREST_ENCODE",
          "OUTDOORSMAN_INTEREST_ENCODE",
          "CAMPING_AND_HIKING_INTEREST_ENCODE",
          "HUNTING_AND_FISHING_INTEREST_ENCODE",
          "ENVIRONMENT_AND_WILDLIFE_INTEREST_ENCODE",
          "CYCLING_INTEREST_ENCODE",
          "HEALTHY_LIVING_INTEREST_ENCODE",
          "PET_OWNER_INTEREST_ENCODE",
          "CAT_OWNER_INTEREST_ENCODE",
          "DOG_OWNER_INTEREST_ENCODE",
          "PHOTOGRAPHER_INTEREST_ENCODE",
          "SEWING_KNITTING_INTEREST_ENCODE",
          "CRAFTS_INTEREST_ENCODE",
          "CULTURE_AND_ARTS_INTEREST_ENCODE",
          "SPORTS_LOVER_INTEREST_ENCODE",
          "BASEBALL_LOVER_INTEREST_ENCODE",
          "BASKETBALL_LOVER_INTEREST_ENCODE",
          "AMERICAN_FOOTBALL_LOVER_INTEREST_ENCODE",
          "GOLF_LOVER_INTEREST_ENCODE",
          "HOCKEY_LOVER_INTEREST_ENCODE",
          "SKIING_LOVER_INTEREST_ENCODE",
          "SOCCER_LOVER_INTEREST_ENCODE",
          "TENNIS_LOVER_INTEREST_ENCODE",
          "TRAVELER_INTEREST_ENCODE",
          "US_EXPLORER_INTEREST_ENCODE",
          "CRUISE_LOVER_INTEREST_ENCODE",
          "MOTORCYCLE_RIDER_INTEREST_ENCODE",
          "RV_OWNER_INTEREST_ENCODE",
          "TRUCK_OWNER_INTEREST_ENCODE",
          "NEWS_LOVER_INTEREST_ENCODE",
          "\"EDUCATION_LEVEL_onehot_VOCATIONAL/TECHNICAL SCHOOL\"",
          "EDUCATION_LEVEL_ONEHOT_UNKNOWN",
          "\"EDUCATION_LEVEL_onehot_HIGH SCHOOL\"",
          "\"EDUCATION_LEVEL_onehot_GRADUATE SCHOOL\"",
          "EDUCATION_LEVEL_ONEHOT_COLLEGE",
          "HOUSEHOLD_COMPOSITION_ONEHOT_UNKNOWN",
          "HOUSEHOLD_COMPOSITION_ONEHOT_INDIVIDUAL",
          "HOUSEHOLD_COMPOSITION_ONEHOT_COUPLE",
          "\"HOUSEHOLD_COMPOSITION_onehot_SINGLE PARENT\"",
          "HOUSEHOLD_COMPOSITION_ONEHOT_FAMILY",
          "OCCUPATION_ONEHOT_UNKNOWN",
          "\"OCCUPATION_onehot_ADMIN/MGMT\"",
          "OCCUPATION_ONEHOT_CLERICAL",
          "\"OCCUPATION_onehot_DOCTOR/MEDICAL\"",
          "OCCUPATION_ONEHOT_FINANCE",
          "OCCUPATION_ONEHOT_HOMEMAKER",
          "\"OCCUPATION_onehot_SELF-EMPLOYED\"",
          "OCCUPATION_ONEHOT_UNSKILLED",
          "\"OCCUPATION_onehot_OTHER PROFESSIONAL/TECHNICAL\"",
          "\"OCCUPATION_onehot_BLUE COLLAR\"",
          "\"OCCUPATION_onehot_SALES/SERVICE\"",
          "OCCUPATION_ONEHOT_RETIRED",
          "OCCUPATION_ONEHOT_TEACHER",
          "\"OCCUPATION_onehot_FARMER/AGRICULTURE\"",
          "OCCUPATION_ONEHOT_LEGAL",
          "\"OCCUPATION_onehot_GOVERNMENT/MILITARY\"",
          "OCCUPATION_ONEHOT_RELIGIOUS",
          "OCCUPATION_ONEHOT_STUDENT",
          "OCCUPATION_ONEHOT_UNEMPLOYED",
          "DWELLING_TYPE_ONEHOT_SINGLE_FAMILY",
          "DWELLING_TYPE_ONEHOT_MULTI_FAMILY",
          "DWELLING_TYPE_ONEHOT_UNKNOWN",
          "DWELLING_TYPE_ONEHOT_MOBILE_HOME",
          "HOME_OWNERSHIP_ONEHOT_HOMEOWNER",
          "HOME_OWNERSHIP_ONEHOT_UNKNOWN",
          "HOME_OWNERSHIP_ONEHOT_RENTER",
          "MARITAL_STATUS_ONEHOT_SINGLE",
          "MARITAL_STATUS_ONEHOT_MARRIED"
         ],
         "type": "barpolar"
        },
        {
         "base": 0,
         "marker": {
          "color": "darkred"
         },
         "name": "min2",
         "r": [
          0.024390243902439025,
          0,
          0,
          0,
          0,
          0,
          0,
          0,
          0,
          0,
          0,
          0,
          0,
          0,
          0,
          1,
          0,
          0,
          0,
          0,
          0,
          0,
          0,
          0,
          0,
          0,
          0,
          0,
          0,
          0,
          0,
          0,
          0,
          0,
          0,
          0,
          0,
          0,
          0,
          0,
          0,
          0,
          0,
          0,
          0,
          0,
          0,
          0,
          0,
          0,
          0,
          0,
          0,
          0,
          0,
          0,
          0,
          0,
          0,
          0,
          0,
          0,
          0,
          0,
          0,
          0,
          0,
          0,
          0,
          0,
          0,
          0,
          0,
          0,
          0,
          0,
          0,
          0,
          0,
          0,
          0,
          0,
          0,
          0,
          0,
          0,
          0,
          0,
          0,
          0,
          0,
          0,
          0,
          0,
          0,
          0,
          0,
          0,
          0,
          0,
          0,
          0,
          0,
          0,
          0,
          0,
          0,
          0,
          0
         ],
         "subplot": "polar9",
         "theta": [
          "AGE_ENCODE",
          "LENGTH_OF_RESIDENCE_ENCODE",
          "ESTIMATED_HOUSEHOLD_INCOME_ENCODE",
          "HOME_MKT_VAL_ENCODE",
          "NUMBER_OF_CHILDREN_ENCODE",
          "CHILD_PRESENT_ENCODE",
          "CHILD_UNDER_6_PRESENT_ENCODE",
          "CHILD_6_10_PRESENT_ENCODE",
          "CHILD_11_15_PRESENT_ENCODE",
          "CHILD_16_17_PRESENT_ENCODE",
          "EDUCATION_LEVEL_ENCODE",
          "HOME_POOL_ENCODE",
          "SENIOR_ADULT_IN_HH_ENCODE",
          "SINGLE_PARENT_ENCODE",
          "SPANISH_SPEAKING_ENCODE",
          "USES_CREDIT_CARD_ENCODE",
          "HOME_OFFICE_ENCODE",
          "CATALOG_PURCHASER_INTEREST_ENCODE",
          "AVIATION_INTEREST_ENCODE",
          "HIGH_TECH_INTEREST_ENCODE",
          "HOME_LIVING_INTEREST_ENCODE",
          "SAILING_INTEREST_ENCODE",
          "BEAUTY_INTEREST_ENCODE",
          "MENS_FASHION_INTEREST_ENCODE",
          "WOMENS_FASHION_INTEREST_ENCODE",
          "CHILDRENS_FASHION_INTEREST_ENCODE",
          "JEWELERY_AND_FASHION_ACCESSORIES_INTEREST_ENCODE",
          "CHARITY_DONOR_INTEREST_ENCODE",
          "COLLECTOR_INTEREST_ENCODE",
          "COMPUTER_USER_INTEREST_ENCODE",
          "BOARD_GAME_LOVER_INTEREST_ENCODE",
          "VIDEO_GAME_LOVER_INTEREST_ENCODE",
          "HOME_COOK_INTEREST_ENCODE",
          "DIYER_INTEREST_ENCODE",
          "GARDENER_INTEREST_ENCODE",
          "GIFT_GIVER_INTEREST_ENCODE",
          "DIET_AND_WEIGHT_LOSS_INTEREST_ENCODE",
          "HISTORY_LOVER_INTEREST_ENCODE",
          "EQUESTRIAN_LOVER_INTEREST_ENCODE",
          "MUSIC_LOVER_INTEREST_ENCODE",
          "MOVIE_LOVER_INTEREST_ENCODE",
          "OUTDOORSMAN_INTEREST_ENCODE",
          "CAMPING_AND_HIKING_INTEREST_ENCODE",
          "HUNTING_AND_FISHING_INTEREST_ENCODE",
          "ENVIRONMENT_AND_WILDLIFE_INTEREST_ENCODE",
          "CYCLING_INTEREST_ENCODE",
          "HEALTHY_LIVING_INTEREST_ENCODE",
          "PET_OWNER_INTEREST_ENCODE",
          "CAT_OWNER_INTEREST_ENCODE",
          "DOG_OWNER_INTEREST_ENCODE",
          "PHOTOGRAPHER_INTEREST_ENCODE",
          "SEWING_KNITTING_INTEREST_ENCODE",
          "CRAFTS_INTEREST_ENCODE",
          "CULTURE_AND_ARTS_INTEREST_ENCODE",
          "SPORTS_LOVER_INTEREST_ENCODE",
          "BASEBALL_LOVER_INTEREST_ENCODE",
          "BASKETBALL_LOVER_INTEREST_ENCODE",
          "AMERICAN_FOOTBALL_LOVER_INTEREST_ENCODE",
          "GOLF_LOVER_INTEREST_ENCODE",
          "HOCKEY_LOVER_INTEREST_ENCODE",
          "SKIING_LOVER_INTEREST_ENCODE",
          "SOCCER_LOVER_INTEREST_ENCODE",
          "TENNIS_LOVER_INTEREST_ENCODE",
          "TRAVELER_INTEREST_ENCODE",
          "US_EXPLORER_INTEREST_ENCODE",
          "CRUISE_LOVER_INTEREST_ENCODE",
          "MOTORCYCLE_RIDER_INTEREST_ENCODE",
          "RV_OWNER_INTEREST_ENCODE",
          "TRUCK_OWNER_INTEREST_ENCODE",
          "NEWS_LOVER_INTEREST_ENCODE",
          "\"EDUCATION_LEVEL_onehot_VOCATIONAL/TECHNICAL SCHOOL\"",
          "EDUCATION_LEVEL_ONEHOT_UNKNOWN",
          "\"EDUCATION_LEVEL_onehot_HIGH SCHOOL\"",
          "\"EDUCATION_LEVEL_onehot_GRADUATE SCHOOL\"",
          "EDUCATION_LEVEL_ONEHOT_COLLEGE",
          "HOUSEHOLD_COMPOSITION_ONEHOT_UNKNOWN",
          "HOUSEHOLD_COMPOSITION_ONEHOT_INDIVIDUAL",
          "HOUSEHOLD_COMPOSITION_ONEHOT_COUPLE",
          "\"HOUSEHOLD_COMPOSITION_onehot_SINGLE PARENT\"",
          "HOUSEHOLD_COMPOSITION_ONEHOT_FAMILY",
          "OCCUPATION_ONEHOT_UNKNOWN",
          "\"OCCUPATION_onehot_ADMIN/MGMT\"",
          "OCCUPATION_ONEHOT_CLERICAL",
          "\"OCCUPATION_onehot_DOCTOR/MEDICAL\"",
          "OCCUPATION_ONEHOT_FINANCE",
          "OCCUPATION_ONEHOT_HOMEMAKER",
          "\"OCCUPATION_onehot_SELF-EMPLOYED\"",
          "OCCUPATION_ONEHOT_UNSKILLED",
          "\"OCCUPATION_onehot_OTHER PROFESSIONAL/TECHNICAL\"",
          "\"OCCUPATION_onehot_BLUE COLLAR\"",
          "\"OCCUPATION_onehot_SALES/SERVICE\"",
          "OCCUPATION_ONEHOT_RETIRED",
          "OCCUPATION_ONEHOT_TEACHER",
          "\"OCCUPATION_onehot_FARMER/AGRICULTURE\"",
          "OCCUPATION_ONEHOT_LEGAL",
          "\"OCCUPATION_onehot_GOVERNMENT/MILITARY\"",
          "OCCUPATION_ONEHOT_RELIGIOUS",
          "OCCUPATION_ONEHOT_STUDENT",
          "OCCUPATION_ONEHOT_UNEMPLOYED",
          "DWELLING_TYPE_ONEHOT_SINGLE_FAMILY",
          "DWELLING_TYPE_ONEHOT_MULTI_FAMILY",
          "DWELLING_TYPE_ONEHOT_UNKNOWN",
          "DWELLING_TYPE_ONEHOT_MOBILE_HOME",
          "HOME_OWNERSHIP_ONEHOT_HOMEOWNER",
          "HOME_OWNERSHIP_ONEHOT_UNKNOWN",
          "HOME_OWNERSHIP_ONEHOT_RENTER",
          "MARITAL_STATUS_ONEHOT_SINGLE",
          "MARITAL_STATUS_ONEHOT_MARRIED"
         ],
         "type": "barpolar"
        },
        {
         "base": 0,
         "marker": {
          "color": "green"
         },
         "name": "max3",
         "r": [
          1,
          1,
          1,
          1,
          1,
          1,
          1,
          1,
          1,
          1,
          1,
          1,
          1,
          1,
          1,
          1,
          1,
          1,
          1,
          1,
          1,
          1,
          1,
          1,
          1,
          1,
          1,
          1,
          1,
          1,
          1,
          1,
          1,
          1,
          1,
          1,
          1,
          1,
          1,
          1,
          1,
          1,
          1,
          1,
          1,
          1,
          1,
          1,
          1,
          1,
          1,
          1,
          1,
          1,
          1,
          1,
          1,
          1,
          1,
          1,
          1,
          1,
          1,
          1,
          1,
          1,
          1,
          1,
          1,
          1,
          1,
          1,
          1,
          1,
          1,
          1,
          1,
          1,
          1,
          1,
          1,
          1,
          1,
          1,
          1,
          1,
          1,
          0,
          1,
          1,
          1,
          1,
          1,
          1,
          0,
          0,
          0,
          1,
          0,
          1,
          1,
          1,
          1,
          1,
          1,
          1,
          1,
          1,
          1
         ],
         "subplot": "polar4",
         "theta": [
          "AGE_ENCODE",
          "LENGTH_OF_RESIDENCE_ENCODE",
          "ESTIMATED_HOUSEHOLD_INCOME_ENCODE",
          "HOME_MKT_VAL_ENCODE",
          "NUMBER_OF_CHILDREN_ENCODE",
          "CHILD_PRESENT_ENCODE",
          "CHILD_UNDER_6_PRESENT_ENCODE",
          "CHILD_6_10_PRESENT_ENCODE",
          "CHILD_11_15_PRESENT_ENCODE",
          "CHILD_16_17_PRESENT_ENCODE",
          "EDUCATION_LEVEL_ENCODE",
          "HOME_POOL_ENCODE",
          "SENIOR_ADULT_IN_HH_ENCODE",
          "SINGLE_PARENT_ENCODE",
          "SPANISH_SPEAKING_ENCODE",
          "USES_CREDIT_CARD_ENCODE",
          "HOME_OFFICE_ENCODE",
          "CATALOG_PURCHASER_INTEREST_ENCODE",
          "AVIATION_INTEREST_ENCODE",
          "HIGH_TECH_INTEREST_ENCODE",
          "HOME_LIVING_INTEREST_ENCODE",
          "SAILING_INTEREST_ENCODE",
          "BEAUTY_INTEREST_ENCODE",
          "MENS_FASHION_INTEREST_ENCODE",
          "WOMENS_FASHION_INTEREST_ENCODE",
          "CHILDRENS_FASHION_INTEREST_ENCODE",
          "JEWELERY_AND_FASHION_ACCESSORIES_INTEREST_ENCODE",
          "CHARITY_DONOR_INTEREST_ENCODE",
          "COLLECTOR_INTEREST_ENCODE",
          "COMPUTER_USER_INTEREST_ENCODE",
          "BOARD_GAME_LOVER_INTEREST_ENCODE",
          "VIDEO_GAME_LOVER_INTEREST_ENCODE",
          "HOME_COOK_INTEREST_ENCODE",
          "DIYER_INTEREST_ENCODE",
          "GARDENER_INTEREST_ENCODE",
          "GIFT_GIVER_INTEREST_ENCODE",
          "DIET_AND_WEIGHT_LOSS_INTEREST_ENCODE",
          "HISTORY_LOVER_INTEREST_ENCODE",
          "EQUESTRIAN_LOVER_INTEREST_ENCODE",
          "MUSIC_LOVER_INTEREST_ENCODE",
          "MOVIE_LOVER_INTEREST_ENCODE",
          "OUTDOORSMAN_INTEREST_ENCODE",
          "CAMPING_AND_HIKING_INTEREST_ENCODE",
          "HUNTING_AND_FISHING_INTEREST_ENCODE",
          "ENVIRONMENT_AND_WILDLIFE_INTEREST_ENCODE",
          "CYCLING_INTEREST_ENCODE",
          "HEALTHY_LIVING_INTEREST_ENCODE",
          "PET_OWNER_INTEREST_ENCODE",
          "CAT_OWNER_INTEREST_ENCODE",
          "DOG_OWNER_INTEREST_ENCODE",
          "PHOTOGRAPHER_INTEREST_ENCODE",
          "SEWING_KNITTING_INTEREST_ENCODE",
          "CRAFTS_INTEREST_ENCODE",
          "CULTURE_AND_ARTS_INTEREST_ENCODE",
          "SPORTS_LOVER_INTEREST_ENCODE",
          "BASEBALL_LOVER_INTEREST_ENCODE",
          "BASKETBALL_LOVER_INTEREST_ENCODE",
          "AMERICAN_FOOTBALL_LOVER_INTEREST_ENCODE",
          "GOLF_LOVER_INTEREST_ENCODE",
          "HOCKEY_LOVER_INTEREST_ENCODE",
          "SKIING_LOVER_INTEREST_ENCODE",
          "SOCCER_LOVER_INTEREST_ENCODE",
          "TENNIS_LOVER_INTEREST_ENCODE",
          "TRAVELER_INTEREST_ENCODE",
          "US_EXPLORER_INTEREST_ENCODE",
          "CRUISE_LOVER_INTEREST_ENCODE",
          "MOTORCYCLE_RIDER_INTEREST_ENCODE",
          "RV_OWNER_INTEREST_ENCODE",
          "TRUCK_OWNER_INTEREST_ENCODE",
          "NEWS_LOVER_INTEREST_ENCODE",
          "\"EDUCATION_LEVEL_onehot_VOCATIONAL/TECHNICAL SCHOOL\"",
          "EDUCATION_LEVEL_ONEHOT_UNKNOWN",
          "\"EDUCATION_LEVEL_onehot_HIGH SCHOOL\"",
          "\"EDUCATION_LEVEL_onehot_GRADUATE SCHOOL\"",
          "EDUCATION_LEVEL_ONEHOT_COLLEGE",
          "HOUSEHOLD_COMPOSITION_ONEHOT_UNKNOWN",
          "HOUSEHOLD_COMPOSITION_ONEHOT_INDIVIDUAL",
          "HOUSEHOLD_COMPOSITION_ONEHOT_COUPLE",
          "\"HOUSEHOLD_COMPOSITION_onehot_SINGLE PARENT\"",
          "HOUSEHOLD_COMPOSITION_ONEHOT_FAMILY",
          "OCCUPATION_ONEHOT_UNKNOWN",
          "\"OCCUPATION_onehot_ADMIN/MGMT\"",
          "OCCUPATION_ONEHOT_CLERICAL",
          "\"OCCUPATION_onehot_DOCTOR/MEDICAL\"",
          "OCCUPATION_ONEHOT_FINANCE",
          "OCCUPATION_ONEHOT_HOMEMAKER",
          "\"OCCUPATION_onehot_SELF-EMPLOYED\"",
          "OCCUPATION_ONEHOT_UNSKILLED",
          "\"OCCUPATION_onehot_OTHER PROFESSIONAL/TECHNICAL\"",
          "\"OCCUPATION_onehot_BLUE COLLAR\"",
          "\"OCCUPATION_onehot_SALES/SERVICE\"",
          "OCCUPATION_ONEHOT_RETIRED",
          "OCCUPATION_ONEHOT_TEACHER",
          "\"OCCUPATION_onehot_FARMER/AGRICULTURE\"",
          "OCCUPATION_ONEHOT_LEGAL",
          "\"OCCUPATION_onehot_GOVERNMENT/MILITARY\"",
          "OCCUPATION_ONEHOT_RELIGIOUS",
          "OCCUPATION_ONEHOT_STUDENT",
          "OCCUPATION_ONEHOT_UNEMPLOYED",
          "DWELLING_TYPE_ONEHOT_SINGLE_FAMILY",
          "DWELLING_TYPE_ONEHOT_MULTI_FAMILY",
          "DWELLING_TYPE_ONEHOT_UNKNOWN",
          "DWELLING_TYPE_ONEHOT_MOBILE_HOME",
          "HOME_OWNERSHIP_ONEHOT_HOMEOWNER",
          "HOME_OWNERSHIP_ONEHOT_UNKNOWN",
          "HOME_OWNERSHIP_ONEHOT_RENTER",
          "MARITAL_STATUS_ONEHOT_SINGLE",
          "MARITAL_STATUS_ONEHOT_MARRIED"
         ],
         "type": "barpolar"
        },
        {
         "base": 0,
         "marker": {
          "color": "blue"
         },
         "name": "mean3",
         "r": [
          0.569729368526562,
          0.7731164383561644,
          0.602054794520548,
          0.5906272530641675,
          0.3287671232876712,
          0.8986301369863013,
          0.17534246575342466,
          0.15616438356164383,
          0.1095890410958904,
          0.12602739726027398,
          0.5767123287671233,
          0.18356164383561643,
          0.5726027397260274,
          0.4547945205479452,
          0.4767123287671233,
          0.9643835616438357,
          0.3424657534246575,
          0.989041095890411,
          0.0027397260273972603,
          0.1178082191780822,
          0.9561643835616438,
          0.03561643835616438,
          0.5726027397260274,
          0.4931506849315068,
          0.8602739726027397,
          0.27945205479452057,
          0.3726027397260274,
          0.5671232876712329,
          0.2136986301369863,
          0.18082191780821918,
          0.0684931506849315,
          0.0684931506849315,
          0.7917808219178082,
          0.07123287671232877,
          0.7205479452054795,
          0.7452054794520548,
          0.09863013698630137,
          0.052054794520547946,
          0.0136986301369863,
          0.14794520547945206,
          0.18082191780821918,
          0.16986301369863013,
          0.030136986301369864,
          0.0821917808219178,
          0.14520547945205478,
          0.021917808219178082,
          0.7726027397260274,
          0.1863013698630137,
          0.010958904109589041,
          0.03287671232876712,
          0.043835616438356165,
          0.0136986301369863,
          0.4465753424657534,
          0.14246575342465753,
          0.663013698630137,
          0.0410958904109589,
          0.0410958904109589,
          0.043835616438356165,
          0.0821917808219178,
          0.01643835616438356,
          0.0136986301369863,
          0.0027397260273972603,
          0.00821917808219178,
          0.5835616438356165,
          0.24383561643835616,
          0.136986301369863,
          0.024657534246575342,
          0.09041095890410959,
          0.11232876712328767,
          0.1863013698630137,
          0.024657534246575342,
          0.06301369863013699,
          0.3013698630136986,
          0.3232876712328767,
          0.2876712328767123,
          0.019178082191780823,
          0.01643835616438356,
          0.10410958904109589,
          0.01643835616438356,
          0.8438356164383561,
          0.2356164383561644,
          0.052054794520547946,
          0.01643835616438356,
          0.07123287671232877,
          0.0136986301369863,
          0.049315068493150684,
          0.03561643835616438,
          0,
          0.3589041095890411,
          0.052054794520547946,
          0.024657534246575342,
          0.0684931506849315,
          0.010958904109589041,
          0.0027397260273972603,
          0,
          0,
          0,
          0.00821917808219178,
          0,
          0.9397260273972603,
          0.0273972602739726,
          0.0273972602739726,
          0.005479452054794521,
          0.9671232876712329,
          0.024657534246575342,
          0.00821917808219178,
          0.03287671232876712,
          0.947945205479452,
          0.019178082191780823
         ],
         "subplot": "polar4",
         "theta": [
          "AGE_ENCODE",
          "LENGTH_OF_RESIDENCE_ENCODE",
          "ESTIMATED_HOUSEHOLD_INCOME_ENCODE",
          "HOME_MKT_VAL_ENCODE",
          "NUMBER_OF_CHILDREN_ENCODE",
          "CHILD_PRESENT_ENCODE",
          "CHILD_UNDER_6_PRESENT_ENCODE",
          "CHILD_6_10_PRESENT_ENCODE",
          "CHILD_11_15_PRESENT_ENCODE",
          "CHILD_16_17_PRESENT_ENCODE",
          "EDUCATION_LEVEL_ENCODE",
          "HOME_POOL_ENCODE",
          "SENIOR_ADULT_IN_HH_ENCODE",
          "SINGLE_PARENT_ENCODE",
          "SPANISH_SPEAKING_ENCODE",
          "USES_CREDIT_CARD_ENCODE",
          "HOME_OFFICE_ENCODE",
          "CATALOG_PURCHASER_INTEREST_ENCODE",
          "AVIATION_INTEREST_ENCODE",
          "HIGH_TECH_INTEREST_ENCODE",
          "HOME_LIVING_INTEREST_ENCODE",
          "SAILING_INTEREST_ENCODE",
          "BEAUTY_INTEREST_ENCODE",
          "MENS_FASHION_INTEREST_ENCODE",
          "WOMENS_FASHION_INTEREST_ENCODE",
          "CHILDRENS_FASHION_INTEREST_ENCODE",
          "JEWELERY_AND_FASHION_ACCESSORIES_INTEREST_ENCODE",
          "CHARITY_DONOR_INTEREST_ENCODE",
          "COLLECTOR_INTEREST_ENCODE",
          "COMPUTER_USER_INTEREST_ENCODE",
          "BOARD_GAME_LOVER_INTEREST_ENCODE",
          "VIDEO_GAME_LOVER_INTEREST_ENCODE",
          "HOME_COOK_INTEREST_ENCODE",
          "DIYER_INTEREST_ENCODE",
          "GARDENER_INTEREST_ENCODE",
          "GIFT_GIVER_INTEREST_ENCODE",
          "DIET_AND_WEIGHT_LOSS_INTEREST_ENCODE",
          "HISTORY_LOVER_INTEREST_ENCODE",
          "EQUESTRIAN_LOVER_INTEREST_ENCODE",
          "MUSIC_LOVER_INTEREST_ENCODE",
          "MOVIE_LOVER_INTEREST_ENCODE",
          "OUTDOORSMAN_INTEREST_ENCODE",
          "CAMPING_AND_HIKING_INTEREST_ENCODE",
          "HUNTING_AND_FISHING_INTEREST_ENCODE",
          "ENVIRONMENT_AND_WILDLIFE_INTEREST_ENCODE",
          "CYCLING_INTEREST_ENCODE",
          "HEALTHY_LIVING_INTEREST_ENCODE",
          "PET_OWNER_INTEREST_ENCODE",
          "CAT_OWNER_INTEREST_ENCODE",
          "DOG_OWNER_INTEREST_ENCODE",
          "PHOTOGRAPHER_INTEREST_ENCODE",
          "SEWING_KNITTING_INTEREST_ENCODE",
          "CRAFTS_INTEREST_ENCODE",
          "CULTURE_AND_ARTS_INTEREST_ENCODE",
          "SPORTS_LOVER_INTEREST_ENCODE",
          "BASEBALL_LOVER_INTEREST_ENCODE",
          "BASKETBALL_LOVER_INTEREST_ENCODE",
          "AMERICAN_FOOTBALL_LOVER_INTEREST_ENCODE",
          "GOLF_LOVER_INTEREST_ENCODE",
          "HOCKEY_LOVER_INTEREST_ENCODE",
          "SKIING_LOVER_INTEREST_ENCODE",
          "SOCCER_LOVER_INTEREST_ENCODE",
          "TENNIS_LOVER_INTEREST_ENCODE",
          "TRAVELER_INTEREST_ENCODE",
          "US_EXPLORER_INTEREST_ENCODE",
          "CRUISE_LOVER_INTEREST_ENCODE",
          "MOTORCYCLE_RIDER_INTEREST_ENCODE",
          "RV_OWNER_INTEREST_ENCODE",
          "TRUCK_OWNER_INTEREST_ENCODE",
          "NEWS_LOVER_INTEREST_ENCODE",
          "\"EDUCATION_LEVEL_onehot_VOCATIONAL/TECHNICAL SCHOOL\"",
          "EDUCATION_LEVEL_ONEHOT_UNKNOWN",
          "\"EDUCATION_LEVEL_onehot_HIGH SCHOOL\"",
          "\"EDUCATION_LEVEL_onehot_GRADUATE SCHOOL\"",
          "EDUCATION_LEVEL_ONEHOT_COLLEGE",
          "HOUSEHOLD_COMPOSITION_ONEHOT_UNKNOWN",
          "HOUSEHOLD_COMPOSITION_ONEHOT_INDIVIDUAL",
          "HOUSEHOLD_COMPOSITION_ONEHOT_COUPLE",
          "\"HOUSEHOLD_COMPOSITION_onehot_SINGLE PARENT\"",
          "HOUSEHOLD_COMPOSITION_ONEHOT_FAMILY",
          "OCCUPATION_ONEHOT_UNKNOWN",
          "\"OCCUPATION_onehot_ADMIN/MGMT\"",
          "OCCUPATION_ONEHOT_CLERICAL",
          "\"OCCUPATION_onehot_DOCTOR/MEDICAL\"",
          "OCCUPATION_ONEHOT_FINANCE",
          "OCCUPATION_ONEHOT_HOMEMAKER",
          "\"OCCUPATION_onehot_SELF-EMPLOYED\"",
          "OCCUPATION_ONEHOT_UNSKILLED",
          "\"OCCUPATION_onehot_OTHER PROFESSIONAL/TECHNICAL\"",
          "\"OCCUPATION_onehot_BLUE COLLAR\"",
          "\"OCCUPATION_onehot_SALES/SERVICE\"",
          "OCCUPATION_ONEHOT_RETIRED",
          "OCCUPATION_ONEHOT_TEACHER",
          "\"OCCUPATION_onehot_FARMER/AGRICULTURE\"",
          "OCCUPATION_ONEHOT_LEGAL",
          "\"OCCUPATION_onehot_GOVERNMENT/MILITARY\"",
          "OCCUPATION_ONEHOT_RELIGIOUS",
          "OCCUPATION_ONEHOT_STUDENT",
          "OCCUPATION_ONEHOT_UNEMPLOYED",
          "DWELLING_TYPE_ONEHOT_SINGLE_FAMILY",
          "DWELLING_TYPE_ONEHOT_MULTI_FAMILY",
          "DWELLING_TYPE_ONEHOT_UNKNOWN",
          "DWELLING_TYPE_ONEHOT_MOBILE_HOME",
          "HOME_OWNERSHIP_ONEHOT_HOMEOWNER",
          "HOME_OWNERSHIP_ONEHOT_UNKNOWN",
          "HOME_OWNERSHIP_ONEHOT_RENTER",
          "MARITAL_STATUS_ONEHOT_SINGLE",
          "MARITAL_STATUS_ONEHOT_MARRIED"
         ],
         "type": "barpolar"
        },
        {
         "base": 0,
         "marker": {
          "color": "darkred"
         },
         "name": "min3",
         "r": [
          0.036585365853658534,
          0.0625,
          0,
          0,
          0,
          0,
          0,
          0,
          0,
          0,
          0,
          0,
          0,
          0,
          0,
          0,
          0,
          0,
          0,
          0,
          0,
          0,
          0,
          0,
          0,
          0,
          0,
          0,
          0,
          0,
          0,
          0,
          0,
          0,
          0,
          0,
          0,
          0,
          0,
          0,
          0,
          0,
          0,
          0,
          0,
          0,
          0,
          0,
          0,
          0,
          0,
          0,
          0,
          0,
          0,
          0,
          0,
          0,
          0,
          0,
          0,
          0,
          0,
          0,
          0,
          0,
          0,
          0,
          0,
          0,
          0,
          0,
          0,
          0,
          0,
          0,
          0,
          0,
          0,
          0,
          0,
          0,
          0,
          0,
          0,
          0,
          0,
          0,
          0,
          0,
          0,
          0,
          0,
          0,
          0,
          0,
          0,
          0,
          0,
          0,
          0,
          0,
          0,
          0,
          0,
          0,
          0,
          0,
          0
         ],
         "subplot": "polar4",
         "theta": [
          "AGE_ENCODE",
          "LENGTH_OF_RESIDENCE_ENCODE",
          "ESTIMATED_HOUSEHOLD_INCOME_ENCODE",
          "HOME_MKT_VAL_ENCODE",
          "NUMBER_OF_CHILDREN_ENCODE",
          "CHILD_PRESENT_ENCODE",
          "CHILD_UNDER_6_PRESENT_ENCODE",
          "CHILD_6_10_PRESENT_ENCODE",
          "CHILD_11_15_PRESENT_ENCODE",
          "CHILD_16_17_PRESENT_ENCODE",
          "EDUCATION_LEVEL_ENCODE",
          "HOME_POOL_ENCODE",
          "SENIOR_ADULT_IN_HH_ENCODE",
          "SINGLE_PARENT_ENCODE",
          "SPANISH_SPEAKING_ENCODE",
          "USES_CREDIT_CARD_ENCODE",
          "HOME_OFFICE_ENCODE",
          "CATALOG_PURCHASER_INTEREST_ENCODE",
          "AVIATION_INTEREST_ENCODE",
          "HIGH_TECH_INTEREST_ENCODE",
          "HOME_LIVING_INTEREST_ENCODE",
          "SAILING_INTEREST_ENCODE",
          "BEAUTY_INTEREST_ENCODE",
          "MENS_FASHION_INTEREST_ENCODE",
          "WOMENS_FASHION_INTEREST_ENCODE",
          "CHILDRENS_FASHION_INTEREST_ENCODE",
          "JEWELERY_AND_FASHION_ACCESSORIES_INTEREST_ENCODE",
          "CHARITY_DONOR_INTEREST_ENCODE",
          "COLLECTOR_INTEREST_ENCODE",
          "COMPUTER_USER_INTEREST_ENCODE",
          "BOARD_GAME_LOVER_INTEREST_ENCODE",
          "VIDEO_GAME_LOVER_INTEREST_ENCODE",
          "HOME_COOK_INTEREST_ENCODE",
          "DIYER_INTEREST_ENCODE",
          "GARDENER_INTEREST_ENCODE",
          "GIFT_GIVER_INTEREST_ENCODE",
          "DIET_AND_WEIGHT_LOSS_INTEREST_ENCODE",
          "HISTORY_LOVER_INTEREST_ENCODE",
          "EQUESTRIAN_LOVER_INTEREST_ENCODE",
          "MUSIC_LOVER_INTEREST_ENCODE",
          "MOVIE_LOVER_INTEREST_ENCODE",
          "OUTDOORSMAN_INTEREST_ENCODE",
          "CAMPING_AND_HIKING_INTEREST_ENCODE",
          "HUNTING_AND_FISHING_INTEREST_ENCODE",
          "ENVIRONMENT_AND_WILDLIFE_INTEREST_ENCODE",
          "CYCLING_INTEREST_ENCODE",
          "HEALTHY_LIVING_INTEREST_ENCODE",
          "PET_OWNER_INTEREST_ENCODE",
          "CAT_OWNER_INTEREST_ENCODE",
          "DOG_OWNER_INTEREST_ENCODE",
          "PHOTOGRAPHER_INTEREST_ENCODE",
          "SEWING_KNITTING_INTEREST_ENCODE",
          "CRAFTS_INTEREST_ENCODE",
          "CULTURE_AND_ARTS_INTEREST_ENCODE",
          "SPORTS_LOVER_INTEREST_ENCODE",
          "BASEBALL_LOVER_INTEREST_ENCODE",
          "BASKETBALL_LOVER_INTEREST_ENCODE",
          "AMERICAN_FOOTBALL_LOVER_INTEREST_ENCODE",
          "GOLF_LOVER_INTEREST_ENCODE",
          "HOCKEY_LOVER_INTEREST_ENCODE",
          "SKIING_LOVER_INTEREST_ENCODE",
          "SOCCER_LOVER_INTEREST_ENCODE",
          "TENNIS_LOVER_INTEREST_ENCODE",
          "TRAVELER_INTEREST_ENCODE",
          "US_EXPLORER_INTEREST_ENCODE",
          "CRUISE_LOVER_INTEREST_ENCODE",
          "MOTORCYCLE_RIDER_INTEREST_ENCODE",
          "RV_OWNER_INTEREST_ENCODE",
          "TRUCK_OWNER_INTEREST_ENCODE",
          "NEWS_LOVER_INTEREST_ENCODE",
          "\"EDUCATION_LEVEL_onehot_VOCATIONAL/TECHNICAL SCHOOL\"",
          "EDUCATION_LEVEL_ONEHOT_UNKNOWN",
          "\"EDUCATION_LEVEL_onehot_HIGH SCHOOL\"",
          "\"EDUCATION_LEVEL_onehot_GRADUATE SCHOOL\"",
          "EDUCATION_LEVEL_ONEHOT_COLLEGE",
          "HOUSEHOLD_COMPOSITION_ONEHOT_UNKNOWN",
          "HOUSEHOLD_COMPOSITION_ONEHOT_INDIVIDUAL",
          "HOUSEHOLD_COMPOSITION_ONEHOT_COUPLE",
          "\"HOUSEHOLD_COMPOSITION_onehot_SINGLE PARENT\"",
          "HOUSEHOLD_COMPOSITION_ONEHOT_FAMILY",
          "OCCUPATION_ONEHOT_UNKNOWN",
          "\"OCCUPATION_onehot_ADMIN/MGMT\"",
          "OCCUPATION_ONEHOT_CLERICAL",
          "\"OCCUPATION_onehot_DOCTOR/MEDICAL\"",
          "OCCUPATION_ONEHOT_FINANCE",
          "OCCUPATION_ONEHOT_HOMEMAKER",
          "\"OCCUPATION_onehot_SELF-EMPLOYED\"",
          "OCCUPATION_ONEHOT_UNSKILLED",
          "\"OCCUPATION_onehot_OTHER PROFESSIONAL/TECHNICAL\"",
          "\"OCCUPATION_onehot_BLUE COLLAR\"",
          "\"OCCUPATION_onehot_SALES/SERVICE\"",
          "OCCUPATION_ONEHOT_RETIRED",
          "OCCUPATION_ONEHOT_TEACHER",
          "\"OCCUPATION_onehot_FARMER/AGRICULTURE\"",
          "OCCUPATION_ONEHOT_LEGAL",
          "\"OCCUPATION_onehot_GOVERNMENT/MILITARY\"",
          "OCCUPATION_ONEHOT_RELIGIOUS",
          "OCCUPATION_ONEHOT_STUDENT",
          "OCCUPATION_ONEHOT_UNEMPLOYED",
          "DWELLING_TYPE_ONEHOT_SINGLE_FAMILY",
          "DWELLING_TYPE_ONEHOT_MULTI_FAMILY",
          "DWELLING_TYPE_ONEHOT_UNKNOWN",
          "DWELLING_TYPE_ONEHOT_MOBILE_HOME",
          "HOME_OWNERSHIP_ONEHOT_HOMEOWNER",
          "HOME_OWNERSHIP_ONEHOT_UNKNOWN",
          "HOME_OWNERSHIP_ONEHOT_RENTER",
          "MARITAL_STATUS_ONEHOT_SINGLE",
          "MARITAL_STATUS_ONEHOT_MARRIED"
         ],
         "type": "barpolar"
        },
        {
         "base": 0,
         "marker": {
          "color": "green"
         },
         "name": "max4",
         "r": [
          0.524390243902439,
          1,
          1,
          0.8947368421052632,
          0.75,
          1,
          1,
          1,
          1,
          1,
          0.75,
          1,
          1,
          1,
          0,
          1,
          1,
          1,
          1,
          1,
          1,
          1,
          1,
          1,
          1,
          1,
          1,
          1,
          1,
          1,
          1,
          1,
          1,
          1,
          1,
          1,
          1,
          1,
          1,
          1,
          1,
          1,
          1,
          1,
          1,
          1,
          1,
          1,
          1,
          1,
          1,
          1,
          1,
          1,
          1,
          1,
          1,
          1,
          1,
          1,
          1,
          0,
          1,
          1,
          1,
          1,
          1,
          1,
          1,
          1,
          0,
          1,
          1,
          0,
          1,
          0,
          0,
          0,
          1,
          0,
          1,
          0,
          0,
          0,
          0,
          1,
          0,
          0,
          1,
          1,
          0,
          0,
          0,
          0,
          0,
          1,
          0,
          1,
          0,
          1,
          1,
          0,
          1,
          1,
          1,
          1,
          1,
          0,
          0
         ],
         "subplot": "polar3",
         "theta": [
          "AGE_ENCODE",
          "LENGTH_OF_RESIDENCE_ENCODE",
          "ESTIMATED_HOUSEHOLD_INCOME_ENCODE",
          "HOME_MKT_VAL_ENCODE",
          "NUMBER_OF_CHILDREN_ENCODE",
          "CHILD_PRESENT_ENCODE",
          "CHILD_UNDER_6_PRESENT_ENCODE",
          "CHILD_6_10_PRESENT_ENCODE",
          "CHILD_11_15_PRESENT_ENCODE",
          "CHILD_16_17_PRESENT_ENCODE",
          "EDUCATION_LEVEL_ENCODE",
          "HOME_POOL_ENCODE",
          "SENIOR_ADULT_IN_HH_ENCODE",
          "SINGLE_PARENT_ENCODE",
          "SPANISH_SPEAKING_ENCODE",
          "USES_CREDIT_CARD_ENCODE",
          "HOME_OFFICE_ENCODE",
          "CATALOG_PURCHASER_INTEREST_ENCODE",
          "AVIATION_INTEREST_ENCODE",
          "HIGH_TECH_INTEREST_ENCODE",
          "HOME_LIVING_INTEREST_ENCODE",
          "SAILING_INTEREST_ENCODE",
          "BEAUTY_INTEREST_ENCODE",
          "MENS_FASHION_INTEREST_ENCODE",
          "WOMENS_FASHION_INTEREST_ENCODE",
          "CHILDRENS_FASHION_INTEREST_ENCODE",
          "JEWELERY_AND_FASHION_ACCESSORIES_INTEREST_ENCODE",
          "CHARITY_DONOR_INTEREST_ENCODE",
          "COLLECTOR_INTEREST_ENCODE",
          "COMPUTER_USER_INTEREST_ENCODE",
          "BOARD_GAME_LOVER_INTEREST_ENCODE",
          "VIDEO_GAME_LOVER_INTEREST_ENCODE",
          "HOME_COOK_INTEREST_ENCODE",
          "DIYER_INTEREST_ENCODE",
          "GARDENER_INTEREST_ENCODE",
          "GIFT_GIVER_INTEREST_ENCODE",
          "DIET_AND_WEIGHT_LOSS_INTEREST_ENCODE",
          "HISTORY_LOVER_INTEREST_ENCODE",
          "EQUESTRIAN_LOVER_INTEREST_ENCODE",
          "MUSIC_LOVER_INTEREST_ENCODE",
          "MOVIE_LOVER_INTEREST_ENCODE",
          "OUTDOORSMAN_INTEREST_ENCODE",
          "CAMPING_AND_HIKING_INTEREST_ENCODE",
          "HUNTING_AND_FISHING_INTEREST_ENCODE",
          "ENVIRONMENT_AND_WILDLIFE_INTEREST_ENCODE",
          "CYCLING_INTEREST_ENCODE",
          "HEALTHY_LIVING_INTEREST_ENCODE",
          "PET_OWNER_INTEREST_ENCODE",
          "CAT_OWNER_INTEREST_ENCODE",
          "DOG_OWNER_INTEREST_ENCODE",
          "PHOTOGRAPHER_INTEREST_ENCODE",
          "SEWING_KNITTING_INTEREST_ENCODE",
          "CRAFTS_INTEREST_ENCODE",
          "CULTURE_AND_ARTS_INTEREST_ENCODE",
          "SPORTS_LOVER_INTEREST_ENCODE",
          "BASEBALL_LOVER_INTEREST_ENCODE",
          "BASKETBALL_LOVER_INTEREST_ENCODE",
          "AMERICAN_FOOTBALL_LOVER_INTEREST_ENCODE",
          "GOLF_LOVER_INTEREST_ENCODE",
          "HOCKEY_LOVER_INTEREST_ENCODE",
          "SKIING_LOVER_INTEREST_ENCODE",
          "SOCCER_LOVER_INTEREST_ENCODE",
          "TENNIS_LOVER_INTEREST_ENCODE",
          "TRAVELER_INTEREST_ENCODE",
          "US_EXPLORER_INTEREST_ENCODE",
          "CRUISE_LOVER_INTEREST_ENCODE",
          "MOTORCYCLE_RIDER_INTEREST_ENCODE",
          "RV_OWNER_INTEREST_ENCODE",
          "TRUCK_OWNER_INTEREST_ENCODE",
          "NEWS_LOVER_INTEREST_ENCODE",
          "\"EDUCATION_LEVEL_onehot_VOCATIONAL/TECHNICAL SCHOOL\"",
          "EDUCATION_LEVEL_ONEHOT_UNKNOWN",
          "\"EDUCATION_LEVEL_onehot_HIGH SCHOOL\"",
          "\"EDUCATION_LEVEL_onehot_GRADUATE SCHOOL\"",
          "EDUCATION_LEVEL_ONEHOT_COLLEGE",
          "HOUSEHOLD_COMPOSITION_ONEHOT_UNKNOWN",
          "HOUSEHOLD_COMPOSITION_ONEHOT_INDIVIDUAL",
          "HOUSEHOLD_COMPOSITION_ONEHOT_COUPLE",
          "\"HOUSEHOLD_COMPOSITION_onehot_SINGLE PARENT\"",
          "HOUSEHOLD_COMPOSITION_ONEHOT_FAMILY",
          "OCCUPATION_ONEHOT_UNKNOWN",
          "\"OCCUPATION_onehot_ADMIN/MGMT\"",
          "OCCUPATION_ONEHOT_CLERICAL",
          "\"OCCUPATION_onehot_DOCTOR/MEDICAL\"",
          "OCCUPATION_ONEHOT_FINANCE",
          "OCCUPATION_ONEHOT_HOMEMAKER",
          "\"OCCUPATION_onehot_SELF-EMPLOYED\"",
          "OCCUPATION_ONEHOT_UNSKILLED",
          "\"OCCUPATION_onehot_OTHER PROFESSIONAL/TECHNICAL\"",
          "\"OCCUPATION_onehot_BLUE COLLAR\"",
          "\"OCCUPATION_onehot_SALES/SERVICE\"",
          "OCCUPATION_ONEHOT_RETIRED",
          "OCCUPATION_ONEHOT_TEACHER",
          "\"OCCUPATION_onehot_FARMER/AGRICULTURE\"",
          "OCCUPATION_ONEHOT_LEGAL",
          "\"OCCUPATION_onehot_GOVERNMENT/MILITARY\"",
          "OCCUPATION_ONEHOT_RELIGIOUS",
          "OCCUPATION_ONEHOT_STUDENT",
          "OCCUPATION_ONEHOT_UNEMPLOYED",
          "DWELLING_TYPE_ONEHOT_SINGLE_FAMILY",
          "DWELLING_TYPE_ONEHOT_MULTI_FAMILY",
          "DWELLING_TYPE_ONEHOT_UNKNOWN",
          "DWELLING_TYPE_ONEHOT_MOBILE_HOME",
          "HOME_OWNERSHIP_ONEHOT_HOMEOWNER",
          "HOME_OWNERSHIP_ONEHOT_UNKNOWN",
          "HOME_OWNERSHIP_ONEHOT_RENTER",
          "MARITAL_STATUS_ONEHOT_SINGLE",
          "MARITAL_STATUS_ONEHOT_MARRIED"
         ],
         "type": "barpolar"
        },
        {
         "base": 0,
         "marker": {
          "color": "blue"
         },
         "name": "mean4",
         "r": [
          0.3602251407129455,
          0.8365384615384616,
          0.36538461538461536,
          0.5182186234817813,
          0.38461538461538464,
          1,
          0.38461538461538464,
          0.3076923076923077,
          0.6923076923076923,
          0.15384615384615385,
          0.23076923076923078,
          0.6153846153846154,
          0.38461538461538464,
          0.9615384615384616,
          0,
          1,
          0.07692307692307693,
          0.5384615384615384,
          0.07692307692307693,
          0.8461538461538461,
          1,
          0.15384615384615385,
          0.9230769230769231,
          0.23076923076923078,
          0.7692307692307693,
          0.3076923076923077,
          0.3076923076923077,
          1,
          0.9230769230769231,
          1,
          0.23076923076923078,
          0.23076923076923078,
          1,
          0.46153846153846156,
          0.8461538461538461,
          0.6923076923076923,
          0.9230769230769231,
          0.15384615384615385,
          0.07692307692307693,
          1,
          1,
          1,
          0.7692307692307693,
          0.9230769230769231,
          0.6153846153846154,
          0.3076923076923077,
          1,
          1,
          0.8461538461538461,
          0.9230769230769231,
          0.3076923076923077,
          0.46153846153846156,
          0.8461538461538461,
          0.46153846153846156,
          1,
          0.8461538461538461,
          0.6923076923076923,
          0.8461538461538461,
          0.3076923076923077,
          0.6923076923076923,
          0.15384615384615385,
          0,
          0.23076923076923078,
          1,
          0.9230769230769231,
          0.6153846153846154,
          0.38461538461538464,
          0.38461538461538464,
          0.46153846153846156,
          0.5384615384615384,
          0,
          0.23076923076923078,
          0.6153846153846154,
          0,
          0.15384615384615385,
          0,
          0,
          0,
          1,
          0,
          0.3076923076923077,
          0,
          0,
          0,
          0,
          0.07692307692307693,
          0,
          0,
          0.15384615384615385,
          0.23076923076923078,
          0,
          0,
          0,
          0,
          0,
          0.07692307692307693,
          0,
          0.15384615384615385,
          0,
          0.8461538461538461,
          0.07692307692307693,
          0,
          0.07692307692307693,
          0.8461538461538461,
          0.07692307692307693,
          0.07692307692307693,
          1,
          0,
          0
         ],
         "subplot": "polar3",
         "theta": [
          "AGE_ENCODE",
          "LENGTH_OF_RESIDENCE_ENCODE",
          "ESTIMATED_HOUSEHOLD_INCOME_ENCODE",
          "HOME_MKT_VAL_ENCODE",
          "NUMBER_OF_CHILDREN_ENCODE",
          "CHILD_PRESENT_ENCODE",
          "CHILD_UNDER_6_PRESENT_ENCODE",
          "CHILD_6_10_PRESENT_ENCODE",
          "CHILD_11_15_PRESENT_ENCODE",
          "CHILD_16_17_PRESENT_ENCODE",
          "EDUCATION_LEVEL_ENCODE",
          "HOME_POOL_ENCODE",
          "SENIOR_ADULT_IN_HH_ENCODE",
          "SINGLE_PARENT_ENCODE",
          "SPANISH_SPEAKING_ENCODE",
          "USES_CREDIT_CARD_ENCODE",
          "HOME_OFFICE_ENCODE",
          "CATALOG_PURCHASER_INTEREST_ENCODE",
          "AVIATION_INTEREST_ENCODE",
          "HIGH_TECH_INTEREST_ENCODE",
          "HOME_LIVING_INTEREST_ENCODE",
          "SAILING_INTEREST_ENCODE",
          "BEAUTY_INTEREST_ENCODE",
          "MENS_FASHION_INTEREST_ENCODE",
          "WOMENS_FASHION_INTEREST_ENCODE",
          "CHILDRENS_FASHION_INTEREST_ENCODE",
          "JEWELERY_AND_FASHION_ACCESSORIES_INTEREST_ENCODE",
          "CHARITY_DONOR_INTEREST_ENCODE",
          "COLLECTOR_INTEREST_ENCODE",
          "COMPUTER_USER_INTEREST_ENCODE",
          "BOARD_GAME_LOVER_INTEREST_ENCODE",
          "VIDEO_GAME_LOVER_INTEREST_ENCODE",
          "HOME_COOK_INTEREST_ENCODE",
          "DIYER_INTEREST_ENCODE",
          "GARDENER_INTEREST_ENCODE",
          "GIFT_GIVER_INTEREST_ENCODE",
          "DIET_AND_WEIGHT_LOSS_INTEREST_ENCODE",
          "HISTORY_LOVER_INTEREST_ENCODE",
          "EQUESTRIAN_LOVER_INTEREST_ENCODE",
          "MUSIC_LOVER_INTEREST_ENCODE",
          "MOVIE_LOVER_INTEREST_ENCODE",
          "OUTDOORSMAN_INTEREST_ENCODE",
          "CAMPING_AND_HIKING_INTEREST_ENCODE",
          "HUNTING_AND_FISHING_INTEREST_ENCODE",
          "ENVIRONMENT_AND_WILDLIFE_INTEREST_ENCODE",
          "CYCLING_INTEREST_ENCODE",
          "HEALTHY_LIVING_INTEREST_ENCODE",
          "PET_OWNER_INTEREST_ENCODE",
          "CAT_OWNER_INTEREST_ENCODE",
          "DOG_OWNER_INTEREST_ENCODE",
          "PHOTOGRAPHER_INTEREST_ENCODE",
          "SEWING_KNITTING_INTEREST_ENCODE",
          "CRAFTS_INTEREST_ENCODE",
          "CULTURE_AND_ARTS_INTEREST_ENCODE",
          "SPORTS_LOVER_INTEREST_ENCODE",
          "BASEBALL_LOVER_INTEREST_ENCODE",
          "BASKETBALL_LOVER_INTEREST_ENCODE",
          "AMERICAN_FOOTBALL_LOVER_INTEREST_ENCODE",
          "GOLF_LOVER_INTEREST_ENCODE",
          "HOCKEY_LOVER_INTEREST_ENCODE",
          "SKIING_LOVER_INTEREST_ENCODE",
          "SOCCER_LOVER_INTEREST_ENCODE",
          "TENNIS_LOVER_INTEREST_ENCODE",
          "TRAVELER_INTEREST_ENCODE",
          "US_EXPLORER_INTEREST_ENCODE",
          "CRUISE_LOVER_INTEREST_ENCODE",
          "MOTORCYCLE_RIDER_INTEREST_ENCODE",
          "RV_OWNER_INTEREST_ENCODE",
          "TRUCK_OWNER_INTEREST_ENCODE",
          "NEWS_LOVER_INTEREST_ENCODE",
          "\"EDUCATION_LEVEL_onehot_VOCATIONAL/TECHNICAL SCHOOL\"",
          "EDUCATION_LEVEL_ONEHOT_UNKNOWN",
          "\"EDUCATION_LEVEL_onehot_HIGH SCHOOL\"",
          "\"EDUCATION_LEVEL_onehot_GRADUATE SCHOOL\"",
          "EDUCATION_LEVEL_ONEHOT_COLLEGE",
          "HOUSEHOLD_COMPOSITION_ONEHOT_UNKNOWN",
          "HOUSEHOLD_COMPOSITION_ONEHOT_INDIVIDUAL",
          "HOUSEHOLD_COMPOSITION_ONEHOT_COUPLE",
          "\"HOUSEHOLD_COMPOSITION_onehot_SINGLE PARENT\"",
          "HOUSEHOLD_COMPOSITION_ONEHOT_FAMILY",
          "OCCUPATION_ONEHOT_UNKNOWN",
          "\"OCCUPATION_onehot_ADMIN/MGMT\"",
          "OCCUPATION_ONEHOT_CLERICAL",
          "\"OCCUPATION_onehot_DOCTOR/MEDICAL\"",
          "OCCUPATION_ONEHOT_FINANCE",
          "OCCUPATION_ONEHOT_HOMEMAKER",
          "\"OCCUPATION_onehot_SELF-EMPLOYED\"",
          "OCCUPATION_ONEHOT_UNSKILLED",
          "\"OCCUPATION_onehot_OTHER PROFESSIONAL/TECHNICAL\"",
          "\"OCCUPATION_onehot_BLUE COLLAR\"",
          "\"OCCUPATION_onehot_SALES/SERVICE\"",
          "OCCUPATION_ONEHOT_RETIRED",
          "OCCUPATION_ONEHOT_TEACHER",
          "\"OCCUPATION_onehot_FARMER/AGRICULTURE\"",
          "OCCUPATION_ONEHOT_LEGAL",
          "\"OCCUPATION_onehot_GOVERNMENT/MILITARY\"",
          "OCCUPATION_ONEHOT_RELIGIOUS",
          "OCCUPATION_ONEHOT_STUDENT",
          "OCCUPATION_ONEHOT_UNEMPLOYED",
          "DWELLING_TYPE_ONEHOT_SINGLE_FAMILY",
          "DWELLING_TYPE_ONEHOT_MULTI_FAMILY",
          "DWELLING_TYPE_ONEHOT_UNKNOWN",
          "DWELLING_TYPE_ONEHOT_MOBILE_HOME",
          "HOME_OWNERSHIP_ONEHOT_HOMEOWNER",
          "HOME_OWNERSHIP_ONEHOT_UNKNOWN",
          "HOME_OWNERSHIP_ONEHOT_RENTER",
          "MARITAL_STATUS_ONEHOT_SINGLE",
          "MARITAL_STATUS_ONEHOT_MARRIED"
         ],
         "type": "barpolar"
        },
        {
         "base": 0,
         "marker": {
          "color": "darkred"
         },
         "name": "min4",
         "r": [
          0.17073170731707318,
          0.0625,
          0,
          0.2631578947368421,
          0.25,
          1,
          0,
          0,
          0,
          0,
          0,
          0,
          0,
          0.5,
          0,
          1,
          0,
          0,
          0,
          0,
          1,
          0,
          0,
          0,
          0,
          0,
          0,
          1,
          0,
          1,
          0,
          0,
          1,
          0,
          0,
          0,
          0,
          0,
          0,
          1,
          1,
          1,
          0,
          0,
          0,
          0,
          1,
          1,
          0,
          0,
          0,
          0,
          0,
          0,
          1,
          0,
          0,
          0,
          0,
          0,
          0,
          0,
          0,
          1,
          0,
          0,
          0,
          0,
          0,
          0,
          0,
          0,
          0,
          0,
          0,
          0,
          0,
          0,
          1,
          0,
          0,
          0,
          0,
          0,
          0,
          0,
          0,
          0,
          0,
          0,
          0,
          0,
          0,
          0,
          0,
          0,
          0,
          0,
          0,
          0,
          0,
          0,
          0,
          0,
          0,
          0,
          1,
          0,
          0
         ],
         "subplot": "polar3",
         "theta": [
          "AGE_ENCODE",
          "LENGTH_OF_RESIDENCE_ENCODE",
          "ESTIMATED_HOUSEHOLD_INCOME_ENCODE",
          "HOME_MKT_VAL_ENCODE",
          "NUMBER_OF_CHILDREN_ENCODE",
          "CHILD_PRESENT_ENCODE",
          "CHILD_UNDER_6_PRESENT_ENCODE",
          "CHILD_6_10_PRESENT_ENCODE",
          "CHILD_11_15_PRESENT_ENCODE",
          "CHILD_16_17_PRESENT_ENCODE",
          "EDUCATION_LEVEL_ENCODE",
          "HOME_POOL_ENCODE",
          "SENIOR_ADULT_IN_HH_ENCODE",
          "SINGLE_PARENT_ENCODE",
          "SPANISH_SPEAKING_ENCODE",
          "USES_CREDIT_CARD_ENCODE",
          "HOME_OFFICE_ENCODE",
          "CATALOG_PURCHASER_INTEREST_ENCODE",
          "AVIATION_INTEREST_ENCODE",
          "HIGH_TECH_INTEREST_ENCODE",
          "HOME_LIVING_INTEREST_ENCODE",
          "SAILING_INTEREST_ENCODE",
          "BEAUTY_INTEREST_ENCODE",
          "MENS_FASHION_INTEREST_ENCODE",
          "WOMENS_FASHION_INTEREST_ENCODE",
          "CHILDRENS_FASHION_INTEREST_ENCODE",
          "JEWELERY_AND_FASHION_ACCESSORIES_INTEREST_ENCODE",
          "CHARITY_DONOR_INTEREST_ENCODE",
          "COLLECTOR_INTEREST_ENCODE",
          "COMPUTER_USER_INTEREST_ENCODE",
          "BOARD_GAME_LOVER_INTEREST_ENCODE",
          "VIDEO_GAME_LOVER_INTEREST_ENCODE",
          "HOME_COOK_INTEREST_ENCODE",
          "DIYER_INTEREST_ENCODE",
          "GARDENER_INTEREST_ENCODE",
          "GIFT_GIVER_INTEREST_ENCODE",
          "DIET_AND_WEIGHT_LOSS_INTEREST_ENCODE",
          "HISTORY_LOVER_INTEREST_ENCODE",
          "EQUESTRIAN_LOVER_INTEREST_ENCODE",
          "MUSIC_LOVER_INTEREST_ENCODE",
          "MOVIE_LOVER_INTEREST_ENCODE",
          "OUTDOORSMAN_INTEREST_ENCODE",
          "CAMPING_AND_HIKING_INTEREST_ENCODE",
          "HUNTING_AND_FISHING_INTEREST_ENCODE",
          "ENVIRONMENT_AND_WILDLIFE_INTEREST_ENCODE",
          "CYCLING_INTEREST_ENCODE",
          "HEALTHY_LIVING_INTEREST_ENCODE",
          "PET_OWNER_INTEREST_ENCODE",
          "CAT_OWNER_INTEREST_ENCODE",
          "DOG_OWNER_INTEREST_ENCODE",
          "PHOTOGRAPHER_INTEREST_ENCODE",
          "SEWING_KNITTING_INTEREST_ENCODE",
          "CRAFTS_INTEREST_ENCODE",
          "CULTURE_AND_ARTS_INTEREST_ENCODE",
          "SPORTS_LOVER_INTEREST_ENCODE",
          "BASEBALL_LOVER_INTEREST_ENCODE",
          "BASKETBALL_LOVER_INTEREST_ENCODE",
          "AMERICAN_FOOTBALL_LOVER_INTEREST_ENCODE",
          "GOLF_LOVER_INTEREST_ENCODE",
          "HOCKEY_LOVER_INTEREST_ENCODE",
          "SKIING_LOVER_INTEREST_ENCODE",
          "SOCCER_LOVER_INTEREST_ENCODE",
          "TENNIS_LOVER_INTEREST_ENCODE",
          "TRAVELER_INTEREST_ENCODE",
          "US_EXPLORER_INTEREST_ENCODE",
          "CRUISE_LOVER_INTEREST_ENCODE",
          "MOTORCYCLE_RIDER_INTEREST_ENCODE",
          "RV_OWNER_INTEREST_ENCODE",
          "TRUCK_OWNER_INTEREST_ENCODE",
          "NEWS_LOVER_INTEREST_ENCODE",
          "\"EDUCATION_LEVEL_onehot_VOCATIONAL/TECHNICAL SCHOOL\"",
          "EDUCATION_LEVEL_ONEHOT_UNKNOWN",
          "\"EDUCATION_LEVEL_onehot_HIGH SCHOOL\"",
          "\"EDUCATION_LEVEL_onehot_GRADUATE SCHOOL\"",
          "EDUCATION_LEVEL_ONEHOT_COLLEGE",
          "HOUSEHOLD_COMPOSITION_ONEHOT_UNKNOWN",
          "HOUSEHOLD_COMPOSITION_ONEHOT_INDIVIDUAL",
          "HOUSEHOLD_COMPOSITION_ONEHOT_COUPLE",
          "\"HOUSEHOLD_COMPOSITION_onehot_SINGLE PARENT\"",
          "HOUSEHOLD_COMPOSITION_ONEHOT_FAMILY",
          "OCCUPATION_ONEHOT_UNKNOWN",
          "\"OCCUPATION_onehot_ADMIN/MGMT\"",
          "OCCUPATION_ONEHOT_CLERICAL",
          "\"OCCUPATION_onehot_DOCTOR/MEDICAL\"",
          "OCCUPATION_ONEHOT_FINANCE",
          "OCCUPATION_ONEHOT_HOMEMAKER",
          "\"OCCUPATION_onehot_SELF-EMPLOYED\"",
          "OCCUPATION_ONEHOT_UNSKILLED",
          "\"OCCUPATION_onehot_OTHER PROFESSIONAL/TECHNICAL\"",
          "\"OCCUPATION_onehot_BLUE COLLAR\"",
          "\"OCCUPATION_onehot_SALES/SERVICE\"",
          "OCCUPATION_ONEHOT_RETIRED",
          "OCCUPATION_ONEHOT_TEACHER",
          "\"OCCUPATION_onehot_FARMER/AGRICULTURE\"",
          "OCCUPATION_ONEHOT_LEGAL",
          "\"OCCUPATION_onehot_GOVERNMENT/MILITARY\"",
          "OCCUPATION_ONEHOT_RELIGIOUS",
          "OCCUPATION_ONEHOT_STUDENT",
          "OCCUPATION_ONEHOT_UNEMPLOYED",
          "DWELLING_TYPE_ONEHOT_SINGLE_FAMILY",
          "DWELLING_TYPE_ONEHOT_MULTI_FAMILY",
          "DWELLING_TYPE_ONEHOT_UNKNOWN",
          "DWELLING_TYPE_ONEHOT_MOBILE_HOME",
          "HOME_OWNERSHIP_ONEHOT_HOMEOWNER",
          "HOME_OWNERSHIP_ONEHOT_UNKNOWN",
          "HOME_OWNERSHIP_ONEHOT_RENTER",
          "MARITAL_STATUS_ONEHOT_SINGLE",
          "MARITAL_STATUS_ONEHOT_MARRIED"
         ],
         "type": "barpolar"
        },
        {
         "base": 0,
         "marker": {
          "color": "green"
         },
         "name": "max5",
         "r": [
          0.6829268292682927,
          1,
          0.75,
          0.9473684210526315,
          0.75,
          1,
          1,
          1,
          1,
          1,
          0.75,
          1,
          1,
          1,
          1,
          1,
          1,
          1,
          0,
          1,
          1,
          1,
          1,
          1,
          1,
          1,
          1,
          1,
          1,
          1,
          1,
          1,
          1,
          1,
          1,
          1,
          0,
          1,
          1,
          1,
          1,
          1,
          1,
          1,
          0,
          1,
          1,
          1,
          1,
          1,
          1,
          1,
          1,
          1,
          1,
          1,
          1,
          1,
          1,
          0,
          0,
          0,
          0,
          1,
          1,
          1,
          1,
          1,
          1,
          1,
          0,
          1,
          1,
          0,
          1,
          0,
          0,
          1,
          1,
          1,
          1,
          1,
          1,
          1,
          0,
          0,
          0,
          0,
          1,
          1,
          1,
          1,
          0,
          0,
          0,
          0,
          0,
          1,
          0,
          1,
          0,
          0,
          1,
          1,
          0,
          1,
          1,
          1,
          0
         ],
         "subplot": "polar2",
         "theta": [
          "AGE_ENCODE",
          "LENGTH_OF_RESIDENCE_ENCODE",
          "ESTIMATED_HOUSEHOLD_INCOME_ENCODE",
          "HOME_MKT_VAL_ENCODE",
          "NUMBER_OF_CHILDREN_ENCODE",
          "CHILD_PRESENT_ENCODE",
          "CHILD_UNDER_6_PRESENT_ENCODE",
          "CHILD_6_10_PRESENT_ENCODE",
          "CHILD_11_15_PRESENT_ENCODE",
          "CHILD_16_17_PRESENT_ENCODE",
          "EDUCATION_LEVEL_ENCODE",
          "HOME_POOL_ENCODE",
          "SENIOR_ADULT_IN_HH_ENCODE",
          "SINGLE_PARENT_ENCODE",
          "SPANISH_SPEAKING_ENCODE",
          "USES_CREDIT_CARD_ENCODE",
          "HOME_OFFICE_ENCODE",
          "CATALOG_PURCHASER_INTEREST_ENCODE",
          "AVIATION_INTEREST_ENCODE",
          "HIGH_TECH_INTEREST_ENCODE",
          "HOME_LIVING_INTEREST_ENCODE",
          "SAILING_INTEREST_ENCODE",
          "BEAUTY_INTEREST_ENCODE",
          "MENS_FASHION_INTEREST_ENCODE",
          "WOMENS_FASHION_INTEREST_ENCODE",
          "CHILDRENS_FASHION_INTEREST_ENCODE",
          "JEWELERY_AND_FASHION_ACCESSORIES_INTEREST_ENCODE",
          "CHARITY_DONOR_INTEREST_ENCODE",
          "COLLECTOR_INTEREST_ENCODE",
          "COMPUTER_USER_INTEREST_ENCODE",
          "BOARD_GAME_LOVER_INTEREST_ENCODE",
          "VIDEO_GAME_LOVER_INTEREST_ENCODE",
          "HOME_COOK_INTEREST_ENCODE",
          "DIYER_INTEREST_ENCODE",
          "GARDENER_INTEREST_ENCODE",
          "GIFT_GIVER_INTEREST_ENCODE",
          "DIET_AND_WEIGHT_LOSS_INTEREST_ENCODE",
          "HISTORY_LOVER_INTEREST_ENCODE",
          "EQUESTRIAN_LOVER_INTEREST_ENCODE",
          "MUSIC_LOVER_INTEREST_ENCODE",
          "MOVIE_LOVER_INTEREST_ENCODE",
          "OUTDOORSMAN_INTEREST_ENCODE",
          "CAMPING_AND_HIKING_INTEREST_ENCODE",
          "HUNTING_AND_FISHING_INTEREST_ENCODE",
          "ENVIRONMENT_AND_WILDLIFE_INTEREST_ENCODE",
          "CYCLING_INTEREST_ENCODE",
          "HEALTHY_LIVING_INTEREST_ENCODE",
          "PET_OWNER_INTEREST_ENCODE",
          "CAT_OWNER_INTEREST_ENCODE",
          "DOG_OWNER_INTEREST_ENCODE",
          "PHOTOGRAPHER_INTEREST_ENCODE",
          "SEWING_KNITTING_INTEREST_ENCODE",
          "CRAFTS_INTEREST_ENCODE",
          "CULTURE_AND_ARTS_INTEREST_ENCODE",
          "SPORTS_LOVER_INTEREST_ENCODE",
          "BASEBALL_LOVER_INTEREST_ENCODE",
          "BASKETBALL_LOVER_INTEREST_ENCODE",
          "AMERICAN_FOOTBALL_LOVER_INTEREST_ENCODE",
          "GOLF_LOVER_INTEREST_ENCODE",
          "HOCKEY_LOVER_INTEREST_ENCODE",
          "SKIING_LOVER_INTEREST_ENCODE",
          "SOCCER_LOVER_INTEREST_ENCODE",
          "TENNIS_LOVER_INTEREST_ENCODE",
          "TRAVELER_INTEREST_ENCODE",
          "US_EXPLORER_INTEREST_ENCODE",
          "CRUISE_LOVER_INTEREST_ENCODE",
          "MOTORCYCLE_RIDER_INTEREST_ENCODE",
          "RV_OWNER_INTEREST_ENCODE",
          "TRUCK_OWNER_INTEREST_ENCODE",
          "NEWS_LOVER_INTEREST_ENCODE",
          "\"EDUCATION_LEVEL_onehot_VOCATIONAL/TECHNICAL SCHOOL\"",
          "EDUCATION_LEVEL_ONEHOT_UNKNOWN",
          "\"EDUCATION_LEVEL_onehot_HIGH SCHOOL\"",
          "\"EDUCATION_LEVEL_onehot_GRADUATE SCHOOL\"",
          "EDUCATION_LEVEL_ONEHOT_COLLEGE",
          "HOUSEHOLD_COMPOSITION_ONEHOT_UNKNOWN",
          "HOUSEHOLD_COMPOSITION_ONEHOT_INDIVIDUAL",
          "HOUSEHOLD_COMPOSITION_ONEHOT_COUPLE",
          "\"HOUSEHOLD_COMPOSITION_onehot_SINGLE PARENT\"",
          "HOUSEHOLD_COMPOSITION_ONEHOT_FAMILY",
          "OCCUPATION_ONEHOT_UNKNOWN",
          "\"OCCUPATION_onehot_ADMIN/MGMT\"",
          "OCCUPATION_ONEHOT_CLERICAL",
          "\"OCCUPATION_onehot_DOCTOR/MEDICAL\"",
          "OCCUPATION_ONEHOT_FINANCE",
          "OCCUPATION_ONEHOT_HOMEMAKER",
          "\"OCCUPATION_onehot_SELF-EMPLOYED\"",
          "OCCUPATION_ONEHOT_UNSKILLED",
          "\"OCCUPATION_onehot_OTHER PROFESSIONAL/TECHNICAL\"",
          "\"OCCUPATION_onehot_BLUE COLLAR\"",
          "\"OCCUPATION_onehot_SALES/SERVICE\"",
          "OCCUPATION_ONEHOT_RETIRED",
          "OCCUPATION_ONEHOT_TEACHER",
          "\"OCCUPATION_onehot_FARMER/AGRICULTURE\"",
          "OCCUPATION_ONEHOT_LEGAL",
          "\"OCCUPATION_onehot_GOVERNMENT/MILITARY\"",
          "OCCUPATION_ONEHOT_RELIGIOUS",
          "OCCUPATION_ONEHOT_STUDENT",
          "OCCUPATION_ONEHOT_UNEMPLOYED",
          "DWELLING_TYPE_ONEHOT_SINGLE_FAMILY",
          "DWELLING_TYPE_ONEHOT_MULTI_FAMILY",
          "DWELLING_TYPE_ONEHOT_UNKNOWN",
          "DWELLING_TYPE_ONEHOT_MOBILE_HOME",
          "HOME_OWNERSHIP_ONEHOT_HOMEOWNER",
          "HOME_OWNERSHIP_ONEHOT_UNKNOWN",
          "HOME_OWNERSHIP_ONEHOT_RENTER",
          "MARITAL_STATUS_ONEHOT_SINGLE",
          "MARITAL_STATUS_ONEHOT_MARRIED"
         ],
         "type": "barpolar"
        },
        {
         "base": 0,
         "marker": {
          "color": "blue"
         },
         "name": "mean5",
         "r": [
          0.339430894308943,
          0.6026785714285714,
          0.2916666666666667,
          0.5626566416040101,
          0.2976190476190476,
          0.9761904761904762,
          0.40476190476190477,
          0.2619047619047619,
          0.5,
          0.07142857142857142,
          0.05952380952380952,
          0.07142857142857142,
          0.2857142857142857,
          0.07142857142857142,
          0.17857142857142858,
          0.9047619047619048,
          0.047619047619047616,
          0.09523809523809523,
          0,
          0.07142857142857142,
          0.11904761904761904,
          0.09523809523809523,
          0.14285714285714285,
          0.023809523809523808,
          0.07142857142857142,
          0.023809523809523808,
          0.023809523809523808,
          0.11904761904761904,
          0.30952380952380953,
          0.9761904761904762,
          0.023809523809523808,
          0.023809523809523808,
          0.8809523809523809,
          0.2619047619047619,
          0.8333333333333334,
          0.11904761904761904,
          0,
          0.047619047619047616,
          0.023809523809523808,
          0.5952380952380952,
          0.2619047619047619,
          0.47619047619047616,
          0.11904761904761904,
          0.23809523809523808,
          0,
          0.023809523809523808,
          0.6428571428571429,
          0.5952380952380952,
          0.21428571428571427,
          0.30952380952380953,
          0.16666666666666666,
          0.35714285714285715,
          0.8571428571428571,
          0.07142857142857142,
          0.40476190476190477,
          0.07142857142857142,
          0.07142857142857142,
          0.047619047619047616,
          0.09523809523809523,
          0,
          0,
          0,
          0,
          0.47619047619047616,
          0.07142857142857142,
          0.09523809523809523,
          0.047619047619047616,
          0.07142857142857142,
          0.19047619047619047,
          0.21428571428571427,
          0,
          0.047619047619047616,
          0.9047619047619048,
          0,
          0.047619047619047616,
          0,
          0,
          0.023809523809523808,
          0.047619047619047616,
          0.9285714285714286,
          0.6666666666666666,
          0.047619047619047616,
          0.09523809523809523,
          0.023809523809523808,
          0,
          0,
          0,
          0,
          0.047619047619047616,
          0.047619047619047616,
          0.023809523809523808,
          0.023809523809523808,
          0,
          0,
          0,
          0,
          0,
          0.023809523809523808,
          0,
          0.9285714285714286,
          0,
          0,
          0.07142857142857142,
          0.8809523809523809,
          0,
          0.11904761904761904,
          0.047619047619047616,
          0.9523809523809523,
          0
         ],
         "subplot": "polar2",
         "theta": [
          "AGE_ENCODE",
          "LENGTH_OF_RESIDENCE_ENCODE",
          "ESTIMATED_HOUSEHOLD_INCOME_ENCODE",
          "HOME_MKT_VAL_ENCODE",
          "NUMBER_OF_CHILDREN_ENCODE",
          "CHILD_PRESENT_ENCODE",
          "CHILD_UNDER_6_PRESENT_ENCODE",
          "CHILD_6_10_PRESENT_ENCODE",
          "CHILD_11_15_PRESENT_ENCODE",
          "CHILD_16_17_PRESENT_ENCODE",
          "EDUCATION_LEVEL_ENCODE",
          "HOME_POOL_ENCODE",
          "SENIOR_ADULT_IN_HH_ENCODE",
          "SINGLE_PARENT_ENCODE",
          "SPANISH_SPEAKING_ENCODE",
          "USES_CREDIT_CARD_ENCODE",
          "HOME_OFFICE_ENCODE",
          "CATALOG_PURCHASER_INTEREST_ENCODE",
          "AVIATION_INTEREST_ENCODE",
          "HIGH_TECH_INTEREST_ENCODE",
          "HOME_LIVING_INTEREST_ENCODE",
          "SAILING_INTEREST_ENCODE",
          "BEAUTY_INTEREST_ENCODE",
          "MENS_FASHION_INTEREST_ENCODE",
          "WOMENS_FASHION_INTEREST_ENCODE",
          "CHILDRENS_FASHION_INTEREST_ENCODE",
          "JEWELERY_AND_FASHION_ACCESSORIES_INTEREST_ENCODE",
          "CHARITY_DONOR_INTEREST_ENCODE",
          "COLLECTOR_INTEREST_ENCODE",
          "COMPUTER_USER_INTEREST_ENCODE",
          "BOARD_GAME_LOVER_INTEREST_ENCODE",
          "VIDEO_GAME_LOVER_INTEREST_ENCODE",
          "HOME_COOK_INTEREST_ENCODE",
          "DIYER_INTEREST_ENCODE",
          "GARDENER_INTEREST_ENCODE",
          "GIFT_GIVER_INTEREST_ENCODE",
          "DIET_AND_WEIGHT_LOSS_INTEREST_ENCODE",
          "HISTORY_LOVER_INTEREST_ENCODE",
          "EQUESTRIAN_LOVER_INTEREST_ENCODE",
          "MUSIC_LOVER_INTEREST_ENCODE",
          "MOVIE_LOVER_INTEREST_ENCODE",
          "OUTDOORSMAN_INTEREST_ENCODE",
          "CAMPING_AND_HIKING_INTEREST_ENCODE",
          "HUNTING_AND_FISHING_INTEREST_ENCODE",
          "ENVIRONMENT_AND_WILDLIFE_INTEREST_ENCODE",
          "CYCLING_INTEREST_ENCODE",
          "HEALTHY_LIVING_INTEREST_ENCODE",
          "PET_OWNER_INTEREST_ENCODE",
          "CAT_OWNER_INTEREST_ENCODE",
          "DOG_OWNER_INTEREST_ENCODE",
          "PHOTOGRAPHER_INTEREST_ENCODE",
          "SEWING_KNITTING_INTEREST_ENCODE",
          "CRAFTS_INTEREST_ENCODE",
          "CULTURE_AND_ARTS_INTEREST_ENCODE",
          "SPORTS_LOVER_INTEREST_ENCODE",
          "BASEBALL_LOVER_INTEREST_ENCODE",
          "BASKETBALL_LOVER_INTEREST_ENCODE",
          "AMERICAN_FOOTBALL_LOVER_INTEREST_ENCODE",
          "GOLF_LOVER_INTEREST_ENCODE",
          "HOCKEY_LOVER_INTEREST_ENCODE",
          "SKIING_LOVER_INTEREST_ENCODE",
          "SOCCER_LOVER_INTEREST_ENCODE",
          "TENNIS_LOVER_INTEREST_ENCODE",
          "TRAVELER_INTEREST_ENCODE",
          "US_EXPLORER_INTEREST_ENCODE",
          "CRUISE_LOVER_INTEREST_ENCODE",
          "MOTORCYCLE_RIDER_INTEREST_ENCODE",
          "RV_OWNER_INTEREST_ENCODE",
          "TRUCK_OWNER_INTEREST_ENCODE",
          "NEWS_LOVER_INTEREST_ENCODE",
          "\"EDUCATION_LEVEL_onehot_VOCATIONAL/TECHNICAL SCHOOL\"",
          "EDUCATION_LEVEL_ONEHOT_UNKNOWN",
          "\"EDUCATION_LEVEL_onehot_HIGH SCHOOL\"",
          "\"EDUCATION_LEVEL_onehot_GRADUATE SCHOOL\"",
          "EDUCATION_LEVEL_ONEHOT_COLLEGE",
          "HOUSEHOLD_COMPOSITION_ONEHOT_UNKNOWN",
          "HOUSEHOLD_COMPOSITION_ONEHOT_INDIVIDUAL",
          "HOUSEHOLD_COMPOSITION_ONEHOT_COUPLE",
          "\"HOUSEHOLD_COMPOSITION_onehot_SINGLE PARENT\"",
          "HOUSEHOLD_COMPOSITION_ONEHOT_FAMILY",
          "OCCUPATION_ONEHOT_UNKNOWN",
          "\"OCCUPATION_onehot_ADMIN/MGMT\"",
          "OCCUPATION_ONEHOT_CLERICAL",
          "\"OCCUPATION_onehot_DOCTOR/MEDICAL\"",
          "OCCUPATION_ONEHOT_FINANCE",
          "OCCUPATION_ONEHOT_HOMEMAKER",
          "\"OCCUPATION_onehot_SELF-EMPLOYED\"",
          "OCCUPATION_ONEHOT_UNSKILLED",
          "\"OCCUPATION_onehot_OTHER PROFESSIONAL/TECHNICAL\"",
          "\"OCCUPATION_onehot_BLUE COLLAR\"",
          "\"OCCUPATION_onehot_SALES/SERVICE\"",
          "OCCUPATION_ONEHOT_RETIRED",
          "OCCUPATION_ONEHOT_TEACHER",
          "\"OCCUPATION_onehot_FARMER/AGRICULTURE\"",
          "OCCUPATION_ONEHOT_LEGAL",
          "\"OCCUPATION_onehot_GOVERNMENT/MILITARY\"",
          "OCCUPATION_ONEHOT_RELIGIOUS",
          "OCCUPATION_ONEHOT_STUDENT",
          "OCCUPATION_ONEHOT_UNEMPLOYED",
          "DWELLING_TYPE_ONEHOT_SINGLE_FAMILY",
          "DWELLING_TYPE_ONEHOT_MULTI_FAMILY",
          "DWELLING_TYPE_ONEHOT_UNKNOWN",
          "DWELLING_TYPE_ONEHOT_MOBILE_HOME",
          "HOME_OWNERSHIP_ONEHOT_HOMEOWNER",
          "HOME_OWNERSHIP_ONEHOT_UNKNOWN",
          "HOME_OWNERSHIP_ONEHOT_RENTER",
          "MARITAL_STATUS_ONEHOT_SINGLE",
          "MARITAL_STATUS_ONEHOT_MARRIED"
         ],
         "type": "barpolar"
        },
        {
         "base": 0,
         "marker": {
          "color": "darkred"
         },
         "name": "min5",
         "r": [
          0.12195121951219512,
          0,
          0,
          0,
          0,
          0,
          0,
          0,
          0,
          0,
          0,
          0,
          0,
          0,
          0,
          0,
          0,
          0,
          0,
          0,
          0,
          0,
          0,
          0,
          0,
          0,
          0,
          0,
          0,
          0,
          0,
          0,
          0,
          0,
          0,
          0,
          0,
          0,
          0,
          0,
          0,
          0,
          0,
          0,
          0,
          0,
          0,
          0,
          0,
          0,
          0,
          0,
          0,
          0,
          0,
          0,
          0,
          0,
          0,
          0,
          0,
          0,
          0,
          0,
          0,
          0,
          0,
          0,
          0,
          0,
          0,
          0,
          0,
          0,
          0,
          0,
          0,
          0,
          0,
          0,
          0,
          0,
          0,
          0,
          0,
          0,
          0,
          0,
          0,
          0,
          0,
          0,
          0,
          0,
          0,
          0,
          0,
          0,
          0,
          0,
          0,
          0,
          0,
          0,
          0,
          0,
          0,
          0,
          0
         ],
         "subplot": "polar2",
         "theta": [
          "AGE_ENCODE",
          "LENGTH_OF_RESIDENCE_ENCODE",
          "ESTIMATED_HOUSEHOLD_INCOME_ENCODE",
          "HOME_MKT_VAL_ENCODE",
          "NUMBER_OF_CHILDREN_ENCODE",
          "CHILD_PRESENT_ENCODE",
          "CHILD_UNDER_6_PRESENT_ENCODE",
          "CHILD_6_10_PRESENT_ENCODE",
          "CHILD_11_15_PRESENT_ENCODE",
          "CHILD_16_17_PRESENT_ENCODE",
          "EDUCATION_LEVEL_ENCODE",
          "HOME_POOL_ENCODE",
          "SENIOR_ADULT_IN_HH_ENCODE",
          "SINGLE_PARENT_ENCODE",
          "SPANISH_SPEAKING_ENCODE",
          "USES_CREDIT_CARD_ENCODE",
          "HOME_OFFICE_ENCODE",
          "CATALOG_PURCHASER_INTEREST_ENCODE",
          "AVIATION_INTEREST_ENCODE",
          "HIGH_TECH_INTEREST_ENCODE",
          "HOME_LIVING_INTEREST_ENCODE",
          "SAILING_INTEREST_ENCODE",
          "BEAUTY_INTEREST_ENCODE",
          "MENS_FASHION_INTEREST_ENCODE",
          "WOMENS_FASHION_INTEREST_ENCODE",
          "CHILDRENS_FASHION_INTEREST_ENCODE",
          "JEWELERY_AND_FASHION_ACCESSORIES_INTEREST_ENCODE",
          "CHARITY_DONOR_INTEREST_ENCODE",
          "COLLECTOR_INTEREST_ENCODE",
          "COMPUTER_USER_INTEREST_ENCODE",
          "BOARD_GAME_LOVER_INTEREST_ENCODE",
          "VIDEO_GAME_LOVER_INTEREST_ENCODE",
          "HOME_COOK_INTEREST_ENCODE",
          "DIYER_INTEREST_ENCODE",
          "GARDENER_INTEREST_ENCODE",
          "GIFT_GIVER_INTEREST_ENCODE",
          "DIET_AND_WEIGHT_LOSS_INTEREST_ENCODE",
          "HISTORY_LOVER_INTEREST_ENCODE",
          "EQUESTRIAN_LOVER_INTEREST_ENCODE",
          "MUSIC_LOVER_INTEREST_ENCODE",
          "MOVIE_LOVER_INTEREST_ENCODE",
          "OUTDOORSMAN_INTEREST_ENCODE",
          "CAMPING_AND_HIKING_INTEREST_ENCODE",
          "HUNTING_AND_FISHING_INTEREST_ENCODE",
          "ENVIRONMENT_AND_WILDLIFE_INTEREST_ENCODE",
          "CYCLING_INTEREST_ENCODE",
          "HEALTHY_LIVING_INTEREST_ENCODE",
          "PET_OWNER_INTEREST_ENCODE",
          "CAT_OWNER_INTEREST_ENCODE",
          "DOG_OWNER_INTEREST_ENCODE",
          "PHOTOGRAPHER_INTEREST_ENCODE",
          "SEWING_KNITTING_INTEREST_ENCODE",
          "CRAFTS_INTEREST_ENCODE",
          "CULTURE_AND_ARTS_INTEREST_ENCODE",
          "SPORTS_LOVER_INTEREST_ENCODE",
          "BASEBALL_LOVER_INTEREST_ENCODE",
          "BASKETBALL_LOVER_INTEREST_ENCODE",
          "AMERICAN_FOOTBALL_LOVER_INTEREST_ENCODE",
          "GOLF_LOVER_INTEREST_ENCODE",
          "HOCKEY_LOVER_INTEREST_ENCODE",
          "SKIING_LOVER_INTEREST_ENCODE",
          "SOCCER_LOVER_INTEREST_ENCODE",
          "TENNIS_LOVER_INTEREST_ENCODE",
          "TRAVELER_INTEREST_ENCODE",
          "US_EXPLORER_INTEREST_ENCODE",
          "CRUISE_LOVER_INTEREST_ENCODE",
          "MOTORCYCLE_RIDER_INTEREST_ENCODE",
          "RV_OWNER_INTEREST_ENCODE",
          "TRUCK_OWNER_INTEREST_ENCODE",
          "NEWS_LOVER_INTEREST_ENCODE",
          "\"EDUCATION_LEVEL_onehot_VOCATIONAL/TECHNICAL SCHOOL\"",
          "EDUCATION_LEVEL_ONEHOT_UNKNOWN",
          "\"EDUCATION_LEVEL_onehot_HIGH SCHOOL\"",
          "\"EDUCATION_LEVEL_onehot_GRADUATE SCHOOL\"",
          "EDUCATION_LEVEL_ONEHOT_COLLEGE",
          "HOUSEHOLD_COMPOSITION_ONEHOT_UNKNOWN",
          "HOUSEHOLD_COMPOSITION_ONEHOT_INDIVIDUAL",
          "HOUSEHOLD_COMPOSITION_ONEHOT_COUPLE",
          "\"HOUSEHOLD_COMPOSITION_onehot_SINGLE PARENT\"",
          "HOUSEHOLD_COMPOSITION_ONEHOT_FAMILY",
          "OCCUPATION_ONEHOT_UNKNOWN",
          "\"OCCUPATION_onehot_ADMIN/MGMT\"",
          "OCCUPATION_ONEHOT_CLERICAL",
          "\"OCCUPATION_onehot_DOCTOR/MEDICAL\"",
          "OCCUPATION_ONEHOT_FINANCE",
          "OCCUPATION_ONEHOT_HOMEMAKER",
          "\"OCCUPATION_onehot_SELF-EMPLOYED\"",
          "OCCUPATION_ONEHOT_UNSKILLED",
          "\"OCCUPATION_onehot_OTHER PROFESSIONAL/TECHNICAL\"",
          "\"OCCUPATION_onehot_BLUE COLLAR\"",
          "\"OCCUPATION_onehot_SALES/SERVICE\"",
          "OCCUPATION_ONEHOT_RETIRED",
          "OCCUPATION_ONEHOT_TEACHER",
          "\"OCCUPATION_onehot_FARMER/AGRICULTURE\"",
          "OCCUPATION_ONEHOT_LEGAL",
          "\"OCCUPATION_onehot_GOVERNMENT/MILITARY\"",
          "OCCUPATION_ONEHOT_RELIGIOUS",
          "OCCUPATION_ONEHOT_STUDENT",
          "OCCUPATION_ONEHOT_UNEMPLOYED",
          "DWELLING_TYPE_ONEHOT_SINGLE_FAMILY",
          "DWELLING_TYPE_ONEHOT_MULTI_FAMILY",
          "DWELLING_TYPE_ONEHOT_UNKNOWN",
          "DWELLING_TYPE_ONEHOT_MOBILE_HOME",
          "HOME_OWNERSHIP_ONEHOT_HOMEOWNER",
          "HOME_OWNERSHIP_ONEHOT_UNKNOWN",
          "HOME_OWNERSHIP_ONEHOT_RENTER",
          "MARITAL_STATUS_ONEHOT_SINGLE",
          "MARITAL_STATUS_ONEHOT_MARRIED"
         ],
         "type": "barpolar"
        },
        {
         "base": 0,
         "marker": {
          "color": "green"
         },
         "name": "max6",
         "r": [
          1,
          1,
          1,
          0.8421052631578947,
          0.75,
          1,
          1,
          1,
          1,
          1,
          1,
          1,
          1,
          1,
          1,
          1,
          1,
          1,
          0,
          1,
          1,
          1,
          0,
          0,
          1,
          1,
          0,
          1,
          1,
          1,
          1,
          1,
          1,
          1,
          1,
          1,
          1,
          0,
          0,
          1,
          1,
          1,
          1,
          1,
          1,
          1,
          1,
          1,
          1,
          1,
          1,
          1,
          1,
          1,
          1,
          1,
          1,
          1,
          1,
          1,
          1,
          0,
          1,
          1,
          1,
          1,
          1,
          1,
          1,
          1,
          0,
          1,
          1,
          1,
          1,
          1,
          0,
          0,
          1,
          1,
          1,
          1,
          1,
          1,
          0,
          1,
          0,
          0,
          1,
          1,
          0,
          0,
          0,
          0,
          0,
          0,
          0,
          1,
          0,
          1,
          1,
          1,
          0,
          1,
          1,
          1,
          1,
          1,
          1
         ],
         "subplot": "polar",
         "theta": [
          "AGE_ENCODE",
          "LENGTH_OF_RESIDENCE_ENCODE",
          "ESTIMATED_HOUSEHOLD_INCOME_ENCODE",
          "HOME_MKT_VAL_ENCODE",
          "NUMBER_OF_CHILDREN_ENCODE",
          "CHILD_PRESENT_ENCODE",
          "CHILD_UNDER_6_PRESENT_ENCODE",
          "CHILD_6_10_PRESENT_ENCODE",
          "CHILD_11_15_PRESENT_ENCODE",
          "CHILD_16_17_PRESENT_ENCODE",
          "EDUCATION_LEVEL_ENCODE",
          "HOME_POOL_ENCODE",
          "SENIOR_ADULT_IN_HH_ENCODE",
          "SINGLE_PARENT_ENCODE",
          "SPANISH_SPEAKING_ENCODE",
          "USES_CREDIT_CARD_ENCODE",
          "HOME_OFFICE_ENCODE",
          "CATALOG_PURCHASER_INTEREST_ENCODE",
          "AVIATION_INTEREST_ENCODE",
          "HIGH_TECH_INTEREST_ENCODE",
          "HOME_LIVING_INTEREST_ENCODE",
          "SAILING_INTEREST_ENCODE",
          "BEAUTY_INTEREST_ENCODE",
          "MENS_FASHION_INTEREST_ENCODE",
          "WOMENS_FASHION_INTEREST_ENCODE",
          "CHILDRENS_FASHION_INTEREST_ENCODE",
          "JEWELERY_AND_FASHION_ACCESSORIES_INTEREST_ENCODE",
          "CHARITY_DONOR_INTEREST_ENCODE",
          "COLLECTOR_INTEREST_ENCODE",
          "COMPUTER_USER_INTEREST_ENCODE",
          "BOARD_GAME_LOVER_INTEREST_ENCODE",
          "VIDEO_GAME_LOVER_INTEREST_ENCODE",
          "HOME_COOK_INTEREST_ENCODE",
          "DIYER_INTEREST_ENCODE",
          "GARDENER_INTEREST_ENCODE",
          "GIFT_GIVER_INTEREST_ENCODE",
          "DIET_AND_WEIGHT_LOSS_INTEREST_ENCODE",
          "HISTORY_LOVER_INTEREST_ENCODE",
          "EQUESTRIAN_LOVER_INTEREST_ENCODE",
          "MUSIC_LOVER_INTEREST_ENCODE",
          "MOVIE_LOVER_INTEREST_ENCODE",
          "OUTDOORSMAN_INTEREST_ENCODE",
          "CAMPING_AND_HIKING_INTEREST_ENCODE",
          "HUNTING_AND_FISHING_INTEREST_ENCODE",
          "ENVIRONMENT_AND_WILDLIFE_INTEREST_ENCODE",
          "CYCLING_INTEREST_ENCODE",
          "HEALTHY_LIVING_INTEREST_ENCODE",
          "PET_OWNER_INTEREST_ENCODE",
          "CAT_OWNER_INTEREST_ENCODE",
          "DOG_OWNER_INTEREST_ENCODE",
          "PHOTOGRAPHER_INTEREST_ENCODE",
          "SEWING_KNITTING_INTEREST_ENCODE",
          "CRAFTS_INTEREST_ENCODE",
          "CULTURE_AND_ARTS_INTEREST_ENCODE",
          "SPORTS_LOVER_INTEREST_ENCODE",
          "BASEBALL_LOVER_INTEREST_ENCODE",
          "BASKETBALL_LOVER_INTEREST_ENCODE",
          "AMERICAN_FOOTBALL_LOVER_INTEREST_ENCODE",
          "GOLF_LOVER_INTEREST_ENCODE",
          "HOCKEY_LOVER_INTEREST_ENCODE",
          "SKIING_LOVER_INTEREST_ENCODE",
          "SOCCER_LOVER_INTEREST_ENCODE",
          "TENNIS_LOVER_INTEREST_ENCODE",
          "TRAVELER_INTEREST_ENCODE",
          "US_EXPLORER_INTEREST_ENCODE",
          "CRUISE_LOVER_INTEREST_ENCODE",
          "MOTORCYCLE_RIDER_INTEREST_ENCODE",
          "RV_OWNER_INTEREST_ENCODE",
          "TRUCK_OWNER_INTEREST_ENCODE",
          "NEWS_LOVER_INTEREST_ENCODE",
          "\"EDUCATION_LEVEL_onehot_VOCATIONAL/TECHNICAL SCHOOL\"",
          "EDUCATION_LEVEL_ONEHOT_UNKNOWN",
          "\"EDUCATION_LEVEL_onehot_HIGH SCHOOL\"",
          "\"EDUCATION_LEVEL_onehot_GRADUATE SCHOOL\"",
          "EDUCATION_LEVEL_ONEHOT_COLLEGE",
          "HOUSEHOLD_COMPOSITION_ONEHOT_UNKNOWN",
          "HOUSEHOLD_COMPOSITION_ONEHOT_INDIVIDUAL",
          "HOUSEHOLD_COMPOSITION_ONEHOT_COUPLE",
          "\"HOUSEHOLD_COMPOSITION_onehot_SINGLE PARENT\"",
          "HOUSEHOLD_COMPOSITION_ONEHOT_FAMILY",
          "OCCUPATION_ONEHOT_UNKNOWN",
          "\"OCCUPATION_onehot_ADMIN/MGMT\"",
          "OCCUPATION_ONEHOT_CLERICAL",
          "\"OCCUPATION_onehot_DOCTOR/MEDICAL\"",
          "OCCUPATION_ONEHOT_FINANCE",
          "OCCUPATION_ONEHOT_HOMEMAKER",
          "\"OCCUPATION_onehot_SELF-EMPLOYED\"",
          "OCCUPATION_ONEHOT_UNSKILLED",
          "\"OCCUPATION_onehot_OTHER PROFESSIONAL/TECHNICAL\"",
          "\"OCCUPATION_onehot_BLUE COLLAR\"",
          "\"OCCUPATION_onehot_SALES/SERVICE\"",
          "OCCUPATION_ONEHOT_RETIRED",
          "OCCUPATION_ONEHOT_TEACHER",
          "\"OCCUPATION_onehot_FARMER/AGRICULTURE\"",
          "OCCUPATION_ONEHOT_LEGAL",
          "\"OCCUPATION_onehot_GOVERNMENT/MILITARY\"",
          "OCCUPATION_ONEHOT_RELIGIOUS",
          "OCCUPATION_ONEHOT_STUDENT",
          "OCCUPATION_ONEHOT_UNEMPLOYED",
          "DWELLING_TYPE_ONEHOT_SINGLE_FAMILY",
          "DWELLING_TYPE_ONEHOT_MULTI_FAMILY",
          "DWELLING_TYPE_ONEHOT_UNKNOWN",
          "DWELLING_TYPE_ONEHOT_MOBILE_HOME",
          "HOME_OWNERSHIP_ONEHOT_HOMEOWNER",
          "HOME_OWNERSHIP_ONEHOT_UNKNOWN",
          "HOME_OWNERSHIP_ONEHOT_RENTER",
          "MARITAL_STATUS_ONEHOT_SINGLE",
          "MARITAL_STATUS_ONEHOT_MARRIED"
         ],
         "type": "barpolar"
        },
        {
         "base": 0,
         "marker": {
          "color": "blue"
         },
         "name": "mean6",
         "r": [
          0.3161698283649504,
          0.47685185185185186,
          0.3055555555555556,
          0.4951267056530215,
          0.2962962962962963,
          1,
          0.2962962962962963,
          0.5185185185185185,
          0.4444444444444444,
          0.14814814814814814,
          0.5555555555555556,
          0.14814814814814814,
          0.18518518518518517,
          0.9259259259259259,
          0.037037037037037035,
          1,
          0.1111111111111111,
          0.07407407407407407,
          0,
          0.18518518518518517,
          0.48148148148148145,
          0.37037037037037035,
          0,
          0,
          0.037037037037037035,
          0.037037037037037035,
          0,
          0.25925925925925924,
          0.8518518518518519,
          1,
          0.07407407407407407,
          0.07407407407407407,
          0.8518518518518519,
          0.18518518518518517,
          0.8148148148148148,
          0.07407407407407407,
          0.5555555555555556,
          0,
          0,
          0.37037037037037035,
          0.18518518518518517,
          1,
          0.5185185185185185,
          0.6666666666666666,
          0.37037037037037035,
          0.037037037037037035,
          1,
          0.8888888888888888,
          0.6666666666666666,
          0.6666666666666666,
          0.25925925925925924,
          0.4444444444444444,
          0.8148148148148148,
          0.2962962962962963,
          1,
          0.8518518518518519,
          0.8518518518518519,
          0.8518518518518519,
          0.48148148148148145,
          0.37037037037037035,
          0.2222222222222222,
          0,
          0.1111111111111111,
          1,
          0.07407407407407407,
          0.6666666666666666,
          0.037037037037037035,
          0.18518518518518517,
          0.14814814814814814,
          0.3333333333333333,
          0,
          0.07407407407407407,
          0.25925925925925924,
          0.07407407407407407,
          0.5925925925925926,
          0.037037037037037035,
          0,
          0,
          0.9259259259259259,
          0.037037037037037035,
          0.5555555555555556,
          0.037037037037037035,
          0.07407407407407407,
          0.07407407407407407,
          0,
          0.037037037037037035,
          0,
          0,
          0.1111111111111111,
          0.037037037037037035,
          0,
          0,
          0,
          0,
          0,
          0,
          0,
          0.07407407407407407,
          0,
          0.9259259259259259,
          0.037037037037037035,
          0.037037037037037035,
          0,
          0.7777777777777778,
          0.037037037037037035,
          0.18518518518518517,
          0.9259259259259259,
          0.037037037037037035,
          0.037037037037037035
         ],
         "subplot": "polar",
         "theta": [
          "AGE_ENCODE",
          "LENGTH_OF_RESIDENCE_ENCODE",
          "ESTIMATED_HOUSEHOLD_INCOME_ENCODE",
          "HOME_MKT_VAL_ENCODE",
          "NUMBER_OF_CHILDREN_ENCODE",
          "CHILD_PRESENT_ENCODE",
          "CHILD_UNDER_6_PRESENT_ENCODE",
          "CHILD_6_10_PRESENT_ENCODE",
          "CHILD_11_15_PRESENT_ENCODE",
          "CHILD_16_17_PRESENT_ENCODE",
          "EDUCATION_LEVEL_ENCODE",
          "HOME_POOL_ENCODE",
          "SENIOR_ADULT_IN_HH_ENCODE",
          "SINGLE_PARENT_ENCODE",
          "SPANISH_SPEAKING_ENCODE",
          "USES_CREDIT_CARD_ENCODE",
          "HOME_OFFICE_ENCODE",
          "CATALOG_PURCHASER_INTEREST_ENCODE",
          "AVIATION_INTEREST_ENCODE",
          "HIGH_TECH_INTEREST_ENCODE",
          "HOME_LIVING_INTEREST_ENCODE",
          "SAILING_INTEREST_ENCODE",
          "BEAUTY_INTEREST_ENCODE",
          "MENS_FASHION_INTEREST_ENCODE",
          "WOMENS_FASHION_INTEREST_ENCODE",
          "CHILDRENS_FASHION_INTEREST_ENCODE",
          "JEWELERY_AND_FASHION_ACCESSORIES_INTEREST_ENCODE",
          "CHARITY_DONOR_INTEREST_ENCODE",
          "COLLECTOR_INTEREST_ENCODE",
          "COMPUTER_USER_INTEREST_ENCODE",
          "BOARD_GAME_LOVER_INTEREST_ENCODE",
          "VIDEO_GAME_LOVER_INTEREST_ENCODE",
          "HOME_COOK_INTEREST_ENCODE",
          "DIYER_INTEREST_ENCODE",
          "GARDENER_INTEREST_ENCODE",
          "GIFT_GIVER_INTEREST_ENCODE",
          "DIET_AND_WEIGHT_LOSS_INTEREST_ENCODE",
          "HISTORY_LOVER_INTEREST_ENCODE",
          "EQUESTRIAN_LOVER_INTEREST_ENCODE",
          "MUSIC_LOVER_INTEREST_ENCODE",
          "MOVIE_LOVER_INTEREST_ENCODE",
          "OUTDOORSMAN_INTEREST_ENCODE",
          "CAMPING_AND_HIKING_INTEREST_ENCODE",
          "HUNTING_AND_FISHING_INTEREST_ENCODE",
          "ENVIRONMENT_AND_WILDLIFE_INTEREST_ENCODE",
          "CYCLING_INTEREST_ENCODE",
          "HEALTHY_LIVING_INTEREST_ENCODE",
          "PET_OWNER_INTEREST_ENCODE",
          "CAT_OWNER_INTEREST_ENCODE",
          "DOG_OWNER_INTEREST_ENCODE",
          "PHOTOGRAPHER_INTEREST_ENCODE",
          "SEWING_KNITTING_INTEREST_ENCODE",
          "CRAFTS_INTEREST_ENCODE",
          "CULTURE_AND_ARTS_INTEREST_ENCODE",
          "SPORTS_LOVER_INTEREST_ENCODE",
          "BASEBALL_LOVER_INTEREST_ENCODE",
          "BASKETBALL_LOVER_INTEREST_ENCODE",
          "AMERICAN_FOOTBALL_LOVER_INTEREST_ENCODE",
          "GOLF_LOVER_INTEREST_ENCODE",
          "HOCKEY_LOVER_INTEREST_ENCODE",
          "SKIING_LOVER_INTEREST_ENCODE",
          "SOCCER_LOVER_INTEREST_ENCODE",
          "TENNIS_LOVER_INTEREST_ENCODE",
          "TRAVELER_INTEREST_ENCODE",
          "US_EXPLORER_INTEREST_ENCODE",
          "CRUISE_LOVER_INTEREST_ENCODE",
          "MOTORCYCLE_RIDER_INTEREST_ENCODE",
          "RV_OWNER_INTEREST_ENCODE",
          "TRUCK_OWNER_INTEREST_ENCODE",
          "NEWS_LOVER_INTEREST_ENCODE",
          "\"EDUCATION_LEVEL_onehot_VOCATIONAL/TECHNICAL SCHOOL\"",
          "EDUCATION_LEVEL_ONEHOT_UNKNOWN",
          "\"EDUCATION_LEVEL_onehot_HIGH SCHOOL\"",
          "\"EDUCATION_LEVEL_onehot_GRADUATE SCHOOL\"",
          "EDUCATION_LEVEL_ONEHOT_COLLEGE",
          "HOUSEHOLD_COMPOSITION_ONEHOT_UNKNOWN",
          "HOUSEHOLD_COMPOSITION_ONEHOT_INDIVIDUAL",
          "HOUSEHOLD_COMPOSITION_ONEHOT_COUPLE",
          "\"HOUSEHOLD_COMPOSITION_onehot_SINGLE PARENT\"",
          "HOUSEHOLD_COMPOSITION_ONEHOT_FAMILY",
          "OCCUPATION_ONEHOT_UNKNOWN",
          "\"OCCUPATION_onehot_ADMIN/MGMT\"",
          "OCCUPATION_ONEHOT_CLERICAL",
          "\"OCCUPATION_onehot_DOCTOR/MEDICAL\"",
          "OCCUPATION_ONEHOT_FINANCE",
          "OCCUPATION_ONEHOT_HOMEMAKER",
          "\"OCCUPATION_onehot_SELF-EMPLOYED\"",
          "OCCUPATION_ONEHOT_UNSKILLED",
          "\"OCCUPATION_onehot_OTHER PROFESSIONAL/TECHNICAL\"",
          "\"OCCUPATION_onehot_BLUE COLLAR\"",
          "\"OCCUPATION_onehot_SALES/SERVICE\"",
          "OCCUPATION_ONEHOT_RETIRED",
          "OCCUPATION_ONEHOT_TEACHER",
          "\"OCCUPATION_onehot_FARMER/AGRICULTURE\"",
          "OCCUPATION_ONEHOT_LEGAL",
          "\"OCCUPATION_onehot_GOVERNMENT/MILITARY\"",
          "OCCUPATION_ONEHOT_RELIGIOUS",
          "OCCUPATION_ONEHOT_STUDENT",
          "OCCUPATION_ONEHOT_UNEMPLOYED",
          "DWELLING_TYPE_ONEHOT_SINGLE_FAMILY",
          "DWELLING_TYPE_ONEHOT_MULTI_FAMILY",
          "DWELLING_TYPE_ONEHOT_UNKNOWN",
          "DWELLING_TYPE_ONEHOT_MOBILE_HOME",
          "HOME_OWNERSHIP_ONEHOT_HOMEOWNER",
          "HOME_OWNERSHIP_ONEHOT_UNKNOWN",
          "HOME_OWNERSHIP_ONEHOT_RENTER",
          "MARITAL_STATUS_ONEHOT_SINGLE",
          "MARITAL_STATUS_ONEHOT_MARRIED"
         ],
         "type": "barpolar"
        },
        {
         "base": 0,
         "marker": {
          "color": "darkred"
         },
         "name": "min6",
         "r": [
          0.12195121951219512,
          0,
          0,
          0.15789473684210525,
          0.25,
          1,
          0,
          0,
          0,
          0,
          0,
          0,
          0,
          0,
          0,
          1,
          0,
          0,
          0,
          0,
          0,
          0,
          0,
          0,
          0,
          0,
          0,
          0,
          0,
          1,
          0,
          0,
          0,
          0,
          0,
          0,
          0,
          0,
          0,
          0,
          0,
          1,
          0,
          0,
          0,
          0,
          1,
          0,
          0,
          0,
          0,
          0,
          0,
          0,
          1,
          0,
          0,
          0,
          0,
          0,
          0,
          0,
          0,
          1,
          0,
          0,
          0,
          0,
          0,
          0,
          0,
          0,
          0,
          0,
          0,
          0,
          0,
          0,
          0,
          0,
          0,
          0,
          0,
          0,
          0,
          0,
          0,
          0,
          0,
          0,
          0,
          0,
          0,
          0,
          0,
          0,
          0,
          0,
          0,
          0,
          0,
          0,
          0,
          0,
          0,
          0,
          0,
          0,
          0
         ],
         "subplot": "polar",
         "theta": [
          "AGE_ENCODE",
          "LENGTH_OF_RESIDENCE_ENCODE",
          "ESTIMATED_HOUSEHOLD_INCOME_ENCODE",
          "HOME_MKT_VAL_ENCODE",
          "NUMBER_OF_CHILDREN_ENCODE",
          "CHILD_PRESENT_ENCODE",
          "CHILD_UNDER_6_PRESENT_ENCODE",
          "CHILD_6_10_PRESENT_ENCODE",
          "CHILD_11_15_PRESENT_ENCODE",
          "CHILD_16_17_PRESENT_ENCODE",
          "EDUCATION_LEVEL_ENCODE",
          "HOME_POOL_ENCODE",
          "SENIOR_ADULT_IN_HH_ENCODE",
          "SINGLE_PARENT_ENCODE",
          "SPANISH_SPEAKING_ENCODE",
          "USES_CREDIT_CARD_ENCODE",
          "HOME_OFFICE_ENCODE",
          "CATALOG_PURCHASER_INTEREST_ENCODE",
          "AVIATION_INTEREST_ENCODE",
          "HIGH_TECH_INTEREST_ENCODE",
          "HOME_LIVING_INTEREST_ENCODE",
          "SAILING_INTEREST_ENCODE",
          "BEAUTY_INTEREST_ENCODE",
          "MENS_FASHION_INTEREST_ENCODE",
          "WOMENS_FASHION_INTEREST_ENCODE",
          "CHILDRENS_FASHION_INTEREST_ENCODE",
          "JEWELERY_AND_FASHION_ACCESSORIES_INTEREST_ENCODE",
          "CHARITY_DONOR_INTEREST_ENCODE",
          "COLLECTOR_INTEREST_ENCODE",
          "COMPUTER_USER_INTEREST_ENCODE",
          "BOARD_GAME_LOVER_INTEREST_ENCODE",
          "VIDEO_GAME_LOVER_INTEREST_ENCODE",
          "HOME_COOK_INTEREST_ENCODE",
          "DIYER_INTEREST_ENCODE",
          "GARDENER_INTEREST_ENCODE",
          "GIFT_GIVER_INTEREST_ENCODE",
          "DIET_AND_WEIGHT_LOSS_INTEREST_ENCODE",
          "HISTORY_LOVER_INTEREST_ENCODE",
          "EQUESTRIAN_LOVER_INTEREST_ENCODE",
          "MUSIC_LOVER_INTEREST_ENCODE",
          "MOVIE_LOVER_INTEREST_ENCODE",
          "OUTDOORSMAN_INTEREST_ENCODE",
          "CAMPING_AND_HIKING_INTEREST_ENCODE",
          "HUNTING_AND_FISHING_INTEREST_ENCODE",
          "ENVIRONMENT_AND_WILDLIFE_INTEREST_ENCODE",
          "CYCLING_INTEREST_ENCODE",
          "HEALTHY_LIVING_INTEREST_ENCODE",
          "PET_OWNER_INTEREST_ENCODE",
          "CAT_OWNER_INTEREST_ENCODE",
          "DOG_OWNER_INTEREST_ENCODE",
          "PHOTOGRAPHER_INTEREST_ENCODE",
          "SEWING_KNITTING_INTEREST_ENCODE",
          "CRAFTS_INTEREST_ENCODE",
          "CULTURE_AND_ARTS_INTEREST_ENCODE",
          "SPORTS_LOVER_INTEREST_ENCODE",
          "BASEBALL_LOVER_INTEREST_ENCODE",
          "BASKETBALL_LOVER_INTEREST_ENCODE",
          "AMERICAN_FOOTBALL_LOVER_INTEREST_ENCODE",
          "GOLF_LOVER_INTEREST_ENCODE",
          "HOCKEY_LOVER_INTEREST_ENCODE",
          "SKIING_LOVER_INTEREST_ENCODE",
          "SOCCER_LOVER_INTEREST_ENCODE",
          "TENNIS_LOVER_INTEREST_ENCODE",
          "TRAVELER_INTEREST_ENCODE",
          "US_EXPLORER_INTEREST_ENCODE",
          "CRUISE_LOVER_INTEREST_ENCODE",
          "MOTORCYCLE_RIDER_INTEREST_ENCODE",
          "RV_OWNER_INTEREST_ENCODE",
          "TRUCK_OWNER_INTEREST_ENCODE",
          "NEWS_LOVER_INTEREST_ENCODE",
          "\"EDUCATION_LEVEL_onehot_VOCATIONAL/TECHNICAL SCHOOL\"",
          "EDUCATION_LEVEL_ONEHOT_UNKNOWN",
          "\"EDUCATION_LEVEL_onehot_HIGH SCHOOL\"",
          "\"EDUCATION_LEVEL_onehot_GRADUATE SCHOOL\"",
          "EDUCATION_LEVEL_ONEHOT_COLLEGE",
          "HOUSEHOLD_COMPOSITION_ONEHOT_UNKNOWN",
          "HOUSEHOLD_COMPOSITION_ONEHOT_INDIVIDUAL",
          "HOUSEHOLD_COMPOSITION_ONEHOT_COUPLE",
          "\"HOUSEHOLD_COMPOSITION_onehot_SINGLE PARENT\"",
          "HOUSEHOLD_COMPOSITION_ONEHOT_FAMILY",
          "OCCUPATION_ONEHOT_UNKNOWN",
          "\"OCCUPATION_onehot_ADMIN/MGMT\"",
          "OCCUPATION_ONEHOT_CLERICAL",
          "\"OCCUPATION_onehot_DOCTOR/MEDICAL\"",
          "OCCUPATION_ONEHOT_FINANCE",
          "OCCUPATION_ONEHOT_HOMEMAKER",
          "\"OCCUPATION_onehot_SELF-EMPLOYED\"",
          "OCCUPATION_ONEHOT_UNSKILLED",
          "\"OCCUPATION_onehot_OTHER PROFESSIONAL/TECHNICAL\"",
          "\"OCCUPATION_onehot_BLUE COLLAR\"",
          "\"OCCUPATION_onehot_SALES/SERVICE\"",
          "OCCUPATION_ONEHOT_RETIRED",
          "OCCUPATION_ONEHOT_TEACHER",
          "\"OCCUPATION_onehot_FARMER/AGRICULTURE\"",
          "OCCUPATION_ONEHOT_LEGAL",
          "\"OCCUPATION_onehot_GOVERNMENT/MILITARY\"",
          "OCCUPATION_ONEHOT_RELIGIOUS",
          "OCCUPATION_ONEHOT_STUDENT",
          "OCCUPATION_ONEHOT_UNEMPLOYED",
          "DWELLING_TYPE_ONEHOT_SINGLE_FAMILY",
          "DWELLING_TYPE_ONEHOT_MULTI_FAMILY",
          "DWELLING_TYPE_ONEHOT_UNKNOWN",
          "DWELLING_TYPE_ONEHOT_MOBILE_HOME",
          "HOME_OWNERSHIP_ONEHOT_HOMEOWNER",
          "HOME_OWNERSHIP_ONEHOT_UNKNOWN",
          "HOME_OWNERSHIP_ONEHOT_RENTER",
          "MARITAL_STATUS_ONEHOT_SINGLE",
          "MARITAL_STATUS_ONEHOT_MARRIED"
         ],
         "type": "barpolar"
        },
        {
         "base": 0,
         "marker": {
          "color": "green"
         },
         "name": "max7",
         "r": [
          0.9878048780487805,
          1,
          0.75,
          1,
          0.75,
          1,
          1,
          1,
          1,
          1,
          1,
          1,
          1,
          0.5,
          0.5,
          1,
          1,
          1,
          1,
          1,
          1,
          1,
          1,
          1,
          1,
          1,
          1,
          1,
          1,
          1,
          1,
          1,
          1,
          1,
          1,
          1,
          1,
          1,
          1,
          1,
          1,
          1,
          1,
          1,
          1,
          1,
          1,
          1,
          1,
          1,
          1,
          1,
          1,
          1,
          1,
          1,
          1,
          1,
          1,
          1,
          1,
          1,
          1,
          1,
          1,
          1,
          1,
          1,
          1,
          1,
          1,
          1,
          1,
          1,
          1,
          1,
          1,
          1,
          0,
          1,
          1,
          1,
          1,
          1,
          1,
          1,
          1,
          0,
          1,
          1,
          1,
          1,
          0,
          0,
          0,
          1,
          0,
          0,
          0,
          1,
          0,
          1,
          0,
          1,
          1,
          1,
          1,
          1,
          1
         ],
         "subplot": "polar5",
         "theta": [
          "AGE_ENCODE",
          "LENGTH_OF_RESIDENCE_ENCODE",
          "ESTIMATED_HOUSEHOLD_INCOME_ENCODE",
          "HOME_MKT_VAL_ENCODE",
          "NUMBER_OF_CHILDREN_ENCODE",
          "CHILD_PRESENT_ENCODE",
          "CHILD_UNDER_6_PRESENT_ENCODE",
          "CHILD_6_10_PRESENT_ENCODE",
          "CHILD_11_15_PRESENT_ENCODE",
          "CHILD_16_17_PRESENT_ENCODE",
          "EDUCATION_LEVEL_ENCODE",
          "HOME_POOL_ENCODE",
          "SENIOR_ADULT_IN_HH_ENCODE",
          "SINGLE_PARENT_ENCODE",
          "SPANISH_SPEAKING_ENCODE",
          "USES_CREDIT_CARD_ENCODE",
          "HOME_OFFICE_ENCODE",
          "CATALOG_PURCHASER_INTEREST_ENCODE",
          "AVIATION_INTEREST_ENCODE",
          "HIGH_TECH_INTEREST_ENCODE",
          "HOME_LIVING_INTEREST_ENCODE",
          "SAILING_INTEREST_ENCODE",
          "BEAUTY_INTEREST_ENCODE",
          "MENS_FASHION_INTEREST_ENCODE",
          "WOMENS_FASHION_INTEREST_ENCODE",
          "CHILDRENS_FASHION_INTEREST_ENCODE",
          "JEWELERY_AND_FASHION_ACCESSORIES_INTEREST_ENCODE",
          "CHARITY_DONOR_INTEREST_ENCODE",
          "COLLECTOR_INTEREST_ENCODE",
          "COMPUTER_USER_INTEREST_ENCODE",
          "BOARD_GAME_LOVER_INTEREST_ENCODE",
          "VIDEO_GAME_LOVER_INTEREST_ENCODE",
          "HOME_COOK_INTEREST_ENCODE",
          "DIYER_INTEREST_ENCODE",
          "GARDENER_INTEREST_ENCODE",
          "GIFT_GIVER_INTEREST_ENCODE",
          "DIET_AND_WEIGHT_LOSS_INTEREST_ENCODE",
          "HISTORY_LOVER_INTEREST_ENCODE",
          "EQUESTRIAN_LOVER_INTEREST_ENCODE",
          "MUSIC_LOVER_INTEREST_ENCODE",
          "MOVIE_LOVER_INTEREST_ENCODE",
          "OUTDOORSMAN_INTEREST_ENCODE",
          "CAMPING_AND_HIKING_INTEREST_ENCODE",
          "HUNTING_AND_FISHING_INTEREST_ENCODE",
          "ENVIRONMENT_AND_WILDLIFE_INTEREST_ENCODE",
          "CYCLING_INTEREST_ENCODE",
          "HEALTHY_LIVING_INTEREST_ENCODE",
          "PET_OWNER_INTEREST_ENCODE",
          "CAT_OWNER_INTEREST_ENCODE",
          "DOG_OWNER_INTEREST_ENCODE",
          "PHOTOGRAPHER_INTEREST_ENCODE",
          "SEWING_KNITTING_INTEREST_ENCODE",
          "CRAFTS_INTEREST_ENCODE",
          "CULTURE_AND_ARTS_INTEREST_ENCODE",
          "SPORTS_LOVER_INTEREST_ENCODE",
          "BASEBALL_LOVER_INTEREST_ENCODE",
          "BASKETBALL_LOVER_INTEREST_ENCODE",
          "AMERICAN_FOOTBALL_LOVER_INTEREST_ENCODE",
          "GOLF_LOVER_INTEREST_ENCODE",
          "HOCKEY_LOVER_INTEREST_ENCODE",
          "SKIING_LOVER_INTEREST_ENCODE",
          "SOCCER_LOVER_INTEREST_ENCODE",
          "TENNIS_LOVER_INTEREST_ENCODE",
          "TRAVELER_INTEREST_ENCODE",
          "US_EXPLORER_INTEREST_ENCODE",
          "CRUISE_LOVER_INTEREST_ENCODE",
          "MOTORCYCLE_RIDER_INTEREST_ENCODE",
          "RV_OWNER_INTEREST_ENCODE",
          "TRUCK_OWNER_INTEREST_ENCODE",
          "NEWS_LOVER_INTEREST_ENCODE",
          "\"EDUCATION_LEVEL_onehot_VOCATIONAL/TECHNICAL SCHOOL\"",
          "EDUCATION_LEVEL_ONEHOT_UNKNOWN",
          "\"EDUCATION_LEVEL_onehot_HIGH SCHOOL\"",
          "\"EDUCATION_LEVEL_onehot_GRADUATE SCHOOL\"",
          "EDUCATION_LEVEL_ONEHOT_COLLEGE",
          "HOUSEHOLD_COMPOSITION_ONEHOT_UNKNOWN",
          "HOUSEHOLD_COMPOSITION_ONEHOT_INDIVIDUAL",
          "HOUSEHOLD_COMPOSITION_ONEHOT_COUPLE",
          "\"HOUSEHOLD_COMPOSITION_onehot_SINGLE PARENT\"",
          "HOUSEHOLD_COMPOSITION_ONEHOT_FAMILY",
          "OCCUPATION_ONEHOT_UNKNOWN",
          "\"OCCUPATION_onehot_ADMIN/MGMT\"",
          "OCCUPATION_ONEHOT_CLERICAL",
          "\"OCCUPATION_onehot_DOCTOR/MEDICAL\"",
          "OCCUPATION_ONEHOT_FINANCE",
          "OCCUPATION_ONEHOT_HOMEMAKER",
          "\"OCCUPATION_onehot_SELF-EMPLOYED\"",
          "OCCUPATION_ONEHOT_UNSKILLED",
          "\"OCCUPATION_onehot_OTHER PROFESSIONAL/TECHNICAL\"",
          "\"OCCUPATION_onehot_BLUE COLLAR\"",
          "\"OCCUPATION_onehot_SALES/SERVICE\"",
          "OCCUPATION_ONEHOT_RETIRED",
          "OCCUPATION_ONEHOT_TEACHER",
          "\"OCCUPATION_onehot_FARMER/AGRICULTURE\"",
          "OCCUPATION_ONEHOT_LEGAL",
          "\"OCCUPATION_onehot_GOVERNMENT/MILITARY\"",
          "OCCUPATION_ONEHOT_RELIGIOUS",
          "OCCUPATION_ONEHOT_STUDENT",
          "OCCUPATION_ONEHOT_UNEMPLOYED",
          "DWELLING_TYPE_ONEHOT_SINGLE_FAMILY",
          "DWELLING_TYPE_ONEHOT_MULTI_FAMILY",
          "DWELLING_TYPE_ONEHOT_UNKNOWN",
          "DWELLING_TYPE_ONEHOT_MOBILE_HOME",
          "HOME_OWNERSHIP_ONEHOT_HOMEOWNER",
          "HOME_OWNERSHIP_ONEHOT_UNKNOWN",
          "HOME_OWNERSHIP_ONEHOT_RENTER",
          "MARITAL_STATUS_ONEHOT_SINGLE",
          "MARITAL_STATUS_ONEHOT_MARRIED"
         ],
         "type": "barpolar"
        },
        {
         "base": 0,
         "marker": {
          "color": "blue"
         },
         "name": "mean7",
         "r": [
          0.540650406504065,
          0.8493589743589743,
          0.41025641025641024,
          0.622132253711201,
          0.15384615384615385,
          0.23076923076923078,
          0.10256410256410256,
          0.07692307692307693,
          0.05128205128205128,
          0.05128205128205128,
          0.47435897435897434,
          0.1794871794871795,
          0.41025641025641024,
          0.01282051282051282,
          0.02564102564102564,
          0.9487179487179487,
          0.4358974358974359,
          0.5641025641025641,
          0.1794871794871795,
          0.6666666666666666,
          0.8717948717948718,
          0.6666666666666666,
          0.3076923076923077,
          0.1794871794871795,
          0.23076923076923078,
          0.02564102564102564,
          0.07692307692307693,
          0.6410256410256411,
          0.9743589743589743,
          0.9743589743589743,
          0.15384615384615385,
          0.20512820512820512,
          1,
          0.5897435897435898,
          1,
          0.28205128205128205,
          0.8717948717948718,
          0.15384615384615385,
          0.07692307692307693,
          1,
          0.9487179487179487,
          1,
          0.8717948717948718,
          0.8974358974358975,
          0.717948717948718,
          0.5897435897435898,
          1,
          0.9487179487179487,
          0.8205128205128205,
          0.4358974358974359,
          0.5128205128205128,
          0.5897435897435898,
          0.9487179487179487,
          0.7948717948717948,
          1,
          0.28205128205128205,
          0.23076923076923078,
          0.3333333333333333,
          0.46153846153846156,
          0.10256410256410256,
          0.3333333333333333,
          0.02564102564102564,
          0.23076923076923078,
          1,
          0.8974358974358975,
          0.5128205128205128,
          0.3076923076923077,
          0.6923076923076923,
          0.38461538461538464,
          0.41025641025641024,
          0.02564102564102564,
          0.46153846153846156,
          0.20512820512820512,
          0.02564102564102564,
          0.28205128205128205,
          0.02564102564102564,
          0.07692307692307693,
          0.7692307692307693,
          0,
          0.1282051282051282,
          0.1794871794871795,
          0.10256410256410256,
          0.05128205128205128,
          0.05128205128205128,
          0.02564102564102564,
          0.10256410256410256,
          0.07692307692307693,
          0,
          0.1794871794871795,
          0.02564102564102564,
          0.10256410256410256,
          0.05128205128205128,
          0,
          0,
          0,
          0.05128205128205128,
          0,
          0,
          0,
          0.9487179487179487,
          0,
          0.05128205128205128,
          0,
          0.8974358974358975,
          0.02564102564102564,
          0.07692307692307693,
          0.07692307692307693,
          0.8974358974358975,
          0.02564102564102564
         ],
         "subplot": "polar5",
         "theta": [
          "AGE_ENCODE",
          "LENGTH_OF_RESIDENCE_ENCODE",
          "ESTIMATED_HOUSEHOLD_INCOME_ENCODE",
          "HOME_MKT_VAL_ENCODE",
          "NUMBER_OF_CHILDREN_ENCODE",
          "CHILD_PRESENT_ENCODE",
          "CHILD_UNDER_6_PRESENT_ENCODE",
          "CHILD_6_10_PRESENT_ENCODE",
          "CHILD_11_15_PRESENT_ENCODE",
          "CHILD_16_17_PRESENT_ENCODE",
          "EDUCATION_LEVEL_ENCODE",
          "HOME_POOL_ENCODE",
          "SENIOR_ADULT_IN_HH_ENCODE",
          "SINGLE_PARENT_ENCODE",
          "SPANISH_SPEAKING_ENCODE",
          "USES_CREDIT_CARD_ENCODE",
          "HOME_OFFICE_ENCODE",
          "CATALOG_PURCHASER_INTEREST_ENCODE",
          "AVIATION_INTEREST_ENCODE",
          "HIGH_TECH_INTEREST_ENCODE",
          "HOME_LIVING_INTEREST_ENCODE",
          "SAILING_INTEREST_ENCODE",
          "BEAUTY_INTEREST_ENCODE",
          "MENS_FASHION_INTEREST_ENCODE",
          "WOMENS_FASHION_INTEREST_ENCODE",
          "CHILDRENS_FASHION_INTEREST_ENCODE",
          "JEWELERY_AND_FASHION_ACCESSORIES_INTEREST_ENCODE",
          "CHARITY_DONOR_INTEREST_ENCODE",
          "COLLECTOR_INTEREST_ENCODE",
          "COMPUTER_USER_INTEREST_ENCODE",
          "BOARD_GAME_LOVER_INTEREST_ENCODE",
          "VIDEO_GAME_LOVER_INTEREST_ENCODE",
          "HOME_COOK_INTEREST_ENCODE",
          "DIYER_INTEREST_ENCODE",
          "GARDENER_INTEREST_ENCODE",
          "GIFT_GIVER_INTEREST_ENCODE",
          "DIET_AND_WEIGHT_LOSS_INTEREST_ENCODE",
          "HISTORY_LOVER_INTEREST_ENCODE",
          "EQUESTRIAN_LOVER_INTEREST_ENCODE",
          "MUSIC_LOVER_INTEREST_ENCODE",
          "MOVIE_LOVER_INTEREST_ENCODE",
          "OUTDOORSMAN_INTEREST_ENCODE",
          "CAMPING_AND_HIKING_INTEREST_ENCODE",
          "HUNTING_AND_FISHING_INTEREST_ENCODE",
          "ENVIRONMENT_AND_WILDLIFE_INTEREST_ENCODE",
          "CYCLING_INTEREST_ENCODE",
          "HEALTHY_LIVING_INTEREST_ENCODE",
          "PET_OWNER_INTEREST_ENCODE",
          "CAT_OWNER_INTEREST_ENCODE",
          "DOG_OWNER_INTEREST_ENCODE",
          "PHOTOGRAPHER_INTEREST_ENCODE",
          "SEWING_KNITTING_INTEREST_ENCODE",
          "CRAFTS_INTEREST_ENCODE",
          "CULTURE_AND_ARTS_INTEREST_ENCODE",
          "SPORTS_LOVER_INTEREST_ENCODE",
          "BASEBALL_LOVER_INTEREST_ENCODE",
          "BASKETBALL_LOVER_INTEREST_ENCODE",
          "AMERICAN_FOOTBALL_LOVER_INTEREST_ENCODE",
          "GOLF_LOVER_INTEREST_ENCODE",
          "HOCKEY_LOVER_INTEREST_ENCODE",
          "SKIING_LOVER_INTEREST_ENCODE",
          "SOCCER_LOVER_INTEREST_ENCODE",
          "TENNIS_LOVER_INTEREST_ENCODE",
          "TRAVELER_INTEREST_ENCODE",
          "US_EXPLORER_INTEREST_ENCODE",
          "CRUISE_LOVER_INTEREST_ENCODE",
          "MOTORCYCLE_RIDER_INTEREST_ENCODE",
          "RV_OWNER_INTEREST_ENCODE",
          "TRUCK_OWNER_INTEREST_ENCODE",
          "NEWS_LOVER_INTEREST_ENCODE",
          "\"EDUCATION_LEVEL_onehot_VOCATIONAL/TECHNICAL SCHOOL\"",
          "EDUCATION_LEVEL_ONEHOT_UNKNOWN",
          "\"EDUCATION_LEVEL_onehot_HIGH SCHOOL\"",
          "\"EDUCATION_LEVEL_onehot_GRADUATE SCHOOL\"",
          "EDUCATION_LEVEL_ONEHOT_COLLEGE",
          "HOUSEHOLD_COMPOSITION_ONEHOT_UNKNOWN",
          "HOUSEHOLD_COMPOSITION_ONEHOT_INDIVIDUAL",
          "HOUSEHOLD_COMPOSITION_ONEHOT_COUPLE",
          "\"HOUSEHOLD_COMPOSITION_onehot_SINGLE PARENT\"",
          "HOUSEHOLD_COMPOSITION_ONEHOT_FAMILY",
          "OCCUPATION_ONEHOT_UNKNOWN",
          "\"OCCUPATION_onehot_ADMIN/MGMT\"",
          "OCCUPATION_ONEHOT_CLERICAL",
          "\"OCCUPATION_onehot_DOCTOR/MEDICAL\"",
          "OCCUPATION_ONEHOT_FINANCE",
          "OCCUPATION_ONEHOT_HOMEMAKER",
          "\"OCCUPATION_onehot_SELF-EMPLOYED\"",
          "OCCUPATION_ONEHOT_UNSKILLED",
          "\"OCCUPATION_onehot_OTHER PROFESSIONAL/TECHNICAL\"",
          "\"OCCUPATION_onehot_BLUE COLLAR\"",
          "\"OCCUPATION_onehot_SALES/SERVICE\"",
          "OCCUPATION_ONEHOT_RETIRED",
          "OCCUPATION_ONEHOT_TEACHER",
          "\"OCCUPATION_onehot_FARMER/AGRICULTURE\"",
          "OCCUPATION_ONEHOT_LEGAL",
          "\"OCCUPATION_onehot_GOVERNMENT/MILITARY\"",
          "OCCUPATION_ONEHOT_RELIGIOUS",
          "OCCUPATION_ONEHOT_STUDENT",
          "OCCUPATION_ONEHOT_UNEMPLOYED",
          "DWELLING_TYPE_ONEHOT_SINGLE_FAMILY",
          "DWELLING_TYPE_ONEHOT_MULTI_FAMILY",
          "DWELLING_TYPE_ONEHOT_UNKNOWN",
          "DWELLING_TYPE_ONEHOT_MOBILE_HOME",
          "HOME_OWNERSHIP_ONEHOT_HOMEOWNER",
          "HOME_OWNERSHIP_ONEHOT_UNKNOWN",
          "HOME_OWNERSHIP_ONEHOT_RENTER",
          "MARITAL_STATUS_ONEHOT_SINGLE",
          "MARITAL_STATUS_ONEHOT_MARRIED"
         ],
         "type": "barpolar"
        },
        {
         "base": 0,
         "marker": {
          "color": "darkred"
         },
         "name": "min7",
         "r": [
          0.024390243902439025,
          0.1875,
          0,
          0.10526315789473684,
          0,
          0,
          0,
          0,
          0,
          0,
          0,
          0,
          0,
          0,
          0,
          0,
          0,
          0,
          0,
          0,
          0,
          0,
          0,
          0,
          0,
          0,
          0,
          0,
          0,
          0,
          0,
          0,
          1,
          0,
          1,
          0,
          0,
          0,
          0,
          1,
          0,
          1,
          0,
          0,
          0,
          0,
          1,
          0,
          0,
          0,
          0,
          0,
          0,
          0,
          1,
          0,
          0,
          0,
          0,
          0,
          0,
          0,
          0,
          1,
          0,
          0,
          0,
          0,
          0,
          0,
          0,
          0,
          0,
          0,
          0,
          0,
          0,
          0,
          0,
          0,
          0,
          0,
          0,
          0,
          0,
          0,
          0,
          0,
          0,
          0,
          0,
          0,
          0,
          0,
          0,
          0,
          0,
          0,
          0,
          0,
          0,
          0,
          0,
          0,
          0,
          0,
          0,
          0,
          0
         ],
         "subplot": "polar5",
         "theta": [
          "AGE_ENCODE",
          "LENGTH_OF_RESIDENCE_ENCODE",
          "ESTIMATED_HOUSEHOLD_INCOME_ENCODE",
          "HOME_MKT_VAL_ENCODE",
          "NUMBER_OF_CHILDREN_ENCODE",
          "CHILD_PRESENT_ENCODE",
          "CHILD_UNDER_6_PRESENT_ENCODE",
          "CHILD_6_10_PRESENT_ENCODE",
          "CHILD_11_15_PRESENT_ENCODE",
          "CHILD_16_17_PRESENT_ENCODE",
          "EDUCATION_LEVEL_ENCODE",
          "HOME_POOL_ENCODE",
          "SENIOR_ADULT_IN_HH_ENCODE",
          "SINGLE_PARENT_ENCODE",
          "SPANISH_SPEAKING_ENCODE",
          "USES_CREDIT_CARD_ENCODE",
          "HOME_OFFICE_ENCODE",
          "CATALOG_PURCHASER_INTEREST_ENCODE",
          "AVIATION_INTEREST_ENCODE",
          "HIGH_TECH_INTEREST_ENCODE",
          "HOME_LIVING_INTEREST_ENCODE",
          "SAILING_INTEREST_ENCODE",
          "BEAUTY_INTEREST_ENCODE",
          "MENS_FASHION_INTEREST_ENCODE",
          "WOMENS_FASHION_INTEREST_ENCODE",
          "CHILDRENS_FASHION_INTEREST_ENCODE",
          "JEWELERY_AND_FASHION_ACCESSORIES_INTEREST_ENCODE",
          "CHARITY_DONOR_INTEREST_ENCODE",
          "COLLECTOR_INTEREST_ENCODE",
          "COMPUTER_USER_INTEREST_ENCODE",
          "BOARD_GAME_LOVER_INTEREST_ENCODE",
          "VIDEO_GAME_LOVER_INTEREST_ENCODE",
          "HOME_COOK_INTEREST_ENCODE",
          "DIYER_INTEREST_ENCODE",
          "GARDENER_INTEREST_ENCODE",
          "GIFT_GIVER_INTEREST_ENCODE",
          "DIET_AND_WEIGHT_LOSS_INTEREST_ENCODE",
          "HISTORY_LOVER_INTEREST_ENCODE",
          "EQUESTRIAN_LOVER_INTEREST_ENCODE",
          "MUSIC_LOVER_INTEREST_ENCODE",
          "MOVIE_LOVER_INTEREST_ENCODE",
          "OUTDOORSMAN_INTEREST_ENCODE",
          "CAMPING_AND_HIKING_INTEREST_ENCODE",
          "HUNTING_AND_FISHING_INTEREST_ENCODE",
          "ENVIRONMENT_AND_WILDLIFE_INTEREST_ENCODE",
          "CYCLING_INTEREST_ENCODE",
          "HEALTHY_LIVING_INTEREST_ENCODE",
          "PET_OWNER_INTEREST_ENCODE",
          "CAT_OWNER_INTEREST_ENCODE",
          "DOG_OWNER_INTEREST_ENCODE",
          "PHOTOGRAPHER_INTEREST_ENCODE",
          "SEWING_KNITTING_INTEREST_ENCODE",
          "CRAFTS_INTEREST_ENCODE",
          "CULTURE_AND_ARTS_INTEREST_ENCODE",
          "SPORTS_LOVER_INTEREST_ENCODE",
          "BASEBALL_LOVER_INTEREST_ENCODE",
          "BASKETBALL_LOVER_INTEREST_ENCODE",
          "AMERICAN_FOOTBALL_LOVER_INTEREST_ENCODE",
          "GOLF_LOVER_INTEREST_ENCODE",
          "HOCKEY_LOVER_INTEREST_ENCODE",
          "SKIING_LOVER_INTEREST_ENCODE",
          "SOCCER_LOVER_INTEREST_ENCODE",
          "TENNIS_LOVER_INTEREST_ENCODE",
          "TRAVELER_INTEREST_ENCODE",
          "US_EXPLORER_INTEREST_ENCODE",
          "CRUISE_LOVER_INTEREST_ENCODE",
          "MOTORCYCLE_RIDER_INTEREST_ENCODE",
          "RV_OWNER_INTEREST_ENCODE",
          "TRUCK_OWNER_INTEREST_ENCODE",
          "NEWS_LOVER_INTEREST_ENCODE",
          "\"EDUCATION_LEVEL_onehot_VOCATIONAL/TECHNICAL SCHOOL\"",
          "EDUCATION_LEVEL_ONEHOT_UNKNOWN",
          "\"EDUCATION_LEVEL_onehot_HIGH SCHOOL\"",
          "\"EDUCATION_LEVEL_onehot_GRADUATE SCHOOL\"",
          "EDUCATION_LEVEL_ONEHOT_COLLEGE",
          "HOUSEHOLD_COMPOSITION_ONEHOT_UNKNOWN",
          "HOUSEHOLD_COMPOSITION_ONEHOT_INDIVIDUAL",
          "HOUSEHOLD_COMPOSITION_ONEHOT_COUPLE",
          "\"HOUSEHOLD_COMPOSITION_onehot_SINGLE PARENT\"",
          "HOUSEHOLD_COMPOSITION_ONEHOT_FAMILY",
          "OCCUPATION_ONEHOT_UNKNOWN",
          "\"OCCUPATION_onehot_ADMIN/MGMT\"",
          "OCCUPATION_ONEHOT_CLERICAL",
          "\"OCCUPATION_onehot_DOCTOR/MEDICAL\"",
          "OCCUPATION_ONEHOT_FINANCE",
          "OCCUPATION_ONEHOT_HOMEMAKER",
          "\"OCCUPATION_onehot_SELF-EMPLOYED\"",
          "OCCUPATION_ONEHOT_UNSKILLED",
          "\"OCCUPATION_onehot_OTHER PROFESSIONAL/TECHNICAL\"",
          "\"OCCUPATION_onehot_BLUE COLLAR\"",
          "\"OCCUPATION_onehot_SALES/SERVICE\"",
          "OCCUPATION_ONEHOT_RETIRED",
          "OCCUPATION_ONEHOT_TEACHER",
          "\"OCCUPATION_onehot_FARMER/AGRICULTURE\"",
          "OCCUPATION_ONEHOT_LEGAL",
          "\"OCCUPATION_onehot_GOVERNMENT/MILITARY\"",
          "OCCUPATION_ONEHOT_RELIGIOUS",
          "OCCUPATION_ONEHOT_STUDENT",
          "OCCUPATION_ONEHOT_UNEMPLOYED",
          "DWELLING_TYPE_ONEHOT_SINGLE_FAMILY",
          "DWELLING_TYPE_ONEHOT_MULTI_FAMILY",
          "DWELLING_TYPE_ONEHOT_UNKNOWN",
          "DWELLING_TYPE_ONEHOT_MOBILE_HOME",
          "HOME_OWNERSHIP_ONEHOT_HOMEOWNER",
          "HOME_OWNERSHIP_ONEHOT_UNKNOWN",
          "HOME_OWNERSHIP_ONEHOT_RENTER",
          "MARITAL_STATUS_ONEHOT_SINGLE",
          "MARITAL_STATUS_ONEHOT_MARRIED"
         ],
         "type": "barpolar"
        },
        {
         "base": 0,
         "marker": {
          "color": "green"
         },
         "name": "max8",
         "r": [
          0.7439024390243902,
          1,
          1,
          0.9473684210526315,
          0.75,
          1,
          1,
          1,
          1,
          1,
          1,
          1,
          1,
          1,
          0.5,
          1,
          1,
          1,
          1,
          1,
          1,
          1,
          1,
          1,
          1,
          1,
          1,
          1,
          1,
          1,
          1,
          1,
          1,
          1,
          1,
          1,
          1,
          1,
          1,
          1,
          1,
          1,
          1,
          1,
          1,
          1,
          1,
          1,
          1,
          1,
          1,
          1,
          1,
          1,
          1,
          1,
          1,
          1,
          1,
          1,
          1,
          1,
          1,
          1,
          1,
          1,
          1,
          1,
          1,
          1,
          1,
          1,
          1,
          1,
          1,
          0,
          0,
          0,
          1,
          1,
          1,
          1,
          1,
          1,
          1,
          1,
          1,
          0,
          1,
          1,
          1,
          1,
          0,
          0,
          0,
          1,
          0,
          1,
          0,
          1,
          0,
          1,
          0,
          1,
          0,
          1,
          1,
          1,
          0
         ],
         "subplot": "polar6",
         "theta": [
          "AGE_ENCODE",
          "LENGTH_OF_RESIDENCE_ENCODE",
          "ESTIMATED_HOUSEHOLD_INCOME_ENCODE",
          "HOME_MKT_VAL_ENCODE",
          "NUMBER_OF_CHILDREN_ENCODE",
          "CHILD_PRESENT_ENCODE",
          "CHILD_UNDER_6_PRESENT_ENCODE",
          "CHILD_6_10_PRESENT_ENCODE",
          "CHILD_11_15_PRESENT_ENCODE",
          "CHILD_16_17_PRESENT_ENCODE",
          "EDUCATION_LEVEL_ENCODE",
          "HOME_POOL_ENCODE",
          "SENIOR_ADULT_IN_HH_ENCODE",
          "SINGLE_PARENT_ENCODE",
          "SPANISH_SPEAKING_ENCODE",
          "USES_CREDIT_CARD_ENCODE",
          "HOME_OFFICE_ENCODE",
          "CATALOG_PURCHASER_INTEREST_ENCODE",
          "AVIATION_INTEREST_ENCODE",
          "HIGH_TECH_INTEREST_ENCODE",
          "HOME_LIVING_INTEREST_ENCODE",
          "SAILING_INTEREST_ENCODE",
          "BEAUTY_INTEREST_ENCODE",
          "MENS_FASHION_INTEREST_ENCODE",
          "WOMENS_FASHION_INTEREST_ENCODE",
          "CHILDRENS_FASHION_INTEREST_ENCODE",
          "JEWELERY_AND_FASHION_ACCESSORIES_INTEREST_ENCODE",
          "CHARITY_DONOR_INTEREST_ENCODE",
          "COLLECTOR_INTEREST_ENCODE",
          "COMPUTER_USER_INTEREST_ENCODE",
          "BOARD_GAME_LOVER_INTEREST_ENCODE",
          "VIDEO_GAME_LOVER_INTEREST_ENCODE",
          "HOME_COOK_INTEREST_ENCODE",
          "DIYER_INTEREST_ENCODE",
          "GARDENER_INTEREST_ENCODE",
          "GIFT_GIVER_INTEREST_ENCODE",
          "DIET_AND_WEIGHT_LOSS_INTEREST_ENCODE",
          "HISTORY_LOVER_INTEREST_ENCODE",
          "EQUESTRIAN_LOVER_INTEREST_ENCODE",
          "MUSIC_LOVER_INTEREST_ENCODE",
          "MOVIE_LOVER_INTEREST_ENCODE",
          "OUTDOORSMAN_INTEREST_ENCODE",
          "CAMPING_AND_HIKING_INTEREST_ENCODE",
          "HUNTING_AND_FISHING_INTEREST_ENCODE",
          "ENVIRONMENT_AND_WILDLIFE_INTEREST_ENCODE",
          "CYCLING_INTEREST_ENCODE",
          "HEALTHY_LIVING_INTEREST_ENCODE",
          "PET_OWNER_INTEREST_ENCODE",
          "CAT_OWNER_INTEREST_ENCODE",
          "DOG_OWNER_INTEREST_ENCODE",
          "PHOTOGRAPHER_INTEREST_ENCODE",
          "SEWING_KNITTING_INTEREST_ENCODE",
          "CRAFTS_INTEREST_ENCODE",
          "CULTURE_AND_ARTS_INTEREST_ENCODE",
          "SPORTS_LOVER_INTEREST_ENCODE",
          "BASEBALL_LOVER_INTEREST_ENCODE",
          "BASKETBALL_LOVER_INTEREST_ENCODE",
          "AMERICAN_FOOTBALL_LOVER_INTEREST_ENCODE",
          "GOLF_LOVER_INTEREST_ENCODE",
          "HOCKEY_LOVER_INTEREST_ENCODE",
          "SKIING_LOVER_INTEREST_ENCODE",
          "SOCCER_LOVER_INTEREST_ENCODE",
          "TENNIS_LOVER_INTEREST_ENCODE",
          "TRAVELER_INTEREST_ENCODE",
          "US_EXPLORER_INTEREST_ENCODE",
          "CRUISE_LOVER_INTEREST_ENCODE",
          "MOTORCYCLE_RIDER_INTEREST_ENCODE",
          "RV_OWNER_INTEREST_ENCODE",
          "TRUCK_OWNER_INTEREST_ENCODE",
          "NEWS_LOVER_INTEREST_ENCODE",
          "\"EDUCATION_LEVEL_onehot_VOCATIONAL/TECHNICAL SCHOOL\"",
          "EDUCATION_LEVEL_ONEHOT_UNKNOWN",
          "\"EDUCATION_LEVEL_onehot_HIGH SCHOOL\"",
          "\"EDUCATION_LEVEL_onehot_GRADUATE SCHOOL\"",
          "EDUCATION_LEVEL_ONEHOT_COLLEGE",
          "HOUSEHOLD_COMPOSITION_ONEHOT_UNKNOWN",
          "HOUSEHOLD_COMPOSITION_ONEHOT_INDIVIDUAL",
          "HOUSEHOLD_COMPOSITION_ONEHOT_COUPLE",
          "\"HOUSEHOLD_COMPOSITION_onehot_SINGLE PARENT\"",
          "HOUSEHOLD_COMPOSITION_ONEHOT_FAMILY",
          "OCCUPATION_ONEHOT_UNKNOWN",
          "\"OCCUPATION_onehot_ADMIN/MGMT\"",
          "OCCUPATION_ONEHOT_CLERICAL",
          "\"OCCUPATION_onehot_DOCTOR/MEDICAL\"",
          "OCCUPATION_ONEHOT_FINANCE",
          "OCCUPATION_ONEHOT_HOMEMAKER",
          "\"OCCUPATION_onehot_SELF-EMPLOYED\"",
          "OCCUPATION_ONEHOT_UNSKILLED",
          "\"OCCUPATION_onehot_OTHER PROFESSIONAL/TECHNICAL\"",
          "\"OCCUPATION_onehot_BLUE COLLAR\"",
          "\"OCCUPATION_onehot_SALES/SERVICE\"",
          "OCCUPATION_ONEHOT_RETIRED",
          "OCCUPATION_ONEHOT_TEACHER",
          "\"OCCUPATION_onehot_FARMER/AGRICULTURE\"",
          "OCCUPATION_ONEHOT_LEGAL",
          "\"OCCUPATION_onehot_GOVERNMENT/MILITARY\"",
          "OCCUPATION_ONEHOT_RELIGIOUS",
          "OCCUPATION_ONEHOT_STUDENT",
          "OCCUPATION_ONEHOT_UNEMPLOYED",
          "DWELLING_TYPE_ONEHOT_SINGLE_FAMILY",
          "DWELLING_TYPE_ONEHOT_MULTI_FAMILY",
          "DWELLING_TYPE_ONEHOT_UNKNOWN",
          "DWELLING_TYPE_ONEHOT_MOBILE_HOME",
          "HOME_OWNERSHIP_ONEHOT_HOMEOWNER",
          "HOME_OWNERSHIP_ONEHOT_UNKNOWN",
          "HOME_OWNERSHIP_ONEHOT_RENTER",
          "MARITAL_STATUS_ONEHOT_SINGLE",
          "MARITAL_STATUS_ONEHOT_MARRIED"
         ],
         "type": "barpolar"
        },
        {
         "base": 0,
         "marker": {
          "color": "blue"
         },
         "name": "mean8",
         "r": [
          0.4247967479674797,
          0.7755681818181818,
          0.3560606060606061,
          0.5558213716108453,
          0.4962121212121212,
          1,
          0.3787878787878788,
          0.6363636363636364,
          0.6666666666666666,
          0.36363636363636365,
          0.6363636363636364,
          0.2727272727272727,
          0.2878787878787879,
          0.045454545454545456,
          0.007575757575757576,
          1,
          0.19696969696969696,
          0.48484848484848486,
          0.015151515151515152,
          0.9545454545454546,
          0.9393939393939394,
          0.6363636363636364,
          0.7272727272727273,
          0.21212121212121213,
          0.48484848484848486,
          0.10606060606060606,
          0.09090909090909091,
          1,
          0.9848484848484849,
          1,
          0.5909090909090909,
          0.8333333333333334,
          1,
          0.803030303030303,
          0.9848484848484849,
          0.8333333333333334,
          0.9393939393939394,
          0.21212121212121213,
          0.06060606060606061,
          1,
          0.9848484848484849,
          0.9696969696969697,
          0.7878787878787878,
          0.9090909090909091,
          0.3333333333333333,
          0.30303030303030304,
          1,
          0.8181818181818182,
          0.5151515151515151,
          0.696969696969697,
          0.7121212121212122,
          0.696969696969697,
          0.9848484848484849,
          0.7575757575757576,
          1,
          0.7424242424242424,
          0.7272727272727273,
          0.8636363636363636,
          0.8636363636363636,
          0.5909090909090909,
          0.2878787878787879,
          0.045454545454545456,
          0.21212121212121213,
          1,
          1,
          0.8333333333333334,
          0.3484848484848485,
          0.6818181818181818,
          0.6212121212121212,
          0.5757575757575758,
          0.015151515151515152,
          0.09090909090909091,
          0.13636363636363635,
          0.07575757575757576,
          0.6818181818181818,
          0,
          0,
          0,
          0.045454545454545456,
          0.9545454545454546,
          0.15151515151515152,
          0.21212121212121213,
          0.09090909090909091,
          0.030303030303030304,
          0.045454545454545456,
          0.13636363636363635,
          0.015151515151515152,
          0,
          0.045454545454545456,
          0.12121212121212122,
          0.06060606060606061,
          0.015151515151515152,
          0,
          0,
          0,
          0.015151515151515152,
          0,
          0.06060606060606061,
          0,
          0.9545454545454546,
          0,
          0.045454545454545456,
          0,
          0.9848484848484849,
          0,
          0.015151515151515152,
          0.045454545454545456,
          0.9545454545454546,
          0
         ],
         "subplot": "polar6",
         "theta": [
          "AGE_ENCODE",
          "LENGTH_OF_RESIDENCE_ENCODE",
          "ESTIMATED_HOUSEHOLD_INCOME_ENCODE",
          "HOME_MKT_VAL_ENCODE",
          "NUMBER_OF_CHILDREN_ENCODE",
          "CHILD_PRESENT_ENCODE",
          "CHILD_UNDER_6_PRESENT_ENCODE",
          "CHILD_6_10_PRESENT_ENCODE",
          "CHILD_11_15_PRESENT_ENCODE",
          "CHILD_16_17_PRESENT_ENCODE",
          "EDUCATION_LEVEL_ENCODE",
          "HOME_POOL_ENCODE",
          "SENIOR_ADULT_IN_HH_ENCODE",
          "SINGLE_PARENT_ENCODE",
          "SPANISH_SPEAKING_ENCODE",
          "USES_CREDIT_CARD_ENCODE",
          "HOME_OFFICE_ENCODE",
          "CATALOG_PURCHASER_INTEREST_ENCODE",
          "AVIATION_INTEREST_ENCODE",
          "HIGH_TECH_INTEREST_ENCODE",
          "HOME_LIVING_INTEREST_ENCODE",
          "SAILING_INTEREST_ENCODE",
          "BEAUTY_INTEREST_ENCODE",
          "MENS_FASHION_INTEREST_ENCODE",
          "WOMENS_FASHION_INTEREST_ENCODE",
          "CHILDRENS_FASHION_INTEREST_ENCODE",
          "JEWELERY_AND_FASHION_ACCESSORIES_INTEREST_ENCODE",
          "CHARITY_DONOR_INTEREST_ENCODE",
          "COLLECTOR_INTEREST_ENCODE",
          "COMPUTER_USER_INTEREST_ENCODE",
          "BOARD_GAME_LOVER_INTEREST_ENCODE",
          "VIDEO_GAME_LOVER_INTEREST_ENCODE",
          "HOME_COOK_INTEREST_ENCODE",
          "DIYER_INTEREST_ENCODE",
          "GARDENER_INTEREST_ENCODE",
          "GIFT_GIVER_INTEREST_ENCODE",
          "DIET_AND_WEIGHT_LOSS_INTEREST_ENCODE",
          "HISTORY_LOVER_INTEREST_ENCODE",
          "EQUESTRIAN_LOVER_INTEREST_ENCODE",
          "MUSIC_LOVER_INTEREST_ENCODE",
          "MOVIE_LOVER_INTEREST_ENCODE",
          "OUTDOORSMAN_INTEREST_ENCODE",
          "CAMPING_AND_HIKING_INTEREST_ENCODE",
          "HUNTING_AND_FISHING_INTEREST_ENCODE",
          "ENVIRONMENT_AND_WILDLIFE_INTEREST_ENCODE",
          "CYCLING_INTEREST_ENCODE",
          "HEALTHY_LIVING_INTEREST_ENCODE",
          "PET_OWNER_INTEREST_ENCODE",
          "CAT_OWNER_INTEREST_ENCODE",
          "DOG_OWNER_INTEREST_ENCODE",
          "PHOTOGRAPHER_INTEREST_ENCODE",
          "SEWING_KNITTING_INTEREST_ENCODE",
          "CRAFTS_INTEREST_ENCODE",
          "CULTURE_AND_ARTS_INTEREST_ENCODE",
          "SPORTS_LOVER_INTEREST_ENCODE",
          "BASEBALL_LOVER_INTEREST_ENCODE",
          "BASKETBALL_LOVER_INTEREST_ENCODE",
          "AMERICAN_FOOTBALL_LOVER_INTEREST_ENCODE",
          "GOLF_LOVER_INTEREST_ENCODE",
          "HOCKEY_LOVER_INTEREST_ENCODE",
          "SKIING_LOVER_INTEREST_ENCODE",
          "SOCCER_LOVER_INTEREST_ENCODE",
          "TENNIS_LOVER_INTEREST_ENCODE",
          "TRAVELER_INTEREST_ENCODE",
          "US_EXPLORER_INTEREST_ENCODE",
          "CRUISE_LOVER_INTEREST_ENCODE",
          "MOTORCYCLE_RIDER_INTEREST_ENCODE",
          "RV_OWNER_INTEREST_ENCODE",
          "TRUCK_OWNER_INTEREST_ENCODE",
          "NEWS_LOVER_INTEREST_ENCODE",
          "\"EDUCATION_LEVEL_onehot_VOCATIONAL/TECHNICAL SCHOOL\"",
          "EDUCATION_LEVEL_ONEHOT_UNKNOWN",
          "\"EDUCATION_LEVEL_onehot_HIGH SCHOOL\"",
          "\"EDUCATION_LEVEL_onehot_GRADUATE SCHOOL\"",
          "EDUCATION_LEVEL_ONEHOT_COLLEGE",
          "HOUSEHOLD_COMPOSITION_ONEHOT_UNKNOWN",
          "HOUSEHOLD_COMPOSITION_ONEHOT_INDIVIDUAL",
          "HOUSEHOLD_COMPOSITION_ONEHOT_COUPLE",
          "\"HOUSEHOLD_COMPOSITION_onehot_SINGLE PARENT\"",
          "HOUSEHOLD_COMPOSITION_ONEHOT_FAMILY",
          "OCCUPATION_ONEHOT_UNKNOWN",
          "\"OCCUPATION_onehot_ADMIN/MGMT\"",
          "OCCUPATION_ONEHOT_CLERICAL",
          "\"OCCUPATION_onehot_DOCTOR/MEDICAL\"",
          "OCCUPATION_ONEHOT_FINANCE",
          "OCCUPATION_ONEHOT_HOMEMAKER",
          "\"OCCUPATION_onehot_SELF-EMPLOYED\"",
          "OCCUPATION_ONEHOT_UNSKILLED",
          "\"OCCUPATION_onehot_OTHER PROFESSIONAL/TECHNICAL\"",
          "\"OCCUPATION_onehot_BLUE COLLAR\"",
          "\"OCCUPATION_onehot_SALES/SERVICE\"",
          "OCCUPATION_ONEHOT_RETIRED",
          "OCCUPATION_ONEHOT_TEACHER",
          "\"OCCUPATION_onehot_FARMER/AGRICULTURE\"",
          "OCCUPATION_ONEHOT_LEGAL",
          "\"OCCUPATION_onehot_GOVERNMENT/MILITARY\"",
          "OCCUPATION_ONEHOT_RELIGIOUS",
          "OCCUPATION_ONEHOT_STUDENT",
          "OCCUPATION_ONEHOT_UNEMPLOYED",
          "DWELLING_TYPE_ONEHOT_SINGLE_FAMILY",
          "DWELLING_TYPE_ONEHOT_MULTI_FAMILY",
          "DWELLING_TYPE_ONEHOT_UNKNOWN",
          "DWELLING_TYPE_ONEHOT_MOBILE_HOME",
          "HOME_OWNERSHIP_ONEHOT_HOMEOWNER",
          "HOME_OWNERSHIP_ONEHOT_UNKNOWN",
          "HOME_OWNERSHIP_ONEHOT_RENTER",
          "MARITAL_STATUS_ONEHOT_SINGLE",
          "MARITAL_STATUS_ONEHOT_MARRIED"
         ],
         "type": "barpolar"
        },
        {
         "base": 0,
         "marker": {
          "color": "darkred"
         },
         "name": "min8",
         "r": [
          0.024390243902439025,
          0.0625,
          0,
          0.05263157894736842,
          0.25,
          1,
          0,
          0,
          0,
          0,
          0,
          0,
          0,
          0,
          0,
          1,
          0,
          0,
          0,
          0,
          0,
          0,
          0,
          0,
          0,
          0,
          0,
          1,
          0,
          1,
          0,
          0,
          1,
          0,
          0,
          0,
          0,
          0,
          0,
          1,
          0,
          0,
          0,
          0,
          0,
          0,
          1,
          0,
          0,
          0,
          0,
          0,
          0,
          0,
          1,
          0,
          0,
          0,
          0,
          0,
          0,
          0,
          0,
          1,
          1,
          0,
          0,
          0,
          0,
          0,
          0,
          0,
          0,
          0,
          0,
          0,
          0,
          0,
          0,
          0,
          0,
          0,
          0,
          0,
          0,
          0,
          0,
          0,
          0,
          0,
          0,
          0,
          0,
          0,
          0,
          0,
          0,
          0,
          0,
          0,
          0,
          0,
          0,
          0,
          0,
          0,
          0,
          0,
          0
         ],
         "subplot": "polar6",
         "theta": [
          "AGE_ENCODE",
          "LENGTH_OF_RESIDENCE_ENCODE",
          "ESTIMATED_HOUSEHOLD_INCOME_ENCODE",
          "HOME_MKT_VAL_ENCODE",
          "NUMBER_OF_CHILDREN_ENCODE",
          "CHILD_PRESENT_ENCODE",
          "CHILD_UNDER_6_PRESENT_ENCODE",
          "CHILD_6_10_PRESENT_ENCODE",
          "CHILD_11_15_PRESENT_ENCODE",
          "CHILD_16_17_PRESENT_ENCODE",
          "EDUCATION_LEVEL_ENCODE",
          "HOME_POOL_ENCODE",
          "SENIOR_ADULT_IN_HH_ENCODE",
          "SINGLE_PARENT_ENCODE",
          "SPANISH_SPEAKING_ENCODE",
          "USES_CREDIT_CARD_ENCODE",
          "HOME_OFFICE_ENCODE",
          "CATALOG_PURCHASER_INTEREST_ENCODE",
          "AVIATION_INTEREST_ENCODE",
          "HIGH_TECH_INTEREST_ENCODE",
          "HOME_LIVING_INTEREST_ENCODE",
          "SAILING_INTEREST_ENCODE",
          "BEAUTY_INTEREST_ENCODE",
          "MENS_FASHION_INTEREST_ENCODE",
          "WOMENS_FASHION_INTEREST_ENCODE",
          "CHILDRENS_FASHION_INTEREST_ENCODE",
          "JEWELERY_AND_FASHION_ACCESSORIES_INTEREST_ENCODE",
          "CHARITY_DONOR_INTEREST_ENCODE",
          "COLLECTOR_INTEREST_ENCODE",
          "COMPUTER_USER_INTEREST_ENCODE",
          "BOARD_GAME_LOVER_INTEREST_ENCODE",
          "VIDEO_GAME_LOVER_INTEREST_ENCODE",
          "HOME_COOK_INTEREST_ENCODE",
          "DIYER_INTEREST_ENCODE",
          "GARDENER_INTEREST_ENCODE",
          "GIFT_GIVER_INTEREST_ENCODE",
          "DIET_AND_WEIGHT_LOSS_INTEREST_ENCODE",
          "HISTORY_LOVER_INTEREST_ENCODE",
          "EQUESTRIAN_LOVER_INTEREST_ENCODE",
          "MUSIC_LOVER_INTEREST_ENCODE",
          "MOVIE_LOVER_INTEREST_ENCODE",
          "OUTDOORSMAN_INTEREST_ENCODE",
          "CAMPING_AND_HIKING_INTEREST_ENCODE",
          "HUNTING_AND_FISHING_INTEREST_ENCODE",
          "ENVIRONMENT_AND_WILDLIFE_INTEREST_ENCODE",
          "CYCLING_INTEREST_ENCODE",
          "HEALTHY_LIVING_INTEREST_ENCODE",
          "PET_OWNER_INTEREST_ENCODE",
          "CAT_OWNER_INTEREST_ENCODE",
          "DOG_OWNER_INTEREST_ENCODE",
          "PHOTOGRAPHER_INTEREST_ENCODE",
          "SEWING_KNITTING_INTEREST_ENCODE",
          "CRAFTS_INTEREST_ENCODE",
          "CULTURE_AND_ARTS_INTEREST_ENCODE",
          "SPORTS_LOVER_INTEREST_ENCODE",
          "BASEBALL_LOVER_INTEREST_ENCODE",
          "BASKETBALL_LOVER_INTEREST_ENCODE",
          "AMERICAN_FOOTBALL_LOVER_INTEREST_ENCODE",
          "GOLF_LOVER_INTEREST_ENCODE",
          "HOCKEY_LOVER_INTEREST_ENCODE",
          "SKIING_LOVER_INTEREST_ENCODE",
          "SOCCER_LOVER_INTEREST_ENCODE",
          "TENNIS_LOVER_INTEREST_ENCODE",
          "TRAVELER_INTEREST_ENCODE",
          "US_EXPLORER_INTEREST_ENCODE",
          "CRUISE_LOVER_INTEREST_ENCODE",
          "MOTORCYCLE_RIDER_INTEREST_ENCODE",
          "RV_OWNER_INTEREST_ENCODE",
          "TRUCK_OWNER_INTEREST_ENCODE",
          "NEWS_LOVER_INTEREST_ENCODE",
          "\"EDUCATION_LEVEL_onehot_VOCATIONAL/TECHNICAL SCHOOL\"",
          "EDUCATION_LEVEL_ONEHOT_UNKNOWN",
          "\"EDUCATION_LEVEL_onehot_HIGH SCHOOL\"",
          "\"EDUCATION_LEVEL_onehot_GRADUATE SCHOOL\"",
          "EDUCATION_LEVEL_ONEHOT_COLLEGE",
          "HOUSEHOLD_COMPOSITION_ONEHOT_UNKNOWN",
          "HOUSEHOLD_COMPOSITION_ONEHOT_INDIVIDUAL",
          "HOUSEHOLD_COMPOSITION_ONEHOT_COUPLE",
          "\"HOUSEHOLD_COMPOSITION_onehot_SINGLE PARENT\"",
          "HOUSEHOLD_COMPOSITION_ONEHOT_FAMILY",
          "OCCUPATION_ONEHOT_UNKNOWN",
          "\"OCCUPATION_onehot_ADMIN/MGMT\"",
          "OCCUPATION_ONEHOT_CLERICAL",
          "\"OCCUPATION_onehot_DOCTOR/MEDICAL\"",
          "OCCUPATION_ONEHOT_FINANCE",
          "OCCUPATION_ONEHOT_HOMEMAKER",
          "\"OCCUPATION_onehot_SELF-EMPLOYED\"",
          "OCCUPATION_ONEHOT_UNSKILLED",
          "\"OCCUPATION_onehot_OTHER PROFESSIONAL/TECHNICAL\"",
          "\"OCCUPATION_onehot_BLUE COLLAR\"",
          "\"OCCUPATION_onehot_SALES/SERVICE\"",
          "OCCUPATION_ONEHOT_RETIRED",
          "OCCUPATION_ONEHOT_TEACHER",
          "\"OCCUPATION_onehot_FARMER/AGRICULTURE\"",
          "OCCUPATION_ONEHOT_LEGAL",
          "\"OCCUPATION_onehot_GOVERNMENT/MILITARY\"",
          "OCCUPATION_ONEHOT_RELIGIOUS",
          "OCCUPATION_ONEHOT_STUDENT",
          "OCCUPATION_ONEHOT_UNEMPLOYED",
          "DWELLING_TYPE_ONEHOT_SINGLE_FAMILY",
          "DWELLING_TYPE_ONEHOT_MULTI_FAMILY",
          "DWELLING_TYPE_ONEHOT_UNKNOWN",
          "DWELLING_TYPE_ONEHOT_MOBILE_HOME",
          "HOME_OWNERSHIP_ONEHOT_HOMEOWNER",
          "HOME_OWNERSHIP_ONEHOT_UNKNOWN",
          "HOME_OWNERSHIP_ONEHOT_RENTER",
          "MARITAL_STATUS_ONEHOT_SINGLE",
          "MARITAL_STATUS_ONEHOT_MARRIED"
         ],
         "type": "barpolar"
        }
       ],
       "layout": {
        "height": 900,
        "polar": {
         "angularaxis": {
          "tickfont": {
           "size": 7
          },
          "visible": false
         },
         "barmode": "overlay",
         "bgcolor": "rgb(0,0,0)",
         "domain": {
          "x": [
           0,
           0.3333333333333333
          ],
          "y": [
           0.6666666666666666,
           1
          ]
         },
         "radialaxis": {
          "range": [
           0,
           2
          ],
          "tickfont": {
           "size": 7
          },
          "visible": true
         }
        },
        "polar2": {
         "angularaxis": {
          "tickfont": {
           "size": 7
          },
          "visible": false
         },
         "barmode": "overlay",
         "bgcolor": "rgb(0,0,0)",
         "domain": {
          "x": [
           0.3333333333333333,
           0.6666666666666666
          ],
          "y": [
           0.6666666666666666,
           1
          ]
         },
         "radialaxis": {
          "range": [
           0,
           2
          ],
          "tickfont": {
           "size": 7
          },
          "visible": true
         }
        },
        "polar3": {
         "angularaxis": {
          "tickfont": {
           "size": 7
          },
          "visible": false
         },
         "barmode": "overlay",
         "bgcolor": "rgb(0,0,0)",
         "domain": {
          "x": [
           0.6666666666666666,
           1
          ],
          "y": [
           0.6666666666666666,
           1
          ]
         },
         "radialaxis": {
          "range": [
           0,
           2
          ],
          "tickfont": {
           "size": 7
          },
          "visible": true
         }
        },
        "polar4": {
         "angularaxis": {
          "tickfont": {
           "size": 7
          },
          "visible": false
         },
         "barmode": "overlay",
         "bgcolor": "rgb(0,0,0)",
         "domain": {
          "x": [
           0,
           0.3333333333333333
          ],
          "y": [
           0.3333333333333333,
           0.6666666666666666
          ]
         },
         "radialaxis": {
          "range": [
           0,
           2
          ],
          "tickfont": {
           "size": 7
          },
          "visible": true
         }
        },
        "polar5": {
         "angularaxis": {
          "tickfont": {
           "size": 7
          },
          "visible": false
         },
         "barmode": "overlay",
         "bgcolor": "rgb(0,0,0)",
         "domain": {
          "x": [
           0.3333333333333333,
           0.6666666666666666
          ],
          "y": [
           0.3333333333333333,
           0.6666666666666666
          ]
         },
         "radialaxis": {
          "range": [
           0,
           2
          ],
          "tickfont": {
           "size": 7
          },
          "visible": true
         }
        },
        "polar6": {
         "angularaxis": {
          "tickfont": {
           "size": 7
          },
          "visible": false
         },
         "barmode": "overlay",
         "bgcolor": "rgb(0,0,0)",
         "domain": {
          "x": [
           0.6666666666666666,
           1
          ],
          "y": [
           0.3333333333333333,
           0.6666666666666666
          ]
         },
         "radialaxis": {
          "range": [
           0,
           2
          ],
          "tickfont": {
           "size": 7
          },
          "visible": true
         }
        },
        "polar7": {
         "angularaxis": {
          "tickfont": {
           "size": 7
          },
          "visible": false
         },
         "barmode": "overlay",
         "bgcolor": "rgb(0,0,0)",
         "domain": {
          "x": [
           0,
           0.3333333333333333
          ],
          "y": [
           0,
           0.3333333333333333
          ]
         },
         "radialaxis": {
          "range": [
           0,
           2
          ],
          "tickfont": {
           "size": 7
          },
          "visible": true
         }
        },
        "polar8": {
         "angularaxis": {
          "tickfont": {
           "size": 7
          },
          "visible": false
         },
         "barmode": "overlay",
         "bgcolor": "rgb(0,0,0)",
         "domain": {
          "x": [
           0.3333333333333333,
           0.6666666666666666
          ],
          "y": [
           0,
           0.3333333333333333
          ]
         },
         "radialaxis": {
          "range": [
           0,
           2
          ],
          "tickfont": {
           "size": 7
          },
          "visible": true
         }
        },
        "polar9": {
         "angularaxis": {
          "tickfont": {
           "size": 7
          },
          "visible": false
         },
         "barmode": "overlay",
         "bgcolor": "rgb(0,0,0)",
         "domain": {
          "x": [
           0.6666666666666666,
           1
          ],
          "y": [
           0,
           0.3333333333333333
          ]
         },
         "radialaxis": {
          "range": [
           0,
           2
          ],
          "tickfont": {
           "size": 7
          },
          "visible": true
         }
        },
        "showlegend": false,
        "template": {
         "data": {
          "bar": [
           {
            "error_x": {
             "color": "#2a3f5f"
            },
            "error_y": {
             "color": "#2a3f5f"
            },
            "marker": {
             "line": {
              "color": "#E5ECF6",
              "width": 0.5
             },
             "pattern": {
              "fillmode": "overlay",
              "size": 10,
              "solidity": 0.2
             }
            },
            "type": "bar"
           }
          ],
          "barpolar": [
           {
            "marker": {
             "line": {
              "color": "#E5ECF6",
              "width": 0.5
             },
             "pattern": {
              "fillmode": "overlay",
              "size": 10,
              "solidity": 0.2
             }
            },
            "type": "barpolar"
           }
          ],
          "carpet": [
           {
            "aaxis": {
             "endlinecolor": "#2a3f5f",
             "gridcolor": "white",
             "linecolor": "white",
             "minorgridcolor": "white",
             "startlinecolor": "#2a3f5f"
            },
            "baxis": {
             "endlinecolor": "#2a3f5f",
             "gridcolor": "white",
             "linecolor": "white",
             "minorgridcolor": "white",
             "startlinecolor": "#2a3f5f"
            },
            "type": "carpet"
           }
          ],
          "choropleth": [
           {
            "colorbar": {
             "outlinewidth": 0,
             "ticks": ""
            },
            "type": "choropleth"
           }
          ],
          "contour": [
           {
            "colorbar": {
             "outlinewidth": 0,
             "ticks": ""
            },
            "colorscale": [
             [
              0,
              "#0d0887"
             ],
             [
              0.1111111111111111,
              "#46039f"
             ],
             [
              0.2222222222222222,
              "#7201a8"
             ],
             [
              0.3333333333333333,
              "#9c179e"
             ],
             [
              0.4444444444444444,
              "#bd3786"
             ],
             [
              0.5555555555555556,
              "#d8576b"
             ],
             [
              0.6666666666666666,
              "#ed7953"
             ],
             [
              0.7777777777777778,
              "#fb9f3a"
             ],
             [
              0.8888888888888888,
              "#fdca26"
             ],
             [
              1,
              "#f0f921"
             ]
            ],
            "type": "contour"
           }
          ],
          "contourcarpet": [
           {
            "colorbar": {
             "outlinewidth": 0,
             "ticks": ""
            },
            "type": "contourcarpet"
           }
          ],
          "heatmap": [
           {
            "colorbar": {
             "outlinewidth": 0,
             "ticks": ""
            },
            "colorscale": [
             [
              0,
              "#0d0887"
             ],
             [
              0.1111111111111111,
              "#46039f"
             ],
             [
              0.2222222222222222,
              "#7201a8"
             ],
             [
              0.3333333333333333,
              "#9c179e"
             ],
             [
              0.4444444444444444,
              "#bd3786"
             ],
             [
              0.5555555555555556,
              "#d8576b"
             ],
             [
              0.6666666666666666,
              "#ed7953"
             ],
             [
              0.7777777777777778,
              "#fb9f3a"
             ],
             [
              0.8888888888888888,
              "#fdca26"
             ],
             [
              1,
              "#f0f921"
             ]
            ],
            "type": "heatmap"
           }
          ],
          "heatmapgl": [
           {
            "colorbar": {
             "outlinewidth": 0,
             "ticks": ""
            },
            "colorscale": [
             [
              0,
              "#0d0887"
             ],
             [
              0.1111111111111111,
              "#46039f"
             ],
             [
              0.2222222222222222,
              "#7201a8"
             ],
             [
              0.3333333333333333,
              "#9c179e"
             ],
             [
              0.4444444444444444,
              "#bd3786"
             ],
             [
              0.5555555555555556,
              "#d8576b"
             ],
             [
              0.6666666666666666,
              "#ed7953"
             ],
             [
              0.7777777777777778,
              "#fb9f3a"
             ],
             [
              0.8888888888888888,
              "#fdca26"
             ],
             [
              1,
              "#f0f921"
             ]
            ],
            "type": "heatmapgl"
           }
          ],
          "histogram": [
           {
            "marker": {
             "pattern": {
              "fillmode": "overlay",
              "size": 10,
              "solidity": 0.2
             }
            },
            "type": "histogram"
           }
          ],
          "histogram2d": [
           {
            "colorbar": {
             "outlinewidth": 0,
             "ticks": ""
            },
            "colorscale": [
             [
              0,
              "#0d0887"
             ],
             [
              0.1111111111111111,
              "#46039f"
             ],
             [
              0.2222222222222222,
              "#7201a8"
             ],
             [
              0.3333333333333333,
              "#9c179e"
             ],
             [
              0.4444444444444444,
              "#bd3786"
             ],
             [
              0.5555555555555556,
              "#d8576b"
             ],
             [
              0.6666666666666666,
              "#ed7953"
             ],
             [
              0.7777777777777778,
              "#fb9f3a"
             ],
             [
              0.8888888888888888,
              "#fdca26"
             ],
             [
              1,
              "#f0f921"
             ]
            ],
            "type": "histogram2d"
           }
          ],
          "histogram2dcontour": [
           {
            "colorbar": {
             "outlinewidth": 0,
             "ticks": ""
            },
            "colorscale": [
             [
              0,
              "#0d0887"
             ],
             [
              0.1111111111111111,
              "#46039f"
             ],
             [
              0.2222222222222222,
              "#7201a8"
             ],
             [
              0.3333333333333333,
              "#9c179e"
             ],
             [
              0.4444444444444444,
              "#bd3786"
             ],
             [
              0.5555555555555556,
              "#d8576b"
             ],
             [
              0.6666666666666666,
              "#ed7953"
             ],
             [
              0.7777777777777778,
              "#fb9f3a"
             ],
             [
              0.8888888888888888,
              "#fdca26"
             ],
             [
              1,
              "#f0f921"
             ]
            ],
            "type": "histogram2dcontour"
           }
          ],
          "mesh3d": [
           {
            "colorbar": {
             "outlinewidth": 0,
             "ticks": ""
            },
            "type": "mesh3d"
           }
          ],
          "parcoords": [
           {
            "line": {
             "colorbar": {
              "outlinewidth": 0,
              "ticks": ""
             }
            },
            "type": "parcoords"
           }
          ],
          "pie": [
           {
            "automargin": true,
            "type": "pie"
           }
          ],
          "scatter": [
           {
            "fillpattern": {
             "fillmode": "overlay",
             "size": 10,
             "solidity": 0.2
            },
            "type": "scatter"
           }
          ],
          "scatter3d": [
           {
            "line": {
             "colorbar": {
              "outlinewidth": 0,
              "ticks": ""
             }
            },
            "marker": {
             "colorbar": {
              "outlinewidth": 0,
              "ticks": ""
             }
            },
            "type": "scatter3d"
           }
          ],
          "scattercarpet": [
           {
            "marker": {
             "colorbar": {
              "outlinewidth": 0,
              "ticks": ""
             }
            },
            "type": "scattercarpet"
           }
          ],
          "scattergeo": [
           {
            "marker": {
             "colorbar": {
              "outlinewidth": 0,
              "ticks": ""
             }
            },
            "type": "scattergeo"
           }
          ],
          "scattergl": [
           {
            "marker": {
             "colorbar": {
              "outlinewidth": 0,
              "ticks": ""
             }
            },
            "type": "scattergl"
           }
          ],
          "scattermapbox": [
           {
            "marker": {
             "colorbar": {
              "outlinewidth": 0,
              "ticks": ""
             }
            },
            "type": "scattermapbox"
           }
          ],
          "scatterpolar": [
           {
            "marker": {
             "colorbar": {
              "outlinewidth": 0,
              "ticks": ""
             }
            },
            "type": "scatterpolar"
           }
          ],
          "scatterpolargl": [
           {
            "marker": {
             "colorbar": {
              "outlinewidth": 0,
              "ticks": ""
             }
            },
            "type": "scatterpolargl"
           }
          ],
          "scatterternary": [
           {
            "marker": {
             "colorbar": {
              "outlinewidth": 0,
              "ticks": ""
             }
            },
            "type": "scatterternary"
           }
          ],
          "surface": [
           {
            "colorbar": {
             "outlinewidth": 0,
             "ticks": ""
            },
            "colorscale": [
             [
              0,
              "#0d0887"
             ],
             [
              0.1111111111111111,
              "#46039f"
             ],
             [
              0.2222222222222222,
              "#7201a8"
             ],
             [
              0.3333333333333333,
              "#9c179e"
             ],
             [
              0.4444444444444444,
              "#bd3786"
             ],
             [
              0.5555555555555556,
              "#d8576b"
             ],
             [
              0.6666666666666666,
              "#ed7953"
             ],
             [
              0.7777777777777778,
              "#fb9f3a"
             ],
             [
              0.8888888888888888,
              "#fdca26"
             ],
             [
              1,
              "#f0f921"
             ]
            ],
            "type": "surface"
           }
          ],
          "table": [
           {
            "cells": {
             "fill": {
              "color": "#EBF0F8"
             },
             "line": {
              "color": "white"
             }
            },
            "header": {
             "fill": {
              "color": "#C8D4E3"
             },
             "line": {
              "color": "white"
             }
            },
            "type": "table"
           }
          ]
         },
         "layout": {
          "annotationdefaults": {
           "arrowcolor": "#2a3f5f",
           "arrowhead": 0,
           "arrowwidth": 1
          },
          "autotypenumbers": "strict",
          "coloraxis": {
           "colorbar": {
            "outlinewidth": 0,
            "ticks": ""
           }
          },
          "colorscale": {
           "diverging": [
            [
             0,
             "#8e0152"
            ],
            [
             0.1,
             "#c51b7d"
            ],
            [
             0.2,
             "#de77ae"
            ],
            [
             0.3,
             "#f1b6da"
            ],
            [
             0.4,
             "#fde0ef"
            ],
            [
             0.5,
             "#f7f7f7"
            ],
            [
             0.6,
             "#e6f5d0"
            ],
            [
             0.7,
             "#b8e186"
            ],
            [
             0.8,
             "#7fbc41"
            ],
            [
             0.9,
             "#4d9221"
            ],
            [
             1,
             "#276419"
            ]
           ],
           "sequential": [
            [
             0,
             "#0d0887"
            ],
            [
             0.1111111111111111,
             "#46039f"
            ],
            [
             0.2222222222222222,
             "#7201a8"
            ],
            [
             0.3333333333333333,
             "#9c179e"
            ],
            [
             0.4444444444444444,
             "#bd3786"
            ],
            [
             0.5555555555555556,
             "#d8576b"
            ],
            [
             0.6666666666666666,
             "#ed7953"
            ],
            [
             0.7777777777777778,
             "#fb9f3a"
            ],
            [
             0.8888888888888888,
             "#fdca26"
            ],
            [
             1,
             "#f0f921"
            ]
           ],
           "sequentialminus": [
            [
             0,
             "#0d0887"
            ],
            [
             0.1111111111111111,
             "#46039f"
            ],
            [
             0.2222222222222222,
             "#7201a8"
            ],
            [
             0.3333333333333333,
             "#9c179e"
            ],
            [
             0.4444444444444444,
             "#bd3786"
            ],
            [
             0.5555555555555556,
             "#d8576b"
            ],
            [
             0.6666666666666666,
             "#ed7953"
            ],
            [
             0.7777777777777778,
             "#fb9f3a"
            ],
            [
             0.8888888888888888,
             "#fdca26"
            ],
            [
             1,
             "#f0f921"
            ]
           ]
          },
          "colorway": [
           "#636efa",
           "#EF553B",
           "#00cc96",
           "#ab63fa",
           "#FFA15A",
           "#19d3f3",
           "#FF6692",
           "#B6E880",
           "#FF97FF",
           "#FECB52"
          ],
          "font": {
           "color": "#2a3f5f"
          },
          "geo": {
           "bgcolor": "white",
           "lakecolor": "white",
           "landcolor": "#E5ECF6",
           "showlakes": true,
           "showland": true,
           "subunitcolor": "white"
          },
          "hoverlabel": {
           "align": "left"
          },
          "hovermode": "closest",
          "mapbox": {
           "style": "light"
          },
          "paper_bgcolor": "white",
          "plot_bgcolor": "#E5ECF6",
          "polar": {
           "angularaxis": {
            "gridcolor": "white",
            "linecolor": "white",
            "ticks": ""
           },
           "bgcolor": "#E5ECF6",
           "radialaxis": {
            "gridcolor": "white",
            "linecolor": "white",
            "ticks": ""
           }
          },
          "scene": {
           "xaxis": {
            "backgroundcolor": "#E5ECF6",
            "gridcolor": "white",
            "gridwidth": 2,
            "linecolor": "white",
            "showbackground": true,
            "ticks": "",
            "zerolinecolor": "white"
           },
           "yaxis": {
            "backgroundcolor": "#E5ECF6",
            "gridcolor": "white",
            "gridwidth": 2,
            "linecolor": "white",
            "showbackground": true,
            "ticks": "",
            "zerolinecolor": "white"
           },
           "zaxis": {
            "backgroundcolor": "#E5ECF6",
            "gridcolor": "white",
            "gridwidth": 2,
            "linecolor": "white",
            "showbackground": true,
            "ticks": "",
            "zerolinecolor": "white"
           }
          },
          "shapedefaults": {
           "line": {
            "color": "#2a3f5f"
           }
          },
          "ternary": {
           "aaxis": {
            "gridcolor": "white",
            "linecolor": "white",
            "ticks": ""
           },
           "baxis": {
            "gridcolor": "white",
            "linecolor": "white",
            "ticks": ""
           },
           "bgcolor": "#E5ECF6",
           "caxis": {
            "gridcolor": "white",
            "linecolor": "white",
            "ticks": ""
           }
          },
          "title": {
           "x": 0.05
          },
          "xaxis": {
           "automargin": true,
           "gridcolor": "white",
           "linecolor": "white",
           "ticks": "",
           "title": {
            "standoff": 15
           },
           "zerolinecolor": "white",
           "zerolinewidth": 2
          },
          "yaxis": {
           "automargin": true,
           "gridcolor": "white",
           "linecolor": "white",
           "ticks": "",
           "title": {
            "standoff": 15
           },
           "zerolinecolor": "white",
           "zerolinewidth": 2
          }
         }
        },
        "width": 900
       }
      }
     },
     "metadata": {},
     "output_type": "display_data"
    }
   ],
   "source": [
    "def plotDistributionOfDataInClusters(som, data, columns, plottype='barpolar'): \n",
    "    size=som.distance_map().shape[0]\n",
    "    clusters= np.array(np.arange(0,size*size)).reshape(size,size)\n",
    "    distributionMapData=pd.DataFrame(columns=['col', 'row', 'min', 'mean', 'max', 'bgcolor'])\n",
    "    labels_map = som.labels_map(data, [label_names[t] for t in target])\n",
    "    win_map=som.win_map(data)\n",
    "    for position in win_map.keys():\n",
    "        label_fracs = [labels_map[position][l] for l in label_names.values()]\n",
    "        bgcolor = label_fracs.index(np.max(label_fracs))*255//len(label_fracs) \n",
    "        winner=win_map[position]\n",
    "        minima=np.min(winner, axis=0)\n",
    "        means=np.mean(winner, axis=0)\n",
    "        maxima=np.max(winner, axis=0)\n",
    "        row=int(position[1]+1)\n",
    "        col=int(position[0]+1)\n",
    "        distributionMapData=distributionMapData.append(\n",
    "            {'col': col,\n",
    "             # row needs to be shifted because all the other plots (heatmaps) are shown with row 0 at bottom \n",
    "             'row': size-row+1, \n",
    "             'min': minima, \n",
    "             'mean': means, \n",
    "             'max': maxima,\n",
    "             'bgcolor' : bgcolor}, \n",
    "             verify_integrity=True, ignore_index=True)\n",
    "\n",
    "    noClusters=np.max(clusters).item()+1\n",
    "    clusterData=pd.DataFrame(columns=['col', 'row', 'min', 'mean', 'max'])\n",
    "    \n",
    "    maximum=max([l.max() for l in distributionMapData['max'].values])\n",
    "    minimum=min([l.min() for l in distributionMapData['min'].values])\n",
    "    \n",
    "    distributionMap(distributionMapData, clusters, size, columns, minimum, maximum, plottype)\n",
    "\n",
    "plotDistributionOfDataInClusters(som, data, columns[:-1], plottype='barpolar')"
   ]
  },
  {
   "cell_type": "markdown",
   "metadata": {},
   "source": [
    "### Starburst Gradient visualization\n",
    "This visualization can be used to find similaraties between neurons resp. between the samples that are represented. the black lines follow the maximum gradient between nodes, the stars separate regions of neurons with smaller distance towards each other from others.\n",
    "\n",
    "If you image the UMAT (distance values) being plotted as 3 dimensional plot lile mountains and valleys the starburst map shows the at the center of the stars the position a ball would end up when it started rolling at the begin of one of the corresponding lines. \n",
    "\n",
    "From Hamel, Brown: Improved Interpretability of the Unified Distance Matrix with Connected Components (https://homepage.cs.uri.edu/faculty/hamel/pubs/improved-umat-dmin11.pdf)\n",
    "\n",
    "\"At the core of the implementation is the function find.internal.node which, given the map coordinates of a neural element, will find the corresponding internal node of the associated star. [...] Given a position on the map this function first searches the adjacent nodes for the minimal UMAT value using the function find.min. If an adjacent node with a smaller UMAT value than the value of our current node exists and if this UMAT value is smaller than the UMAT values of all other adjacent nodes, then that node lies along the maximum gradient of the surface and we make this node our new current position. If no such node exists, then the gradient at our current position is zero and we are at an internal node.\""
   ]
  },
  {
   "cell_type": "code",
   "execution_count": 13,
   "metadata": {},
   "outputs": [],
   "source": [
    "def findMin(x, y, umat):\n",
    "    newxmin=max(0,x-1)\n",
    "    newxmax=min(umat.shape[0],x+2)\n",
    "    newymin=max(0,y-1)\n",
    "    newymax=min(umat.shape[1],y+2)\n",
    "    minx, miny = np.where(umat[newxmin:newxmax,newymin:newymax] == umat[newxmin:newxmax,newymin:newymax].min())\n",
    "    return newxmin+minx[0], newymin+miny[0]\n",
    "\n",
    "def findInternalNode(x, y, umat):\n",
    "    minx, miny = findMin(x,y,umat)\n",
    "    if (minx == x and miny == y):\n",
    "        cx = minx\n",
    "        cy = miny\n",
    "    else:\n",
    "        cx,cy = findInternalNode(minx,miny,umat)\n",
    "    return cx, cy"
   ]
  },
  {
   "cell_type": "code",
   "execution_count": 14,
   "metadata": {},
   "outputs": [],
   "source": [
    "import matplotlib\n",
    "from matplotlib import cm\n",
    "import numpy as np\n",
    "\n",
    "def matplotlib_cmap_to_plotly(cmap, entries):\n",
    "    h = 1.0/(entries-1)\n",
    "    colorscale = []\n",
    "\n",
    "    for k in range(entries):\n",
    "        C = (np.array(cmap(k*h)[:3])*255)\n",
    "        colorscale.append([k*h, 'rgb'+str((C[0], C[1], C[2]))])\n",
    "\n",
    "    return colorscale"
   ]
  },
  {
   "cell_type": "code",
   "execution_count": 15,
   "metadata": {},
   "outputs": [
    {
     "data": {
      "application/vnd.plotly.v1+json": {
       "config": {
        "plotlyServerURL": "https://plot.ly"
       },
       "data": [
        {
         "colorscale": [
          [
           0,
           "rgb(255.0, 255.0, 255.0)"
          ],
          [
           0.003937007874015748,
           "rgb(253.63281200781202, 254.125, 254.1249998031251)"
          ],
          [
           0.007874015748031496,
           "rgb(252.265624015624, 253.25, 253.2499996062502)"
          ],
          [
           0.011811023622047244,
           "rgb(250.89843602343603, 252.375, 252.37499940937533)"
          ],
          [
           0.015748031496062992,
           "rgb(249.53124803124803, 251.5, 251.49999921250046)"
          ],
          [
           0.01968503937007874,
           "rgb(248.16406003906005, 250.625, 250.62499901562555)"
          ],
          [
           0.023622047244094488,
           "rgb(246.79687204687204, 249.75, 249.74999881875067)"
          ],
          [
           0.027559055118110236,
           "rgb(245.42968405468406, 248.875, 248.8749986218758)"
          ],
          [
           0.031496062992125984,
           "rgb(244.06249606249605, 248.0, 247.9999984250009)"
          ],
          [
           0.03543307086614173,
           "rgb(242.69530807030807, 247.125, 247.124998228126)"
          ],
          [
           0.03937007874015748,
           "rgb(241.32812007812007, 246.25, 246.24999803125112)"
          ],
          [
           0.04330708661417323,
           "rgb(239.9609320859321, 245.375, 245.37499783437625)"
          ],
          [
           0.047244094488188976,
           "rgb(238.59374409374408, 244.5, 244.49999763750137)"
          ],
          [
           0.051181102362204724,
           "rgb(237.2265561015561, 243.62499999999997, 243.62499744062646)"
          ],
          [
           0.05511811023622047,
           "rgb(235.85936810936812, 242.75, 242.74999724375158)"
          ],
          [
           0.05905511811023622,
           "rgb(234.4921801171801, 241.875, 241.8749970468767)"
          ],
          [
           0.06299212598425197,
           "rgb(233.1249921249921, 241.0, 240.99999685000182)"
          ],
          [
           0.06692913385826771,
           "rgb(231.75780413280413, 240.125, 240.1249966531269)"
          ],
          [
           0.07086614173228346,
           "rgb(230.39061614061615, 239.25, 239.24999645625203)"
          ],
          [
           0.07480314960629922,
           "rgb(229.02342814842814, 238.375, 238.37499625937713)"
          ],
          [
           0.07874015748031496,
           "rgb(227.65624015624016, 237.5, 237.49999606250228)"
          ],
          [
           0.0826771653543307,
           "rgb(226.28905216405215, 236.625, 236.62499586562737)"
          ],
          [
           0.08661417322834646,
           "rgb(224.92186417186417, 235.74999999999997, 235.7499956687525)"
          ],
          [
           0.09055118110236221,
           "rgb(223.55467617967616, 234.875, 234.87499547187758)"
          ],
          [
           0.09448818897637795,
           "rgb(222.18748818748819, 234.0, 233.99999527500273)"
          ],
          [
           0.09842519685039369,
           "rgb(220.82030019530018, 233.125, 233.12499507812782)"
          ],
          [
           0.10236220472440945,
           "rgb(219.4531122031122, 232.25, 232.24999488125295)"
          ],
          [
           0.1062992125984252,
           "rgb(218.0859242109242, 231.375, 231.37499468437804)"
          ],
          [
           0.11023622047244094,
           "rgb(216.7187362187362, 230.5, 230.4999944875032)"
          ],
          [
           0.11417322834645668,
           "rgb(215.3515482265482, 229.625, 229.62499429062828)"
          ],
          [
           0.11811023622047244,
           "rgb(213.98436023436022, 228.74999999999997, 228.7499940937534)"
          ],
          [
           0.1220472440944882,
           "rgb(212.61717224217224, 227.87499999999997, 227.8749938968785)"
          ],
          [
           0.12598425196850394,
           "rgb(211.24998424998424, 227.0, 226.99999370000364)"
          ],
          [
           0.12992125984251968,
           "rgb(209.88279625779626, 226.125, 226.12499350312874)"
          ],
          [
           0.13385826771653542,
           "rgb(208.51560826560825, 225.25, 225.24999330625386)"
          ],
          [
           0.1377952755905512,
           "rgb(207.14842027342027, 224.375, 224.37499310937895)"
          ],
          [
           0.14173228346456693,
           "rgb(205.78123228123226, 223.5, 223.49999291250407)"
          ],
          [
           0.14566929133858267,
           "rgb(204.41404428904428, 222.625, 222.6249927156292)"
          ],
          [
           0.14960629921259844,
           "rgb(203.04685629685628, 221.75, 221.7499925187543)"
          ],
          [
           0.15354330708661418,
           "rgb(201.6796683046683, 220.87499999999997, 220.8749923218794)"
          ],
          [
           0.15748031496062992,
           "rgb(200.3124803124803, 219.99999999999997, 219.99999212500455)"
          ],
          [
           0.16141732283464566,
           "rgb(198.9452923202923, 219.125, 219.12499192812965)"
          ],
          [
           0.1653543307086614,
           "rgb(197.5781043281043, 218.25, 218.24999173125477)"
          ],
          [
           0.16929133858267717,
           "rgb(196.21091633591632, 217.375, 217.37499153437986)"
          ],
          [
           0.1732283464566929,
           "rgb(194.84372834372834, 216.5, 216.49999133750498)"
          ],
          [
           0.17716535433070865,
           "rgb(193.47654035154034, 215.625, 215.6249911406301)"
          ],
          [
           0.18110236220472442,
           "rgb(192.10935235935236, 214.75, 214.74999094375522)"
          ],
          [
           0.18503937007874016,
           "rgb(190.74216436716435, 213.87499999999997, 213.87499074688031)"
          ],
          [
           0.1889763779527559,
           "rgb(189.37497637497637, 212.99999999999997, 212.99999055000544)"
          ],
          [
           0.19291338582677164,
           "rgb(188.0077883827884, 212.12499999999997, 212.12499035313056)"
          ],
          [
           0.19685039370078738,
           "rgb(186.64060039060035, 211.24999999999997, 211.24999015625568)"
          ],
          [
           0.20078740157480315,
           "rgb(185.27341239841238, 210.375, 210.37498995938077)"
          ],
          [
           0.2047244094488189,
           "rgb(183.9062244062244, 209.5, 209.4999897625059)"
          ],
          [
           0.20866141732283464,
           "rgb(182.53903641403642, 208.625, 208.624989565631)"
          ],
          [
           0.2125984251968504,
           "rgb(181.17184842184838, 207.75, 207.74998936875613)"
          ],
          [
           0.21653543307086615,
           "rgb(179.8046604296604, 206.875, 206.87498917188123)"
          ],
          [
           0.2204724409448819,
           "rgb(178.43747243747242, 206.0, 205.99998897500635)"
          ],
          [
           0.22440944881889763,
           "rgb(177.07028444528444, 205.125, 205.12498877813147)"
          ],
          [
           0.22834645669291337,
           "rgb(175.70309645309644, 204.24999999999997, 204.2499885812566)"
          ],
          [
           0.23228346456692914,
           "rgb(174.33590846090843, 203.37499999999997, 203.37498838438168)"
          ],
          [
           0.23622047244094488,
           "rgb(172.96872046872045, 202.5, 202.4999881875068)"
          ],
          [
           0.24015748031496062,
           "rgb(171.60153247653247, 201.625, 201.62498799063192)"
          ],
          [
           0.2440944881889764,
           "rgb(170.23434448434446, 200.75, 200.74998779375701)"
          ],
          [
           0.24803149606299213,
           "rgb(168.86715649215645, 199.87499999999997, 199.87498759688214)"
          ],
          [
           0.25196850393700787,
           "rgb(167.49996849996847, 198.99999999999997, 198.99998740000726)"
          ],
          [
           0.2559055118110236,
           "rgb(166.24999999999997, 198.0468537988413, 198.12498720313238)"
          ],
          [
           0.25984251968503935,
           "rgb(165.375, 196.84372900391912, 197.2499870062575)"
          ],
          [
           0.2637795275590551,
           "rgb(164.49999999999997, 195.6406042089969, 196.3749868093826)"
          ],
          [
           0.26771653543307083,
           "rgb(163.62499999999997, 194.4374794140747, 195.4999866125077)"
          ],
          [
           0.27165354330708663,
           "rgb(162.75, 193.23435461915247, 194.6249864156328)"
          ],
          [
           0.2755905511811024,
           "rgb(161.875, 192.03122982423028, 193.74998621875793)"
          ],
          [
           0.2795275590551181,
           "rgb(161.0, 190.82810502930806, 192.87498602188305)"
          ],
          [
           0.28346456692913385,
           "rgb(160.125, 189.62498023438587, 191.99998582500817)"
          ],
          [
           0.2874015748031496,
           "rgb(159.24999999999997, 188.42185543946366, 191.1249856281333)"
          ],
          [
           0.29133858267716534,
           "rgb(158.375, 187.21873064454147, 190.2499854312584)"
          ],
          [
           0.2952755905511811,
           "rgb(157.49999999999997, 186.01560584961922, 189.3749852343835)"
          ],
          [
           0.2992125984251969,
           "rgb(156.62499999999997, 184.812481054697, 188.49998503750862)"
          ],
          [
           0.3031496062992126,
           "rgb(155.74999999999997, 183.6093562597748, 187.62498484063372)"
          ],
          [
           0.30708661417322836,
           "rgb(154.875, 182.4062314648526, 186.74998464375884)"
          ],
          [
           0.3110236220472441,
           "rgb(154.0, 181.2031066699304, 185.87498444688393)"
          ],
          [
           0.31496062992125984,
           "rgb(153.125, 179.9999818750082, 184.99998425000908)"
          ],
          [
           0.3188976377952756,
           "rgb(152.25, 178.796857080086, 184.1249840531342)"
          ],
          [
           0.3228346456692913,
           "rgb(151.375, 177.59373228516378, 183.24998385625932)"
          ],
          [
           0.32677165354330706,
           "rgb(150.49999999999997, 176.3906074902416, 182.3749836593844)"
          ],
          [
           0.3307086614173228,
           "rgb(149.62499999999997, 175.18748269531937, 181.49998346250953)"
          ],
          [
           0.3346456692913386,
           "rgb(148.74999999999997, 173.98435790039713, 180.62498326563463)"
          ],
          [
           0.33858267716535434,
           "rgb(147.87499999999997, 172.78123310547494, 179.74998306875975)"
          ],
          [
           0.3425196850393701,
           "rgb(147.0, 171.57810831055272, 178.87498287188484)"
          ],
          [
           0.3464566929133858,
           "rgb(146.125, 170.37498351563053, 177.99998267500996)"
          ],
          [
           0.35039370078740156,
           "rgb(145.25, 169.17185872070831, 177.1249824781351)"
          ],
          [
           0.3543307086614173,
           "rgb(144.375, 167.96873392578615, 176.24998228126023)"
          ],
          [
           0.35826771653543305,
           "rgb(143.5, 166.7656091308639, 175.37498208438532)"
          ],
          [
           0.36220472440944884,
           "rgb(142.62499999999997, 165.56248433594172, 174.49998188751044)"
          ],
          [
           0.3661417322834646,
           "rgb(141.74999999999997, 164.3593595410195, 173.62498169063554)"
          ],
          [
           0.3700787401574803,
           "rgb(140.87499999999997, 163.15623474609728, 172.74998149376066)"
          ],
          [
           0.37401574803149606,
           "rgb(139.99999999999997, 161.9531099511751, 171.87498129688575)"
          ],
          [
           0.3779527559055118,
           "rgb(139.125, 160.74998515625285, 170.99998110001087)"
          ],
          [
           0.38188976377952755,
           "rgb(138.25, 159.5468603613307, 170.12498090313602)"
          ],
          [
           0.3858267716535433,
           "rgb(137.375, 158.34373556640847, 169.24998070626114)"
          ],
          [
           0.38976377952755903,
           "rgb(136.5, 157.14061077148625, 168.37498050938623)"
          ],
          [
           0.39370078740157477,
           "rgb(135.625, 155.93748597656403, 167.49998031251135)"
          ],
          [
           0.39763779527559057,
           "rgb(134.74999999999997, 154.73436118164184, 166.62498011563645)"
          ],
          [
           0.4015748031496063,
           "rgb(133.87499999999997, 153.53123638671963, 165.74997991876157)"
          ],
          [
           0.40551181102362205,
           "rgb(132.99999999999997, 152.3281115917974, 164.87497972188666)"
          ],
          [
           0.4094488188976378,
           "rgb(132.12499999999997, 151.12498679687522, 163.99997952501178)"
          ],
          [
           0.41338582677165353,
           "rgb(131.25, 149.92186200195297, 163.1249793281369)"
          ],
          [
           0.41732283464566927,
           "rgb(130.375, 148.7187372070308, 162.24997913126205)"
          ],
          [
           0.421259842519685,
           "rgb(129.5, 147.51561241210857, 161.37497893438714)"
          ],
          [
           0.4251968503937008,
           "rgb(128.625, 146.31248761718638, 160.49997873751227)"
          ],
          [
           0.42913385826771655,
           "rgb(127.75, 145.10936282226416, 159.62497854063736)"
          ],
          [
           0.4330708661417323,
           "rgb(126.87499999999997, 143.90623802734197, 158.74997834376248)"
          ],
          [
           0.43700787401574803,
           "rgb(125.99999999999997, 142.70311323241975, 157.87497814688757)"
          ],
          [
           0.4409448818897638,
           "rgb(125.12499999999999, 141.49998843749754, 156.9999779500127)"
          ],
          [
           0.4448818897637795,
           "rgb(124.24999999999999, 140.29686364257535, 156.1249777531378)"
          ],
          [
           0.44881889763779526,
           "rgb(123.37499999999999, 139.09373884765313, 155.24997755626296)"
          ],
          [
           0.452755905511811,
           "rgb(122.49999999999999, 137.89061405273094, 154.37497735938803)"
          ],
          [
           0.45669291338582674,
           "rgb(121.62499999999999, 136.6874892578087, 153.49997716251318)"
          ],
          [
           0.46062992125984253,
           "rgb(120.74999999999999, 135.48436446288653, 152.62497696563827)"
          ],
          [
           0.4645669291338583,
           "rgb(119.87499999999999, 134.2812396679643, 151.7499767687634)"
          ],
          [
           0.468503937007874,
           "rgb(118.99999999999999, 133.0781148730421, 150.87497657188848)"
          ],
          [
           0.47244094488188976,
           "rgb(118.12499999999999, 131.87499007811988, 149.9999763750136)"
          ],
          [
           0.4763779527559055,
           "rgb(117.24999999999999, 130.67186528319766, 149.12497617813872)"
          ],
          [
           0.48031496062992124,
           "rgb(116.37500000000001, 129.4687404882755, 148.24997598126387)"
          ],
          [
           0.484251968503937,
           "rgb(115.49999999999999, 128.26561569335325, 147.37497578438894)"
          ],
          [
           0.4881889763779528,
           "rgb(114.62499999999999, 127.06249089843105, 146.49997558751406)"
          ],
          [
           0.4921259842519685,
           "rgb(113.74999999999999, 125.85936610350885, 145.62497539063918)"
          ],
          [
           0.49606299212598426,
           "rgb(112.87499999999999, 124.65624130858663, 144.7499751937643)"
          ],
          [
           0.5,
           "rgb(111.12499999999999, 122.24999171874222, 142.9999748000145)"
          ],
          [
           0.5039370078740157,
           "rgb(110.24999999999999, 121.04686692382, 142.12497460313963)"
          ],
          [
           0.5078740157480315,
           "rgb(109.37499999999999, 119.84374212889782, 141.24997440626476)"
          ],
          [
           0.5118110236220472,
           "rgb(108.49999999999999, 118.64061733397561, 140.37497420938985)"
          ],
          [
           0.515748031496063,
           "rgb(107.62500000000001, 117.43749253905342, 139.499974012515)"
          ],
          [
           0.5196850393700787,
           "rgb(106.74999999999999, 116.23436774413118, 138.6249738156401)"
          ],
          [
           0.5236220472440944,
           "rgb(105.87499999999999, 115.03124294920897, 137.7499736187652)"
          ],
          [
           0.5275590551181102,
           "rgb(105.0, 113.82811815428676, 136.8749734218903)"
          ],
          [
           0.5314960629921259,
           "rgb(104.12499999999999, 112.62499335936457, 135.99997322501542)"
          ],
          [
           0.5354330708661417,
           "rgb(103.24999999999999, 111.42186856444236, 135.12497302814052)"
          ],
          [
           0.5393700787401575,
           "rgb(102.37499999999999, 110.21874376952015, 134.24997283126567)"
          ],
          [
           0.5433070866141733,
           "rgb(101.5, 109.01561897459794, 133.37497263439076)"
          ],
          [
           0.547244094488189,
           "rgb(100.625, 107.81249417967574, 132.49997243751588)"
          ],
          [
           0.5511811023622047,
           "rgb(99.74999999999999, 106.6093693847535, 131.624972240641)"
          ],
          [
           0.5551181102362205,
           "rgb(98.87499999999999, 105.40624458983132, 130.74997204376612)"
          ],
          [
           0.5590551181102362,
           "rgb(97.99999999999999, 104.20311979490911, 129.8749718468912)"
          ],
          [
           0.562992125984252,
           "rgb(97.125, 102.9999949999869, 128.99997165001633)"
          ],
          [
           0.5669291338582677,
           "rgb(96.24999999999999, 101.79687020506469, 128.12497145314143)"
          ],
          [
           0.5708661417322834,
           "rgb(95.37499999999999, 100.59374541014249, 127.24997125626658)"
          ],
          [
           0.5748031496062992,
           "rgb(94.49999999999999, 99.39062061522027, 126.37497105939168)"
          ],
          [
           0.5787401574803149,
           "rgb(93.62500000000001, 98.18749582029811, 125.49997086251682)"
          ],
          [
           0.5826771653543307,
           "rgb(92.75, 96.98437102537586, 124.6249706656419)"
          ],
          [
           0.5866141732283464,
           "rgb(91.87499999999999, 95.78124623045365, 123.74997046876703)"
          ],
          [
           0.5905511811023622,
           "rgb(90.99999999999999, 94.57812143553144, 122.87497027189214)"
          ],
          [
           0.5944881889763779,
           "rgb(90.12499999999999, 93.37499664060924, 121.99997007501725)"
          ],
          [
           0.5984251968503937,
           "rgb(89.25, 92.17187184568702, 121.12496987814235)"
          ],
          [
           0.6023622047244095,
           "rgb(88.37499999999999, 90.96874705076482, 120.24996968126749)"
          ],
          [
           0.6062992125984252,
           "rgb(87.49999999999999, 89.76562225584262, 119.3749694843926)"
          ],
          [
           0.610236220472441,
           "rgb(86.62499999999999, 88.56249746092041, 118.4999692875177)"
          ],
          [
           0.6141732283464567,
           "rgb(85.74999999999999, 87.35937266599821, 117.62496909064281)"
          ],
          [
           0.6181102362204725,
           "rgb(84.87499999999999, 86.15624787107598, 116.74996889376791)"
          ],
          [
           0.6220472440944882,
           "rgb(83.99999999999999, 84.95312307615377, 115.87496869689305)"
          ],
          [
           0.6259842519685039,
           "rgb(83.12499999999999, 83.74999828123157, 114.99996850001816)"
          ],
          [
           0.6299212598425197,
           "rgb(82.24999999999999, 82.54687348630937, 114.12496830314326)"
          ],
          [
           0.6338582677165354,
           "rgb(81.375, 81.37496815757687, 113.21739130434786)"
          ],
          [
           0.6377952755905512,
           "rgb(80.49999999999999, 80.49996849996852, 112.00000000000003)"
          ],
          [
           0.6417322834645669,
           "rgb(79.62500000000001, 79.62496884236019, 110.78260869565224)"
          ],
          [
           0.6456692913385826,
           "rgb(78.74999999999999, 78.74996918475182, 109.56521739130437)"
          ],
          [
           0.6496062992125984,
           "rgb(77.87499999999999, 77.87496952714346, 108.34782608695654)"
          ],
          [
           0.6535433070866141,
           "rgb(76.99999999999999, 76.99996986953511, 107.13043478260873)"
          ],
          [
           0.6574803149606299,
           "rgb(76.12499999999999, 76.12497021192675, 105.9130434782609)"
          ],
          [
           0.6614173228346456,
           "rgb(75.24999999999999, 75.2499705543184, 104.69565217391307)"
          ],
          [
           0.6653543307086615,
           "rgb(74.37499999999999, 74.37497089671005, 103.47826086956525)"
          ],
          [
           0.6692913385826772,
           "rgb(73.49999999999999, 73.4999712391017, 102.26086956521742)"
          ],
          [
           0.6732283464566929,
           "rgb(72.62499999999999, 72.62497158149334, 101.04347826086959)"
          ],
          [
           0.6771653543307087,
           "rgb(71.74999999999999, 71.74997192388498, 99.82608695652178)"
          ],
          [
           0.6811023622047244,
           "rgb(70.87499999999999, 70.87497226627664, 98.60869565217395)"
          ],
          [
           0.6850393700787402,
           "rgb(69.99999999999999, 69.99997260866829, 97.39130434782611)"
          ],
          [
           0.6889763779527559,
           "rgb(69.125, 69.12497295105993, 96.1739130434783)"
          ],
          [
           0.6929133858267716,
           "rgb(68.24999999999999, 68.24997329345156, 94.95652173913047)"
          ],
          [
           0.6968503937007874,
           "rgb(67.37499999999999, 67.37497363584323, 93.73913043478264)"
          ],
          [
           0.7007874015748031,
           "rgb(66.49999999999997, 66.49997397823486, 92.52173913043481)"
          ],
          [
           0.7047244094488189,
           "rgb(65.62500000000001, 65.62497432062654, 91.30434782608702)"
          ],
          [
           0.7086614173228346,
           "rgb(64.74999999999999, 64.74997466301815, 90.08695652173915)"
          ],
          [
           0.7125984251968503,
           "rgb(63.874999999999986, 63.8749750054098, 88.86956521739134)"
          ],
          [
           0.7165354330708661,
           "rgb(62.999999999999986, 62.99997534780145, 87.65217391304351)"
          ],
          [
           0.7204724409448818,
           "rgb(62.12499999999999, 62.1249756901931, 86.43478260869567)"
          ],
          [
           0.7244094488188977,
           "rgb(61.24999999999999, 61.24997603258475, 85.21739130434786)"
          ],
          [
           0.7283464566929134,
           "rgb(60.374999999999986, 60.37497637497639, 84.00000000000003)"
          ],
          [
           0.7322834645669292,
           "rgb(59.499999999999986, 59.49997671736804, 82.7826086956522)"
          ],
          [
           0.7362204724409449,
           "rgb(58.62499999999998, 58.624977059759686, 81.56521739130437)"
          ],
          [
           0.7401574803149606,
           "rgb(57.74999999999998, 57.74997740215134, 80.34782608695653)"
          ],
          [
           0.7440944881889764,
           "rgb(56.87499999999998, 56.87497774454298, 79.13043478260872)"
          ],
          [
           0.7480314960629921,
           "rgb(55.999999999999986, 55.999978086934625, 77.9130434782609)"
          ],
          [
           0.7519685039370079,
           "rgb(55.124999999999986, 55.12497842932627, 76.69565217391306)"
          ],
          [
           0.7559055118110236,
           "rgb(54.24999999999999, 54.24997877171791, 75.47826086956523)"
          ],
          [
           0.7598425196850394,
           "rgb(53.37499999999999, 53.374979114109564, 74.2608695652174)"
          ],
          [
           0.7637795275590551,
           "rgb(52.5, 52.49997945650121, 73.04347826086958)"
          ],
          [
           0.7677165354330708,
           "rgb(51.625, 51.62497979889288, 71.82608695652179)"
          ],
          [
           0.7716535433070866,
           "rgb(50.75000000000001, 50.7499801412845, 70.60869565217395)"
          ],
          [
           0.7755905511811023,
           "rgb(49.87500000000001, 49.874980483676154, 69.39130434782611)"
          ],
          [
           0.7795275590551181,
           "rgb(49.00000000000001, 48.9999808260678, 68.17391304347828)"
          ],
          [
           0.7834645669291338,
           "rgb(48.125, 48.12498116845945, 66.95652173913047)"
          ],
          [
           0.7874015748031495,
           "rgb(47.25, 47.24998151085109, 65.73913043478264)"
          ],
          [
           0.7913385826771654,
           "rgb(46.37500000000001, 46.37498185324274, 64.5217391304348)"
          ],
          [
           0.7952755905511811,
           "rgb(45.49999999999999, 45.49998219563438, 63.304347826086975)"
          ],
          [
           0.7992125984251969,
           "rgb(44.625, 44.62498253802603, 62.08695652173915)"
          ],
          [
           0.8031496062992126,
           "rgb(43.75, 43.749982880417676, 60.869565217391326)"
          ],
          [
           0.8070866141732284,
           "rgb(42.875, 42.87498322280933, 59.6521739130435)"
          ],
          [
           0.8110236220472441,
           "rgb(42.00000000000001, 41.99998356520097, 58.43478260869567)"
          ],
          [
           0.8149606299212598,
           "rgb(41.12499999999999, 41.12498390759262, 57.21739130434784)"
          ],
          [
           0.8188976377952756,
           "rgb(40.25, 40.24998424998426, 56.000000000000014)"
          ],
          [
           0.8228346456692913,
           "rgb(39.375, 39.37498459237592, 54.78260869565219)"
          ],
          [
           0.8267716535433071,
           "rgb(38.50000000000001, 38.499984934767554, 53.565217391304365)"
          ],
          [
           0.8307086614173228,
           "rgb(37.62499999999998, 37.62498527715922, 52.34782608695657)"
          ],
          [
           0.8346456692913385,
           "rgb(36.749999999999986, 36.74998561955085, 51.13043478260871)"
          ],
          [
           0.8385826771653543,
           "rgb(35.874999999999986, 35.87498596194249, 49.91304347826089)"
          ],
          [
           0.84251968503937,
           "rgb(34.999999999999986, 34.99998630433414, 48.695652173913054)"
          ],
          [
           0.8464566929133858,
           "rgb(34.12499999999999, 34.12498664672579, 47.47826086956524)"
          ],
          [
           0.8503937007874016,
           "rgb(33.24999999999999, 33.24998698911743, 46.260869565217405)"
          ],
          [
           0.8543307086614174,
           "rgb(32.375, 32.37498733150908, 45.04347826086958)"
          ],
          [
           0.8582677165354331,
           "rgb(31.5, 31.499987673900726, 43.82608695652175)"
          ],
          [
           0.8622047244094488,
           "rgb(30.625000000000004, 30.624988016292374, 42.60869565217393)"
          ],
          [
           0.8661417322834646,
           "rgb(29.750000000000007, 29.74998835868402, 41.3913043478261)"
          ],
          [
           0.8700787401574803,
           "rgb(28.874999999999982, 28.87498870107567, 40.17391304347828)"
          ],
          [
           0.8740157480314961,
           "rgb(27.999999999999986, 27.999989043467306, 38.95652173913044)"
          ],
          [
           0.8779527559055118,
           "rgb(27.12499999999999, 27.12498938585896, 37.739130434782616)"
          ],
          [
           0.8818897637795275,
           "rgb(26.249999999999993, 26.2499897282506, 36.52173913043479)"
          ],
          [
           0.8858267716535433,
           "rgb(25.374999999999996, 25.374990070642255, 35.304347826086975)"
          ],
          [
           0.889763779527559,
           "rgb(24.499999999999996, 24.499990413033895, 34.08695652173914)"
          ],
          [
           0.8937007874015748,
           "rgb(23.625, 23.62499075542557, 32.869565217391354)"
          ],
          [
           0.8976377952755905,
           "rgb(22.750000000000004, 22.749991097817183, 31.652173913043477)"
          ],
          [
           0.9015748031496063,
           "rgb(21.875000000000007, 21.874991440208838, 30.434782608695663)"
          ],
          [
           0.905511811023622,
           "rgb(20.999999999999982, 20.99999178260048, 29.21739130434783)"
          ],
          [
           0.9094488188976377,
           "rgb(20.124999999999986, 20.124992124992133, 28.000000000000014)"
          ],
          [
           0.9133858267716535,
           "rgb(19.24999999999999, 19.24999246738378, 26.782608695652183)"
          ],
          [
           0.9173228346456693,
           "rgb(18.374999999999993, 18.37499280977542, 25.56521739130435)"
          ],
          [
           0.9212598425196851,
           "rgb(17.499999999999993, 17.499993152167068, 24.347826086956534)"
          ],
          [
           0.9251968503937008,
           "rgb(16.624999999999996, 16.624993494558716, 23.130434782608702)"
          ],
          [
           0.9291338582677166,
           "rgb(15.75, 15.749993836950363, 21.91304347826089)"
          ],
          [
           0.9330708661417323,
           "rgb(14.875000000000004, 14.87499417934201, 20.695652173913043)"
          ],
          [
           0.937007874015748,
           "rgb(14.000000000000007, 13.999994521733656, 19.478260869565226)"
          ],
          [
           0.9409448818897638,
           "rgb(13.12500000000001, 13.124994864125304, 18.260869565217394)"
          ],
          [
           0.9448818897637795,
           "rgb(12.249999999999984, 12.249995206516951, 17.043478260869577)"
          ],
          [
           0.9488188976377953,
           "rgb(11.374999999999988, 11.374995548908599, 15.826086956521745)"
          ],
          [
           0.952755905511811,
           "rgb(10.499999999999991, 10.499995891300246, 14.608695652173916)"
          ],
          [
           0.9566929133858267,
           "rgb(9.624999999999995, 9.624996233691908, 13.391304347826127)"
          ],
          [
           0.9606299212598425,
           "rgb(8.749999999999996, 8.749996576083541, 12.173913043478267)"
          ],
          [
           0.9645669291338582,
           "rgb(7.875, 7.8749969184751745, 10.956521739130437)"
          ],
          [
           0.968503937007874,
           "rgb(7.0000000000000036, 6.999997260866835, 9.73913043478262)"
          ],
          [
           0.9724409448818897,
           "rgb(6.125000000000006, 6.1249976032584685, 8.521739130434774)"
          ],
          [
           0.9763779527559056,
           "rgb(5.25000000000001, 5.249997945650116, 7.304347826086958)"
          ],
          [
           0.9803149606299213,
           "rgb(4.375000000000012, 4.3749982880417635, 6.086956521739126)"
          ],
          [
           0.984251968503937,
           "rgb(3.4999999999999876, 3.499998630433411, 4.86956521739131)"
          ],
          [
           0.9881889763779528,
           "rgb(2.6249999999999907, 2.624998972825058, 3.652173913043479)"
          ],
          [
           0.9921259842519685,
           "rgb(1.7499999999999938, 1.7499993152167055, 2.434782608695648)"
          ],
          [
           0.9960629921259843,
           "rgb(0.8749999999999969, 0.8749996576083527, 1.2173913043478168)"
          ],
          [
           1,
           "rgb(0.0, 0.0, 0.0)"
          ]
         ],
         "type": "heatmap",
         "z": [
          [
           0.28405764707854325,
           0.692036774945651,
           0.3649642237315326
          ],
          [
           0.6305058889879586,
           1,
           0.719112615264277
          ],
          [
           0.4393568783673013,
           0.7316867649827784,
           0.4469757424871296
          ]
         ]
        }
       ],
       "layout": {
        "height": 500,
        "shapes": [
         {
          "line": {
           "color": "Black",
           "width": 1
          },
          "type": "line",
          "x0": 0,
          "x1": 0,
          "y0": 0,
          "y1": 0
         },
         {
          "line": {
           "color": "Black",
           "width": 1
          },
          "type": "line",
          "x0": 0,
          "x1": 0,
          "y0": 1,
          "y1": 0
         },
         {
          "line": {
           "color": "Black",
           "width": 1
          },
          "type": "line",
          "x0": 0,
          "x1": 0,
          "y0": 2,
          "y1": 2
         },
         {
          "line": {
           "color": "Black",
           "width": 1
          },
          "type": "line",
          "x0": 1,
          "x1": 0,
          "y0": 0,
          "y1": 0
         },
         {
          "line": {
           "color": "Black",
           "width": 1
          },
          "type": "line",
          "x0": 1,
          "x1": 0,
          "y0": 1,
          "y1": 0
         },
         {
          "line": {
           "color": "Black",
           "width": 1
          },
          "type": "line",
          "x0": 1,
          "x1": 0,
          "y0": 2,
          "y1": 2
         },
         {
          "line": {
           "color": "Black",
           "width": 1
          },
          "type": "line",
          "x0": 2,
          "x1": 2,
          "y0": 0,
          "y1": 0
         },
         {
          "line": {
           "color": "Black",
           "width": 1
          },
          "type": "line",
          "x0": 2,
          "x1": 2,
          "y0": 1,
          "y1": 0
         },
         {
          "line": {
           "color": "Black",
           "width": 1
          },
          "type": "line",
          "x0": 2,
          "x1": 2,
          "y0": 2,
          "y1": 2
         }
        ],
        "template": {
         "data": {
          "bar": [
           {
            "error_x": {
             "color": "#2a3f5f"
            },
            "error_y": {
             "color": "#2a3f5f"
            },
            "marker": {
             "line": {
              "color": "#E5ECF6",
              "width": 0.5
             },
             "pattern": {
              "fillmode": "overlay",
              "size": 10,
              "solidity": 0.2
             }
            },
            "type": "bar"
           }
          ],
          "barpolar": [
           {
            "marker": {
             "line": {
              "color": "#E5ECF6",
              "width": 0.5
             },
             "pattern": {
              "fillmode": "overlay",
              "size": 10,
              "solidity": 0.2
             }
            },
            "type": "barpolar"
           }
          ],
          "carpet": [
           {
            "aaxis": {
             "endlinecolor": "#2a3f5f",
             "gridcolor": "white",
             "linecolor": "white",
             "minorgridcolor": "white",
             "startlinecolor": "#2a3f5f"
            },
            "baxis": {
             "endlinecolor": "#2a3f5f",
             "gridcolor": "white",
             "linecolor": "white",
             "minorgridcolor": "white",
             "startlinecolor": "#2a3f5f"
            },
            "type": "carpet"
           }
          ],
          "choropleth": [
           {
            "colorbar": {
             "outlinewidth": 0,
             "ticks": ""
            },
            "type": "choropleth"
           }
          ],
          "contour": [
           {
            "colorbar": {
             "outlinewidth": 0,
             "ticks": ""
            },
            "colorscale": [
             [
              0,
              "#0d0887"
             ],
             [
              0.1111111111111111,
              "#46039f"
             ],
             [
              0.2222222222222222,
              "#7201a8"
             ],
             [
              0.3333333333333333,
              "#9c179e"
             ],
             [
              0.4444444444444444,
              "#bd3786"
             ],
             [
              0.5555555555555556,
              "#d8576b"
             ],
             [
              0.6666666666666666,
              "#ed7953"
             ],
             [
              0.7777777777777778,
              "#fb9f3a"
             ],
             [
              0.8888888888888888,
              "#fdca26"
             ],
             [
              1,
              "#f0f921"
             ]
            ],
            "type": "contour"
           }
          ],
          "contourcarpet": [
           {
            "colorbar": {
             "outlinewidth": 0,
             "ticks": ""
            },
            "type": "contourcarpet"
           }
          ],
          "heatmap": [
           {
            "colorbar": {
             "outlinewidth": 0,
             "ticks": ""
            },
            "colorscale": [
             [
              0,
              "#0d0887"
             ],
             [
              0.1111111111111111,
              "#46039f"
             ],
             [
              0.2222222222222222,
              "#7201a8"
             ],
             [
              0.3333333333333333,
              "#9c179e"
             ],
             [
              0.4444444444444444,
              "#bd3786"
             ],
             [
              0.5555555555555556,
              "#d8576b"
             ],
             [
              0.6666666666666666,
              "#ed7953"
             ],
             [
              0.7777777777777778,
              "#fb9f3a"
             ],
             [
              0.8888888888888888,
              "#fdca26"
             ],
             [
              1,
              "#f0f921"
             ]
            ],
            "type": "heatmap"
           }
          ],
          "heatmapgl": [
           {
            "colorbar": {
             "outlinewidth": 0,
             "ticks": ""
            },
            "colorscale": [
             [
              0,
              "#0d0887"
             ],
             [
              0.1111111111111111,
              "#46039f"
             ],
             [
              0.2222222222222222,
              "#7201a8"
             ],
             [
              0.3333333333333333,
              "#9c179e"
             ],
             [
              0.4444444444444444,
              "#bd3786"
             ],
             [
              0.5555555555555556,
              "#d8576b"
             ],
             [
              0.6666666666666666,
              "#ed7953"
             ],
             [
              0.7777777777777778,
              "#fb9f3a"
             ],
             [
              0.8888888888888888,
              "#fdca26"
             ],
             [
              1,
              "#f0f921"
             ]
            ],
            "type": "heatmapgl"
           }
          ],
          "histogram": [
           {
            "marker": {
             "pattern": {
              "fillmode": "overlay",
              "size": 10,
              "solidity": 0.2
             }
            },
            "type": "histogram"
           }
          ],
          "histogram2d": [
           {
            "colorbar": {
             "outlinewidth": 0,
             "ticks": ""
            },
            "colorscale": [
             [
              0,
              "#0d0887"
             ],
             [
              0.1111111111111111,
              "#46039f"
             ],
             [
              0.2222222222222222,
              "#7201a8"
             ],
             [
              0.3333333333333333,
              "#9c179e"
             ],
             [
              0.4444444444444444,
              "#bd3786"
             ],
             [
              0.5555555555555556,
              "#d8576b"
             ],
             [
              0.6666666666666666,
              "#ed7953"
             ],
             [
              0.7777777777777778,
              "#fb9f3a"
             ],
             [
              0.8888888888888888,
              "#fdca26"
             ],
             [
              1,
              "#f0f921"
             ]
            ],
            "type": "histogram2d"
           }
          ],
          "histogram2dcontour": [
           {
            "colorbar": {
             "outlinewidth": 0,
             "ticks": ""
            },
            "colorscale": [
             [
              0,
              "#0d0887"
             ],
             [
              0.1111111111111111,
              "#46039f"
             ],
             [
              0.2222222222222222,
              "#7201a8"
             ],
             [
              0.3333333333333333,
              "#9c179e"
             ],
             [
              0.4444444444444444,
              "#bd3786"
             ],
             [
              0.5555555555555556,
              "#d8576b"
             ],
             [
              0.6666666666666666,
              "#ed7953"
             ],
             [
              0.7777777777777778,
              "#fb9f3a"
             ],
             [
              0.8888888888888888,
              "#fdca26"
             ],
             [
              1,
              "#f0f921"
             ]
            ],
            "type": "histogram2dcontour"
           }
          ],
          "mesh3d": [
           {
            "colorbar": {
             "outlinewidth": 0,
             "ticks": ""
            },
            "type": "mesh3d"
           }
          ],
          "parcoords": [
           {
            "line": {
             "colorbar": {
              "outlinewidth": 0,
              "ticks": ""
             }
            },
            "type": "parcoords"
           }
          ],
          "pie": [
           {
            "automargin": true,
            "type": "pie"
           }
          ],
          "scatter": [
           {
            "fillpattern": {
             "fillmode": "overlay",
             "size": 10,
             "solidity": 0.2
            },
            "type": "scatter"
           }
          ],
          "scatter3d": [
           {
            "line": {
             "colorbar": {
              "outlinewidth": 0,
              "ticks": ""
             }
            },
            "marker": {
             "colorbar": {
              "outlinewidth": 0,
              "ticks": ""
             }
            },
            "type": "scatter3d"
           }
          ],
          "scattercarpet": [
           {
            "marker": {
             "colorbar": {
              "outlinewidth": 0,
              "ticks": ""
             }
            },
            "type": "scattercarpet"
           }
          ],
          "scattergeo": [
           {
            "marker": {
             "colorbar": {
              "outlinewidth": 0,
              "ticks": ""
             }
            },
            "type": "scattergeo"
           }
          ],
          "scattergl": [
           {
            "marker": {
             "colorbar": {
              "outlinewidth": 0,
              "ticks": ""
             }
            },
            "type": "scattergl"
           }
          ],
          "scattermapbox": [
           {
            "marker": {
             "colorbar": {
              "outlinewidth": 0,
              "ticks": ""
             }
            },
            "type": "scattermapbox"
           }
          ],
          "scatterpolar": [
           {
            "marker": {
             "colorbar": {
              "outlinewidth": 0,
              "ticks": ""
             }
            },
            "type": "scatterpolar"
           }
          ],
          "scatterpolargl": [
           {
            "marker": {
             "colorbar": {
              "outlinewidth": 0,
              "ticks": ""
             }
            },
            "type": "scatterpolargl"
           }
          ],
          "scatterternary": [
           {
            "marker": {
             "colorbar": {
              "outlinewidth": 0,
              "ticks": ""
             }
            },
            "type": "scatterternary"
           }
          ],
          "surface": [
           {
            "colorbar": {
             "outlinewidth": 0,
             "ticks": ""
            },
            "colorscale": [
             [
              0,
              "#0d0887"
             ],
             [
              0.1111111111111111,
              "#46039f"
             ],
             [
              0.2222222222222222,
              "#7201a8"
             ],
             [
              0.3333333333333333,
              "#9c179e"
             ],
             [
              0.4444444444444444,
              "#bd3786"
             ],
             [
              0.5555555555555556,
              "#d8576b"
             ],
             [
              0.6666666666666666,
              "#ed7953"
             ],
             [
              0.7777777777777778,
              "#fb9f3a"
             ],
             [
              0.8888888888888888,
              "#fdca26"
             ],
             [
              1,
              "#f0f921"
             ]
            ],
            "type": "surface"
           }
          ],
          "table": [
           {
            "cells": {
             "fill": {
              "color": "#EBF0F8"
             },
             "line": {
              "color": "white"
             }
            },
            "header": {
             "fill": {
              "color": "#C8D4E3"
             },
             "line": {
              "color": "white"
             }
            },
            "type": "table"
           }
          ]
         },
         "layout": {
          "annotationdefaults": {
           "arrowcolor": "#2a3f5f",
           "arrowhead": 0,
           "arrowwidth": 1
          },
          "autotypenumbers": "strict",
          "coloraxis": {
           "colorbar": {
            "outlinewidth": 0,
            "ticks": ""
           }
          },
          "colorscale": {
           "diverging": [
            [
             0,
             "#8e0152"
            ],
            [
             0.1,
             "#c51b7d"
            ],
            [
             0.2,
             "#de77ae"
            ],
            [
             0.3,
             "#f1b6da"
            ],
            [
             0.4,
             "#fde0ef"
            ],
            [
             0.5,
             "#f7f7f7"
            ],
            [
             0.6,
             "#e6f5d0"
            ],
            [
             0.7,
             "#b8e186"
            ],
            [
             0.8,
             "#7fbc41"
            ],
            [
             0.9,
             "#4d9221"
            ],
            [
             1,
             "#276419"
            ]
           ],
           "sequential": [
            [
             0,
             "#0d0887"
            ],
            [
             0.1111111111111111,
             "#46039f"
            ],
            [
             0.2222222222222222,
             "#7201a8"
            ],
            [
             0.3333333333333333,
             "#9c179e"
            ],
            [
             0.4444444444444444,
             "#bd3786"
            ],
            [
             0.5555555555555556,
             "#d8576b"
            ],
            [
             0.6666666666666666,
             "#ed7953"
            ],
            [
             0.7777777777777778,
             "#fb9f3a"
            ],
            [
             0.8888888888888888,
             "#fdca26"
            ],
            [
             1,
             "#f0f921"
            ]
           ],
           "sequentialminus": [
            [
             0,
             "#0d0887"
            ],
            [
             0.1111111111111111,
             "#46039f"
            ],
            [
             0.2222222222222222,
             "#7201a8"
            ],
            [
             0.3333333333333333,
             "#9c179e"
            ],
            [
             0.4444444444444444,
             "#bd3786"
            ],
            [
             0.5555555555555556,
             "#d8576b"
            ],
            [
             0.6666666666666666,
             "#ed7953"
            ],
            [
             0.7777777777777778,
             "#fb9f3a"
            ],
            [
             0.8888888888888888,
             "#fdca26"
            ],
            [
             1,
             "#f0f921"
            ]
           ]
          },
          "colorway": [
           "#636efa",
           "#EF553B",
           "#00cc96",
           "#ab63fa",
           "#FFA15A",
           "#19d3f3",
           "#FF6692",
           "#B6E880",
           "#FF97FF",
           "#FECB52"
          ],
          "font": {
           "color": "#2a3f5f"
          },
          "geo": {
           "bgcolor": "white",
           "lakecolor": "white",
           "landcolor": "#E5ECF6",
           "showlakes": true,
           "showland": true,
           "subunitcolor": "white"
          },
          "hoverlabel": {
           "align": "left"
          },
          "hovermode": "closest",
          "mapbox": {
           "style": "light"
          },
          "paper_bgcolor": "white",
          "plot_bgcolor": "#E5ECF6",
          "polar": {
           "angularaxis": {
            "gridcolor": "white",
            "linecolor": "white",
            "ticks": ""
           },
           "bgcolor": "#E5ECF6",
           "radialaxis": {
            "gridcolor": "white",
            "linecolor": "white",
            "ticks": ""
           }
          },
          "scene": {
           "xaxis": {
            "backgroundcolor": "#E5ECF6",
            "gridcolor": "white",
            "gridwidth": 2,
            "linecolor": "white",
            "showbackground": true,
            "ticks": "",
            "zerolinecolor": "white"
           },
           "yaxis": {
            "backgroundcolor": "#E5ECF6",
            "gridcolor": "white",
            "gridwidth": 2,
            "linecolor": "white",
            "showbackground": true,
            "ticks": "",
            "zerolinecolor": "white"
           },
           "zaxis": {
            "backgroundcolor": "#E5ECF6",
            "gridcolor": "white",
            "gridwidth": 2,
            "linecolor": "white",
            "showbackground": true,
            "ticks": "",
            "zerolinecolor": "white"
           }
          },
          "shapedefaults": {
           "line": {
            "color": "#2a3f5f"
           }
          },
          "ternary": {
           "aaxis": {
            "gridcolor": "white",
            "linecolor": "white",
            "ticks": ""
           },
           "baxis": {
            "gridcolor": "white",
            "linecolor": "white",
            "ticks": ""
           },
           "bgcolor": "#E5ECF6",
           "caxis": {
            "gridcolor": "white",
            "linecolor": "white",
            "ticks": ""
           }
          },
          "title": {
           "x": 0.05
          },
          "xaxis": {
           "automargin": true,
           "gridcolor": "white",
           "linecolor": "white",
           "ticks": "",
           "title": {
            "standoff": 15
           },
           "zerolinecolor": "white",
           "zerolinewidth": 2
          },
          "yaxis": {
           "automargin": true,
           "gridcolor": "white",
           "linecolor": "white",
           "ticks": "",
           "title": {
            "standoff": 15
           },
           "zerolinecolor": "white",
           "zerolinewidth": 2
          }
         }
        },
        "title": {
         "text": "starburstMap"
        },
        "width": 500
       }
      }
     },
     "metadata": {},
     "output_type": "display_data"
    }
   ],
   "source": [
    "def plotStarburstMap(som):\n",
    "    boner_rgb = []\n",
    "    norm = matplotlib.colors.Normalize(vmin=0, vmax=255)\n",
    "    bone_r_cmap = matplotlib.cm.get_cmap('bone_r')\n",
    "\n",
    "    bone_r = matplotlib_cmap_to_plotly(bone_r_cmap, 255)\n",
    "\n",
    "    layout = go.Layout(title='starburstMap')\n",
    "    fig = go.Figure(layout=layout)\n",
    "    fig.add_trace(go.Heatmap(z=som.distance_map().T, colorscale=bone_r))\n",
    "    shapes=[]\n",
    "\n",
    "    for row in np.arange(som.distance_map().shape[0]):\n",
    "        for col in np.arange(som.distance_map().shape[1]):\n",
    "            cx,cy = findInternalNode(row, col, som.distance_map().T)\n",
    "            shape=go.layout.Shape(\n",
    "                    type=\"line\",\n",
    "                    x0=row,\n",
    "                    y0=col,\n",
    "                    x1=cx,\n",
    "                    y1=cy,\n",
    "                    line=dict(\n",
    "                        color=\"Black\",\n",
    "                        width=1\n",
    "                    )\n",
    "                )\n",
    "            shapes=np.append(shapes, shape)\n",
    "\n",
    "    fig.update_layout(shapes=shapes.tolist(), \n",
    "        width=500,\n",
    "        height=500) \n",
    "    fig.show()\n",
    "    \n",
    "plotStarburstMap(som)"
   ]
  },
  {
   "cell_type": "markdown",
   "metadata": {},
   "source": [
    "Here you can see that the samples at (4,4) belong to the same cluster like (8,6). They are in some sense more similar than (4,4) and (8,8).\n",
    "\n",
    "Compare it with the distance plot that is also given in the basic example:"
   ]
  },
  {
   "cell_type": "code",
   "execution_count": 16,
   "metadata": {},
   "outputs": [
    {
     "data": {
      "image/png": "[encoded data removed]",
      "text/plain": [
       "<Figure size 648x648 with 2 Axes>"
      ]
     },
     "metadata": {
      "needs_background": "light"
     },
     "output_type": "display_data"
    }
   ],
   "source": [
    "import matplotlib.pyplot as plt\n",
    "%matplotlib inline\n",
    "\n",
    "plt.figure(figsize=(9, 9))\n",
    "\n",
    "plt.pcolor(som.distance_map().T, cmap='bone_r')  # plotting the distance map as background\n",
    "plt.colorbar()\n",
    "\n",
    "# Plotting the response for each pattern in the iris dataset\n",
    "# different colors and markers for each label\n",
    "markers = ['o', 's', 'D']\n",
    "colors = ['C0', 'C1', 'C2']\n",
    "for cnt, xx in enumerate(data):\n",
    "    w = som.winner(xx)  # getting the winner\n",
    "    # palce a marker on the winning position for the sample xx\n",
    "    plt.plot(w[0]+.5, w[1]+.5, markers[target[cnt]-1], markerfacecolor='None',\n",
    "             markeredgecolor=colors[target[cnt]-1], markersize=12, markeredgewidth=2)\n",
    "\n",
    "plt.show()"
   ]
  },
  {
   "cell_type": "code",
   "execution_count": 26,
   "metadata": {},
   "outputs": [
    {
     "data": {
      "text/html": [
       "\n",
       "<div id=\"altair-viz-9be6bb05be38460d9133a2e3264dd42a\"></div>\n",
       "<script type=\"text/javascript\">\n",
       "  var VEGA_DEBUG = (typeof VEGA_DEBUG == \"undefined\") ? {} : VEGA_DEBUG;\n",
       "  (function(spec, embedOpt){\n",
       "    let outputDiv = document.currentScript.previousElementSibling;\n",
       "    if (outputDiv.id !== \"altair-viz-9be6bb05be38460d9133a2e3264dd42a\") {\n",
       "      outputDiv = document.getElementById(\"altair-viz-9be6bb05be38460d9133a2e3264dd42a\");\n",
       "    }\n",
       "    const paths = {\n",
       "      \"vega\": \"https://cdn.jsdelivr.net/npm//vega@5?noext\",\n",
       "      \"vega-lib\": \"https://cdn.jsdelivr.net/npm//vega-lib?noext\",\n",
       "      \"vega-lite\": \"https://cdn.jsdelivr.net/npm//vega-lite@4.17.0?noext\",\n",
       "      \"vega-embed\": \"https://cdn.jsdelivr.net/npm//vega-embed@6?noext\",\n",
       "    };\n",
       "\n",
       "    function maybeLoadScript(lib, version) {\n",
       "      var key = `${lib.replace(\"-\", \"\")}_version`;\n",
       "      return (VEGA_DEBUG[key] == version) ?\n",
       "        Promise.resolve(paths[lib]) :\n",
       "        new Promise(function(resolve, reject) {\n",
       "          var s = document.createElement('script');\n",
       "          document.getElementsByTagName(\"head\")[0].appendChild(s);\n",
       "          s.async = true;\n",
       "          s.onload = () => {\n",
       "            VEGA_DEBUG[key] = version;\n",
       "            return resolve(paths[lib]);\n",
       "          };\n",
       "          s.onerror = () => reject(`Error loading script: ${paths[lib]}`);\n",
       "          s.src = paths[lib];\n",
       "        });\n",
       "    }\n",
       "\n",
       "    function showError(err) {\n",
       "      outputDiv.innerHTML = `<div class=\"error\" style=\"color:red;\">${err}</div>`;\n",
       "      throw err;\n",
       "    }\n",
       "\n",
       "    function displayChart(vegaEmbed) {\n",
       "      vegaEmbed(outputDiv, spec, embedOpt)\n",
       "        .catch(err => showError(`Javascript Error: ${err.message}<br>This usually means there's a typo in your chart specification. See the javascript console for the full traceback.`));\n",
       "    }\n",
       "\n",
       "    if(typeof define === \"function\" && define.amd) {\n",
       "      requirejs.config({paths});\n",
       "      require([\"vega-embed\"], displayChart, err => showError(`Error loading script: ${err.message}`));\n",
       "    } else {\n",
       "      maybeLoadScript(\"vega\", \"5\")\n",
       "        .then(() => maybeLoadScript(\"vega-lite\", \"4.17.0\"))\n",
       "        .then(() => maybeLoadScript(\"vega-embed\", \"6\"))\n",
       "        .catch(showError)\n",
       "        .then(() => displayChart(vegaEmbed));\n",
       "    }\n",
       "  })({\"config\": {\"view\": {\"continuousWidth\": 400, \"continuousHeight\": 300}}, \"data\": {\"name\": \"data-68f2222b06dd8eadc3fd557c4379818a\"}, \"mark\": \"rect\", \"encoding\": {\"color\": {\"field\": \"DISTANCE\", \"scale\": {\"scheme\": \"inferno\"}, \"type\": \"quantitative\"}, \"x\": {\"field\": \"X\", \"type\": \"ordinal\"}, \"y\": {\"field\": \"Y\", \"type\": \"ordinal\"}}, \"height\": 400, \"width\": 400, \"$schema\": \"https://vega.github.io/schema/vega-lite/v4.17.0.json\", \"datasets\": {\"data-68f2222b06dd8eadc3fd557c4379818a\": [{\"Y\": 0, \"X\": 0, \"DISTANCE\": 0.6355102079990895}, {\"Y\": 0, \"X\": 1, \"DISTANCE\": 0.8463625593813252}, {\"Y\": 0, \"X\": 2, \"DISTANCE\": 0.982954636246177}, {\"Y\": 1, \"X\": 0, \"DISTANCE\": 0.9289588348954902}, {\"Y\": 1, \"X\": 1, \"DISTANCE\": 0.8389717032816337}, {\"Y\": 1, \"X\": 2, \"DISTANCE\": 0.982183186377968}, {\"Y\": 2, \"X\": 0, \"DISTANCE\": 0.816519083789075}, {\"Y\": 2, \"X\": 1, \"DISTANCE\": 0.9653042170873289}, {\"Y\": 2, \"X\": 2, \"DISTANCE\": 1.0}]}}, {\"mode\": \"vega-lite\"});\n",
       "</script>"
      ],
      "text/plain": [
       "alt.Chart(...)"
      ]
     },
     "execution_count": 26,
     "metadata": {},
     "output_type": "execute_result"
    }
   ],
   "source": [
    "import altair as alt\n",
    "u_matrix2 = som.distance_map('mean')\n",
    "u_matrix2 = pd.DataFrame(u_matrix2).stack().rename_axis(['Y', 'X']).reset_index(name='DISTANCE')\n",
    "alt.Chart(u_matrix2,width=400,height=400).mark_rect().encode(\n",
    "    x='X:O',\n",
    "    y='Y:O',\n",
    "    color=alt.Color('DISTANCE:Q', scale=alt.Scale(scheme='inferno')),\n",
    ")"
   ]
  }
 ],
 "metadata": {
  "kernelspec": {
   "display_name": "Python 3.8.12 ('env')",
   "language": "python",
   "name": "python3"
  },
  "language_info": {
   "codemirror_mode": {
    "name": "ipython",
    "version": 3
   },
   "file_extension": ".py",
   "mimetype": "text/x-python",
   "name": "python",
   "nbconvert_exporter": "python",
   "pygments_lexer": "ipython3",
   "version": "3.8.12"
  },
  "vscode": {
   "interpreter": {
    "hash": "8b793f5bcb65162c203a8f7ab5f10da95fa3f746ebbc21691ed336cc34611f1b"
   }
  }
 },
 "nbformat": 4,
 "nbformat_minor": 4
}
